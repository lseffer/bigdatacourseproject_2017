{
 "cells": [
  {
   "cell_type": "code",
   "execution_count": 1,
   "metadata": {
    "collapsed": false
   },
   "outputs": [],
   "source": [
    "import csv\n",
    "import pandas as pd\n",
    "import pickle\n",
    "import os\n",
    "import datetime\n",
    "import matplotlib.pyplot as plt\n",
    "import numpy as np\n",
    "plt.style.use('fivethirtyeight')\n",
    "%matplotlib inline"
   ]
  },
  {
   "cell_type": "code",
   "execution_count": null,
   "metadata": {
    "collapsed": false
   },
   "outputs": [],
   "source": [
    "ospath = os.path.abspath('C:/Users/Leonard/Downloads/Dataset/F1_All_Traffic.csv')"
   ]
  },
  {
   "cell_type": "code",
   "execution_count": null,
   "metadata": {
    "collapsed": false
   },
   "outputs": [],
   "source": [
    "data1 = pd.read_csv(ospath)"
   ]
  },
  {
   "cell_type": "code",
   "execution_count": null,
   "metadata": {
    "collapsed": false
   },
   "outputs": [],
   "source": [
    "data1.columns.values"
   ]
  },
  {
   "cell_type": "code",
   "execution_count": null,
   "metadata": {
    "collapsed": false
   },
   "outputs": [],
   "source": [
    "data1[data1.columns.values[14:35]].head(30)"
   ]
  },
  {
   "cell_type": "code",
   "execution_count": 2,
   "metadata": {
    "collapsed": false
   },
   "outputs": [],
   "source": [
    "def roundTime(dt=None, dateDelta=datetime.timedelta(minutes=1)):\n",
    "    \"\"\"Round a datetime object to a multiple of a timedelta\n",
    "    dt : datetime.datetime object, default now.\n",
    "    dateDelta : timedelta object, we round to a multiple of this, default 1 minute.\n",
    "    Author: Thierry Husson 2012 - Use it as you want but don't blame me.\n",
    "            Stijn Nevens 2014 - Changed to use only datetime objects as variables\n",
    "    \"\"\"\n",
    "    roundTo = dateDelta.total_seconds()\n",
    "\n",
    "    if dt == None : dt = datetime.datetime.now()\n",
    "    seconds = (dt - dt.min).seconds\n",
    "    # // is a floor division, not a comment on following line:\n",
    "    rounding = (seconds+roundTo/2) // roundTo * roundTo\n",
    "    return dt + datetime.timedelta(0,rounding-seconds,-dt.microsecond)"
   ]
  },
  {
   "cell_type": "code",
   "execution_count": null,
   "metadata": {
    "collapsed": false
   },
   "outputs": [],
   "source": [
    "roundTime(datetime.datetime(2016,12,31,23,37,32),datetime.timedelta(minutes=15))"
   ]
  },
  {
   "cell_type": "code",
   "execution_count": null,
   "metadata": {
    "collapsed": false
   },
   "outputs": [],
   "source": [
    "datetime.datetime.strptime('2016-12-16 02:00:52','%Y-%m-%d %H:%M:%S')"
   ]
  },
  {
   "cell_type": "code",
   "execution_count": null,
   "metadata": {
    "collapsed": false
   },
   "outputs": [],
   "source": [
    "data1['update_time_datetime'] = data1.apply(lambda x: datetime.datetime.strptime(x['update_time'],'%Y-%m-%d %H:%M:%S'),axis=1)"
   ]
  },
  {
   "cell_type": "code",
   "execution_count": null,
   "metadata": {
    "collapsed": false
   },
   "outputs": [],
   "source": [
    "data1['update_time15'] = data1.apply(lambda x: roundTime(x['update_time_datetime'],datetime.timedelta(minutes=15)),axis=1)"
   ]
  },
  {
   "cell_type": "code",
   "execution_count": null,
   "metadata": {
    "collapsed": false
   },
   "outputs": [],
   "source": [
    "list(data1.info_5.unique())[0] is not np.nan"
   ]
  },
  {
   "cell_type": "code",
   "execution_count": null,
   "metadata": {
    "collapsed": false
   },
   "outputs": [],
   "source": [
    "data1['sent_bytes'] = data1.apply(lambda x: int(x['info_5'].split('; ')[1].split('=')[1]) if x['info_5'] is not np.nan else 0,axis=1)\n",
    "data1['rcvd_bytes'] = data1.apply(lambda x: int(x['info_5'].split('; ')[2].split('=')[1]) if x['info_5'] is not np.nan else 0,axis=1)"
   ]
  },
  {
   "cell_type": "code",
   "execution_count": null,
   "metadata": {
    "collapsed": false
   },
   "outputs": [],
   "source": []
  },
  {
   "cell_type": "code",
   "execution_count": null,
   "metadata": {
    "collapsed": false
   },
   "outputs": [],
   "source": [
    "data1.fillna(0,inplace=True)"
   ]
  },
  {
   "cell_type": "code",
   "execution_count": null,
   "metadata": {
    "collapsed": false
   },
   "outputs": [],
   "source": [
    "min(data1.update_time15.values)"
   ]
  },
  {
   "cell_type": "code",
   "execution_count": null,
   "metadata": {
    "collapsed": false
   },
   "outputs": [],
   "source": [
    "data1[(data1.update_time15>=datetime.datetime(2017,1,2,0,0,0)) & (data1.update_time15<datetime.datetime(2017,1,5,0,0,0))].groupby(['update_time15'])['rcvd_bytes','sent_bytes'].sum().apply(lambda x: x/1024/1024/1024).plot(kind='line',figsize=(12,6))"
   ]
  },
  {
   "cell_type": "code",
   "execution_count": null,
   "metadata": {
    "collapsed": false
   },
   "outputs": [],
   "source": [
    "int('duration=30; sent_bytes=75; rcvd_bytes=234'.split('; ')[2].split('=')[1])"
   ]
  },
  {
   "cell_type": "code",
   "execution_count": 4,
   "metadata": {
    "collapsed": true
   },
   "outputs": [],
   "source": [
    "path = os.path.abspath('F:/bda_project_files/dataset')"
   ]
  },
  {
   "cell_type": "code",
   "execution_count": 14,
   "metadata": {
    "collapsed": false
   },
   "outputs": [
    {
     "name": "stdout",
     "output_type": "stream",
     "text": [
      "F:\\bda_project_files\\dataset F1_All_Traffic.csv\n",
      "F:\\bda_project_files\\dataset F1_Device_Statistic.csv\n",
      "F:\\bda_project_files\\dataset F1_GWC_Statistic.csv\n",
      "F:\\bda_project_files\\dataset F2_All_Traffic_modified.csv\n"
     ]
    },
    {
     "name": "stderr",
     "output_type": "stream",
     "text": [
      "C:\\Users\\Leonard\\Anaconda3\\lib\\site-packages\\IPython\\core\\interactiveshell.py:2717: DtypeWarning: Columns (25,26) have mixed types. Specify dtype option on import or set low_memory=False.\n",
      "  interactivity=interactivity, compiler=compiler, result=result)\n"
     ]
    },
    {
     "name": "stdout",
     "output_type": "stream",
     "text": [
      "F:\\bda_project_files\\dataset F2_Device_Statistic_modified.csv\n",
      "F:\\bda_project_files\\dataset F2_GWC_Statistic_modified.csv\n",
      "F:\\bda_project_files\\dataset F3_All_Traffic_modified.csv\n"
     ]
    },
    {
     "name": "stderr",
     "output_type": "stream",
     "text": [
      "C:\\Users\\Leonard\\Anaconda3\\lib\\site-packages\\IPython\\core\\interactiveshell.py:2717: DtypeWarning: Columns (14,16,25,26,32) have mixed types. Specify dtype option on import or set low_memory=False.\n",
      "  interactivity=interactivity, compiler=compiler, result=result)\n"
     ]
    },
    {
     "name": "stdout",
     "output_type": "stream",
     "text": [
      "F:\\bda_project_files\\dataset F3_Device_Statistic_modified.csv\n"
     ]
    }
   ],
   "source": [
    "datadict = {}\n",
    "for root, _ , files in os.walk(path):\n",
    "    for file in files:\n",
    "        print(root,file)\n",
    "        filep = file[3:]\n",
    "        if filep[-4:]=='.csv':\n",
    "            filep = filep.replace('_modified','')\n",
    "            if filep in datadict: \n",
    "                tempdata = pd.read_csv(os.path.join(root,file),parse_dates=['update_time'],infer_datetime_format=True)\n",
    "                tempdata.dropna(axis=0,how='all',inplace=True)\n",
    "                datadict[filep] = pd.concat([datadict[filep],tempdata])\n",
    "            else:\n",
    "                tempdata = pd.read_csv(os.path.join(root,file),parse_dates=['update_time'],infer_datetime_format=True)\n",
    "                tempdata.dropna(axis=0,how='all',inplace=True)\n",
    "                datadict[filep] = tempdata\n",
    "    "
   ]
  },
  {
   "cell_type": "code",
   "execution_count": 6,
   "metadata": {
    "collapsed": false
   },
   "outputs": [
    {
     "name": "stdout",
     "output_type": "stream",
     "text": [
      "Device_Statistic.csv ['Unnamed: 0' 'sid' 'cluster' 'raw_id' 'device' 'unix_time' 'in_octets'\n",
      " 'out_octets' 'log_type' 'update_time']\n",
      "GWC_Statistic.csv ['Unnamed: 0' 'sid' 'appliance_id' 'cluster' 'ssid' 'radio' 'band'\n",
      " 'rcvd_bytes' 'sent_bytes' 'client_count' 'log_type' 'update_time' 'wap']\n",
      "All_Traffic.csv ['Unnamed: 0' 'sid' 'cluster' 'tag_id' 'raw_id' 'disp' 'direction' 'pri'\n",
      " 'policy' 'protocol' 'src_ip' 'src_port' 'dst_ip' 'dst_port' 'src_ip_nat'\n",
      " 'src_port_nat' 'dst_ip_nat' 'dst_port_nat' 'src_intf' 'dst_intf' 'rc'\n",
      " 'pckt_len' 'ttl' 'pr_info' 'proxy_act' 'alarm_name' 'alarm_type'\n",
      " 'alarm_id' 'info_1' 'info_2' 'info_3' 'info_4' 'info_5' 'info_6'\n",
      " 'log_type' 'msg' 'bucket' 'update_time' 'info_7' 'info_8' 'info_9'\n",
      " 'info_10' 'info_11' 'info_12' 'msg_id']\n"
     ]
    }
   ],
   "source": [
    "for k,v in datadict.items():\n",
    "    print(k,v.columns.values)"
   ]
  },
  {
   "cell_type": "code",
   "execution_count": 8,
   "metadata": {
    "collapsed": false
   },
   "outputs": [],
   "source": [
    "# datadict['All_Traffic.csv'].dropna(axis=0,how='all',inplace=True)"
   ]
  },
  {
   "cell_type": "code",
   "execution_count": 7,
   "metadata": {
    "collapsed": false
   },
   "outputs": [
    {
     "data": {
      "text/html": [
       "<div>\n",
       "<table border=\"1\" class=\"dataframe\">\n",
       "  <thead>\n",
       "    <tr style=\"text-align: right;\">\n",
       "      <th></th>\n",
       "      <th>Unnamed: 0</th>\n",
       "      <th>sid</th>\n",
       "      <th>cluster</th>\n",
       "      <th>tag_id</th>\n",
       "      <th>raw_id</th>\n",
       "      <th>disp</th>\n",
       "      <th>direction</th>\n",
       "      <th>pri</th>\n",
       "      <th>policy</th>\n",
       "      <th>protocol</th>\n",
       "      <th>...</th>\n",
       "      <th>msg</th>\n",
       "      <th>bucket</th>\n",
       "      <th>update_time</th>\n",
       "      <th>info_7</th>\n",
       "      <th>info_8</th>\n",
       "      <th>info_9</th>\n",
       "      <th>info_10</th>\n",
       "      <th>info_11</th>\n",
       "      <th>info_12</th>\n",
       "      <th>msg_id</th>\n",
       "    </tr>\n",
       "  </thead>\n",
       "  <tbody>\n",
       "    <tr>\n",
       "      <th>0</th>\n",
       "      <td>0</td>\n",
       "      <td>1116303749</td>\n",
       "      <td>NaN</td>\n",
       "      <td>1001</td>\n",
       "      <td>331473</td>\n",
       "      <td>2</td>\n",
       "      <td>0</td>\n",
       "      <td>4</td>\n",
       "      <td>Unhandled-External-Packet-00</td>\n",
       "      <td>34295/udp</td>\n",
       "      <td>...</td>\n",
       "      <td>Denied</td>\n",
       "      <td>NaN</td>\n",
       "      <td>2016-12-16 02:00:10</td>\n",
       "      <td>NaN</td>\n",
       "      <td>NaN</td>\n",
       "      <td>NaN</td>\n",
       "      <td>NaN</td>\n",
       "      <td>NaN</td>\n",
       "      <td>NaN</td>\n",
       "      <td>3000-0148</td>\n",
       "    </tr>\n",
       "    <tr>\n",
       "      <th>1</th>\n",
       "      <td>1</td>\n",
       "      <td>1116303750</td>\n",
       "      <td>NaN</td>\n",
       "      <td>1001</td>\n",
       "      <td>331474</td>\n",
       "      <td>2</td>\n",
       "      <td>0</td>\n",
       "      <td>4</td>\n",
       "      <td>Unhandled-External-Packet-00</td>\n",
       "      <td>telnet/tcp</td>\n",
       "      <td>...</td>\n",
       "      <td>Denied</td>\n",
       "      <td>NaN</td>\n",
       "      <td>2016-12-16 02:00:13</td>\n",
       "      <td>NaN</td>\n",
       "      <td>NaN</td>\n",
       "      <td>NaN</td>\n",
       "      <td>NaN</td>\n",
       "      <td>NaN</td>\n",
       "      <td>NaN</td>\n",
       "      <td>3000-0148</td>\n",
       "    </tr>\n",
       "    <tr>\n",
       "      <th>2</th>\n",
       "      <td>2</td>\n",
       "      <td>1116303926</td>\n",
       "      <td>NaN</td>\n",
       "      <td>1001</td>\n",
       "      <td>331477</td>\n",
       "      <td>2</td>\n",
       "      <td>0</td>\n",
       "      <td>4</td>\n",
       "      <td>Unhandled-External-Packet-00</td>\n",
       "      <td>telnet/tcp</td>\n",
       "      <td>...</td>\n",
       "      <td>Denied</td>\n",
       "      <td>NaN</td>\n",
       "      <td>2016-12-16 02:00:51</td>\n",
       "      <td>NaN</td>\n",
       "      <td>NaN</td>\n",
       "      <td>NaN</td>\n",
       "      <td>NaN</td>\n",
       "      <td>NaN</td>\n",
       "      <td>NaN</td>\n",
       "      <td>3000-0148</td>\n",
       "    </tr>\n",
       "    <tr>\n",
       "      <th>3</th>\n",
       "      <td>3</td>\n",
       "      <td>1116303927</td>\n",
       "      <td>NaN</td>\n",
       "      <td>1001</td>\n",
       "      <td>331478</td>\n",
       "      <td>2</td>\n",
       "      <td>0</td>\n",
       "      <td>4</td>\n",
       "      <td>Unhandled-External-Packet-00</td>\n",
       "      <td>telnet/tcp</td>\n",
       "      <td>...</td>\n",
       "      <td>Denied</td>\n",
       "      <td>NaN</td>\n",
       "      <td>2016-12-16 02:00:52</td>\n",
       "      <td>NaN</td>\n",
       "      <td>NaN</td>\n",
       "      <td>NaN</td>\n",
       "      <td>NaN</td>\n",
       "      <td>NaN</td>\n",
       "      <td>NaN</td>\n",
       "      <td>3000-0148</td>\n",
       "    </tr>\n",
       "    <tr>\n",
       "      <th>4</th>\n",
       "      <td>4</td>\n",
       "      <td>1116303928</td>\n",
       "      <td>NaN</td>\n",
       "      <td>1001</td>\n",
       "      <td>331479</td>\n",
       "      <td>2</td>\n",
       "      <td>0</td>\n",
       "      <td>4</td>\n",
       "      <td>Unhandled-External-Packet-00</td>\n",
       "      <td>7547/tcp</td>\n",
       "      <td>...</td>\n",
       "      <td>Denied</td>\n",
       "      <td>NaN</td>\n",
       "      <td>2016-12-16 02:00:52</td>\n",
       "      <td>NaN</td>\n",
       "      <td>NaN</td>\n",
       "      <td>NaN</td>\n",
       "      <td>NaN</td>\n",
       "      <td>NaN</td>\n",
       "      <td>NaN</td>\n",
       "      <td>3000-0148</td>\n",
       "    </tr>\n",
       "  </tbody>\n",
       "</table>\n",
       "<p>5 rows × 45 columns</p>\n",
       "</div>"
      ],
      "text/plain": [
       "   Unnamed: 0         sid  cluster  tag_id  raw_id  disp  direction  pri  \\\n",
       "0           0  1116303749      NaN    1001  331473     2          0    4   \n",
       "1           1  1116303750      NaN    1001  331474     2          0    4   \n",
       "2           2  1116303926      NaN    1001  331477     2          0    4   \n",
       "3           3  1116303927      NaN    1001  331478     2          0    4   \n",
       "4           4  1116303928      NaN    1001  331479     2          0    4   \n",
       "\n",
       "                         policy    protocol    ...         msg  bucket  \\\n",
       "0  Unhandled-External-Packet-00   34295/udp    ...      Denied     NaN   \n",
       "1  Unhandled-External-Packet-00  telnet/tcp    ...      Denied     NaN   \n",
       "2  Unhandled-External-Packet-00  telnet/tcp    ...      Denied     NaN   \n",
       "3  Unhandled-External-Packet-00  telnet/tcp    ...      Denied     NaN   \n",
       "4  Unhandled-External-Packet-00    7547/tcp    ...      Denied     NaN   \n",
       "\n",
       "           update_time  info_7 info_8  info_9 info_10  info_11 info_12  \\\n",
       "0  2016-12-16 02:00:10     NaN    NaN     NaN     NaN      NaN     NaN   \n",
       "1  2016-12-16 02:00:13     NaN    NaN     NaN     NaN      NaN     NaN   \n",
       "2  2016-12-16 02:00:51     NaN    NaN     NaN     NaN      NaN     NaN   \n",
       "3  2016-12-16 02:00:52     NaN    NaN     NaN     NaN      NaN     NaN   \n",
       "4  2016-12-16 02:00:52     NaN    NaN     NaN     NaN      NaN     NaN   \n",
       "\n",
       "      msg_id  \n",
       "0  3000-0148  \n",
       "1  3000-0148  \n",
       "2  3000-0148  \n",
       "3  3000-0148  \n",
       "4  3000-0148  \n",
       "\n",
       "[5 rows x 45 columns]"
      ]
     },
     "execution_count": 7,
     "metadata": {},
     "output_type": "execute_result"
    }
   ],
   "source": [
    "datadict['All_Traffic.csv'].head()"
   ]
  },
  {
   "cell_type": "code",
   "execution_count": 10,
   "metadata": {
    "collapsed": true
   },
   "outputs": [],
   "source": [
    "import sys"
   ]
  },
  {
   "cell_type": "code",
   "execution_count": 11,
   "metadata": {
    "collapsed": false
   },
   "outputs": [
    {
     "name": "stdout",
     "output_type": "stream",
     "text": [
      "Unnamed: 0: 89MB\n",
      "sid: 89MB\n",
      "cluster: 89MB\n",
      "tag_id: 89MB\n",
      "raw_id: 89MB\n",
      "disp: 89MB\n",
      "direction: 89MB\n",
      "pri: 89MB\n",
      "policy: 462MB\n",
      "protocol: 407MB\n",
      "src_ip: 426MB\n",
      "src_port: 89MB\n",
      "dst_ip: 432MB\n",
      "dst_port: 89MB\n",
      "src_ip_nat: 405MB\n",
      "src_port_nat: 89MB\n",
      "dst_ip_nat: 222MB\n",
      "dst_port_nat: 89MB\n",
      "src_intf: 434MB\n",
      "dst_intf: 434MB\n",
      "rc: 89MB\n",
      "pckt_len: 89MB\n",
      "ttl: 89MB\n",
      "pr_info: 341MB\n",
      "proxy_act: 89MB\n",
      "alarm_name: 222MB\n",
      "alarm_type: 222MB\n",
      "alarm_id: 89MB\n",
      "info_1: 89MB\n",
      "info_2: 89MB\n",
      "info_3: 89MB\n",
      "info_4: 89MB\n",
      "info_5: 364MB\n",
      "info_6: 89MB\n",
      "log_type: 372MB\n",
      "msg: 336MB\n",
      "bucket: 89MB\n",
      "update_time: 466MB\n",
      "info_7: 89MB\n",
      "info_8: 89MB\n",
      "info_9: 89MB\n",
      "info_10: 89MB\n",
      "info_11: 89MB\n",
      "info_12: 89MB\n",
      "msg_id: 411MB\n"
     ]
    }
   ],
   "source": [
    "for col in datadict['All_Traffic.csv'].columns.values:\n",
    "    print(\"{}: {:.0f}MB\".format(col,sys.getsizeof( datadict['All_Traffic.csv'][col])/1024/1024))"
   ]
  },
  {
   "cell_type": "code",
   "execution_count": null,
   "metadata": {
    "collapsed": true
   },
   "outputs": [],
   "source": []
  },
  {
   "cell_type": "code",
   "execution_count": null,
   "metadata": {
    "collapsed": true
   },
   "outputs": [],
   "source": []
  },
  {
   "cell_type": "code",
   "execution_count": 15,
   "metadata": {
    "collapsed": false
   },
   "outputs": [
    {
     "name": "stdout",
     "output_type": "stream",
     "text": [
      "408MB\n"
     ]
    }
   ],
   "source": [
    "forecast_data = datadict['All_Traffic.csv'][['update_time','info_5']].fillna(0)\n",
    "print(\"{:.0f}MB\".format(sys.getsizeof( forecast_data)/1024/1024))"
   ]
  },
  {
   "cell_type": "code",
   "execution_count": 28,
   "metadata": {
    "collapsed": false
   },
   "outputs": [],
   "source": [
    "forecast_data['sent_bytes'] = [int(x.split('; ')[1].split('=')[1]) if x!=0 else 0 for x in forecast_data['info_5'].tolist()]\n",
    "forecast_data['rcvd_bytes'] = [int(x.split('; ')[2].split('=')[1]) if x!=0 else 0 for x in forecast_data['info_5'].tolist()]"
   ]
  },
  {
   "cell_type": "code",
   "execution_count": 61,
   "metadata": {
    "collapsed": false
   },
   "outputs": [
    {
     "name": "stdout",
     "output_type": "stream",
     "text": [
      "5821274 rows left\n",
      "4821274 rows left\n",
      "3821274 rows left\n",
      "2821274 rows left\n",
      "1821274 rows left\n",
      "821274 rows left\n"
     ]
    }
   ],
   "source": [
    "# Truncating the dates is very slow for some reason, made this loop to know how long it took\n",
    "\n",
    "outlist = []\n",
    "inlist = forecast_data['update_time'].tolist()\n",
    "length = len(inlist)\n",
    "for index, x in enumerate(inlist):\n",
    "    outlist.append(roundTime(x.to_pydatetime(),datetime.timedelta(minutes=15)))\n",
    "    if index % 1000000 == 0:\n",
    "        print(\"{:.0f} rows left\".format(length-index))\n",
    "# [roundTime(x,datetime.timedelta(minutes=15)) for x in forecast_data['update_time'].tolist()]\n"
   ]
  },
  {
   "cell_type": "code",
   "execution_count": 62,
   "metadata": {
    "collapsed": true
   },
   "outputs": [],
   "source": [
    "forecast_data['update_time15'] = outlist"
   ]
  },
  {
   "cell_type": "code",
   "execution_count": 59,
   "metadata": {
    "collapsed": false
   },
   "outputs": [
    {
     "name": "stdout",
     "output_type": "stream",
     "text": [
      "[Timestamp('2016-12-16 02:00:10'), Timestamp('2016-12-16 02:00:13'), Timestamp('2016-12-16 02:00:51'), Timestamp('2016-12-16 02:00:52'), Timestamp('2016-12-16 02:00:52')] \n",
      " [Timestamp('2016-12-16 01:57:44'), Timestamp('2016-12-16 01:57:44'), Timestamp('2016-12-16 01:57:44'), Timestamp('2016-12-16 01:57:44'), Timestamp('2016-12-16 01:57:44')] 2016-12-16 02:00:00\n"
     ]
    }
   ],
   "source": [
    "# print(inlist[:5],'\\n',outlist[:5],roundTime(inlist[0].to_pydatetime(),datetime.timedelta(minutes=15)))"
   ]
  },
  {
   "cell_type": "code",
   "execution_count": null,
   "metadata": {
    "collapsed": true
   },
   "outputs": [],
   "source": [
    "# updatetime = map(roundTime(),inlist,datetime.timedelta(minutes=15))"
   ]
  },
  {
   "cell_type": "code",
   "execution_count": 63,
   "metadata": {
    "collapsed": false
   },
   "outputs": [
    {
     "data": {
      "text/html": [
       "<div>\n",
       "<table border=\"1\" class=\"dataframe\">\n",
       "  <thead>\n",
       "    <tr style=\"text-align: right;\">\n",
       "      <th></th>\n",
       "      <th>update_time</th>\n",
       "      <th>info_5</th>\n",
       "      <th>sent_bytes</th>\n",
       "      <th>rcvd_bytes</th>\n",
       "      <th>update_time15</th>\n",
       "    </tr>\n",
       "  </thead>\n",
       "  <tbody>\n",
       "    <tr>\n",
       "      <th>0</th>\n",
       "      <td>2016-12-16 02:00:10</td>\n",
       "      <td>0</td>\n",
       "      <td>0</td>\n",
       "      <td>0</td>\n",
       "      <td>2016-12-16 02:00:00</td>\n",
       "    </tr>\n",
       "    <tr>\n",
       "      <th>1</th>\n",
       "      <td>2016-12-16 02:00:13</td>\n",
       "      <td>0</td>\n",
       "      <td>0</td>\n",
       "      <td>0</td>\n",
       "      <td>2016-12-16 02:00:00</td>\n",
       "    </tr>\n",
       "    <tr>\n",
       "      <th>2</th>\n",
       "      <td>2016-12-16 02:00:51</td>\n",
       "      <td>0</td>\n",
       "      <td>0</td>\n",
       "      <td>0</td>\n",
       "      <td>2016-12-16 02:00:00</td>\n",
       "    </tr>\n",
       "    <tr>\n",
       "      <th>3</th>\n",
       "      <td>2016-12-16 02:00:52</td>\n",
       "      <td>0</td>\n",
       "      <td>0</td>\n",
       "      <td>0</td>\n",
       "      <td>2016-12-16 02:00:00</td>\n",
       "    </tr>\n",
       "    <tr>\n",
       "      <th>4</th>\n",
       "      <td>2016-12-16 02:00:52</td>\n",
       "      <td>0</td>\n",
       "      <td>0</td>\n",
       "      <td>0</td>\n",
       "      <td>2016-12-16 02:00:00</td>\n",
       "    </tr>\n",
       "  </tbody>\n",
       "</table>\n",
       "</div>"
      ],
      "text/plain": [
       "          update_time info_5  sent_bytes  rcvd_bytes       update_time15\n",
       "0 2016-12-16 02:00:10      0           0           0 2016-12-16 02:00:00\n",
       "1 2016-12-16 02:00:13      0           0           0 2016-12-16 02:00:00\n",
       "2 2016-12-16 02:00:51      0           0           0 2016-12-16 02:00:00\n",
       "3 2016-12-16 02:00:52      0           0           0 2016-12-16 02:00:00\n",
       "4 2016-12-16 02:00:52      0           0           0 2016-12-16 02:00:00"
      ]
     },
     "execution_count": 63,
     "metadata": {},
     "output_type": "execute_result"
    }
   ],
   "source": [
    "forecast_data.head()"
   ]
  },
  {
   "cell_type": "code",
   "execution_count": 110,
   "metadata": {
    "collapsed": true
   },
   "outputs": [],
   "source": [
    "forecast_data_2 = forecast_data.groupby('update_time15')[['sent_bytes','rcvd_bytes']].sum().reset_index()\n",
    "forecast_data_2['hour'] = [x.hour for x in forecast_data_2.update_time15]\n",
    "forecast_data_2['min'] = [x.minute for x in forecast_data_2.update_time15]\n",
    "forecast_data_2['dow'] = [x.weekday() for x in forecast_data_2.update_time15]\n",
    "forecast_data_2['day'] = [x.day for x in forecast_data_2.update_time15]\n",
    "forecast_data_2['month'] = [x.month for x in forecast_data_2.update_time15]\n",
    "forecast_data_2['traffic'] = (forecast_data_2.sent_bytes+forecast_data_2.rcvd_bytes)/1024/1024"
   ]
  },
  {
   "cell_type": "code",
   "execution_count": 111,
   "metadata": {
    "collapsed": false
   },
   "outputs": [
    {
     "data": {
      "text/html": [
       "<div>\n",
       "<table border=\"1\" class=\"dataframe\">\n",
       "  <thead>\n",
       "    <tr style=\"text-align: right;\">\n",
       "      <th></th>\n",
       "      <th>update_time15</th>\n",
       "      <th>sent_bytes</th>\n",
       "      <th>rcvd_bytes</th>\n",
       "      <th>hour</th>\n",
       "      <th>min</th>\n",
       "      <th>dow</th>\n",
       "      <th>day</th>\n",
       "      <th>month</th>\n",
       "      <th>traffic</th>\n",
       "    </tr>\n",
       "  </thead>\n",
       "  <tbody>\n",
       "    <tr>\n",
       "      <th>0</th>\n",
       "      <td>2016-12-16 02:00:00</td>\n",
       "      <td>10312</td>\n",
       "      <td>26532</td>\n",
       "      <td>2</td>\n",
       "      <td>0</td>\n",
       "      <td>4</td>\n",
       "      <td>16</td>\n",
       "      <td>12</td>\n",
       "      <td>0.035137</td>\n",
       "    </tr>\n",
       "    <tr>\n",
       "      <th>1</th>\n",
       "      <td>2016-12-16 02:15:00</td>\n",
       "      <td>9776</td>\n",
       "      <td>26516</td>\n",
       "      <td>2</td>\n",
       "      <td>15</td>\n",
       "      <td>4</td>\n",
       "      <td>16</td>\n",
       "      <td>12</td>\n",
       "      <td>0.034611</td>\n",
       "    </tr>\n",
       "    <tr>\n",
       "      <th>2</th>\n",
       "      <td>2016-12-16 02:30:00</td>\n",
       "      <td>144026</td>\n",
       "      <td>146568</td>\n",
       "      <td>2</td>\n",
       "      <td>30</td>\n",
       "      <td>4</td>\n",
       "      <td>16</td>\n",
       "      <td>12</td>\n",
       "      <td>0.277132</td>\n",
       "    </tr>\n",
       "    <tr>\n",
       "      <th>3</th>\n",
       "      <td>2016-12-16 02:45:00</td>\n",
       "      <td>12338</td>\n",
       "      <td>56552</td>\n",
       "      <td>2</td>\n",
       "      <td>45</td>\n",
       "      <td>4</td>\n",
       "      <td>16</td>\n",
       "      <td>12</td>\n",
       "      <td>0.065699</td>\n",
       "    </tr>\n",
       "    <tr>\n",
       "      <th>4</th>\n",
       "      <td>2016-12-16 03:00:00</td>\n",
       "      <td>332556</td>\n",
       "      <td>18511495</td>\n",
       "      <td>3</td>\n",
       "      <td>0</td>\n",
       "      <td>4</td>\n",
       "      <td>16</td>\n",
       "      <td>12</td>\n",
       "      <td>17.971087</td>\n",
       "    </tr>\n",
       "    <tr>\n",
       "      <th>5</th>\n",
       "      <td>2016-12-16 03:15:00</td>\n",
       "      <td>268161</td>\n",
       "      <td>12195421</td>\n",
       "      <td>3</td>\n",
       "      <td>15</td>\n",
       "      <td>4</td>\n",
       "      <td>16</td>\n",
       "      <td>12</td>\n",
       "      <td>11.886198</td>\n",
       "    </tr>\n",
       "    <tr>\n",
       "      <th>6</th>\n",
       "      <td>2016-12-16 03:30:00</td>\n",
       "      <td>2609</td>\n",
       "      <td>8440</td>\n",
       "      <td>3</td>\n",
       "      <td>30</td>\n",
       "      <td>4</td>\n",
       "      <td>16</td>\n",
       "      <td>12</td>\n",
       "      <td>0.010537</td>\n",
       "    </tr>\n",
       "    <tr>\n",
       "      <th>7</th>\n",
       "      <td>2016-12-16 03:45:00</td>\n",
       "      <td>1725</td>\n",
       "      <td>4205</td>\n",
       "      <td>3</td>\n",
       "      <td>45</td>\n",
       "      <td>4</td>\n",
       "      <td>16</td>\n",
       "      <td>12</td>\n",
       "      <td>0.005655</td>\n",
       "    </tr>\n",
       "    <tr>\n",
       "      <th>8</th>\n",
       "      <td>2016-12-16 04:00:00</td>\n",
       "      <td>14523</td>\n",
       "      <td>18267</td>\n",
       "      <td>4</td>\n",
       "      <td>0</td>\n",
       "      <td>4</td>\n",
       "      <td>16</td>\n",
       "      <td>12</td>\n",
       "      <td>0.031271</td>\n",
       "    </tr>\n",
       "    <tr>\n",
       "      <th>9</th>\n",
       "      <td>2016-12-16 04:15:00</td>\n",
       "      <td>113790</td>\n",
       "      <td>55959</td>\n",
       "      <td>4</td>\n",
       "      <td>15</td>\n",
       "      <td>4</td>\n",
       "      <td>16</td>\n",
       "      <td>12</td>\n",
       "      <td>0.161885</td>\n",
       "    </tr>\n",
       "    <tr>\n",
       "      <th>10</th>\n",
       "      <td>2016-12-16 04:30:00</td>\n",
       "      <td>5923</td>\n",
       "      <td>11121</td>\n",
       "      <td>4</td>\n",
       "      <td>30</td>\n",
       "      <td>4</td>\n",
       "      <td>16</td>\n",
       "      <td>12</td>\n",
       "      <td>0.016254</td>\n",
       "    </tr>\n",
       "    <tr>\n",
       "      <th>11</th>\n",
       "      <td>2016-12-16 04:45:00</td>\n",
       "      <td>1661</td>\n",
       "      <td>4205</td>\n",
       "      <td>4</td>\n",
       "      <td>45</td>\n",
       "      <td>4</td>\n",
       "      <td>16</td>\n",
       "      <td>12</td>\n",
       "      <td>0.005594</td>\n",
       "    </tr>\n",
       "    <tr>\n",
       "      <th>12</th>\n",
       "      <td>2016-12-16 05:00:00</td>\n",
       "      <td>14857</td>\n",
       "      <td>14834</td>\n",
       "      <td>5</td>\n",
       "      <td>0</td>\n",
       "      <td>4</td>\n",
       "      <td>16</td>\n",
       "      <td>12</td>\n",
       "      <td>0.028316</td>\n",
       "    </tr>\n",
       "    <tr>\n",
       "      <th>13</th>\n",
       "      <td>2016-12-16 05:15:00</td>\n",
       "      <td>1661</td>\n",
       "      <td>4205</td>\n",
       "      <td>5</td>\n",
       "      <td>15</td>\n",
       "      <td>4</td>\n",
       "      <td>16</td>\n",
       "      <td>12</td>\n",
       "      <td>0.005594</td>\n",
       "    </tr>\n",
       "    <tr>\n",
       "      <th>14</th>\n",
       "      <td>2016-12-16 05:30:00</td>\n",
       "      <td>16822</td>\n",
       "      <td>36883</td>\n",
       "      <td>5</td>\n",
       "      <td>30</td>\n",
       "      <td>4</td>\n",
       "      <td>16</td>\n",
       "      <td>12</td>\n",
       "      <td>0.051217</td>\n",
       "    </tr>\n",
       "    <tr>\n",
       "      <th>15</th>\n",
       "      <td>2016-12-16 05:45:00</td>\n",
       "      <td>131291</td>\n",
       "      <td>929749</td>\n",
       "      <td>5</td>\n",
       "      <td>45</td>\n",
       "      <td>4</td>\n",
       "      <td>16</td>\n",
       "      <td>12</td>\n",
       "      <td>1.011887</td>\n",
       "    </tr>\n",
       "    <tr>\n",
       "      <th>16</th>\n",
       "      <td>2016-12-16 06:00:00</td>\n",
       "      <td>33193</td>\n",
       "      <td>244484</td>\n",
       "      <td>6</td>\n",
       "      <td>0</td>\n",
       "      <td>4</td>\n",
       "      <td>16</td>\n",
       "      <td>12</td>\n",
       "      <td>0.264813</td>\n",
       "    </tr>\n",
       "    <tr>\n",
       "      <th>17</th>\n",
       "      <td>2016-12-16 06:15:00</td>\n",
       "      <td>4361</td>\n",
       "      <td>6524</td>\n",
       "      <td>6</td>\n",
       "      <td>15</td>\n",
       "      <td>4</td>\n",
       "      <td>16</td>\n",
       "      <td>12</td>\n",
       "      <td>0.010381</td>\n",
       "    </tr>\n",
       "    <tr>\n",
       "      <th>18</th>\n",
       "      <td>2016-12-16 06:30:00</td>\n",
       "      <td>12798</td>\n",
       "      <td>39314</td>\n",
       "      <td>6</td>\n",
       "      <td>30</td>\n",
       "      <td>4</td>\n",
       "      <td>16</td>\n",
       "      <td>12</td>\n",
       "      <td>0.049698</td>\n",
       "    </tr>\n",
       "    <tr>\n",
       "      <th>19</th>\n",
       "      <td>2016-12-16 06:45:00</td>\n",
       "      <td>1860435</td>\n",
       "      <td>15853226</td>\n",
       "      <td>6</td>\n",
       "      <td>45</td>\n",
       "      <td>4</td>\n",
       "      <td>16</td>\n",
       "      <td>12</td>\n",
       "      <td>16.893064</td>\n",
       "    </tr>\n",
       "    <tr>\n",
       "      <th>20</th>\n",
       "      <td>2016-12-16 07:00:00</td>\n",
       "      <td>2455534</td>\n",
       "      <td>8938747</td>\n",
       "      <td>7</td>\n",
       "      <td>0</td>\n",
       "      <td>4</td>\n",
       "      <td>16</td>\n",
       "      <td>12</td>\n",
       "      <td>10.866433</td>\n",
       "    </tr>\n",
       "    <tr>\n",
       "      <th>21</th>\n",
       "      <td>2016-12-16 07:15:00</td>\n",
       "      <td>487072</td>\n",
       "      <td>11563304</td>\n",
       "      <td>7</td>\n",
       "      <td>15</td>\n",
       "      <td>4</td>\n",
       "      <td>16</td>\n",
       "      <td>12</td>\n",
       "      <td>11.492134</td>\n",
       "    </tr>\n",
       "    <tr>\n",
       "      <th>22</th>\n",
       "      <td>2016-12-16 07:30:00</td>\n",
       "      <td>461693</td>\n",
       "      <td>1130407</td>\n",
       "      <td>7</td>\n",
       "      <td>30</td>\n",
       "      <td>4</td>\n",
       "      <td>16</td>\n",
       "      <td>12</td>\n",
       "      <td>1.518345</td>\n",
       "    </tr>\n",
       "    <tr>\n",
       "      <th>23</th>\n",
       "      <td>2016-12-16 07:45:00</td>\n",
       "      <td>966694</td>\n",
       "      <td>8332089</td>\n",
       "      <td>7</td>\n",
       "      <td>45</td>\n",
       "      <td>4</td>\n",
       "      <td>16</td>\n",
       "      <td>12</td>\n",
       "      <td>8.868011</td>\n",
       "    </tr>\n",
       "    <tr>\n",
       "      <th>24</th>\n",
       "      <td>2016-12-16 08:00:00</td>\n",
       "      <td>4254280</td>\n",
       "      <td>19584461</td>\n",
       "      <td>8</td>\n",
       "      <td>0</td>\n",
       "      <td>4</td>\n",
       "      <td>16</td>\n",
       "      <td>12</td>\n",
       "      <td>22.734395</td>\n",
       "    </tr>\n",
       "    <tr>\n",
       "      <th>25</th>\n",
       "      <td>2016-12-16 08:15:00</td>\n",
       "      <td>15126970</td>\n",
       "      <td>220959703</td>\n",
       "      <td>8</td>\n",
       "      <td>15</td>\n",
       "      <td>4</td>\n",
       "      <td>16</td>\n",
       "      <td>12</td>\n",
       "      <td>225.149796</td>\n",
       "    </tr>\n",
       "    <tr>\n",
       "      <th>26</th>\n",
       "      <td>2016-12-16 08:30:00</td>\n",
       "      <td>7231572</td>\n",
       "      <td>50407880</td>\n",
       "      <td>8</td>\n",
       "      <td>30</td>\n",
       "      <td>4</td>\n",
       "      <td>16</td>\n",
       "      <td>12</td>\n",
       "      <td>54.969265</td>\n",
       "    </tr>\n",
       "    <tr>\n",
       "      <th>27</th>\n",
       "      <td>2016-12-16 08:45:00</td>\n",
       "      <td>6429913</td>\n",
       "      <td>55643137</td>\n",
       "      <td>8</td>\n",
       "      <td>45</td>\n",
       "      <td>4</td>\n",
       "      <td>16</td>\n",
       "      <td>12</td>\n",
       "      <td>59.197474</td>\n",
       "    </tr>\n",
       "    <tr>\n",
       "      <th>28</th>\n",
       "      <td>2016-12-16 09:00:00</td>\n",
       "      <td>13734450</td>\n",
       "      <td>178195874</td>\n",
       "      <td>9</td>\n",
       "      <td>0</td>\n",
       "      <td>4</td>\n",
       "      <td>16</td>\n",
       "      <td>12</td>\n",
       "      <td>183.039021</td>\n",
       "    </tr>\n",
       "    <tr>\n",
       "      <th>29</th>\n",
       "      <td>2016-12-16 09:15:00</td>\n",
       "      <td>20046353</td>\n",
       "      <td>155641559</td>\n",
       "      <td>9</td>\n",
       "      <td>15</td>\n",
       "      <td>4</td>\n",
       "      <td>16</td>\n",
       "      <td>12</td>\n",
       "      <td>167.549049</td>\n",
       "    </tr>\n",
       "    <tr>\n",
       "      <th>...</th>\n",
       "      <td>...</td>\n",
       "      <td>...</td>\n",
       "      <td>...</td>\n",
       "      <td>...</td>\n",
       "      <td>...</td>\n",
       "      <td>...</td>\n",
       "      <td>...</td>\n",
       "      <td>...</td>\n",
       "      <td>...</td>\n",
       "    </tr>\n",
       "    <tr>\n",
       "      <th>2555</th>\n",
       "      <td>2017-01-11 16:45:00</td>\n",
       "      <td>11832418</td>\n",
       "      <td>35555070</td>\n",
       "      <td>16</td>\n",
       "      <td>45</td>\n",
       "      <td>2</td>\n",
       "      <td>11</td>\n",
       "      <td>1</td>\n",
       "      <td>45.192230</td>\n",
       "    </tr>\n",
       "    <tr>\n",
       "      <th>2556</th>\n",
       "      <td>2017-01-11 17:00:00</td>\n",
       "      <td>10905288</td>\n",
       "      <td>18550112</td>\n",
       "      <td>17</td>\n",
       "      <td>0</td>\n",
       "      <td>2</td>\n",
       "      <td>11</td>\n",
       "      <td>1</td>\n",
       "      <td>28.090858</td>\n",
       "    </tr>\n",
       "    <tr>\n",
       "      <th>2557</th>\n",
       "      <td>2017-01-11 17:15:00</td>\n",
       "      <td>1692203</td>\n",
       "      <td>4273222</td>\n",
       "      <td>17</td>\n",
       "      <td>15</td>\n",
       "      <td>2</td>\n",
       "      <td>11</td>\n",
       "      <td>1</td>\n",
       "      <td>5.689073</td>\n",
       "    </tr>\n",
       "    <tr>\n",
       "      <th>2558</th>\n",
       "      <td>2017-01-11 17:30:00</td>\n",
       "      <td>1042201</td>\n",
       "      <td>9153333</td>\n",
       "      <td>17</td>\n",
       "      <td>30</td>\n",
       "      <td>2</td>\n",
       "      <td>11</td>\n",
       "      <td>1</td>\n",
       "      <td>9.723219</td>\n",
       "    </tr>\n",
       "    <tr>\n",
       "      <th>2559</th>\n",
       "      <td>2017-01-11 17:45:00</td>\n",
       "      <td>740077</td>\n",
       "      <td>11432444</td>\n",
       "      <td>17</td>\n",
       "      <td>45</td>\n",
       "      <td>2</td>\n",
       "      <td>11</td>\n",
       "      <td>1</td>\n",
       "      <td>11.608621</td>\n",
       "    </tr>\n",
       "    <tr>\n",
       "      <th>2560</th>\n",
       "      <td>2017-01-11 18:00:00</td>\n",
       "      <td>373321</td>\n",
       "      <td>1321659</td>\n",
       "      <td>18</td>\n",
       "      <td>0</td>\n",
       "      <td>2</td>\n",
       "      <td>11</td>\n",
       "      <td>1</td>\n",
       "      <td>1.616459</td>\n",
       "    </tr>\n",
       "    <tr>\n",
       "      <th>2561</th>\n",
       "      <td>2017-01-11 18:15:00</td>\n",
       "      <td>261174</td>\n",
       "      <td>502473</td>\n",
       "      <td>18</td>\n",
       "      <td>15</td>\n",
       "      <td>2</td>\n",
       "      <td>11</td>\n",
       "      <td>1</td>\n",
       "      <td>0.728271</td>\n",
       "    </tr>\n",
       "    <tr>\n",
       "      <th>2562</th>\n",
       "      <td>2017-01-11 18:30:00</td>\n",
       "      <td>593792</td>\n",
       "      <td>1153430</td>\n",
       "      <td>18</td>\n",
       "      <td>30</td>\n",
       "      <td>2</td>\n",
       "      <td>11</td>\n",
       "      <td>1</td>\n",
       "      <td>1.666281</td>\n",
       "    </tr>\n",
       "    <tr>\n",
       "      <th>2563</th>\n",
       "      <td>2017-01-11 18:45:00</td>\n",
       "      <td>174000</td>\n",
       "      <td>1381704</td>\n",
       "      <td>18</td>\n",
       "      <td>45</td>\n",
       "      <td>2</td>\n",
       "      <td>11</td>\n",
       "      <td>1</td>\n",
       "      <td>1.483635</td>\n",
       "    </tr>\n",
       "    <tr>\n",
       "      <th>2564</th>\n",
       "      <td>2017-01-11 19:00:00</td>\n",
       "      <td>158071</td>\n",
       "      <td>168991</td>\n",
       "      <td>19</td>\n",
       "      <td>0</td>\n",
       "      <td>2</td>\n",
       "      <td>11</td>\n",
       "      <td>1</td>\n",
       "      <td>0.311911</td>\n",
       "    </tr>\n",
       "    <tr>\n",
       "      <th>2565</th>\n",
       "      <td>2017-01-11 19:15:00</td>\n",
       "      <td>353883</td>\n",
       "      <td>743241</td>\n",
       "      <td>19</td>\n",
       "      <td>15</td>\n",
       "      <td>2</td>\n",
       "      <td>11</td>\n",
       "      <td>1</td>\n",
       "      <td>1.046299</td>\n",
       "    </tr>\n",
       "    <tr>\n",
       "      <th>2566</th>\n",
       "      <td>2017-01-11 19:30:00</td>\n",
       "      <td>329653</td>\n",
       "      <td>459999</td>\n",
       "      <td>19</td>\n",
       "      <td>30</td>\n",
       "      <td>2</td>\n",
       "      <td>11</td>\n",
       "      <td>1</td>\n",
       "      <td>0.753071</td>\n",
       "    </tr>\n",
       "    <tr>\n",
       "      <th>2567</th>\n",
       "      <td>2017-01-11 19:45:00</td>\n",
       "      <td>60219</td>\n",
       "      <td>71663</td>\n",
       "      <td>19</td>\n",
       "      <td>45</td>\n",
       "      <td>2</td>\n",
       "      <td>11</td>\n",
       "      <td>1</td>\n",
       "      <td>0.125772</td>\n",
       "    </tr>\n",
       "    <tr>\n",
       "      <th>2568</th>\n",
       "      <td>2017-01-11 20:00:00</td>\n",
       "      <td>96527</td>\n",
       "      <td>103608</td>\n",
       "      <td>20</td>\n",
       "      <td>0</td>\n",
       "      <td>2</td>\n",
       "      <td>11</td>\n",
       "      <td>1</td>\n",
       "      <td>0.190864</td>\n",
       "    </tr>\n",
       "    <tr>\n",
       "      <th>2569</th>\n",
       "      <td>2017-01-11 20:15:00</td>\n",
       "      <td>74980</td>\n",
       "      <td>175699</td>\n",
       "      <td>20</td>\n",
       "      <td>15</td>\n",
       "      <td>2</td>\n",
       "      <td>11</td>\n",
       "      <td>1</td>\n",
       "      <td>0.239066</td>\n",
       "    </tr>\n",
       "    <tr>\n",
       "      <th>2570</th>\n",
       "      <td>2017-01-11 20:30:00</td>\n",
       "      <td>34373</td>\n",
       "      <td>10858</td>\n",
       "      <td>20</td>\n",
       "      <td>30</td>\n",
       "      <td>2</td>\n",
       "      <td>11</td>\n",
       "      <td>1</td>\n",
       "      <td>0.043136</td>\n",
       "    </tr>\n",
       "    <tr>\n",
       "      <th>2571</th>\n",
       "      <td>2017-01-11 20:45:00</td>\n",
       "      <td>91974</td>\n",
       "      <td>116450</td>\n",
       "      <td>20</td>\n",
       "      <td>45</td>\n",
       "      <td>2</td>\n",
       "      <td>11</td>\n",
       "      <td>1</td>\n",
       "      <td>0.198769</td>\n",
       "    </tr>\n",
       "    <tr>\n",
       "      <th>2572</th>\n",
       "      <td>2017-01-11 21:00:00</td>\n",
       "      <td>43600</td>\n",
       "      <td>44485</td>\n",
       "      <td>21</td>\n",
       "      <td>0</td>\n",
       "      <td>2</td>\n",
       "      <td>11</td>\n",
       "      <td>1</td>\n",
       "      <td>0.084004</td>\n",
       "    </tr>\n",
       "    <tr>\n",
       "      <th>2573</th>\n",
       "      <td>2017-01-11 21:15:00</td>\n",
       "      <td>30845</td>\n",
       "      <td>5881</td>\n",
       "      <td>21</td>\n",
       "      <td>15</td>\n",
       "      <td>2</td>\n",
       "      <td>11</td>\n",
       "      <td>1</td>\n",
       "      <td>0.035025</td>\n",
       "    </tr>\n",
       "    <tr>\n",
       "      <th>2574</th>\n",
       "      <td>2017-01-11 21:30:00</td>\n",
       "      <td>41352</td>\n",
       "      <td>57081</td>\n",
       "      <td>21</td>\n",
       "      <td>30</td>\n",
       "      <td>2</td>\n",
       "      <td>11</td>\n",
       "      <td>1</td>\n",
       "      <td>0.093873</td>\n",
       "    </tr>\n",
       "    <tr>\n",
       "      <th>2575</th>\n",
       "      <td>2017-01-11 21:45:00</td>\n",
       "      <td>43112</td>\n",
       "      <td>19792</td>\n",
       "      <td>21</td>\n",
       "      <td>45</td>\n",
       "      <td>2</td>\n",
       "      <td>11</td>\n",
       "      <td>1</td>\n",
       "      <td>0.059990</td>\n",
       "    </tr>\n",
       "    <tr>\n",
       "      <th>2576</th>\n",
       "      <td>2017-01-11 22:00:00</td>\n",
       "      <td>70155</td>\n",
       "      <td>116361</td>\n",
       "      <td>22</td>\n",
       "      <td>0</td>\n",
       "      <td>2</td>\n",
       "      <td>11</td>\n",
       "      <td>1</td>\n",
       "      <td>0.177876</td>\n",
       "    </tr>\n",
       "    <tr>\n",
       "      <th>2577</th>\n",
       "      <td>2017-01-11 22:15:00</td>\n",
       "      <td>42703</td>\n",
       "      <td>45905</td>\n",
       "      <td>22</td>\n",
       "      <td>15</td>\n",
       "      <td>2</td>\n",
       "      <td>11</td>\n",
       "      <td>1</td>\n",
       "      <td>0.084503</td>\n",
       "    </tr>\n",
       "    <tr>\n",
       "      <th>2578</th>\n",
       "      <td>2017-01-11 22:30:00</td>\n",
       "      <td>39356</td>\n",
       "      <td>32032</td>\n",
       "      <td>22</td>\n",
       "      <td>30</td>\n",
       "      <td>2</td>\n",
       "      <td>11</td>\n",
       "      <td>1</td>\n",
       "      <td>0.068081</td>\n",
       "    </tr>\n",
       "    <tr>\n",
       "      <th>2579</th>\n",
       "      <td>2017-01-11 22:45:00</td>\n",
       "      <td>32044</td>\n",
       "      <td>9914</td>\n",
       "      <td>22</td>\n",
       "      <td>45</td>\n",
       "      <td>2</td>\n",
       "      <td>11</td>\n",
       "      <td>1</td>\n",
       "      <td>0.040014</td>\n",
       "    </tr>\n",
       "    <tr>\n",
       "      <th>2580</th>\n",
       "      <td>2017-01-11 23:00:00</td>\n",
       "      <td>32421</td>\n",
       "      <td>10918</td>\n",
       "      <td>23</td>\n",
       "      <td>0</td>\n",
       "      <td>2</td>\n",
       "      <td>11</td>\n",
       "      <td>1</td>\n",
       "      <td>0.041331</td>\n",
       "    </tr>\n",
       "    <tr>\n",
       "      <th>2581</th>\n",
       "      <td>2017-01-11 23:15:00</td>\n",
       "      <td>43273</td>\n",
       "      <td>15096</td>\n",
       "      <td>23</td>\n",
       "      <td>15</td>\n",
       "      <td>2</td>\n",
       "      <td>11</td>\n",
       "      <td>1</td>\n",
       "      <td>0.055665</td>\n",
       "    </tr>\n",
       "    <tr>\n",
       "      <th>2582</th>\n",
       "      <td>2017-01-11 23:30:00</td>\n",
       "      <td>46403</td>\n",
       "      <td>80250</td>\n",
       "      <td>23</td>\n",
       "      <td>30</td>\n",
       "      <td>2</td>\n",
       "      <td>11</td>\n",
       "      <td>1</td>\n",
       "      <td>0.120786</td>\n",
       "    </tr>\n",
       "    <tr>\n",
       "      <th>2583</th>\n",
       "      <td>2017-01-11 23:45:00</td>\n",
       "      <td>32607</td>\n",
       "      <td>10760</td>\n",
       "      <td>23</td>\n",
       "      <td>45</td>\n",
       "      <td>2</td>\n",
       "      <td>11</td>\n",
       "      <td>1</td>\n",
       "      <td>0.041358</td>\n",
       "    </tr>\n",
       "    <tr>\n",
       "      <th>2584</th>\n",
       "      <td>2017-01-12 00:00:00</td>\n",
       "      <td>14348</td>\n",
       "      <td>2050</td>\n",
       "      <td>0</td>\n",
       "      <td>0</td>\n",
       "      <td>3</td>\n",
       "      <td>12</td>\n",
       "      <td>1</td>\n",
       "      <td>0.015638</td>\n",
       "    </tr>\n",
       "  </tbody>\n",
       "</table>\n",
       "<p>2585 rows × 9 columns</p>\n",
       "</div>"
      ],
      "text/plain": [
       "           update_time15  sent_bytes  rcvd_bytes  hour  min  dow  day  month  \\\n",
       "0    2016-12-16 02:00:00       10312       26532     2    0    4   16     12   \n",
       "1    2016-12-16 02:15:00        9776       26516     2   15    4   16     12   \n",
       "2    2016-12-16 02:30:00      144026      146568     2   30    4   16     12   \n",
       "3    2016-12-16 02:45:00       12338       56552     2   45    4   16     12   \n",
       "4    2016-12-16 03:00:00      332556    18511495     3    0    4   16     12   \n",
       "5    2016-12-16 03:15:00      268161    12195421     3   15    4   16     12   \n",
       "6    2016-12-16 03:30:00        2609        8440     3   30    4   16     12   \n",
       "7    2016-12-16 03:45:00        1725        4205     3   45    4   16     12   \n",
       "8    2016-12-16 04:00:00       14523       18267     4    0    4   16     12   \n",
       "9    2016-12-16 04:15:00      113790       55959     4   15    4   16     12   \n",
       "10   2016-12-16 04:30:00        5923       11121     4   30    4   16     12   \n",
       "11   2016-12-16 04:45:00        1661        4205     4   45    4   16     12   \n",
       "12   2016-12-16 05:00:00       14857       14834     5    0    4   16     12   \n",
       "13   2016-12-16 05:15:00        1661        4205     5   15    4   16     12   \n",
       "14   2016-12-16 05:30:00       16822       36883     5   30    4   16     12   \n",
       "15   2016-12-16 05:45:00      131291      929749     5   45    4   16     12   \n",
       "16   2016-12-16 06:00:00       33193      244484     6    0    4   16     12   \n",
       "17   2016-12-16 06:15:00        4361        6524     6   15    4   16     12   \n",
       "18   2016-12-16 06:30:00       12798       39314     6   30    4   16     12   \n",
       "19   2016-12-16 06:45:00     1860435    15853226     6   45    4   16     12   \n",
       "20   2016-12-16 07:00:00     2455534     8938747     7    0    4   16     12   \n",
       "21   2016-12-16 07:15:00      487072    11563304     7   15    4   16     12   \n",
       "22   2016-12-16 07:30:00      461693     1130407     7   30    4   16     12   \n",
       "23   2016-12-16 07:45:00      966694     8332089     7   45    4   16     12   \n",
       "24   2016-12-16 08:00:00     4254280    19584461     8    0    4   16     12   \n",
       "25   2016-12-16 08:15:00    15126970   220959703     8   15    4   16     12   \n",
       "26   2016-12-16 08:30:00     7231572    50407880     8   30    4   16     12   \n",
       "27   2016-12-16 08:45:00     6429913    55643137     8   45    4   16     12   \n",
       "28   2016-12-16 09:00:00    13734450   178195874     9    0    4   16     12   \n",
       "29   2016-12-16 09:15:00    20046353   155641559     9   15    4   16     12   \n",
       "...                  ...         ...         ...   ...  ...  ...  ...    ...   \n",
       "2555 2017-01-11 16:45:00    11832418    35555070    16   45    2   11      1   \n",
       "2556 2017-01-11 17:00:00    10905288    18550112    17    0    2   11      1   \n",
       "2557 2017-01-11 17:15:00     1692203     4273222    17   15    2   11      1   \n",
       "2558 2017-01-11 17:30:00     1042201     9153333    17   30    2   11      1   \n",
       "2559 2017-01-11 17:45:00      740077    11432444    17   45    2   11      1   \n",
       "2560 2017-01-11 18:00:00      373321     1321659    18    0    2   11      1   \n",
       "2561 2017-01-11 18:15:00      261174      502473    18   15    2   11      1   \n",
       "2562 2017-01-11 18:30:00      593792     1153430    18   30    2   11      1   \n",
       "2563 2017-01-11 18:45:00      174000     1381704    18   45    2   11      1   \n",
       "2564 2017-01-11 19:00:00      158071      168991    19    0    2   11      1   \n",
       "2565 2017-01-11 19:15:00      353883      743241    19   15    2   11      1   \n",
       "2566 2017-01-11 19:30:00      329653      459999    19   30    2   11      1   \n",
       "2567 2017-01-11 19:45:00       60219       71663    19   45    2   11      1   \n",
       "2568 2017-01-11 20:00:00       96527      103608    20    0    2   11      1   \n",
       "2569 2017-01-11 20:15:00       74980      175699    20   15    2   11      1   \n",
       "2570 2017-01-11 20:30:00       34373       10858    20   30    2   11      1   \n",
       "2571 2017-01-11 20:45:00       91974      116450    20   45    2   11      1   \n",
       "2572 2017-01-11 21:00:00       43600       44485    21    0    2   11      1   \n",
       "2573 2017-01-11 21:15:00       30845        5881    21   15    2   11      1   \n",
       "2574 2017-01-11 21:30:00       41352       57081    21   30    2   11      1   \n",
       "2575 2017-01-11 21:45:00       43112       19792    21   45    2   11      1   \n",
       "2576 2017-01-11 22:00:00       70155      116361    22    0    2   11      1   \n",
       "2577 2017-01-11 22:15:00       42703       45905    22   15    2   11      1   \n",
       "2578 2017-01-11 22:30:00       39356       32032    22   30    2   11      1   \n",
       "2579 2017-01-11 22:45:00       32044        9914    22   45    2   11      1   \n",
       "2580 2017-01-11 23:00:00       32421       10918    23    0    2   11      1   \n",
       "2581 2017-01-11 23:15:00       43273       15096    23   15    2   11      1   \n",
       "2582 2017-01-11 23:30:00       46403       80250    23   30    2   11      1   \n",
       "2583 2017-01-11 23:45:00       32607       10760    23   45    2   11      1   \n",
       "2584 2017-01-12 00:00:00       14348        2050     0    0    3   12      1   \n",
       "\n",
       "         traffic  \n",
       "0       0.035137  \n",
       "1       0.034611  \n",
       "2       0.277132  \n",
       "3       0.065699  \n",
       "4      17.971087  \n",
       "5      11.886198  \n",
       "6       0.010537  \n",
       "7       0.005655  \n",
       "8       0.031271  \n",
       "9       0.161885  \n",
       "10      0.016254  \n",
       "11      0.005594  \n",
       "12      0.028316  \n",
       "13      0.005594  \n",
       "14      0.051217  \n",
       "15      1.011887  \n",
       "16      0.264813  \n",
       "17      0.010381  \n",
       "18      0.049698  \n",
       "19     16.893064  \n",
       "20     10.866433  \n",
       "21     11.492134  \n",
       "22      1.518345  \n",
       "23      8.868011  \n",
       "24     22.734395  \n",
       "25    225.149796  \n",
       "26     54.969265  \n",
       "27     59.197474  \n",
       "28    183.039021  \n",
       "29    167.549049  \n",
       "...          ...  \n",
       "2555   45.192230  \n",
       "2556   28.090858  \n",
       "2557    5.689073  \n",
       "2558    9.723219  \n",
       "2559   11.608621  \n",
       "2560    1.616459  \n",
       "2561    0.728271  \n",
       "2562    1.666281  \n",
       "2563    1.483635  \n",
       "2564    0.311911  \n",
       "2565    1.046299  \n",
       "2566    0.753071  \n",
       "2567    0.125772  \n",
       "2568    0.190864  \n",
       "2569    0.239066  \n",
       "2570    0.043136  \n",
       "2571    0.198769  \n",
       "2572    0.084004  \n",
       "2573    0.035025  \n",
       "2574    0.093873  \n",
       "2575    0.059990  \n",
       "2576    0.177876  \n",
       "2577    0.084503  \n",
       "2578    0.068081  \n",
       "2579    0.040014  \n",
       "2580    0.041331  \n",
       "2581    0.055665  \n",
       "2582    0.120786  \n",
       "2583    0.041358  \n",
       "2584    0.015638  \n",
       "\n",
       "[2585 rows x 9 columns]"
      ]
     },
     "execution_count": 111,
     "metadata": {},
     "output_type": "execute_result"
    }
   ],
   "source": [
    "forecast_data_2"
   ]
  },
  {
   "cell_type": "code",
   "execution_count": 132,
   "metadata": {
    "collapsed": true
   },
   "outputs": [],
   "source": [
    "f = open('forecastdata.p','wb')\n",
    "pickle.dump(forecast_data_2,f)\n",
    "f.close()"
   ]
  },
  {
   "cell_type": "code",
   "execution_count": 3,
   "metadata": {
    "collapsed": true
   },
   "outputs": [],
   "source": [
    "forecast_data_2 = pickle.load(open('forecastdata.p','rb'))"
   ]
  },
  {
   "cell_type": "code",
   "execution_count": 4,
   "metadata": {
    "collapsed": false
   },
   "outputs": [
    {
     "data": {
      "text/plain": [
       "<matplotlib.axes._subplots.AxesSubplot at 0x1f3be3b49b0>"
      ]
     },
     "execution_count": 4,
     "metadata": {},
     "output_type": "execute_result"
    },
    {
     "data": {
      "image/png": "[encoded data removed]",
      "text/plain": [
       "<matplotlib.figure.Figure at 0x1f3be3b4eb8>"
      ]
     },
     "metadata": {},
     "output_type": "display_data"
    }
   ],
   "source": [
    "forecast_data_2.set_index('update_time15')['traffic'].plot(kind='line',figsize=(12,6))"
   ]
  },
  {
   "cell_type": "code",
   "execution_count": 31,
   "metadata": {
    "collapsed": false
   },
   "outputs": [],
   "source": [
    "forecast_data_2.drop('month',axis=1,inplace=True)"
   ]
  },
  {
   "cell_type": "code",
   "execution_count": 32,
   "metadata": {
    "collapsed": false
   },
   "outputs": [],
   "source": [
    "traindata = forecast_data_2[forecast_data_2.update_time15<=datetime.datetime(2017,1,6,0,0,0)]\n",
    "testdata = forecast_data_2[forecast_data_2.update_time15>datetime.datetime(2017,1,6,0,0,0)]"
   ]
  },
  {
   "cell_type": "code",
   "execution_count": 33,
   "metadata": {
    "collapsed": true
   },
   "outputs": [],
   "source": [
    "X_train = np.array(traindata[traindata.columns.values[3:-1]])\n",
    "X_test = np.array(testdata[traindata.columns.values[3:-1]])\n",
    "y_train = np.array(traindata[traindata.columns.values[-1]])\n",
    "y_test = np.array(testdata[traindata.columns.values[-1]])"
   ]
  },
  {
   "cell_type": "code",
   "execution_count": 34,
   "metadata": {
    "collapsed": false
   },
   "outputs": [
    {
     "name": "stdout",
     "output_type": "stream",
     "text": [
      "(2009, 4) (2009,) (576, 4) (576,)\n"
     ]
    }
   ],
   "source": [
    "print(X_train.shape,y_train.shape ,X_test.shape,y_test.shape)"
   ]
  },
  {
   "cell_type": "code",
   "execution_count": 35,
   "metadata": {
    "collapsed": false
   },
   "outputs": [],
   "source": [
    "# y_test.T"
   ]
  },
  {
   "cell_type": "code",
   "execution_count": 36,
   "metadata": {
    "collapsed": true
   },
   "outputs": [],
   "source": [
    "import tpot\n",
    "from tpot import TPOTRegressor"
   ]
  },
  {
   "cell_type": "code",
   "execution_count": 11,
   "metadata": {
    "collapsed": true
   },
   "outputs": [],
   "source": [
    "def MAP_error(y_true, y_pred):\n",
    "    return float(sum(np.abs((y_pred - y_true)/y_true))) / len(y_true)"
   ]
  },
  {
   "cell_type": "code",
   "execution_count": 38,
   "metadata": {
    "collapsed": false
   },
   "outputs": [
    {
     "name": "stderr",
     "output_type": "stream",
     "text": []
    },
    {
     "name": "stdout",
     "output_type": "stream",
     "text": [
      "Generation 1 - Current best internal CV score: 23003.89381066155\n"
     ]
    },
    {
     "name": "stderr",
     "output_type": "stream",
     "text": []
    },
    {
     "name": "stdout",
     "output_type": "stream",
     "text": [
      "Timeout during evaluation of pipeline #65. Skipping to the next pipeline.\n"
     ]
    },
    {
     "name": "stderr",
     "output_type": "stream",
     "text": []
    },
    {
     "name": "stdout",
     "output_type": "stream",
     "text": [
      "Timeout during evaluation of pipeline #73. Skipping to the next pipeline.\n"
     ]
    },
    {
     "name": "stderr",
     "output_type": "stream",
     "text": []
    },
    {
     "name": "stdout",
     "output_type": "stream",
     "text": [
      "Generation 2 - Current best internal CV score: 23003.89381066155\n"
     ]
    },
    {
     "name": "stderr",
     "output_type": "stream",
     "text": []
    },
    {
     "name": "stdout",
     "output_type": "stream",
     "text": [
      "Generation 3 - Current best internal CV score: 20489.737335459984\n"
     ]
    },
    {
     "name": "stderr",
     "output_type": "stream",
     "text": []
    },
    {
     "name": "stdout",
     "output_type": "stream",
     "text": [
      "Generation 4 - Current best internal CV score: 20489.737335459984\n"
     ]
    },
    {
     "name": "stderr",
     "output_type": "stream",
     "text": []
    },
    {
     "name": "stdout",
     "output_type": "stream",
     "text": [
      "Generation 5 - Current best internal CV score: 20489.737335459984\n"
     ]
    },
    {
     "name": "stderr",
     "output_type": "stream",
     "text": []
    },
    {
     "name": "stdout",
     "output_type": "stream",
     "text": [
      "Generation 6 - Current best internal CV score: 20489.737335459984\n"
     ]
    },
    {
     "name": "stderr",
     "output_type": "stream",
     "text": []
    },
    {
     "name": "stdout",
     "output_type": "stream",
     "text": [
      "Generation 7 - Current best internal CV score: 20489.737335459984\n"
     ]
    },
    {
     "name": "stderr",
     "output_type": "stream",
     "text": []
    },
    {
     "name": "stdout",
     "output_type": "stream",
     "text": [
      "Generation 8 - Current best internal CV score: 20413.91916707636\n"
     ]
    },
    {
     "name": "stderr",
     "output_type": "stream",
     "text": []
    },
    {
     "name": "stdout",
     "output_type": "stream",
     "text": [
      "Generation 9 - Current best internal CV score: 20413.91916707636\n"
     ]
    },
    {
     "name": "stderr",
     "output_type": "stream",
     "text": []
    },
    {
     "name": "stdout",
     "output_type": "stream",
     "text": [
      "Generation 10 - Current best internal CV score: 20340.74287052705\n"
     ]
    },
    {
     "name": "stderr",
     "output_type": "stream",
     "text": []
    },
    {
     "name": "stdout",
     "output_type": "stream",
     "text": [
      "\n",
      "Best pipeline: ExtraTreesRegressor(VarianceThreshold(ElasticNet(input_matrix, 42.0, 0.83999999999999997), 26.0), 0.69000000000000006)\n"
     ]
    }
   ],
   "source": [
    "regr = TPOTRegressor(generations=10,population_size=50,verbosity=2,num_cv_folds=5,scoring='mean_squared_error')\n",
    "regr.fit(X_train,y_train)"
   ]
  },
  {
   "cell_type": "code",
   "execution_count": 44,
   "metadata": {
    "collapsed": false
   },
   "outputs": [],
   "source": [
    "regr.export('goodtpotmodel.py')"
   ]
  },
  {
   "cell_type": "code",
   "execution_count": null,
   "metadata": {
    "collapsed": true
   },
   "outputs": [],
   "source": [
    "Best pipeline: GradientBoostingRegressor(KNeighborsRegressor(GradientBoostingRegressor(ExtraTreesRegressor(input_matrix, 0.70000000000000007), 0.10000000000000001, 0.0001), 28, 35), 23.0, 14.0)\n",
    "Best pipeline: ExtraTreesRegressor(VarianceThreshold(ElasticNet(input_matrix, 42.0, 0.83999999999999997), 26.0), 0.69000000000000006)"
   ]
  },
  {
   "cell_type": "code",
   "execution_count": 39,
   "metadata": {
    "collapsed": false
   },
   "outputs": [
    {
     "name": "stdout",
     "output_type": "stream",
     "text": [
      "[  3.14337931e-01   5.51523808e-01   5.87071283e-01   1.92936129e-01\n",
      "   1.46132858e+00   6.28098297e-01   9.38130825e-01   1.04258474e+00\n",
      "   1.49912968e+00   7.19318751e-01   1.90309418e-01   6.05958120e+00\n",
      "   5.00272460e+00   1.35524475e+00   5.17925270e-01   3.01628326e-01\n",
      "   1.59411186e-01   1.87203520e-01   1.96920187e-01   1.75394260e-01\n",
      "   2.63607685e-01   2.71685883e-01   1.37696044e+00   3.58333879e+00\n",
      "   1.01840509e+00   4.33111427e-01   5.64893219e+00   2.05705691e+01\n",
      "   2.22786347e+01   3.64637771e+01   3.42230113e+01   5.26706917e+01\n",
      "   1.40595698e+02   7.10849612e+01   8.96026164e+01   1.19958590e+02\n",
      "   2.01907849e+02   1.29380563e+02   3.06443056e+02   1.23324193e+02\n",
      "   1.94606621e+02   2.38021052e+02   2.39762824e+02   3.21792029e+02\n",
      "   4.80803818e+02   2.36643891e+02   4.43685428e+02   1.35613492e+02\n",
      "   9.32709361e+01   6.48904785e+01   8.34391453e+01   1.09907562e+02\n",
      "   1.19825345e+02   7.83391207e+01   1.25301341e+02   1.25847075e+02\n",
      "   1.86560730e+02   9.99992032e+01   1.50737034e+02   1.19808034e+02\n",
      "   2.49742759e+02   1.32091236e+02   4.07739654e+02   1.09412409e+02\n",
      "   2.03960658e+02   9.86568821e+01   2.22526122e+02   2.21139915e+02\n",
      "   7.66215982e+01   3.92745087e+01   4.65779860e+01   5.09232042e+01\n",
      "   5.35008833e+01   1.46887416e+01   2.65051793e+01   3.46165524e+01\n",
      "   4.31581618e+01   1.21004279e+01   2.20242498e+01   3.19680779e+01\n",
      "   2.76575496e+01   1.33762288e+01   1.83972943e+01   2.26128237e+01\n",
      "   1.74624135e+01   1.09432742e+01   1.77902993e+01   1.29731972e+01\n",
      "   1.37781262e+01   6.36966879e+00   1.54393236e+01   8.03311586e+00\n",
      "   1.21190511e+01   5.82756151e+00   1.43566491e+01   6.81349678e-02\n",
      "   3.81577608e-01   1.65533039e-01   1.35088982e-01   1.72607244e-01\n",
      "   1.69361286e+00   1.88956371e-01   1.56912483e-01   1.53914745e-01\n",
      "   6.71076104e+00   1.49587802e+00   4.16107450e-01   1.12266191e+00\n",
      "   9.42513302e-01   3.86380115e+00   3.47256840e-01   3.73313177e-01\n",
      "   2.78361824e-01   8.66585197e-02   7.88709946e-02   6.04210049e-01\n",
      "   2.19443851e-01   8.23734131e-02   1.39282322e-01   1.69700205e+00\n",
      "   2.92477640e-01   2.18102571e-01   1.19538169e+00   6.67071566e+00\n",
      "   4.99917022e+00   1.40789620e+01   1.54931732e+01   1.97948487e+01\n",
      "   3.74876755e+01   1.64454931e+01   1.68003936e+01   3.57290597e+01\n",
      "   7.66529205e+01   3.31163638e+01   6.76514199e+01   2.98145234e+01\n",
      "   6.13898303e+01   6.18028659e+01   5.70971401e+01   8.40757020e+01\n",
      "   9.93349644e+01   5.63429404e+01   1.11846741e+02   5.65178494e+01\n",
      "   6.15082342e+01   3.25267834e+01   4.43500157e+01   5.27465988e+01\n",
      "   5.78694972e+01   4.02970445e+01   5.56260630e+01   6.11638735e+01\n",
      "   7.81128732e+01   4.42619137e+01   6.16413674e+01   6.60030643e+01\n",
      "   7.78064650e+01   5.07023095e+01   1.03491014e+02   5.72084261e+01\n",
      "   1.03074609e+02   4.80578939e+01   1.31225212e+02   9.91008600e+01\n",
      "   5.73215397e+01   3.49759325e+01   4.78053969e+01   4.20337564e+01\n",
      "   4.34477957e+01   2.75679389e+01   3.64790232e+01   3.39228279e+01\n",
      "   3.15761571e+01   2.42259024e+01   4.01272600e+01   2.71769730e+01\n",
      "   2.83357911e+01   2.73566062e+01   4.72739971e+01   2.16339069e+01\n",
      "   2.28692449e+01   1.49773981e+01   2.79720094e+01   1.29121398e+01\n",
      "   1.35381202e+01   8.68440267e+00   1.50537356e+01   1.19833207e+01\n",
      "   1.30884623e+01   5.89142912e+00   1.46647804e+01   7.39491310e-02\n",
      "   1.05611759e-01   8.51808472e-02   9.49516716e-02   2.09096357e-01\n",
      "   1.78960175e+00   1.13502827e-01   1.09665468e-01   4.80034004e-01\n",
      "   9.99865729e+00   5.25448561e-01   5.32030386e-01   5.01815901e-01\n",
      "   1.94993946e+00   7.22926443e-01   1.77588888e-01   3.02365541e-01\n",
      "   3.69075186e-01   1.59322544e-01   1.14443476e-01   2.22224024e-01\n",
      "   3.00157808e-01   1.92136271e-01   1.18772572e-01   8.45306086e-01\n",
      "   3.62166779e-01   2.07607885e-01   5.98407974e-01   3.21282702e+00\n",
      "   2.97051910e+00   6.45460855e+00   7.72314185e+00   8.95945965e+00\n",
      "   1.68771667e+01   6.14854450e+00   7.00985047e+00   1.53582397e+01\n",
      "   3.47802131e+01   9.10052938e+00   3.09782904e+01   1.58777602e+01\n",
      "   2.56228208e+01   2.28735853e+01   2.66373612e+01   4.81317633e+01\n",
      "   4.91471864e+01   2.27530557e+01   4.50153680e+01   2.69434047e+01\n",
      "   3.68071682e+01   1.52626859e+01   2.22162931e+01   2.51557193e+01\n",
      "   2.64131223e+01   1.45275961e+01   2.56593871e+01   2.56230890e+01\n",
      "   3.39270670e+01   1.53560926e+01   1.91706761e+01   3.71170888e+01\n",
      "   3.13942385e+01   1.81404996e+01   3.64281031e+01   3.02305439e+01\n",
      "   5.12816441e+01   2.27962739e+01   4.68510583e+01   4.70983105e+01\n",
      "   2.60259369e+01   1.26519972e+01   1.57513470e+01   1.83737950e+01\n",
      "   2.07778226e+01   7.69589893e+00   1.01054579e+01   1.37537349e+01\n",
      "   1.16412335e+01   7.78922327e+00   9.85001339e+00   1.14571417e+01\n",
      "   1.33049244e+01   2.39894978e+01   1.34227852e+01   8.79817611e+00\n",
      "   6.30807339e+00   6.93164549e+00   9.96838386e+00   6.85565239e+00\n",
      "   6.27649271e+00   5.08405764e+00   7.53267568e+00   5.61876263e+00\n",
      "   4.78607416e+00   4.28837412e+00   7.38497618e+00   3.55013876e+00\n",
      "   4.32270137e+00   4.69062014e+00   6.74802410e+00   4.43326903e+00\n",
      "   5.90494509e+00   8.88453220e+00   6.53548273e+00   6.34523882e+00\n",
      "   6.73289967e+00   8.57211985e+00   8.49524138e+00   8.42226594e+00\n",
      "   9.25175558e+00   1.73392032e+01   9.51702900e+00   8.55222918e+00\n",
      "   9.71279488e+00   1.13149851e+01   1.46755957e+01   1.44294309e+01\n",
      "   2.23728348e+01   2.86641415e+01   2.03949697e+01   2.01007900e+01\n",
      "   2.08733073e+01   2.65676903e+01   3.31554949e+01   3.02206264e+01\n",
      "   3.01284603e+01   4.16715523e+01   6.53141738e+01   9.49540735e+01\n",
      "   8.53192322e+01   8.42769974e+01   2.00996553e+02   1.03356587e+02\n",
      "   1.12146473e+02   1.70590936e+02   1.44756764e+02   1.13043447e+02\n",
      "   1.13563017e+02   8.72693208e+01   1.23503701e+02   1.80328779e+02\n",
      "   1.88807300e+02   2.41131030e+02   3.25141275e+02   2.26479500e+02\n",
      "   2.87993317e+02   3.45504153e+02   2.22303308e+02   2.82930768e+02\n",
      "   2.66698309e+02   6.90105116e+02   2.21052736e+02   1.74621567e+02\n",
      "   1.35928654e+02   1.68383455e+02   2.08212758e+02   1.36481316e+02\n",
      "   2.20113046e+02   3.32786867e+02   4.85063394e+02   1.44576236e+02\n",
      "   2.49969270e+02   1.22286102e+02   9.39355061e+01   1.69393584e+02\n",
      "   2.42235950e+01   1.26712611e+01   8.56672583e+00   2.97647587e+00\n",
      "   9.14976803e+00   5.27328953e+00   1.21213441e+00   4.46948561e-01\n",
      "   8.79540489e-01   2.55904093e-01   2.48512953e-01   2.35299519e-01\n",
      "   1.27320648e-01   9.30168076e-02   1.34602831e-01   6.04156494e-01\n",
      "   1.20826843e-01   7.38480555e-02   7.42556674e-02   8.92041645e-02\n",
      "   3.85068361e-01   6.77500687e-02   7.45402298e-02   1.60618334e-01\n",
      "   2.04749561e-01   8.18567390e-02   6.16233921e-02   3.52694709e+00\n",
      "   4.02775740e+00   3.61857832e+00   2.47817170e+00   4.56808985e+00\n",
      "   6.57753603e+00   4.47564125e+00   6.41259326e+00   5.19946847e+00\n",
      "   9.79003599e+00   5.97465534e+00   9.05326474e+00   6.67818539e+00\n",
      "   1.13632219e+01   1.44970247e+01   8.07019716e+00   7.47483231e+00\n",
      "   1.55361561e+01   1.66377970e+01   1.23830627e+01   1.48504239e+01\n",
      "   1.64583484e+01   1.31037702e+01   1.59317586e+01   1.82873972e+01\n",
      "   2.12342501e+01   1.96390576e+01   2.83810960e+01   3.38812886e+01\n",
      "   3.28039442e+01   4.24638440e+01   4.75440300e+01   1.05839390e+02\n",
      "   1.15356892e+02   1.16566310e+02   1.02946623e+02   8.10534183e+01\n",
      "   1.00684949e+02   1.25437610e+02   1.57902693e+02   1.33042998e+02\n",
      "   1.20657747e+02   9.63872249e+01   2.11510180e+02   1.56236454e+02\n",
      "   1.83434793e+02   2.55986038e+02   4.11539166e+02   1.64061984e+02\n",
      "   2.24661821e+02   1.26857602e+02   1.16010442e+02   1.58622879e+02\n",
      "   2.75912601e+02   2.02380671e+02   1.51004879e+02   1.21327029e+02\n",
      "   1.53429200e+02   1.39350170e+02   1.77783966e+02   1.92316100e+02\n",
      "   3.24955763e+02   3.60964520e+02   6.03162817e+02   1.78451763e+02\n",
      "   1.37133800e+02   1.43908875e+02   1.50556105e+02   1.91466883e+02\n",
      "   5.31480182e+01   2.77399954e+01   2.32882146e+01   9.23179620e+00\n",
      "   1.18323796e+01   1.19479933e+01   8.96630750e+00   5.59385275e+00\n",
      "   5.32350948e+00   8.49341047e+00   7.03415516e+00   3.23405715e+00\n",
      "   2.97812355e+00   5.34414784e+00   7.33677740e+00   4.76154239e+00\n",
      "   3.57609650e+00   1.24325032e+00   1.03068589e+01   2.47760310e+00\n",
      "   3.11083090e+00   9.05819160e-01   3.17865143e+00   2.27130908e+00\n",
      "   2.88269360e+00   8.71333349e+00   2.75060863e+00   5.61855567e+00\n",
      "   7.78921878e+00   6.63905643e+00   3.32413169e+00   5.09485997e+00\n",
      "   6.51749920e+00   8.00315399e+00   5.51092686e+00   5.95740101e+00\n",
      "   9.67988405e+00   9.11007841e+00   6.93121797e+00   7.13737645e+00\n",
      "   1.22246583e+01   1.58313411e+01   7.57643890e+00   6.82123441e+00\n",
      "   1.55432445e+01   1.25967619e+01   1.14524345e+01   1.25396344e+01\n",
      "   1.57515582e+01   1.33985943e+01   1.54835336e+01   1.77217379e+01\n",
      "   2.07480850e+01   1.63943536e+01   3.31127748e+01   4.13709302e+01\n",
      "   4.09541259e+01   4.62517708e+01   7.69752627e+01   8.39415867e+01\n",
      "   1.54110034e+02   1.16123366e+02   1.00709386e+02   7.67079139e+01\n",
      "   1.33022573e+02   1.33288155e+02   1.40937816e+02   1.41551372e+02\n",
      "   1.45801431e+02   1.14419293e+02   1.84055458e+02   1.60977449e+02\n",
      "   1.81525709e+02   1.56493653e+02   6.18538670e+02   9.65986502e+01\n",
      "   1.37428613e+02   9.08170211e+01   1.49254934e+02   1.06153899e+02\n",
      "   2.09952103e+02   1.23874296e+02   1.48420180e+02   1.25466156e+02\n",
      "   2.16624371e+02   2.45644102e+02   2.51295902e+02   2.97044193e+02\n",
      "   2.46488011e+02   1.21864469e+02   3.91548328e+02   1.14713299e+02\n",
      "   1.50859728e+02   2.12142581e+02   1.24584564e+02   4.46442712e+02\n",
      "   4.53706819e+01   2.73282768e+01   2.86343346e+01   1.86785995e+01\n",
      "   7.63191554e+00   9.33303975e+00   1.08386325e+01   4.57893445e+00\n",
      "   7.49231310e+00   4.80021091e+00   1.04799489e+01   6.27666691e+00\n",
      "   5.32889091e+00   1.66562691e+00   3.60182979e+00   6.79485846e+00\n",
      "   4.50426814e+00   1.38303437e+00   3.61396018e+00   5.75009356e+00\n",
      "   5.75631343e+00   1.03878901e+00   1.20035437e+00   1.50857912e+00\n",
      "   7.21543317e+00   1.96519474e+00   1.52649797e+00   6.39948021e+00] [  3.92322540e-02   2.68459320e-02   1.81474686e-02   2.47440338e-02\n",
      "   4.18881321e+00   4.49066162e-02   2.22015381e-02   7.00674057e-02\n",
      "   3.40185165e-02   1.62477493e-02   1.84535980e-02   2.60829926e-02\n",
      "   3.76453400e-02   1.69563293e-02   1.68476105e-02   3.32117081e-02\n",
      "   8.69560242e-02   1.64880753e-02   4.04214859e-02   2.94904709e-02\n",
      "   4.64620590e-02   1.67818069e-02   1.39220238e-01   4.24394608e-02\n",
      "   1.73778534e-02   2.29482651e-02   2.31161118e-02   3.12461853e-02\n",
      "   5.26971817e-02   3.20749283e-02   6.14500046e-02   4.96177673e-02\n",
      "   1.65300369e-02   5.38244247e-02   7.18985558e-01   1.01450825e+00\n",
      "   3.53817940e-01   1.63316727e-02   8.82358551e-02   4.61330414e-02\n",
      "   3.70823860e-01   5.99479675e-02   3.16704750e-01   2.19746580e+01\n",
      "   2.11741638e+00   1.89717550e+01   9.52209759e+00   1.61332417e+01\n",
      "   3.36708641e+00   3.03212070e+00   3.36139679e+00   3.45445633e+00\n",
      "   1.01266380e+02   1.04072161e+01   5.72162113e+01   1.94929790e+01\n",
      "   1.38004308e+02   9.26325417e+00   1.08330441e+00   1.38019276e+00\n",
      "   1.59295855e+01   1.40916071e+01   3.43921566e+00   4.33681870e+00\n",
      "   4.44775581e+00   9.83462238e+00   2.30785942e+00   3.26125622e+00\n",
      "   6.70777702e+00   1.05462093e+01   1.80967808e+00   3.53995895e+00\n",
      "   2.37769127e+00   1.20525265e+00   3.58704564e+02   1.03209496e-01\n",
      "   8.51964951e-02   1.62296295e-02   2.92072296e-02   5.34839630e-02\n",
      "   1.68218613e-02   1.64852142e-02   1.81312561e-02   2.82430649e-02\n",
      "   1.62477493e-02   1.65529251e-02   1.14929199e-01   4.22258377e-02\n",
      "   9.30643082e-02   1.61342621e-02   3.26271057e-02   1.65100098e-02\n",
      "   3.74088287e-02   2.25181580e-02   1.86367035e-02   3.24773788e-02\n",
      "   3.00455093e-02   1.71670914e-02   1.84211731e-02   1.79100037e-02\n",
      "   2.82619572e+00   1.72395706e-02   2.63843536e-02   1.61234856e-01\n",
      "   1.13428116e-01   2.71873474e-02   5.63488007e-02   4.49304581e-02\n",
      "   2.76517868e-02   1.61828995e-02   1.81045532e-02   3.30142975e-02\n",
      "   9.08098221e-02   1.70516968e-02   2.52676010e-02   4.02565002e-02\n",
      "   1.64995193e-02   3.33471298e-02   1.84001923e-02   3.24153900e-02\n",
      "   2.73523331e-02   1.60503387e-02   1.97620392e-02   1.67999268e-02\n",
      "   7.78617859e-02   2.83727646e-02   8.40711594e-02   3.36141586e-02\n",
      "   1.06765461e+01   4.34541702e-02   2.39471436e-01   1.05983734e-01\n",
      "   7.34056473e-01   1.06048250e+01   1.47613325e+01   1.27033234e-01\n",
      "   2.77684212e-01   3.79981804e+00   5.90639114e-02   2.33361998e+01\n",
      "   3.78811836e-01   7.73248672e-02   8.59775543e-02   1.11910820e-01\n",
      "   1.26657486e-01   4.20179367e-02   9.10758972e-02   3.59344482e-02\n",
      "   2.64870644e-01   1.23312950e-01   5.41162491e-02   1.74102783e-01\n",
      "   3.17583084e-01   3.12404633e-02   1.05546951e-01   9.82408714e+00\n",
      "   9.40580368e-02   1.55416489e-01   1.37012100e+00   2.02986145e+00\n",
      "   8.66093636e-01   1.65529251e-02   1.89285278e-02   3.93676758e-02\n",
      "   3.13720703e-02   1.58154488e-01   2.25658417e-02   3.92351151e-02\n",
      "   2.60133743e-02   4.41312790e-02   1.81016922e-02   1.78489685e-02\n",
      "   4.49361801e-02   4.22706604e-02   2.72655487e-02   3.33032608e-02\n",
      "   4.62265015e-02   1.31776934e+01   1.87034607e-02   2.57654190e-02\n",
      "   1.61307335e-01   1.71356201e-02   3.26881409e-02   3.37905884e-02\n",
      "   9.81597900e-02   1.70021057e-02   1.07661247e-01   7.75442123e-02\n",
      "   4.13599014e-02   2.86359787e-02   2.00986862e-02   6.35337830e-02\n",
      "   1.76076889e-02   1.58967972e-02   1.83076859e-02   2.50473022e-02\n",
      "   1.69542599e+00   4.70752716e-02   4.03680801e-02   3.32937241e-02\n",
      "   1.61867142e-02   2.70748138e-02   1.88064575e-02   1.80864334e-02\n",
      "   2.40850449e-02   3.84855270e-02   9.12580490e-02   3.21388245e-02\n",
      "   1.14801407e-01   2.00061798e-02   3.35043907e-01   1.87568665e-02\n",
      "   4.93984222e-02   7.79857635e-02   2.94504166e-02   3.21388245e-02\n",
      "   2.49938965e-02   1.61867142e-02   3.71170044e-02   4.05473709e-02\n",
      "   1.37511063e+00   4.49113846e-02   6.47621155e-02   3.74460220e-02\n",
      "   1.58967972e-02   3.64141464e-02   3.61509323e-02   1.79462433e-02\n",
      "   1.60417557e-02   3.64522934e-02   1.64136887e-02   3.90472412e-02\n",
      "   8.82072449e-02   5.00564575e-01   2.90412903e-02   1.42522936e+01\n",
      "   1.32065773e-01   1.22967234e+01   2.91970158e+00   1.26865683e+01\n",
      "   1.90709019e+00   1.46527672e+00   4.79549885e+00   5.67451639e+01\n",
      "   1.40392113e+01   2.72832870e+00   5.90829153e+01   2.86880589e+00\n",
      "   4.26935196e+00   3.74724770e+00   9.09686089e+00   5.61104012e+00\n",
      "   6.02166157e+01   9.21974754e+00   2.19573402e+00   1.60356760e+01\n",
      "   3.31745338e+00   2.75980377e+00   2.10102682e+01   5.81952124e+01\n",
      "   1.40517225e+01   9.22428608e+00   1.31123142e+01   2.49612808e+00\n",
      "   1.35271902e+01   1.12282237e+02   3.08290768e+00   1.75785923e+00\n",
      "   1.54639530e+00   8.21964588e+01   1.75289440e+00   4.11809444e+00\n",
      "   1.86703777e+00   3.10430431e+00   5.09974957e+00   1.35190773e+00\n",
      "   4.91237736e+00   2.03047657e+00   2.11015987e+00   2.55856729e+02\n",
      "   9.60407257e-02   1.68457031e-02   2.29005814e-02   2.65607834e-02\n",
      "   2.75754929e-02   3.89328003e-02   1.48339272e-01   4.06932831e-02\n",
      "   2.73122787e-02   2.96812057e-02   4.46147919e-02   1.77288055e-02\n",
      "   9.66535568e-01   6.18696213e-02   2.63214111e-02   3.81908417e-02\n",
      "   9.23776627e-02   2.29244232e-02   1.70564651e-02   4.20427322e-02\n",
      "   4.86669540e-02   1.60188675e-02   1.84240341e-02   3.30600739e-02\n",
      "   7.30638504e-02   3.72190475e-02   5.62381744e-02   2.75897980e-02\n",
      "   1.58567429e-02   4.97236252e-02   4.39214706e-02   5.05695343e-02\n",
      "   1.64899826e-02   4.48122025e-02   4.67162132e-01   1.26132011e+00\n",
      "   1.08428831e+01   5.37973938e+01   6.35442362e+01   1.03832026e+02\n",
      "   5.11665163e+01   1.08185936e+02   3.99170429e+02   1.13961163e+02\n",
      "   9.75537395e+01   1.14639756e+02   9.66687222e+01   5.86703434e+01\n",
      "   4.36726990e+01   1.87985637e+02   8.46233873e+01   1.69835701e+02\n",
      "   3.68973949e+02   2.69449263e+02   1.67972221e+02   1.88194331e+02\n",
      "   8.44145432e+01   2.10153852e+02   8.21212187e+01   1.80334983e+02\n",
      "   7.78327643e+02   3.63969094e+02   1.37494536e+02   1.89098570e+02\n",
      "   1.99527349e+03   4.74920988e+01   1.73399400e+02   9.45231829e+01\n",
      "   2.46708966e+02   1.01323909e+02   3.58556698e+02   3.45066335e+03\n",
      "   1.78873521e+02   2.07447271e+03   2.41774405e+02   7.18791800e+01\n",
      "   1.19138184e+01   1.42901497e+01   3.90875015e+01   8.43148327e+00\n",
      "   9.30954742e+00   2.42433357e+00   7.23866749e+00   4.01748495e+01\n",
      "   1.32439480e+01   2.13982859e+01   3.13712597e+00   2.30504608e+00\n",
      "   1.40563364e+01   7.65886364e+01   4.31709290e-02   2.31133461e-01\n",
      "   4.19950485e-02   2.42767334e-02   1.68011665e-01   4.69207764e-02\n",
      "   3.75995636e-02   2.87914276e-02   3.09991837e-02   2.60677338e-02\n",
      "   3.27167511e-02   3.39555740e-02   4.67863083e-02   2.86893845e-02\n",
      "   2.37684250e-02   3.38697433e-02   2.84118652e-02   1.09624863e-01\n",
      "   1.05222607e+00   3.39355469e-02   3.67965698e-02   2.55060196e-02\n",
      "   1.44023895e-01   6.41365051e-02   5.97658157e-02   3.77264023e-02\n",
      "   8.64295959e-02   3.46336365e-02   2.42586136e-02   2.57873535e-02\n",
      "   2.52056122e-02   1.13204956e-01   1.71742439e-01   6.84232712e-02\n",
      "   4.48474884e-02   4.17699814e-02   3.65390778e-02   3.03678131e+00\n",
      "   2.23899841e-01   4.54615593e+00   4.14444065e+00   2.04300117e+00\n",
      "   2.58038830e+02   1.04836356e+02   1.49933262e+01   2.22018988e+02\n",
      "   2.79554607e+02   1.24099767e+02   5.72792632e+02   2.73877594e+02\n",
      "   5.06786875e+02   1.29089421e+02   2.14657655e+02   3.51584610e+02\n",
      "   2.67158463e+02   1.21422962e+02   3.00224625e+02   3.09274185e+02\n",
      "   3.07406027e+02   5.77851695e+02   5.11735067e+02   1.00739221e+02\n",
      "   1.16538276e+02   1.06833382e+02   1.39659565e+02   5.45509291e+01\n",
      "   2.73278265e+01   1.35853095e+02   6.46541672e+01   8.75896492e+01\n",
      "   6.57601735e+02   5.51588583e+02   2.88922043e+02   1.71993586e+02\n",
      "   1.10538329e+02   4.21829319e+01   5.65165024e+01   1.64246444e+02\n",
      "   9.70433023e+02   2.77947426e+00   4.90803081e+02   4.55051961e+02\n",
      "   1.21672018e+02   4.79466066e+01   2.84917479e+01   2.54345798e+00\n",
      "   5.79243660e-01   5.41697502e-01   8.09584618e-01   2.77361870e-01\n",
      "   2.76333809e-01   2.63878822e-01   5.23307800e-01   3.45156670e-01\n",
      "   4.04014587e-01   2.15371132e-01   9.67960358e-02   3.96080017e-02\n",
      "   3.78170013e-02   9.62285995e-02   2.24523544e-02   2.34727859e-02\n",
      "   3.61824036e-02   4.75358963e-02   3.01465988e-02   2.60934830e-02\n",
      "   3.26299667e-02   5.66396713e-02   5.42058945e-02   2.86035538e-02\n",
      "   2.43282318e-02   3.40185165e-02   2.42223740e-02   3.12690735e-02\n",
      "   3.11291504e+00   6.60772324e-02   2.53643036e-01   2.60276852e+01\n",
      "   9.67322350e-01   4.56056595e-02   2.42109299e-02   2.44979858e-02\n",
      "   1.82119522e+01   2.48500824e-01   2.32620239e-02   3.10916901e-02\n",
      "   2.12593079e-02   6.35280609e-02   2.44827271e-02   1.20619774e-01\n",
      "   2.54812241e-02   5.73968887e-02   2.25992203e-02   2.09747314e-01\n",
      "   3.42797279e-01   2.67768669e+00   2.83545456e+01   7.80650425e+00\n",
      "   8.17024612e+00   2.41945562e+01   8.88703384e+01   1.12217470e+02\n",
      "   1.43179846e+02   8.88093301e+02   1.16849433e+02   2.60878810e+02\n",
      "   9.73145550e+02   1.13527699e+02   2.68417381e+02   1.31059510e+02\n",
      "   8.50740261e+01   1.75540063e+02   6.45840021e+02   4.80697498e+02\n",
      "   3.00524698e+02   4.90941820e+01   2.37472763e+01   6.15183029e+01\n",
      "   8.79006109e+01   1.86897438e+02   7.36858931e+01   3.70307623e+02\n",
      "   1.59149073e+02   3.48548824e+03   6.92583075e+01   1.35492518e+02\n",
      "   9.59272623e+01   8.31747818e+01   1.20119573e+02   8.88303623e+01\n",
      "   6.57007790e+01   4.20154476e+01   2.44909048e+01   5.65457420e+01\n",
      "   4.71699555e+02   2.38535275e+03   4.51922302e+01   2.80908585e+01\n",
      "   5.68907261e+00   9.72321892e+00   1.16086206e+01   1.61645889e+00\n",
      "   7.28270531e-01   1.66628075e+00   1.48363495e+00   3.11910629e-01\n",
      "   1.04629898e+00   7.53070831e-01   1.25772476e-01   1.90863609e-01\n",
      "   2.39066124e-01   4.31356430e-02   1.98768616e-01   8.40044022e-02\n",
      "   3.50246429e-02   9.38730240e-02   5.99899292e-02   1.77875519e-01\n",
      "   8.45031738e-02   6.80809021e-02   4.00142670e-02   4.13312912e-02\n",
      "   5.56650162e-02   1.20785713e-01   4.13579941e-02   1.56383514e-02]\n"
     ]
    }
   ],
   "source": [
    "print(regr.predict(X_test),y_test)"
   ]
  },
  {
   "cell_type": "code",
   "execution_count": 24,
   "metadata": {
    "collapsed": false
   },
   "outputs": [
    {
     "data": {
      "text/plain": [
       "1.4246412497033374"
      ]
     },
     "execution_count": 24,
     "metadata": {},
     "output_type": "execute_result"
    }
   ],
   "source": [
    "sum(np.abs(regr.predict(X_test)-y_test)/y_test)/len(y_test)"
   ]
  },
  {
   "cell_type": "code",
   "execution_count": 40,
   "metadata": {
    "collapsed": false
   },
   "outputs": [
    {
     "data": {
      "image/png": "[encoded data removed]",
      "text/plain": [
       "<matplotlib.figure.Figure at 0x1f3be448358>"
      ]
     },
     "metadata": {},
     "output_type": "display_data"
    }
   ],
   "source": [
    "X_all = np.concatenate((X_train,X_test))\n",
    "y_all = np.concatenate((y_train,y_test))\n",
    "\n",
    "fig, ax = plt.subplots(nrows=2,figsize=(12,6))\n",
    "ax[0].plot(np.array(forecast_data_2.update_time15),regr.predict(X_all),'r--',linewidth=1)\n",
    "ax[1].plot(np.array(forecast_data_2.update_time15),y_all,'b',linewidth=1)\n",
    "plt.show()\n",
    "\n"
   ]
  },
  {
   "cell_type": "code",
   "execution_count": 41,
   "metadata": {
    "collapsed": false
   },
   "outputs": [
    {
     "data": {
      "image/png": "[encoded data removed]",
      "text/plain": [
       "<matplotlib.figure.Figure at 0x1f3d1bf24a8>"
      ]
     },
     "metadata": {},
     "output_type": "display_data"
    }
   ],
   "source": [
    "fig, ax = plt.subplots(figsize=(12,6))\n",
    "ax.plot(np.array(testdata.update_time15),regr.predict(X_test),'r--',linewidth=1)\n",
    "ax.plot(np.array(testdata.update_time15),y_test,'b',linewidth=1)\n",
    "plt.show()\n"
   ]
  },
  {
   "cell_type": "code",
   "execution_count": 19,
   "metadata": {
    "collapsed": false
   },
   "outputs": [
    {
     "data": {
      "image/png": "[encoded data removed]",
      "text/plain": [
       "<matplotlib.figure.Figure at 0x1f3d191cbe0>"
      ]
     },
     "metadata": {},
     "output_type": "display_data"
    }
   ],
   "source": [
    "fig, ax = plt.subplots(figsize=(12,6))\n",
    "ax.plot(np.array(testdata.update_time15),np.abs((regr.predict(X_test)-y_test)/y_test),'r--')\n",
    "plt.show()"
   ]
  },
  {
   "cell_type": "code",
   "execution_count": 96,
   "metadata": {
    "collapsed": true
   },
   "outputs": [],
   "source": [
    "from sklearn.pipeline import Pipeline\n",
    "from sklearn.ensemble import RandomForestRegressor\n"
   ]
  },
  {
   "cell_type": "code",
   "execution_count": 93,
   "metadata": {
    "collapsed": false
   },
   "outputs": [
    {
     "data": {
      "text/plain": [
       "RandomForestRegressor(bootstrap=True, criterion='mse', max_depth=None,\n",
       "           max_features='auto', max_leaf_nodes=None,\n",
       "           min_impurity_split=1e-07, min_samples_leaf=1,\n",
       "           min_samples_split=2, min_weight_fraction_leaf=0.0,\n",
       "           n_estimators=10, n_jobs=1, oob_score=False, random_state=None,\n",
       "           verbose=0, warm_start=False)"
      ]
     },
     "execution_count": 93,
     "metadata": {},
     "output_type": "execute_result"
    }
   ],
   "source": [
    "reg = Pipeline()\n",
    "reg = RandomForestRegressor()\n",
    "reg.fit(X_train,y_train)\n"
   ]
  },
  {
   "cell_type": "code",
   "execution_count": 95,
   "metadata": {
    "collapsed": false
   },
   "outputs": [
    {
     "data": {
      "text/plain": [
       "0.05140209343095814"
      ]
     },
     "execution_count": 95,
     "metadata": {},
     "output_type": "execute_result"
    }
   ],
   "source": [
    "reg.score(X_test,y_test)"
   ]
  },
  {
   "cell_type": "code",
   "execution_count": 13,
   "metadata": {
    "collapsed": false
   },
   "outputs": [
    {
     "ename": "KeyboardInterrupt",
     "evalue": "",
     "output_type": "error",
     "traceback": [
      "\u001b[0;31m---------------------------------------------------------------------------\u001b[0m",
      "\u001b[0;31mKeyboardInterrupt\u001b[0m                         Traceback (most recent call last)",
      "\u001b[0;32m<ipython-input-13-35ddcd24bd5e>\u001b[0m in \u001b[0;36m<module>\u001b[0;34m()\u001b[0m\n\u001b[0;32m----> 1\u001b[0;31m \u001b[0mforecast_data\u001b[0m\u001b[1;33m[\u001b[0m\u001b[1;34m'update_time_datetime'\u001b[0m\u001b[1;33m]\u001b[0m \u001b[1;33m=\u001b[0m \u001b[0mforecast_data\u001b[0m\u001b[1;33m.\u001b[0m\u001b[0mapply\u001b[0m\u001b[1;33m(\u001b[0m\u001b[1;32mlambda\u001b[0m \u001b[0mx\u001b[0m\u001b[1;33m:\u001b[0m \u001b[0mdatetime\u001b[0m\u001b[1;33m.\u001b[0m\u001b[0mdatetime\u001b[0m\u001b[1;33m.\u001b[0m\u001b[0mstrptime\u001b[0m\u001b[1;33m(\u001b[0m\u001b[0mx\u001b[0m\u001b[1;33m[\u001b[0m\u001b[1;34m'update_time'\u001b[0m\u001b[1;33m]\u001b[0m\u001b[1;33m,\u001b[0m\u001b[1;34m'%Y-%m-%d %H:%M:%S'\u001b[0m\u001b[1;33m)\u001b[0m\u001b[1;33m,\u001b[0m\u001b[0maxis\u001b[0m\u001b[1;33m=\u001b[0m\u001b[1;36m1\u001b[0m\u001b[1;33m)\u001b[0m\u001b[1;33m\u001b[0m\u001b[0m\n\u001b[0m",
      "\u001b[0;32mC:\\Users\\Leonard\\Anaconda3\\lib\\site-packages\\pandas\\core\\frame.py\u001b[0m in \u001b[0;36mapply\u001b[0;34m(self, func, axis, broadcast, raw, reduce, args, **kwds)\u001b[0m\n\u001b[1;32m   4161\u001b[0m                     \u001b[1;32mif\u001b[0m \u001b[0mreduce\u001b[0m \u001b[1;32mis\u001b[0m \u001b[1;32mNone\u001b[0m\u001b[1;33m:\u001b[0m\u001b[1;33m\u001b[0m\u001b[0m\n\u001b[1;32m   4162\u001b[0m                         \u001b[0mreduce\u001b[0m \u001b[1;33m=\u001b[0m \u001b[1;32mTrue\u001b[0m\u001b[1;33m\u001b[0m\u001b[0m\n\u001b[0;32m-> 4163\u001b[0;31m                     \u001b[1;32mreturn\u001b[0m \u001b[0mself\u001b[0m\u001b[1;33m.\u001b[0m\u001b[0m_apply_standard\u001b[0m\u001b[1;33m(\u001b[0m\u001b[0mf\u001b[0m\u001b[1;33m,\u001b[0m \u001b[0maxis\u001b[0m\u001b[1;33m,\u001b[0m \u001b[0mreduce\u001b[0m\u001b[1;33m=\u001b[0m\u001b[0mreduce\u001b[0m\u001b[1;33m)\u001b[0m\u001b[1;33m\u001b[0m\u001b[0m\n\u001b[0m\u001b[1;32m   4164\u001b[0m             \u001b[1;32melse\u001b[0m\u001b[1;33m:\u001b[0m\u001b[1;33m\u001b[0m\u001b[0m\n\u001b[1;32m   4165\u001b[0m                 \u001b[1;32mreturn\u001b[0m \u001b[0mself\u001b[0m\u001b[1;33m.\u001b[0m\u001b[0m_apply_broadcast\u001b[0m\u001b[1;33m(\u001b[0m\u001b[0mf\u001b[0m\u001b[1;33m,\u001b[0m \u001b[0maxis\u001b[0m\u001b[1;33m)\u001b[0m\u001b[1;33m\u001b[0m\u001b[0m\n",
      "\u001b[0;32mC:\\Users\\Leonard\\Anaconda3\\lib\\site-packages\\pandas\\core\\frame.py\u001b[0m in \u001b[0;36m_apply_standard\u001b[0;34m(self, func, axis, ignore_failures, reduce)\u001b[0m\n\u001b[1;32m   4217\u001b[0m                     \u001b[0mlabels\u001b[0m \u001b[1;33m=\u001b[0m \u001b[0mself\u001b[0m\u001b[1;33m.\u001b[0m\u001b[0m_get_agg_axis\u001b[0m\u001b[1;33m(\u001b[0m\u001b[0maxis\u001b[0m\u001b[1;33m)\u001b[0m\u001b[1;33m\u001b[0m\u001b[0m\n\u001b[1;32m   4218\u001b[0m                     result = lib.reduce(values, func, axis=axis, dummy=dummy,\n\u001b[0;32m-> 4219\u001b[0;31m                                         labels=labels)\n\u001b[0m\u001b[1;32m   4220\u001b[0m                     \u001b[1;32mreturn\u001b[0m \u001b[0mSeries\u001b[0m\u001b[1;33m(\u001b[0m\u001b[0mresult\u001b[0m\u001b[1;33m,\u001b[0m \u001b[0mindex\u001b[0m\u001b[1;33m=\u001b[0m\u001b[0mlabels\u001b[0m\u001b[1;33m)\u001b[0m\u001b[1;33m\u001b[0m\u001b[0m\n\u001b[1;32m   4221\u001b[0m                 \u001b[1;32mexcept\u001b[0m \u001b[0mException\u001b[0m\u001b[1;33m:\u001b[0m\u001b[1;33m\u001b[0m\u001b[0m\n",
      "\u001b[0;32mpandas\\src\\reduce.pyx\u001b[0m in \u001b[0;36mpandas.lib.reduce (pandas\\lib.c:45022)\u001b[0;34m()\u001b[0m\n",
      "\u001b[0;32mpandas\\src\\reduce.pyx\u001b[0m in \u001b[0;36mpandas.lib.Reducer.get_result (pandas\\lib.c:34665)\u001b[0;34m()\u001b[0m\n",
      "\u001b[0;32m<ipython-input-13-35ddcd24bd5e>\u001b[0m in \u001b[0;36m<lambda>\u001b[0;34m(x)\u001b[0m\n\u001b[0;32m----> 1\u001b[0;31m \u001b[0mforecast_data\u001b[0m\u001b[1;33m[\u001b[0m\u001b[1;34m'update_time_datetime'\u001b[0m\u001b[1;33m]\u001b[0m \u001b[1;33m=\u001b[0m \u001b[0mforecast_data\u001b[0m\u001b[1;33m.\u001b[0m\u001b[0mapply\u001b[0m\u001b[1;33m(\u001b[0m\u001b[1;32mlambda\u001b[0m \u001b[0mx\u001b[0m\u001b[1;33m:\u001b[0m \u001b[0mdatetime\u001b[0m\u001b[1;33m.\u001b[0m\u001b[0mdatetime\u001b[0m\u001b[1;33m.\u001b[0m\u001b[0mstrptime\u001b[0m\u001b[1;33m(\u001b[0m\u001b[0mx\u001b[0m\u001b[1;33m[\u001b[0m\u001b[1;34m'update_time'\u001b[0m\u001b[1;33m]\u001b[0m\u001b[1;33m,\u001b[0m\u001b[1;34m'%Y-%m-%d %H:%M:%S'\u001b[0m\u001b[1;33m)\u001b[0m\u001b[1;33m,\u001b[0m\u001b[0maxis\u001b[0m\u001b[1;33m=\u001b[0m\u001b[1;36m1\u001b[0m\u001b[1;33m)\u001b[0m\u001b[1;33m\u001b[0m\u001b[0m\n\u001b[0m",
      "\u001b[0;32mC:\\Users\\Leonard\\Anaconda3\\lib\\_strptime.py\u001b[0m in \u001b[0;36m_strptime_datetime\u001b[0;34m(cls, data_string, format)\u001b[0m\n\u001b[1;32m    508\u001b[0m     \"\"\"Return a class cls instance based on the input string and the\n\u001b[1;32m    509\u001b[0m     format string.\"\"\"\n\u001b[0;32m--> 510\u001b[0;31m     \u001b[0mtt\u001b[0m\u001b[1;33m,\u001b[0m \u001b[0mfraction\u001b[0m \u001b[1;33m=\u001b[0m \u001b[0m_strptime\u001b[0m\u001b[1;33m(\u001b[0m\u001b[0mdata_string\u001b[0m\u001b[1;33m,\u001b[0m \u001b[0mformat\u001b[0m\u001b[1;33m)\u001b[0m\u001b[1;33m\u001b[0m\u001b[0m\n\u001b[0m\u001b[1;32m    511\u001b[0m     \u001b[0mtzname\u001b[0m\u001b[1;33m,\u001b[0m \u001b[0mgmtoff\u001b[0m \u001b[1;33m=\u001b[0m \u001b[0mtt\u001b[0m\u001b[1;33m[\u001b[0m\u001b[1;33m-\u001b[0m\u001b[1;36m2\u001b[0m\u001b[1;33m:\u001b[0m\u001b[1;33m]\u001b[0m\u001b[1;33m\u001b[0m\u001b[0m\n\u001b[1;32m    512\u001b[0m     \u001b[0margs\u001b[0m \u001b[1;33m=\u001b[0m \u001b[0mtt\u001b[0m\u001b[1;33m[\u001b[0m\u001b[1;33m:\u001b[0m\u001b[1;36m6\u001b[0m\u001b[1;33m]\u001b[0m \u001b[1;33m+\u001b[0m \u001b[1;33m(\u001b[0m\u001b[0mfraction\u001b[0m\u001b[1;33m,\u001b[0m\u001b[1;33m)\u001b[0m\u001b[1;33m\u001b[0m\u001b[0m\n",
      "\u001b[0;32mC:\\Users\\Leonard\\Anaconda3\\lib\\_strptime.py\u001b[0m in \u001b[0;36m_strptime\u001b[0;34m(data_string, format)\u001b[0m\n\u001b[1;32m    312\u001b[0m     \u001b[1;32mglobal\u001b[0m \u001b[0m_TimeRE_cache\u001b[0m\u001b[1;33m,\u001b[0m \u001b[0m_regex_cache\u001b[0m\u001b[1;33m\u001b[0m\u001b[0m\n\u001b[1;32m    313\u001b[0m     \u001b[1;32mwith\u001b[0m \u001b[0m_cache_lock\u001b[0m\u001b[1;33m:\u001b[0m\u001b[1;33m\u001b[0m\u001b[0m\n\u001b[0;32m--> 314\u001b[0;31m         \u001b[0mlocale_time\u001b[0m \u001b[1;33m=\u001b[0m \u001b[0m_TimeRE_cache\u001b[0m\u001b[1;33m.\u001b[0m\u001b[0mlocale_time\u001b[0m\u001b[1;33m\u001b[0m\u001b[0m\n\u001b[0m\u001b[1;32m    315\u001b[0m         if (_getlang() != locale_time.lang or\n\u001b[1;32m    316\u001b[0m             \u001b[0mtime\u001b[0m\u001b[1;33m.\u001b[0m\u001b[0mtzname\u001b[0m \u001b[1;33m!=\u001b[0m \u001b[0mlocale_time\u001b[0m\u001b[1;33m.\u001b[0m\u001b[0mtzname\u001b[0m \u001b[1;32mor\u001b[0m\u001b[1;33m\u001b[0m\u001b[0m\n",
      "\u001b[0;31mKeyboardInterrupt\u001b[0m: "
     ]
    }
   ],
   "source": [
    "# forecast_data['update_time_datetime'] = forecast_data.apply(lambda x: datetime.datetime.strptime(x['update_time'],'%Y-%m-%d %H:%M:%S'),axis=1)"
   ]
  },
  {
   "cell_type": "code",
   "execution_count": 47,
   "metadata": {
    "collapsed": false
   },
   "outputs": [
    {
     "name": "stdout",
     "output_type": "stream",
     "text": [
      "0:10:10.808236\n"
     ]
    },
    {
     "data": {
      "text/plain": [
       "datetime.datetime(2017, 1, 28, 15, 45)"
      ]
     },
     "execution_count": 47,
     "metadata": {},
     "output_type": "execute_result"
    }
   ],
   "source": [
    "def ceil_dt(dt, delta):\n",
    "    return dt + (datetime.datetime.min - dt) % delta\n",
    "print((datetime.datetime.min-datetime.datetime.now()) % datetime.timedelta(minutes=15))\n",
    "ceil_dt(datetime.datetime.now(),datetime.timedelta(minutes=15))"
   ]
  },
  {
   "cell_type": "code",
   "execution_count": null,
   "metadata": {
    "collapsed": true
   },
   "outputs": [],
   "source": [
    "forecast_data.groupby(['update_time15'])['rcvd_bytes','sent_bytes'].sum().apply(lambda x: x/1024/1024/1024).plot(kind='line',figsize=(12,6))"
   ]
  }
 ],
 "metadata": {
  "anaconda-cloud": {},
  "kernelspec": {
   "display_name": "Python [conda root]",
   "language": "python",
   "name": "conda-root-py"
  },
  "language_info": {
   "codemirror_mode": {
    "name": "ipython",
    "version": 3
   },
   "file_extension": ".py",
   "mimetype": "text/x-python",
   "name": "python",
   "nbconvert_exporter": "python",
   "pygments_lexer": "ipython3",
   "version": "3.5.2"
  }
 },
 "nbformat": 4,
 "nbformat_minor": 1
}
