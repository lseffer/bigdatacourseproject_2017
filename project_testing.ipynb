{
 "cells": [
  {
   "cell_type": "code",
   "execution_count": 1,
   "metadata": {
    "collapsed": false
   },
   "outputs": [],
   "source": [
    "import csv\n",
    "import pandas as pd\n",
    "import pickle\n",
    "import os\n",
    "import datetime\n",
    "import matplotlib.pyplot as plt\n",
    "import numpy as np\n",
    "plt.style.use('fivethirtyeight')\n",
    "%matplotlib inline"
   ]
  },
  {
   "cell_type": "code",
   "execution_count": null,
   "metadata": {
    "collapsed": false
   },
   "outputs": [],
   "source": [
    "ospath = os.path.abspath('C:/Users/Leonard/Downloads/Dataset/F1_All_Traffic.csv')"
   ]
  },
  {
   "cell_type": "code",
   "execution_count": null,
   "metadata": {
    "collapsed": false
   },
   "outputs": [],
   "source": [
    "data1 = pd.read_csv(ospath)"
   ]
  },
  {
   "cell_type": "code",
   "execution_count": null,
   "metadata": {
    "collapsed": false
   },
   "outputs": [],
   "source": [
    "data1.columns.values"
   ]
  },
  {
   "cell_type": "code",
   "execution_count": null,
   "metadata": {
    "collapsed": false
   },
   "outputs": [],
   "source": [
    "data1[data1.columns.values[14:35]].head(30)"
   ]
  },
  {
   "cell_type": "code",
   "execution_count": 2,
   "metadata": {
    "collapsed": false
   },
   "outputs": [],
   "source": [
    "def roundTime(dt=None, dateDelta=datetime.timedelta(minutes=1)):\n",
    "    \"\"\"Round a datetime object to a multiple of a timedelta\n",
    "    dt : datetime.datetime object, default now.\n",
    "    dateDelta : timedelta object, we round to a multiple of this, default 1 minute.\n",
    "    Author: Thierry Husson 2012 - Use it as you want but don't blame me.\n",
    "            Stijn Nevens 2014 - Changed to use only datetime objects as variables\n",
    "    \"\"\"\n",
    "    roundTo = dateDelta.total_seconds()\n",
    "\n",
    "    if dt == None : dt = datetime.datetime.now()\n",
    "    seconds = (dt - dt.min).seconds\n",
    "    # // is a floor division, not a comment on following line:\n",
    "    rounding = (seconds+roundTo/2) // roundTo * roundTo\n",
    "    return dt + datetime.timedelta(0,rounding-seconds,-dt.microsecond)"
   ]
  },
  {
   "cell_type": "code",
   "execution_count": null,
   "metadata": {
    "collapsed": false
   },
   "outputs": [],
   "source": [
    "roundTime(datetime.datetime(2016,12,31,23,37,32),datetime.timedelta(minutes=15))"
   ]
  },
  {
   "cell_type": "code",
   "execution_count": null,
   "metadata": {
    "collapsed": false
   },
   "outputs": [],
   "source": [
    "datetime.datetime.strptime('2016-12-16 02:00:52','%Y-%m-%d %H:%M:%S')"
   ]
  },
  {
   "cell_type": "code",
   "execution_count": null,
   "metadata": {
    "collapsed": false
   },
   "outputs": [],
   "source": [
    "data1['update_time_datetime'] = data1.apply(lambda x: datetime.datetime.strptime(x['update_time'],'%Y-%m-%d %H:%M:%S'),axis=1)"
   ]
  },
  {
   "cell_type": "code",
   "execution_count": null,
   "metadata": {
    "collapsed": false
   },
   "outputs": [],
   "source": [
    "data1['update_time15'] = data1.apply(lambda x: roundTime(x['update_time_datetime'],datetime.timedelta(minutes=15)),axis=1)"
   ]
  },
  {
   "cell_type": "code",
   "execution_count": null,
   "metadata": {
    "collapsed": false
   },
   "outputs": [],
   "source": [
    "list(data1.info_5.unique())[0] is not np.nan"
   ]
  },
  {
   "cell_type": "code",
   "execution_count": null,
   "metadata": {
    "collapsed": false
   },
   "outputs": [],
   "source": [
    "data1['sent_bytes'] = data1.apply(lambda x: int(x['info_5'].split('; ')[1].split('=')[1]) if x['info_5'] is not np.nan else 0,axis=1)\n",
    "data1['rcvd_bytes'] = data1.apply(lambda x: int(x['info_5'].split('; ')[2].split('=')[1]) if x['info_5'] is not np.nan else 0,axis=1)"
   ]
  },
  {
   "cell_type": "code",
   "execution_count": null,
   "metadata": {
    "collapsed": false
   },
   "outputs": [],
   "source": []
  },
  {
   "cell_type": "code",
   "execution_count": null,
   "metadata": {
    "collapsed": false
   },
   "outputs": [],
   "source": [
    "data1.fillna(0,inplace=True)"
   ]
  },
  {
   "cell_type": "code",
   "execution_count": null,
   "metadata": {
    "collapsed": false
   },
   "outputs": [],
   "source": [
    "min(data1.update_time15.values)"
   ]
  },
  {
   "cell_type": "code",
   "execution_count": null,
   "metadata": {
    "collapsed": false
   },
   "outputs": [],
   "source": [
    "data1[(data1.update_time15>=datetime.datetime(2017,1,2,0,0,0)) & (data1.update_time15<datetime.datetime(2017,1,5,0,0,0))].groupby(['update_time15'])['rcvd_bytes','sent_bytes'].sum().apply(lambda x: x/1024/1024/1024).plot(kind='line',figsize=(12,6))"
   ]
  },
  {
   "cell_type": "code",
   "execution_count": null,
   "metadata": {
    "collapsed": false
   },
   "outputs": [],
   "source": [
    "int('duration=30; sent_bytes=75; rcvd_bytes=234'.split('; ')[2].split('=')[1])"
   ]
  },
  {
   "cell_type": "code",
   "execution_count": 4,
   "metadata": {
    "collapsed": true
   },
   "outputs": [],
   "source": [
    "path = os.path.abspath('F:/bda_project_files/dataset')"
   ]
  },
  {
   "cell_type": "code",
   "execution_count": 14,
   "metadata": {
    "collapsed": false
   },
   "outputs": [
    {
     "name": "stdout",
     "output_type": "stream",
     "text": [
      "F:\\bda_project_files\\dataset F1_All_Traffic.csv\n",
      "F:\\bda_project_files\\dataset F1_Device_Statistic.csv\n",
      "F:\\bda_project_files\\dataset F1_GWC_Statistic.csv\n",
      "F:\\bda_project_files\\dataset F2_All_Traffic_modified.csv\n"
     ]
    },
    {
     "name": "stderr",
     "output_type": "stream",
     "text": [
      "C:\\Users\\Leonard\\Anaconda3\\lib\\site-packages\\IPython\\core\\interactiveshell.py:2717: DtypeWarning: Columns (25,26) have mixed types. Specify dtype option on import or set low_memory=False.\n",
      "  interactivity=interactivity, compiler=compiler, result=result)\n"
     ]
    },
    {
     "name": "stdout",
     "output_type": "stream",
     "text": [
      "F:\\bda_project_files\\dataset F2_Device_Statistic_modified.csv\n",
      "F:\\bda_project_files\\dataset F2_GWC_Statistic_modified.csv\n",
      "F:\\bda_project_files\\dataset F3_All_Traffic_modified.csv\n"
     ]
    },
    {
     "name": "stderr",
     "output_type": "stream",
     "text": [
      "C:\\Users\\Leonard\\Anaconda3\\lib\\site-packages\\IPython\\core\\interactiveshell.py:2717: DtypeWarning: Columns (14,16,25,26,32) have mixed types. Specify dtype option on import or set low_memory=False.\n",
      "  interactivity=interactivity, compiler=compiler, result=result)\n"
     ]
    },
    {
     "name": "stdout",
     "output_type": "stream",
     "text": [
      "F:\\bda_project_files\\dataset F3_Device_Statistic_modified.csv\n"
     ]
    }
   ],
   "source": [
    "datadict = {}\n",
    "for root, _ , files in os.walk(path):\n",
    "    for file in files:\n",
    "        print(root,file)\n",
    "        filep = file[3:]\n",
    "        if filep[-4:]=='.csv':\n",
    "            filep = filep.replace('_modified','')\n",
    "            if filep in datadict: \n",
    "                tempdata = pd.read_csv(os.path.join(root,file),parse_dates=['update_time'],infer_datetime_format=True)\n",
    "                tempdata.dropna(axis=0,how='all',inplace=True)\n",
    "                datadict[filep] = pd.concat([datadict[filep],tempdata])\n",
    "            else:\n",
    "                tempdata = pd.read_csv(os.path.join(root,file),parse_dates=['update_time'],infer_datetime_format=True)\n",
    "                tempdata.dropna(axis=0,how='all',inplace=True)\n",
    "                datadict[filep] = tempdata\n",
    "    "
   ]
  },
  {
   "cell_type": "code",
   "execution_count": 6,
   "metadata": {
    "collapsed": false
   },
   "outputs": [
    {
     "name": "stdout",
     "output_type": "stream",
     "text": [
      "Device_Statistic.csv ['Unnamed: 0' 'sid' 'cluster' 'raw_id' 'device' 'unix_time' 'in_octets'\n",
      " 'out_octets' 'log_type' 'update_time']\n",
      "GWC_Statistic.csv ['Unnamed: 0' 'sid' 'appliance_id' 'cluster' 'ssid' 'radio' 'band'\n",
      " 'rcvd_bytes' 'sent_bytes' 'client_count' 'log_type' 'update_time' 'wap']\n",
      "All_Traffic.csv ['Unnamed: 0' 'sid' 'cluster' 'tag_id' 'raw_id' 'disp' 'direction' 'pri'\n",
      " 'policy' 'protocol' 'src_ip' 'src_port' 'dst_ip' 'dst_port' 'src_ip_nat'\n",
      " 'src_port_nat' 'dst_ip_nat' 'dst_port_nat' 'src_intf' 'dst_intf' 'rc'\n",
      " 'pckt_len' 'ttl' 'pr_info' 'proxy_act' 'alarm_name' 'alarm_type'\n",
      " 'alarm_id' 'info_1' 'info_2' 'info_3' 'info_4' 'info_5' 'info_6'\n",
      " 'log_type' 'msg' 'bucket' 'update_time' 'info_7' 'info_8' 'info_9'\n",
      " 'info_10' 'info_11' 'info_12' 'msg_id']\n"
     ]
    }
   ],
   "source": [
    "for k,v in datadict.items():\n",
    "    print(k,v.columns.values)"
   ]
  },
  {
   "cell_type": "code",
   "execution_count": 8,
   "metadata": {
    "collapsed": false
   },
   "outputs": [],
   "source": [
    "# datadict['All_Traffic.csv'].dropna(axis=0,how='all',inplace=True)"
   ]
  },
  {
   "cell_type": "code",
   "execution_count": 7,
   "metadata": {
    "collapsed": false
   },
   "outputs": [
    {
     "data": {
      "text/html": [
       "<div>\n",
       "<table border=\"1\" class=\"dataframe\">\n",
       "  <thead>\n",
       "    <tr style=\"text-align: right;\">\n",
       "      <th></th>\n",
       "      <th>Unnamed: 0</th>\n",
       "      <th>sid</th>\n",
       "      <th>cluster</th>\n",
       "      <th>tag_id</th>\n",
       "      <th>raw_id</th>\n",
       "      <th>disp</th>\n",
       "      <th>direction</th>\n",
       "      <th>pri</th>\n",
       "      <th>policy</th>\n",
       "      <th>protocol</th>\n",
       "      <th>...</th>\n",
       "      <th>msg</th>\n",
       "      <th>bucket</th>\n",
       "      <th>update_time</th>\n",
       "      <th>info_7</th>\n",
       "      <th>info_8</th>\n",
       "      <th>info_9</th>\n",
       "      <th>info_10</th>\n",
       "      <th>info_11</th>\n",
       "      <th>info_12</th>\n",
       "      <th>msg_id</th>\n",
       "    </tr>\n",
       "  </thead>\n",
       "  <tbody>\n",
       "    <tr>\n",
       "      <th>0</th>\n",
       "      <td>0</td>\n",
       "      <td>1116303749</td>\n",
       "      <td>NaN</td>\n",
       "      <td>1001</td>\n",
       "      <td>331473</td>\n",
       "      <td>2</td>\n",
       "      <td>0</td>\n",
       "      <td>4</td>\n",
       "      <td>Unhandled-External-Packet-00</td>\n",
       "      <td>34295/udp</td>\n",
       "      <td>...</td>\n",
       "      <td>Denied</td>\n",
       "      <td>NaN</td>\n",
       "      <td>2016-12-16 02:00:10</td>\n",
       "      <td>NaN</td>\n",
       "      <td>NaN</td>\n",
       "      <td>NaN</td>\n",
       "      <td>NaN</td>\n",
       "      <td>NaN</td>\n",
       "      <td>NaN</td>\n",
       "      <td>3000-0148</td>\n",
       "    </tr>\n",
       "    <tr>\n",
       "      <th>1</th>\n",
       "      <td>1</td>\n",
       "      <td>1116303750</td>\n",
       "      <td>NaN</td>\n",
       "      <td>1001</td>\n",
       "      <td>331474</td>\n",
       "      <td>2</td>\n",
       "      <td>0</td>\n",
       "      <td>4</td>\n",
       "      <td>Unhandled-External-Packet-00</td>\n",
       "      <td>telnet/tcp</td>\n",
       "      <td>...</td>\n",
       "      <td>Denied</td>\n",
       "      <td>NaN</td>\n",
       "      <td>2016-12-16 02:00:13</td>\n",
       "      <td>NaN</td>\n",
       "      <td>NaN</td>\n",
       "      <td>NaN</td>\n",
       "      <td>NaN</td>\n",
       "      <td>NaN</td>\n",
       "      <td>NaN</td>\n",
       "      <td>3000-0148</td>\n",
       "    </tr>\n",
       "    <tr>\n",
       "      <th>2</th>\n",
       "      <td>2</td>\n",
       "      <td>1116303926</td>\n",
       "      <td>NaN</td>\n",
       "      <td>1001</td>\n",
       "      <td>331477</td>\n",
       "      <td>2</td>\n",
       "      <td>0</td>\n",
       "      <td>4</td>\n",
       "      <td>Unhandled-External-Packet-00</td>\n",
       "      <td>telnet/tcp</td>\n",
       "      <td>...</td>\n",
       "      <td>Denied</td>\n",
       "      <td>NaN</td>\n",
       "      <td>2016-12-16 02:00:51</td>\n",
       "      <td>NaN</td>\n",
       "      <td>NaN</td>\n",
       "      <td>NaN</td>\n",
       "      <td>NaN</td>\n",
       "      <td>NaN</td>\n",
       "      <td>NaN</td>\n",
       "      <td>3000-0148</td>\n",
       "    </tr>\n",
       "    <tr>\n",
       "      <th>3</th>\n",
       "      <td>3</td>\n",
       "      <td>1116303927</td>\n",
       "      <td>NaN</td>\n",
       "      <td>1001</td>\n",
       "      <td>331478</td>\n",
       "      <td>2</td>\n",
       "      <td>0</td>\n",
       "      <td>4</td>\n",
       "      <td>Unhandled-External-Packet-00</td>\n",
       "      <td>telnet/tcp</td>\n",
       "      <td>...</td>\n",
       "      <td>Denied</td>\n",
       "      <td>NaN</td>\n",
       "      <td>2016-12-16 02:00:52</td>\n",
       "      <td>NaN</td>\n",
       "      <td>NaN</td>\n",
       "      <td>NaN</td>\n",
       "      <td>NaN</td>\n",
       "      <td>NaN</td>\n",
       "      <td>NaN</td>\n",
       "      <td>3000-0148</td>\n",
       "    </tr>\n",
       "    <tr>\n",
       "      <th>4</th>\n",
       "      <td>4</td>\n",
       "      <td>1116303928</td>\n",
       "      <td>NaN</td>\n",
       "      <td>1001</td>\n",
       "      <td>331479</td>\n",
       "      <td>2</td>\n",
       "      <td>0</td>\n",
       "      <td>4</td>\n",
       "      <td>Unhandled-External-Packet-00</td>\n",
       "      <td>7547/tcp</td>\n",
       "      <td>...</td>\n",
       "      <td>Denied</td>\n",
       "      <td>NaN</td>\n",
       "      <td>2016-12-16 02:00:52</td>\n",
       "      <td>NaN</td>\n",
       "      <td>NaN</td>\n",
       "      <td>NaN</td>\n",
       "      <td>NaN</td>\n",
       "      <td>NaN</td>\n",
       "      <td>NaN</td>\n",
       "      <td>3000-0148</td>\n",
       "    </tr>\n",
       "  </tbody>\n",
       "</table>\n",
       "<p>5 rows × 45 columns</p>\n",
       "</div>"
      ],
      "text/plain": [
       "   Unnamed: 0         sid  cluster  tag_id  raw_id  disp  direction  pri  \\\n",
       "0           0  1116303749      NaN    1001  331473     2          0    4   \n",
       "1           1  1116303750      NaN    1001  331474     2          0    4   \n",
       "2           2  1116303926      NaN    1001  331477     2          0    4   \n",
       "3           3  1116303927      NaN    1001  331478     2          0    4   \n",
       "4           4  1116303928      NaN    1001  331479     2          0    4   \n",
       "\n",
       "                         policy    protocol    ...         msg  bucket  \\\n",
       "0  Unhandled-External-Packet-00   34295/udp    ...      Denied     NaN   \n",
       "1  Unhandled-External-Packet-00  telnet/tcp    ...      Denied     NaN   \n",
       "2  Unhandled-External-Packet-00  telnet/tcp    ...      Denied     NaN   \n",
       "3  Unhandled-External-Packet-00  telnet/tcp    ...      Denied     NaN   \n",
       "4  Unhandled-External-Packet-00    7547/tcp    ...      Denied     NaN   \n",
       "\n",
       "           update_time  info_7 info_8  info_9 info_10  info_11 info_12  \\\n",
       "0  2016-12-16 02:00:10     NaN    NaN     NaN     NaN      NaN     NaN   \n",
       "1  2016-12-16 02:00:13     NaN    NaN     NaN     NaN      NaN     NaN   \n",
       "2  2016-12-16 02:00:51     NaN    NaN     NaN     NaN      NaN     NaN   \n",
       "3  2016-12-16 02:00:52     NaN    NaN     NaN     NaN      NaN     NaN   \n",
       "4  2016-12-16 02:00:52     NaN    NaN     NaN     NaN      NaN     NaN   \n",
       "\n",
       "      msg_id  \n",
       "0  3000-0148  \n",
       "1  3000-0148  \n",
       "2  3000-0148  \n",
       "3  3000-0148  \n",
       "4  3000-0148  \n",
       "\n",
       "[5 rows x 45 columns]"
      ]
     },
     "execution_count": 7,
     "metadata": {},
     "output_type": "execute_result"
    }
   ],
   "source": [
    "datadict['All_Traffic.csv'].head()"
   ]
  },
  {
   "cell_type": "code",
   "execution_count": 10,
   "metadata": {
    "collapsed": true
   },
   "outputs": [],
   "source": [
    "import sys"
   ]
  },
  {
   "cell_type": "code",
   "execution_count": 11,
   "metadata": {
    "collapsed": false
   },
   "outputs": [
    {
     "name": "stdout",
     "output_type": "stream",
     "text": [
      "Unnamed: 0: 89MB\n",
      "sid: 89MB\n",
      "cluster: 89MB\n",
      "tag_id: 89MB\n",
      "raw_id: 89MB\n",
      "disp: 89MB\n",
      "direction: 89MB\n",
      "pri: 89MB\n",
      "policy: 462MB\n",
      "protocol: 407MB\n",
      "src_ip: 426MB\n",
      "src_port: 89MB\n",
      "dst_ip: 432MB\n",
      "dst_port: 89MB\n",
      "src_ip_nat: 405MB\n",
      "src_port_nat: 89MB\n",
      "dst_ip_nat: 222MB\n",
      "dst_port_nat: 89MB\n",
      "src_intf: 434MB\n",
      "dst_intf: 434MB\n",
      "rc: 89MB\n",
      "pckt_len: 89MB\n",
      "ttl: 89MB\n",
      "pr_info: 341MB\n",
      "proxy_act: 89MB\n",
      "alarm_name: 222MB\n",
      "alarm_type: 222MB\n",
      "alarm_id: 89MB\n",
      "info_1: 89MB\n",
      "info_2: 89MB\n",
      "info_3: 89MB\n",
      "info_4: 89MB\n",
      "info_5: 364MB\n",
      "info_6: 89MB\n",
      "log_type: 372MB\n",
      "msg: 336MB\n",
      "bucket: 89MB\n",
      "update_time: 466MB\n",
      "info_7: 89MB\n",
      "info_8: 89MB\n",
      "info_9: 89MB\n",
      "info_10: 89MB\n",
      "info_11: 89MB\n",
      "info_12: 89MB\n",
      "msg_id: 411MB\n"
     ]
    }
   ],
   "source": [
    "for col in datadict['All_Traffic.csv'].columns.values:\n",
    "    print(\"{}: {:.0f}MB\".format(col,sys.getsizeof( datadict['All_Traffic.csv'][col])/1024/1024))"
   ]
  },
  {
   "cell_type": "code",
   "execution_count": null,
   "metadata": {
    "collapsed": true
   },
   "outputs": [],
   "source": []
  },
  {
   "cell_type": "code",
   "execution_count": null,
   "metadata": {
    "collapsed": true
   },
   "outputs": [],
   "source": []
  },
  {
   "cell_type": "code",
   "execution_count": 15,
   "metadata": {
    "collapsed": false
   },
   "outputs": [
    {
     "name": "stdout",
     "output_type": "stream",
     "text": [
      "408MB\n"
     ]
    }
   ],
   "source": [
    "forecast_data = datadict['All_Traffic.csv'][['update_time','info_5']].fillna(0)\n",
    "print(\"{:.0f}MB\".format(sys.getsizeof( forecast_data)/1024/1024))"
   ]
  },
  {
   "cell_type": "code",
   "execution_count": 28,
   "metadata": {
    "collapsed": false
   },
   "outputs": [],
   "source": [
    "forecast_data['sent_bytes'] = [int(x.split('; ')[1].split('=')[1]) if x!=0 else 0 for x in forecast_data['info_5'].tolist()]\n",
    "forecast_data['rcvd_bytes'] = [int(x.split('; ')[2].split('=')[1]) if x!=0 else 0 for x in forecast_data['info_5'].tolist()]"
   ]
  },
  {
   "cell_type": "code",
   "execution_count": 61,
   "metadata": {
    "collapsed": false
   },
   "outputs": [
    {
     "name": "stdout",
     "output_type": "stream",
     "text": [
      "5821274 rows left\n",
      "4821274 rows left\n",
      "3821274 rows left\n",
      "2821274 rows left\n",
      "1821274 rows left\n",
      "821274 rows left\n"
     ]
    }
   ],
   "source": [
    "# Truncating the dates is very slow for some reason, made this loop to know how long it took\n",
    "\n",
    "outlist = []\n",
    "inlist = forecast_data['update_time'].tolist()\n",
    "length = len(inlist)\n",
    "for index, x in enumerate(inlist):\n",
    "    outlist.append(roundTime(x.to_pydatetime(),datetime.timedelta(minutes=15)))\n",
    "    if index % 1000000 == 0:\n",
    "        print(\"{:.0f} rows left\".format(length-index))\n",
    "# [roundTime(x,datetime.timedelta(minutes=15)) for x in forecast_data['update_time'].tolist()]\n"
   ]
  },
  {
   "cell_type": "code",
   "execution_count": 62,
   "metadata": {
    "collapsed": true
   },
   "outputs": [],
   "source": [
    "forecast_data['update_time15'] = outlist"
   ]
  },
  {
   "cell_type": "code",
   "execution_count": 59,
   "metadata": {
    "collapsed": false
   },
   "outputs": [
    {
     "name": "stdout",
     "output_type": "stream",
     "text": [
      "[Timestamp('2016-12-16 02:00:10'), Timestamp('2016-12-16 02:00:13'), Timestamp('2016-12-16 02:00:51'), Timestamp('2016-12-16 02:00:52'), Timestamp('2016-12-16 02:00:52')] \n",
      " [Timestamp('2016-12-16 01:57:44'), Timestamp('2016-12-16 01:57:44'), Timestamp('2016-12-16 01:57:44'), Timestamp('2016-12-16 01:57:44'), Timestamp('2016-12-16 01:57:44')] 2016-12-16 02:00:00\n"
     ]
    }
   ],
   "source": [
    "# print(inlist[:5],'\\n',outlist[:5],roundTime(inlist[0].to_pydatetime(),datetime.timedelta(minutes=15)))"
   ]
  },
  {
   "cell_type": "code",
   "execution_count": null,
   "metadata": {
    "collapsed": true
   },
   "outputs": [],
   "source": [
    "# updatetime = map(roundTime(),inlist,datetime.timedelta(minutes=15))"
   ]
  },
  {
   "cell_type": "code",
   "execution_count": 63,
   "metadata": {
    "collapsed": false
   },
   "outputs": [
    {
     "data": {
      "text/html": [
       "<div>\n",
       "<table border=\"1\" class=\"dataframe\">\n",
       "  <thead>\n",
       "    <tr style=\"text-align: right;\">\n",
       "      <th></th>\n",
       "      <th>update_time</th>\n",
       "      <th>info_5</th>\n",
       "      <th>sent_bytes</th>\n",
       "      <th>rcvd_bytes</th>\n",
       "      <th>update_time15</th>\n",
       "    </tr>\n",
       "  </thead>\n",
       "  <tbody>\n",
       "    <tr>\n",
       "      <th>0</th>\n",
       "      <td>2016-12-16 02:00:10</td>\n",
       "      <td>0</td>\n",
       "      <td>0</td>\n",
       "      <td>0</td>\n",
       "      <td>2016-12-16 02:00:00</td>\n",
       "    </tr>\n",
       "    <tr>\n",
       "      <th>1</th>\n",
       "      <td>2016-12-16 02:00:13</td>\n",
       "      <td>0</td>\n",
       "      <td>0</td>\n",
       "      <td>0</td>\n",
       "      <td>2016-12-16 02:00:00</td>\n",
       "    </tr>\n",
       "    <tr>\n",
       "      <th>2</th>\n",
       "      <td>2016-12-16 02:00:51</td>\n",
       "      <td>0</td>\n",
       "      <td>0</td>\n",
       "      <td>0</td>\n",
       "      <td>2016-12-16 02:00:00</td>\n",
       "    </tr>\n",
       "    <tr>\n",
       "      <th>3</th>\n",
       "      <td>2016-12-16 02:00:52</td>\n",
       "      <td>0</td>\n",
       "      <td>0</td>\n",
       "      <td>0</td>\n",
       "      <td>2016-12-16 02:00:00</td>\n",
       "    </tr>\n",
       "    <tr>\n",
       "      <th>4</th>\n",
       "      <td>2016-12-16 02:00:52</td>\n",
       "      <td>0</td>\n",
       "      <td>0</td>\n",
       "      <td>0</td>\n",
       "      <td>2016-12-16 02:00:00</td>\n",
       "    </tr>\n",
       "  </tbody>\n",
       "</table>\n",
       "</div>"
      ],
      "text/plain": [
       "          update_time info_5  sent_bytes  rcvd_bytes       update_time15\n",
       "0 2016-12-16 02:00:10      0           0           0 2016-12-16 02:00:00\n",
       "1 2016-12-16 02:00:13      0           0           0 2016-12-16 02:00:00\n",
       "2 2016-12-16 02:00:51      0           0           0 2016-12-16 02:00:00\n",
       "3 2016-12-16 02:00:52      0           0           0 2016-12-16 02:00:00\n",
       "4 2016-12-16 02:00:52      0           0           0 2016-12-16 02:00:00"
      ]
     },
     "execution_count": 63,
     "metadata": {},
     "output_type": "execute_result"
    }
   ],
   "source": [
    "forecast_data.head()"
   ]
  },
  {
   "cell_type": "code",
   "execution_count": 110,
   "metadata": {
    "collapsed": true
   },
   "outputs": [],
   "source": [
    "forecast_data_2 = forecast_data.groupby('update_time15')[['sent_bytes','rcvd_bytes']].sum().reset_index()\n",
    "forecast_data_2['hour'] = [x.hour for x in forecast_data_2.update_time15]\n",
    "forecast_data_2['min'] = [x.minute for x in forecast_data_2.update_time15]\n",
    "forecast_data_2['dow'] = [x.weekday() for x in forecast_data_2.update_time15]\n",
    "forecast_data_2['day'] = [x.day for x in forecast_data_2.update_time15]\n",
    "forecast_data_2['month'] = [x.month for x in forecast_data_2.update_time15]\n",
    "forecast_data_2['traffic'] = (forecast_data_2.sent_bytes+forecast_data_2.rcvd_bytes)/1024/1024"
   ]
  },
  {
   "cell_type": "code",
   "execution_count": 111,
   "metadata": {
    "collapsed": false
   },
   "outputs": [
    {
     "data": {
      "text/html": [
       "<div>\n",
       "<table border=\"1\" class=\"dataframe\">\n",
       "  <thead>\n",
       "    <tr style=\"text-align: right;\">\n",
       "      <th></th>\n",
       "      <th>update_time15</th>\n",
       "      <th>sent_bytes</th>\n",
       "      <th>rcvd_bytes</th>\n",
       "      <th>hour</th>\n",
       "      <th>min</th>\n",
       "      <th>dow</th>\n",
       "      <th>day</th>\n",
       "      <th>month</th>\n",
       "      <th>traffic</th>\n",
       "    </tr>\n",
       "  </thead>\n",
       "  <tbody>\n",
       "    <tr>\n",
       "      <th>0</th>\n",
       "      <td>2016-12-16 02:00:00</td>\n",
       "      <td>10312</td>\n",
       "      <td>26532</td>\n",
       "      <td>2</td>\n",
       "      <td>0</td>\n",
       "      <td>4</td>\n",
       "      <td>16</td>\n",
       "      <td>12</td>\n",
       "      <td>0.035137</td>\n",
       "    </tr>\n",
       "    <tr>\n",
       "      <th>1</th>\n",
       "      <td>2016-12-16 02:15:00</td>\n",
       "      <td>9776</td>\n",
       "      <td>26516</td>\n",
       "      <td>2</td>\n",
       "      <td>15</td>\n",
       "      <td>4</td>\n",
       "      <td>16</td>\n",
       "      <td>12</td>\n",
       "      <td>0.034611</td>\n",
       "    </tr>\n",
       "    <tr>\n",
       "      <th>2</th>\n",
       "      <td>2016-12-16 02:30:00</td>\n",
       "      <td>144026</td>\n",
       "      <td>146568</td>\n",
       "      <td>2</td>\n",
       "      <td>30</td>\n",
       "      <td>4</td>\n",
       "      <td>16</td>\n",
       "      <td>12</td>\n",
       "      <td>0.277132</td>\n",
       "    </tr>\n",
       "    <tr>\n",
       "      <th>3</th>\n",
       "      <td>2016-12-16 02:45:00</td>\n",
       "      <td>12338</td>\n",
       "      <td>56552</td>\n",
       "      <td>2</td>\n",
       "      <td>45</td>\n",
       "      <td>4</td>\n",
       "      <td>16</td>\n",
       "      <td>12</td>\n",
       "      <td>0.065699</td>\n",
       "    </tr>\n",
       "    <tr>\n",
       "      <th>4</th>\n",
       "      <td>2016-12-16 03:00:00</td>\n",
       "      <td>332556</td>\n",
       "      <td>18511495</td>\n",
       "      <td>3</td>\n",
       "      <td>0</td>\n",
       "      <td>4</td>\n",
       "      <td>16</td>\n",
       "      <td>12</td>\n",
       "      <td>17.971087</td>\n",
       "    </tr>\n",
       "    <tr>\n",
       "      <th>5</th>\n",
       "      <td>2016-12-16 03:15:00</td>\n",
       "      <td>268161</td>\n",
       "      <td>12195421</td>\n",
       "      <td>3</td>\n",
       "      <td>15</td>\n",
       "      <td>4</td>\n",
       "      <td>16</td>\n",
       "      <td>12</td>\n",
       "      <td>11.886198</td>\n",
       "    </tr>\n",
       "    <tr>\n",
       "      <th>6</th>\n",
       "      <td>2016-12-16 03:30:00</td>\n",
       "      <td>2609</td>\n",
       "      <td>8440</td>\n",
       "      <td>3</td>\n",
       "      <td>30</td>\n",
       "      <td>4</td>\n",
       "      <td>16</td>\n",
       "      <td>12</td>\n",
       "      <td>0.010537</td>\n",
       "    </tr>\n",
       "    <tr>\n",
       "      <th>7</th>\n",
       "      <td>2016-12-16 03:45:00</td>\n",
       "      <td>1725</td>\n",
       "      <td>4205</td>\n",
       "      <td>3</td>\n",
       "      <td>45</td>\n",
       "      <td>4</td>\n",
       "      <td>16</td>\n",
       "      <td>12</td>\n",
       "      <td>0.005655</td>\n",
       "    </tr>\n",
       "    <tr>\n",
       "      <th>8</th>\n",
       "      <td>2016-12-16 04:00:00</td>\n",
       "      <td>14523</td>\n",
       "      <td>18267</td>\n",
       "      <td>4</td>\n",
       "      <td>0</td>\n",
       "      <td>4</td>\n",
       "      <td>16</td>\n",
       "      <td>12</td>\n",
       "      <td>0.031271</td>\n",
       "    </tr>\n",
       "    <tr>\n",
       "      <th>9</th>\n",
       "      <td>2016-12-16 04:15:00</td>\n",
       "      <td>113790</td>\n",
       "      <td>55959</td>\n",
       "      <td>4</td>\n",
       "      <td>15</td>\n",
       "      <td>4</td>\n",
       "      <td>16</td>\n",
       "      <td>12</td>\n",
       "      <td>0.161885</td>\n",
       "    </tr>\n",
       "    <tr>\n",
       "      <th>10</th>\n",
       "      <td>2016-12-16 04:30:00</td>\n",
       "      <td>5923</td>\n",
       "      <td>11121</td>\n",
       "      <td>4</td>\n",
       "      <td>30</td>\n",
       "      <td>4</td>\n",
       "      <td>16</td>\n",
       "      <td>12</td>\n",
       "      <td>0.016254</td>\n",
       "    </tr>\n",
       "    <tr>\n",
       "      <th>11</th>\n",
       "      <td>2016-12-16 04:45:00</td>\n",
       "      <td>1661</td>\n",
       "      <td>4205</td>\n",
       "      <td>4</td>\n",
       "      <td>45</td>\n",
       "      <td>4</td>\n",
       "      <td>16</td>\n",
       "      <td>12</td>\n",
       "      <td>0.005594</td>\n",
       "    </tr>\n",
       "    <tr>\n",
       "      <th>12</th>\n",
       "      <td>2016-12-16 05:00:00</td>\n",
       "      <td>14857</td>\n",
       "      <td>14834</td>\n",
       "      <td>5</td>\n",
       "      <td>0</td>\n",
       "      <td>4</td>\n",
       "      <td>16</td>\n",
       "      <td>12</td>\n",
       "      <td>0.028316</td>\n",
       "    </tr>\n",
       "    <tr>\n",
       "      <th>13</th>\n",
       "      <td>2016-12-16 05:15:00</td>\n",
       "      <td>1661</td>\n",
       "      <td>4205</td>\n",
       "      <td>5</td>\n",
       "      <td>15</td>\n",
       "      <td>4</td>\n",
       "      <td>16</td>\n",
       "      <td>12</td>\n",
       "      <td>0.005594</td>\n",
       "    </tr>\n",
       "    <tr>\n",
       "      <th>14</th>\n",
       "      <td>2016-12-16 05:30:00</td>\n",
       "      <td>16822</td>\n",
       "      <td>36883</td>\n",
       "      <td>5</td>\n",
       "      <td>30</td>\n",
       "      <td>4</td>\n",
       "      <td>16</td>\n",
       "      <td>12</td>\n",
       "      <td>0.051217</td>\n",
       "    </tr>\n",
       "    <tr>\n",
       "      <th>15</th>\n",
       "      <td>2016-12-16 05:45:00</td>\n",
       "      <td>131291</td>\n",
       "      <td>929749</td>\n",
       "      <td>5</td>\n",
       "      <td>45</td>\n",
       "      <td>4</td>\n",
       "      <td>16</td>\n",
       "      <td>12</td>\n",
       "      <td>1.011887</td>\n",
       "    </tr>\n",
       "    <tr>\n",
       "      <th>16</th>\n",
       "      <td>2016-12-16 06:00:00</td>\n",
       "      <td>33193</td>\n",
       "      <td>244484</td>\n",
       "      <td>6</td>\n",
       "      <td>0</td>\n",
       "      <td>4</td>\n",
       "      <td>16</td>\n",
       "      <td>12</td>\n",
       "      <td>0.264813</td>\n",
       "    </tr>\n",
       "    <tr>\n",
       "      <th>17</th>\n",
       "      <td>2016-12-16 06:15:00</td>\n",
       "      <td>4361</td>\n",
       "      <td>6524</td>\n",
       "      <td>6</td>\n",
       "      <td>15</td>\n",
       "      <td>4</td>\n",
       "      <td>16</td>\n",
       "      <td>12</td>\n",
       "      <td>0.010381</td>\n",
       "    </tr>\n",
       "    <tr>\n",
       "      <th>18</th>\n",
       "      <td>2016-12-16 06:30:00</td>\n",
       "      <td>12798</td>\n",
       "      <td>39314</td>\n",
       "      <td>6</td>\n",
       "      <td>30</td>\n",
       "      <td>4</td>\n",
       "      <td>16</td>\n",
       "      <td>12</td>\n",
       "      <td>0.049698</td>\n",
       "    </tr>\n",
       "    <tr>\n",
       "      <th>19</th>\n",
       "      <td>2016-12-16 06:45:00</td>\n",
       "      <td>1860435</td>\n",
       "      <td>15853226</td>\n",
       "      <td>6</td>\n",
       "      <td>45</td>\n",
       "      <td>4</td>\n",
       "      <td>16</td>\n",
       "      <td>12</td>\n",
       "      <td>16.893064</td>\n",
       "    </tr>\n",
       "    <tr>\n",
       "      <th>20</th>\n",
       "      <td>2016-12-16 07:00:00</td>\n",
       "      <td>2455534</td>\n",
       "      <td>8938747</td>\n",
       "      <td>7</td>\n",
       "      <td>0</td>\n",
       "      <td>4</td>\n",
       "      <td>16</td>\n",
       "      <td>12</td>\n",
       "      <td>10.866433</td>\n",
       "    </tr>\n",
       "    <tr>\n",
       "      <th>21</th>\n",
       "      <td>2016-12-16 07:15:00</td>\n",
       "      <td>487072</td>\n",
       "      <td>11563304</td>\n",
       "      <td>7</td>\n",
       "      <td>15</td>\n",
       "      <td>4</td>\n",
       "      <td>16</td>\n",
       "      <td>12</td>\n",
       "      <td>11.492134</td>\n",
       "    </tr>\n",
       "    <tr>\n",
       "      <th>22</th>\n",
       "      <td>2016-12-16 07:30:00</td>\n",
       "      <td>461693</td>\n",
       "      <td>1130407</td>\n",
       "      <td>7</td>\n",
       "      <td>30</td>\n",
       "      <td>4</td>\n",
       "      <td>16</td>\n",
       "      <td>12</td>\n",
       "      <td>1.518345</td>\n",
       "    </tr>\n",
       "    <tr>\n",
       "      <th>23</th>\n",
       "      <td>2016-12-16 07:45:00</td>\n",
       "      <td>966694</td>\n",
       "      <td>8332089</td>\n",
       "      <td>7</td>\n",
       "      <td>45</td>\n",
       "      <td>4</td>\n",
       "      <td>16</td>\n",
       "      <td>12</td>\n",
       "      <td>8.868011</td>\n",
       "    </tr>\n",
       "    <tr>\n",
       "      <th>24</th>\n",
       "      <td>2016-12-16 08:00:00</td>\n",
       "      <td>4254280</td>\n",
       "      <td>19584461</td>\n",
       "      <td>8</td>\n",
       "      <td>0</td>\n",
       "      <td>4</td>\n",
       "      <td>16</td>\n",
       "      <td>12</td>\n",
       "      <td>22.734395</td>\n",
       "    </tr>\n",
       "    <tr>\n",
       "      <th>25</th>\n",
       "      <td>2016-12-16 08:15:00</td>\n",
       "      <td>15126970</td>\n",
       "      <td>220959703</td>\n",
       "      <td>8</td>\n",
       "      <td>15</td>\n",
       "      <td>4</td>\n",
       "      <td>16</td>\n",
       "      <td>12</td>\n",
       "      <td>225.149796</td>\n",
       "    </tr>\n",
       "    <tr>\n",
       "      <th>26</th>\n",
       "      <td>2016-12-16 08:30:00</td>\n",
       "      <td>7231572</td>\n",
       "      <td>50407880</td>\n",
       "      <td>8</td>\n",
       "      <td>30</td>\n",
       "      <td>4</td>\n",
       "      <td>16</td>\n",
       "      <td>12</td>\n",
       "      <td>54.969265</td>\n",
       "    </tr>\n",
       "    <tr>\n",
       "      <th>27</th>\n",
       "      <td>2016-12-16 08:45:00</td>\n",
       "      <td>6429913</td>\n",
       "      <td>55643137</td>\n",
       "      <td>8</td>\n",
       "      <td>45</td>\n",
       "      <td>4</td>\n",
       "      <td>16</td>\n",
       "      <td>12</td>\n",
       "      <td>59.197474</td>\n",
       "    </tr>\n",
       "    <tr>\n",
       "      <th>28</th>\n",
       "      <td>2016-12-16 09:00:00</td>\n",
       "      <td>13734450</td>\n",
       "      <td>178195874</td>\n",
       "      <td>9</td>\n",
       "      <td>0</td>\n",
       "      <td>4</td>\n",
       "      <td>16</td>\n",
       "      <td>12</td>\n",
       "      <td>183.039021</td>\n",
       "    </tr>\n",
       "    <tr>\n",
       "      <th>29</th>\n",
       "      <td>2016-12-16 09:15:00</td>\n",
       "      <td>20046353</td>\n",
       "      <td>155641559</td>\n",
       "      <td>9</td>\n",
       "      <td>15</td>\n",
       "      <td>4</td>\n",
       "      <td>16</td>\n",
       "      <td>12</td>\n",
       "      <td>167.549049</td>\n",
       "    </tr>\n",
       "    <tr>\n",
       "      <th>...</th>\n",
       "      <td>...</td>\n",
       "      <td>...</td>\n",
       "      <td>...</td>\n",
       "      <td>...</td>\n",
       "      <td>...</td>\n",
       "      <td>...</td>\n",
       "      <td>...</td>\n",
       "      <td>...</td>\n",
       "      <td>...</td>\n",
       "    </tr>\n",
       "    <tr>\n",
       "      <th>2555</th>\n",
       "      <td>2017-01-11 16:45:00</td>\n",
       "      <td>11832418</td>\n",
       "      <td>35555070</td>\n",
       "      <td>16</td>\n",
       "      <td>45</td>\n",
       "      <td>2</td>\n",
       "      <td>11</td>\n",
       "      <td>1</td>\n",
       "      <td>45.192230</td>\n",
       "    </tr>\n",
       "    <tr>\n",
       "      <th>2556</th>\n",
       "      <td>2017-01-11 17:00:00</td>\n",
       "      <td>10905288</td>\n",
       "      <td>18550112</td>\n",
       "      <td>17</td>\n",
       "      <td>0</td>\n",
       "      <td>2</td>\n",
       "      <td>11</td>\n",
       "      <td>1</td>\n",
       "      <td>28.090858</td>\n",
       "    </tr>\n",
       "    <tr>\n",
       "      <th>2557</th>\n",
       "      <td>2017-01-11 17:15:00</td>\n",
       "      <td>1692203</td>\n",
       "      <td>4273222</td>\n",
       "      <td>17</td>\n",
       "      <td>15</td>\n",
       "      <td>2</td>\n",
       "      <td>11</td>\n",
       "      <td>1</td>\n",
       "      <td>5.689073</td>\n",
       "    </tr>\n",
       "    <tr>\n",
       "      <th>2558</th>\n",
       "      <td>2017-01-11 17:30:00</td>\n",
       "      <td>1042201</td>\n",
       "      <td>9153333</td>\n",
       "      <td>17</td>\n",
       "      <td>30</td>\n",
       "      <td>2</td>\n",
       "      <td>11</td>\n",
       "      <td>1</td>\n",
       "      <td>9.723219</td>\n",
       "    </tr>\n",
       "    <tr>\n",
       "      <th>2559</th>\n",
       "      <td>2017-01-11 17:45:00</td>\n",
       "      <td>740077</td>\n",
       "      <td>11432444</td>\n",
       "      <td>17</td>\n",
       "      <td>45</td>\n",
       "      <td>2</td>\n",
       "      <td>11</td>\n",
       "      <td>1</td>\n",
       "      <td>11.608621</td>\n",
       "    </tr>\n",
       "    <tr>\n",
       "      <th>2560</th>\n",
       "      <td>2017-01-11 18:00:00</td>\n",
       "      <td>373321</td>\n",
       "      <td>1321659</td>\n",
       "      <td>18</td>\n",
       "      <td>0</td>\n",
       "      <td>2</td>\n",
       "      <td>11</td>\n",
       "      <td>1</td>\n",
       "      <td>1.616459</td>\n",
       "    </tr>\n",
       "    <tr>\n",
       "      <th>2561</th>\n",
       "      <td>2017-01-11 18:15:00</td>\n",
       "      <td>261174</td>\n",
       "      <td>502473</td>\n",
       "      <td>18</td>\n",
       "      <td>15</td>\n",
       "      <td>2</td>\n",
       "      <td>11</td>\n",
       "      <td>1</td>\n",
       "      <td>0.728271</td>\n",
       "    </tr>\n",
       "    <tr>\n",
       "      <th>2562</th>\n",
       "      <td>2017-01-11 18:30:00</td>\n",
       "      <td>593792</td>\n",
       "      <td>1153430</td>\n",
       "      <td>18</td>\n",
       "      <td>30</td>\n",
       "      <td>2</td>\n",
       "      <td>11</td>\n",
       "      <td>1</td>\n",
       "      <td>1.666281</td>\n",
       "    </tr>\n",
       "    <tr>\n",
       "      <th>2563</th>\n",
       "      <td>2017-01-11 18:45:00</td>\n",
       "      <td>174000</td>\n",
       "      <td>1381704</td>\n",
       "      <td>18</td>\n",
       "      <td>45</td>\n",
       "      <td>2</td>\n",
       "      <td>11</td>\n",
       "      <td>1</td>\n",
       "      <td>1.483635</td>\n",
       "    </tr>\n",
       "    <tr>\n",
       "      <th>2564</th>\n",
       "      <td>2017-01-11 19:00:00</td>\n",
       "      <td>158071</td>\n",
       "      <td>168991</td>\n",
       "      <td>19</td>\n",
       "      <td>0</td>\n",
       "      <td>2</td>\n",
       "      <td>11</td>\n",
       "      <td>1</td>\n",
       "      <td>0.311911</td>\n",
       "    </tr>\n",
       "    <tr>\n",
       "      <th>2565</th>\n",
       "      <td>2017-01-11 19:15:00</td>\n",
       "      <td>353883</td>\n",
       "      <td>743241</td>\n",
       "      <td>19</td>\n",
       "      <td>15</td>\n",
       "      <td>2</td>\n",
       "      <td>11</td>\n",
       "      <td>1</td>\n",
       "      <td>1.046299</td>\n",
       "    </tr>\n",
       "    <tr>\n",
       "      <th>2566</th>\n",
       "      <td>2017-01-11 19:30:00</td>\n",
       "      <td>329653</td>\n",
       "      <td>459999</td>\n",
       "      <td>19</td>\n",
       "      <td>30</td>\n",
       "      <td>2</td>\n",
       "      <td>11</td>\n",
       "      <td>1</td>\n",
       "      <td>0.753071</td>\n",
       "    </tr>\n",
       "    <tr>\n",
       "      <th>2567</th>\n",
       "      <td>2017-01-11 19:45:00</td>\n",
       "      <td>60219</td>\n",
       "      <td>71663</td>\n",
       "      <td>19</td>\n",
       "      <td>45</td>\n",
       "      <td>2</td>\n",
       "      <td>11</td>\n",
       "      <td>1</td>\n",
       "      <td>0.125772</td>\n",
       "    </tr>\n",
       "    <tr>\n",
       "      <th>2568</th>\n",
       "      <td>2017-01-11 20:00:00</td>\n",
       "      <td>96527</td>\n",
       "      <td>103608</td>\n",
       "      <td>20</td>\n",
       "      <td>0</td>\n",
       "      <td>2</td>\n",
       "      <td>11</td>\n",
       "      <td>1</td>\n",
       "      <td>0.190864</td>\n",
       "    </tr>\n",
       "    <tr>\n",
       "      <th>2569</th>\n",
       "      <td>2017-01-11 20:15:00</td>\n",
       "      <td>74980</td>\n",
       "      <td>175699</td>\n",
       "      <td>20</td>\n",
       "      <td>15</td>\n",
       "      <td>2</td>\n",
       "      <td>11</td>\n",
       "      <td>1</td>\n",
       "      <td>0.239066</td>\n",
       "    </tr>\n",
       "    <tr>\n",
       "      <th>2570</th>\n",
       "      <td>2017-01-11 20:30:00</td>\n",
       "      <td>34373</td>\n",
       "      <td>10858</td>\n",
       "      <td>20</td>\n",
       "      <td>30</td>\n",
       "      <td>2</td>\n",
       "      <td>11</td>\n",
       "      <td>1</td>\n",
       "      <td>0.043136</td>\n",
       "    </tr>\n",
       "    <tr>\n",
       "      <th>2571</th>\n",
       "      <td>2017-01-11 20:45:00</td>\n",
       "      <td>91974</td>\n",
       "      <td>116450</td>\n",
       "      <td>20</td>\n",
       "      <td>45</td>\n",
       "      <td>2</td>\n",
       "      <td>11</td>\n",
       "      <td>1</td>\n",
       "      <td>0.198769</td>\n",
       "    </tr>\n",
       "    <tr>\n",
       "      <th>2572</th>\n",
       "      <td>2017-01-11 21:00:00</td>\n",
       "      <td>43600</td>\n",
       "      <td>44485</td>\n",
       "      <td>21</td>\n",
       "      <td>0</td>\n",
       "      <td>2</td>\n",
       "      <td>11</td>\n",
       "      <td>1</td>\n",
       "      <td>0.084004</td>\n",
       "    </tr>\n",
       "    <tr>\n",
       "      <th>2573</th>\n",
       "      <td>2017-01-11 21:15:00</td>\n",
       "      <td>30845</td>\n",
       "      <td>5881</td>\n",
       "      <td>21</td>\n",
       "      <td>15</td>\n",
       "      <td>2</td>\n",
       "      <td>11</td>\n",
       "      <td>1</td>\n",
       "      <td>0.035025</td>\n",
       "    </tr>\n",
       "    <tr>\n",
       "      <th>2574</th>\n",
       "      <td>2017-01-11 21:30:00</td>\n",
       "      <td>41352</td>\n",
       "      <td>57081</td>\n",
       "      <td>21</td>\n",
       "      <td>30</td>\n",
       "      <td>2</td>\n",
       "      <td>11</td>\n",
       "      <td>1</td>\n",
       "      <td>0.093873</td>\n",
       "    </tr>\n",
       "    <tr>\n",
       "      <th>2575</th>\n",
       "      <td>2017-01-11 21:45:00</td>\n",
       "      <td>43112</td>\n",
       "      <td>19792</td>\n",
       "      <td>21</td>\n",
       "      <td>45</td>\n",
       "      <td>2</td>\n",
       "      <td>11</td>\n",
       "      <td>1</td>\n",
       "      <td>0.059990</td>\n",
       "    </tr>\n",
       "    <tr>\n",
       "      <th>2576</th>\n",
       "      <td>2017-01-11 22:00:00</td>\n",
       "      <td>70155</td>\n",
       "      <td>116361</td>\n",
       "      <td>22</td>\n",
       "      <td>0</td>\n",
       "      <td>2</td>\n",
       "      <td>11</td>\n",
       "      <td>1</td>\n",
       "      <td>0.177876</td>\n",
       "    </tr>\n",
       "    <tr>\n",
       "      <th>2577</th>\n",
       "      <td>2017-01-11 22:15:00</td>\n",
       "      <td>42703</td>\n",
       "      <td>45905</td>\n",
       "      <td>22</td>\n",
       "      <td>15</td>\n",
       "      <td>2</td>\n",
       "      <td>11</td>\n",
       "      <td>1</td>\n",
       "      <td>0.084503</td>\n",
       "    </tr>\n",
       "    <tr>\n",
       "      <th>2578</th>\n",
       "      <td>2017-01-11 22:30:00</td>\n",
       "      <td>39356</td>\n",
       "      <td>32032</td>\n",
       "      <td>22</td>\n",
       "      <td>30</td>\n",
       "      <td>2</td>\n",
       "      <td>11</td>\n",
       "      <td>1</td>\n",
       "      <td>0.068081</td>\n",
       "    </tr>\n",
       "    <tr>\n",
       "      <th>2579</th>\n",
       "      <td>2017-01-11 22:45:00</td>\n",
       "      <td>32044</td>\n",
       "      <td>9914</td>\n",
       "      <td>22</td>\n",
       "      <td>45</td>\n",
       "      <td>2</td>\n",
       "      <td>11</td>\n",
       "      <td>1</td>\n",
       "      <td>0.040014</td>\n",
       "    </tr>\n",
       "    <tr>\n",
       "      <th>2580</th>\n",
       "      <td>2017-01-11 23:00:00</td>\n",
       "      <td>32421</td>\n",
       "      <td>10918</td>\n",
       "      <td>23</td>\n",
       "      <td>0</td>\n",
       "      <td>2</td>\n",
       "      <td>11</td>\n",
       "      <td>1</td>\n",
       "      <td>0.041331</td>\n",
       "    </tr>\n",
       "    <tr>\n",
       "      <th>2581</th>\n",
       "      <td>2017-01-11 23:15:00</td>\n",
       "      <td>43273</td>\n",
       "      <td>15096</td>\n",
       "      <td>23</td>\n",
       "      <td>15</td>\n",
       "      <td>2</td>\n",
       "      <td>11</td>\n",
       "      <td>1</td>\n",
       "      <td>0.055665</td>\n",
       "    </tr>\n",
       "    <tr>\n",
       "      <th>2582</th>\n",
       "      <td>2017-01-11 23:30:00</td>\n",
       "      <td>46403</td>\n",
       "      <td>80250</td>\n",
       "      <td>23</td>\n",
       "      <td>30</td>\n",
       "      <td>2</td>\n",
       "      <td>11</td>\n",
       "      <td>1</td>\n",
       "      <td>0.120786</td>\n",
       "    </tr>\n",
       "    <tr>\n",
       "      <th>2583</th>\n",
       "      <td>2017-01-11 23:45:00</td>\n",
       "      <td>32607</td>\n",
       "      <td>10760</td>\n",
       "      <td>23</td>\n",
       "      <td>45</td>\n",
       "      <td>2</td>\n",
       "      <td>11</td>\n",
       "      <td>1</td>\n",
       "      <td>0.041358</td>\n",
       "    </tr>\n",
       "    <tr>\n",
       "      <th>2584</th>\n",
       "      <td>2017-01-12 00:00:00</td>\n",
       "      <td>14348</td>\n",
       "      <td>2050</td>\n",
       "      <td>0</td>\n",
       "      <td>0</td>\n",
       "      <td>3</td>\n",
       "      <td>12</td>\n",
       "      <td>1</td>\n",
       "      <td>0.015638</td>\n",
       "    </tr>\n",
       "  </tbody>\n",
       "</table>\n",
       "<p>2585 rows × 9 columns</p>\n",
       "</div>"
      ],
      "text/plain": [
       "           update_time15  sent_bytes  rcvd_bytes  hour  min  dow  day  month  \\\n",
       "0    2016-12-16 02:00:00       10312       26532     2    0    4   16     12   \n",
       "1    2016-12-16 02:15:00        9776       26516     2   15    4   16     12   \n",
       "2    2016-12-16 02:30:00      144026      146568     2   30    4   16     12   \n",
       "3    2016-12-16 02:45:00       12338       56552     2   45    4   16     12   \n",
       "4    2016-12-16 03:00:00      332556    18511495     3    0    4   16     12   \n",
       "5    2016-12-16 03:15:00      268161    12195421     3   15    4   16     12   \n",
       "6    2016-12-16 03:30:00        2609        8440     3   30    4   16     12   \n",
       "7    2016-12-16 03:45:00        1725        4205     3   45    4   16     12   \n",
       "8    2016-12-16 04:00:00       14523       18267     4    0    4   16     12   \n",
       "9    2016-12-16 04:15:00      113790       55959     4   15    4   16     12   \n",
       "10   2016-12-16 04:30:00        5923       11121     4   30    4   16     12   \n",
       "11   2016-12-16 04:45:00        1661        4205     4   45    4   16     12   \n",
       "12   2016-12-16 05:00:00       14857       14834     5    0    4   16     12   \n",
       "13   2016-12-16 05:15:00        1661        4205     5   15    4   16     12   \n",
       "14   2016-12-16 05:30:00       16822       36883     5   30    4   16     12   \n",
       "15   2016-12-16 05:45:00      131291      929749     5   45    4   16     12   \n",
       "16   2016-12-16 06:00:00       33193      244484     6    0    4   16     12   \n",
       "17   2016-12-16 06:15:00        4361        6524     6   15    4   16     12   \n",
       "18   2016-12-16 06:30:00       12798       39314     6   30    4   16     12   \n",
       "19   2016-12-16 06:45:00     1860435    15853226     6   45    4   16     12   \n",
       "20   2016-12-16 07:00:00     2455534     8938747     7    0    4   16     12   \n",
       "21   2016-12-16 07:15:00      487072    11563304     7   15    4   16     12   \n",
       "22   2016-12-16 07:30:00      461693     1130407     7   30    4   16     12   \n",
       "23   2016-12-16 07:45:00      966694     8332089     7   45    4   16     12   \n",
       "24   2016-12-16 08:00:00     4254280    19584461     8    0    4   16     12   \n",
       "25   2016-12-16 08:15:00    15126970   220959703     8   15    4   16     12   \n",
       "26   2016-12-16 08:30:00     7231572    50407880     8   30    4   16     12   \n",
       "27   2016-12-16 08:45:00     6429913    55643137     8   45    4   16     12   \n",
       "28   2016-12-16 09:00:00    13734450   178195874     9    0    4   16     12   \n",
       "29   2016-12-16 09:15:00    20046353   155641559     9   15    4   16     12   \n",
       "...                  ...         ...         ...   ...  ...  ...  ...    ...   \n",
       "2555 2017-01-11 16:45:00    11832418    35555070    16   45    2   11      1   \n",
       "2556 2017-01-11 17:00:00    10905288    18550112    17    0    2   11      1   \n",
       "2557 2017-01-11 17:15:00     1692203     4273222    17   15    2   11      1   \n",
       "2558 2017-01-11 17:30:00     1042201     9153333    17   30    2   11      1   \n",
       "2559 2017-01-11 17:45:00      740077    11432444    17   45    2   11      1   \n",
       "2560 2017-01-11 18:00:00      373321     1321659    18    0    2   11      1   \n",
       "2561 2017-01-11 18:15:00      261174      502473    18   15    2   11      1   \n",
       "2562 2017-01-11 18:30:00      593792     1153430    18   30    2   11      1   \n",
       "2563 2017-01-11 18:45:00      174000     1381704    18   45    2   11      1   \n",
       "2564 2017-01-11 19:00:00      158071      168991    19    0    2   11      1   \n",
       "2565 2017-01-11 19:15:00      353883      743241    19   15    2   11      1   \n",
       "2566 2017-01-11 19:30:00      329653      459999    19   30    2   11      1   \n",
       "2567 2017-01-11 19:45:00       60219       71663    19   45    2   11      1   \n",
       "2568 2017-01-11 20:00:00       96527      103608    20    0    2   11      1   \n",
       "2569 2017-01-11 20:15:00       74980      175699    20   15    2   11      1   \n",
       "2570 2017-01-11 20:30:00       34373       10858    20   30    2   11      1   \n",
       "2571 2017-01-11 20:45:00       91974      116450    20   45    2   11      1   \n",
       "2572 2017-01-11 21:00:00       43600       44485    21    0    2   11      1   \n",
       "2573 2017-01-11 21:15:00       30845        5881    21   15    2   11      1   \n",
       "2574 2017-01-11 21:30:00       41352       57081    21   30    2   11      1   \n",
       "2575 2017-01-11 21:45:00       43112       19792    21   45    2   11      1   \n",
       "2576 2017-01-11 22:00:00       70155      116361    22    0    2   11      1   \n",
       "2577 2017-01-11 22:15:00       42703       45905    22   15    2   11      1   \n",
       "2578 2017-01-11 22:30:00       39356       32032    22   30    2   11      1   \n",
       "2579 2017-01-11 22:45:00       32044        9914    22   45    2   11      1   \n",
       "2580 2017-01-11 23:00:00       32421       10918    23    0    2   11      1   \n",
       "2581 2017-01-11 23:15:00       43273       15096    23   15    2   11      1   \n",
       "2582 2017-01-11 23:30:00       46403       80250    23   30    2   11      1   \n",
       "2583 2017-01-11 23:45:00       32607       10760    23   45    2   11      1   \n",
       "2584 2017-01-12 00:00:00       14348        2050     0    0    3   12      1   \n",
       "\n",
       "         traffic  \n",
       "0       0.035137  \n",
       "1       0.034611  \n",
       "2       0.277132  \n",
       "3       0.065699  \n",
       "4      17.971087  \n",
       "5      11.886198  \n",
       "6       0.010537  \n",
       "7       0.005655  \n",
       "8       0.031271  \n",
       "9       0.161885  \n",
       "10      0.016254  \n",
       "11      0.005594  \n",
       "12      0.028316  \n",
       "13      0.005594  \n",
       "14      0.051217  \n",
       "15      1.011887  \n",
       "16      0.264813  \n",
       "17      0.010381  \n",
       "18      0.049698  \n",
       "19     16.893064  \n",
       "20     10.866433  \n",
       "21     11.492134  \n",
       "22      1.518345  \n",
       "23      8.868011  \n",
       "24     22.734395  \n",
       "25    225.149796  \n",
       "26     54.969265  \n",
       "27     59.197474  \n",
       "28    183.039021  \n",
       "29    167.549049  \n",
       "...          ...  \n",
       "2555   45.192230  \n",
       "2556   28.090858  \n",
       "2557    5.689073  \n",
       "2558    9.723219  \n",
       "2559   11.608621  \n",
       "2560    1.616459  \n",
       "2561    0.728271  \n",
       "2562    1.666281  \n",
       "2563    1.483635  \n",
       "2564    0.311911  \n",
       "2565    1.046299  \n",
       "2566    0.753071  \n",
       "2567    0.125772  \n",
       "2568    0.190864  \n",
       "2569    0.239066  \n",
       "2570    0.043136  \n",
       "2571    0.198769  \n",
       "2572    0.084004  \n",
       "2573    0.035025  \n",
       "2574    0.093873  \n",
       "2575    0.059990  \n",
       "2576    0.177876  \n",
       "2577    0.084503  \n",
       "2578    0.068081  \n",
       "2579    0.040014  \n",
       "2580    0.041331  \n",
       "2581    0.055665  \n",
       "2582    0.120786  \n",
       "2583    0.041358  \n",
       "2584    0.015638  \n",
       "\n",
       "[2585 rows x 9 columns]"
      ]
     },
     "execution_count": 111,
     "metadata": {},
     "output_type": "execute_result"
    }
   ],
   "source": [
    "forecast_data_2"
   ]
  },
  {
   "cell_type": "code",
   "execution_count": 132,
   "metadata": {
    "collapsed": true
   },
   "outputs": [],
   "source": [
    "f = open('forecastdata.p','wb')\n",
    "pickle.dump(forecast_data_2,f)\n",
    "f.close()"
   ]
  },
  {
   "cell_type": "code",
   "execution_count": 6,
   "metadata": {
    "collapsed": true
   },
   "outputs": [],
   "source": [
    "forecast_data_2 = pickle.load(open('forecastdata.p','rb'))"
   ]
  },
  {
   "cell_type": "code",
   "execution_count": 7,
   "metadata": {
    "collapsed": false
   },
   "outputs": [
    {
     "data": {
      "text/plain": [
       "<matplotlib.axes._subplots.AxesSubplot at 0x2671146d748>"
      ]
     },
     "execution_count": 7,
     "metadata": {},
     "output_type": "execute_result"
    },
    {
     "data": {
      "image/png": "[encoded data removed]",
      "text/plain": [
       "<matplotlib.figure.Figure at 0x26711456e48>"
      ]
     },
     "metadata": {},
     "output_type": "display_data"
    }
   ],
   "source": [
    "forecast_data_2.set_index('update_time15')['traffic'].plot(kind='line',figsize=(12,6))"
   ]
  },
  {
   "cell_type": "code",
   "execution_count": 8,
   "metadata": {
    "collapsed": false
   },
   "outputs": [],
   "source": [
    "forecast_data_2.drop(['day','month'],axis=1,inplace=True)"
   ]
  },
  {
   "cell_type": "code",
   "execution_count": 163,
   "metadata": {
    "collapsed": false
   },
   "outputs": [
    {
     "data": {
      "text/html": [
       "<div>\n",
       "<table border=\"1\" class=\"dataframe\">\n",
       "  <thead>\n",
       "    <tr style=\"text-align: right;\">\n",
       "      <th></th>\n",
       "      <th>update_time15</th>\n",
       "      <th>sent_bytes</th>\n",
       "      <th>rcvd_bytes</th>\n",
       "      <th>hour</th>\n",
       "      <th>min</th>\n",
       "      <th>dow</th>\n",
       "      <th>traffic</th>\n",
       "      <th>seasdiff</th>\n",
       "    </tr>\n",
       "  </thead>\n",
       "  <tbody>\n",
       "    <tr>\n",
       "      <th>2580</th>\n",
       "      <td>2017-01-11 23:00:00</td>\n",
       "      <td>32421</td>\n",
       "      <td>10918</td>\n",
       "      <td>23</td>\n",
       "      <td>0</td>\n",
       "      <td>2</td>\n",
       "      <td>0.041331</td>\n",
       "      <td>-480.656167</td>\n",
       "    </tr>\n",
       "    <tr>\n",
       "      <th>2581</th>\n",
       "      <td>2017-01-11 23:15:00</td>\n",
       "      <td>43273</td>\n",
       "      <td>15096</td>\n",
       "      <td>23</td>\n",
       "      <td>15</td>\n",
       "      <td>2</td>\n",
       "      <td>0.055665</td>\n",
       "      <td>-300.469033</td>\n",
       "    </tr>\n",
       "    <tr>\n",
       "      <th>2582</th>\n",
       "      <td>2017-01-11 23:30:00</td>\n",
       "      <td>46403</td>\n",
       "      <td>80250</td>\n",
       "      <td>23</td>\n",
       "      <td>30</td>\n",
       "      <td>2</td>\n",
       "      <td>0.120786</td>\n",
       "      <td>-48.973396</td>\n",
       "    </tr>\n",
       "    <tr>\n",
       "      <th>2583</th>\n",
       "      <td>2017-01-11 23:45:00</td>\n",
       "      <td>32607</td>\n",
       "      <td>10760</td>\n",
       "      <td>23</td>\n",
       "      <td>45</td>\n",
       "      <td>2</td>\n",
       "      <td>0.041358</td>\n",
       "      <td>-23.705918</td>\n",
       "    </tr>\n",
       "    <tr>\n",
       "      <th>2584</th>\n",
       "      <td>2017-01-12 00:00:00</td>\n",
       "      <td>14348</td>\n",
       "      <td>2050</td>\n",
       "      <td>0</td>\n",
       "      <td>0</td>\n",
       "      <td>3</td>\n",
       "      <td>0.015638</td>\n",
       "      <td>-61.502665</td>\n",
       "    </tr>\n",
       "  </tbody>\n",
       "</table>\n",
       "</div>"
      ],
      "text/plain": [
       "           update_time15  sent_bytes  rcvd_bytes  hour  min  dow   traffic  \\\n",
       "2580 2017-01-11 23:00:00       32421       10918    23    0    2  0.041331   \n",
       "2581 2017-01-11 23:15:00       43273       15096    23   15    2  0.055665   \n",
       "2582 2017-01-11 23:30:00       46403       80250    23   30    2  0.120786   \n",
       "2583 2017-01-11 23:45:00       32607       10760    23   45    2  0.041358   \n",
       "2584 2017-01-12 00:00:00       14348        2050     0    0    3  0.015638   \n",
       "\n",
       "        seasdiff  \n",
       "2580 -480.656167  \n",
       "2581 -300.469033  \n",
       "2582  -48.973396  \n",
       "2583  -23.705918  \n",
       "2584  -61.502665  "
      ]
     },
     "execution_count": 163,
     "metadata": {},
     "output_type": "execute_result"
    }
   ],
   "source": [
    "forecast_data_2.tail()"
   ]
  },
  {
   "cell_type": "code",
   "execution_count": 153,
   "metadata": {
    "collapsed": false
   },
   "outputs": [],
   "source": [
    "from statsmodels.tsa.stattools import adfuller\n",
    "def test_stationarity(timeseries):\n",
    "\n",
    "    #Determing rolling statistics\n",
    "    rolmean = pd.rolling_mean(timeseries, window=12)\n",
    "    rolstd = pd.rolling_std(timeseries, window=12)\n",
    "\n",
    "    #Plot rolling statistics:\n",
    "    fig = plt.figure(figsize=(12, 8))\n",
    "    orig = plt.plot(timeseries, color='blue',label='Original')\n",
    "    mean = plt.plot(rolmean, color='red', label='Rolling Mean')\n",
    "    std = plt.plot(rolstd, color='black', label = 'Rolling Std')\n",
    "    plt.legend(loc='best')\n",
    "    plt.title('Rolling Mean & Standard Deviation')\n",
    "    plt.show()\n",
    "    \n",
    "    #Perform Dickey-Fuller test:\n",
    "    print ('Results of Dickey-Fuller Test:')\n",
    "    dftest = adfuller(timeseries, autolag='AIC')\n",
    "    dfoutput = pd.Series(dftest[0:4], index=['Test Statistic','p-value','#Lags Used','Number of Observations Used'])\n",
    "    for key,value in dftest[4].items():\n",
    "        dfoutput['Critical Value (%s)'%key] = value\n",
    "    print (dfoutput )"
   ]
  },
  {
   "cell_type": "code",
   "execution_count": 164,
   "metadata": {
    "collapsed": false
   },
   "outputs": [
    {
     "name": "stderr",
     "output_type": "stream",
     "text": [
      "C:\\Users\\Leonard\\Anaconda3\\lib\\site-packages\\ipykernel\\__main__.py:5: FutureWarning: pd.rolling_mean is deprecated for Series and will be removed in a future version, replace with \n",
      "\tSeries.rolling(center=False,window=12).mean()\n",
      "C:\\Users\\Leonard\\Anaconda3\\lib\\site-packages\\ipykernel\\__main__.py:6: FutureWarning: pd.rolling_std is deprecated for Series and will be removed in a future version, replace with \n",
      "\tSeries.rolling(center=False,window=12).std()\n"
     ]
    },
    {
     "data": {
      "image/png": "[encoded data removed]",
      "text/plain": [
       "<matplotlib.figure.Figure at 0x26715098ac8>"
      ]
     },
     "metadata": {},
     "output_type": "display_data"
    },
    {
     "name": "stdout",
     "output_type": "stream",
     "text": [
      "Results of Dickey-Fuller Test:\n",
      "Test Statistic                -7.491510e+00\n",
      "p-value                        4.492738e-11\n",
      "#Lags Used                     1.500000e+01\n",
      "Number of Observations Used    1.897000e+03\n",
      "Critical Value (1%)           -3.433802e+00\n",
      "Critical Value (10%)          -2.567582e+00\n",
      "Critical Value (5%)           -2.863065e+00\n",
      "dtype: float64\n"
     ]
    }
   ],
   "source": [
    "forecast_data_2['seasdiff'] = forecast_data_2.traffic-forecast_data_2.traffic.shift(24*4*7)\n",
    "test_stationarity(forecast_data_2.seasdiff.dropna(inplace=False))"
   ]
  },
  {
   "cell_type": "code",
   "execution_count": null,
   "metadata": {
    "collapsed": true
   },
   "outputs": [],
   "source": []
  },
  {
   "cell_type": "code",
   "execution_count": null,
   "metadata": {
    "collapsed": true
   },
   "outputs": [],
   "source": []
  },
  {
   "cell_type": "code",
   "execution_count": null,
   "metadata": {
    "collapsed": true
   },
   "outputs": [],
   "source": []
  },
  {
   "cell_type": "code",
   "execution_count": null,
   "metadata": {
    "collapsed": true
   },
   "outputs": [],
   "source": []
  },
  {
   "cell_type": "code",
   "execution_count": null,
   "metadata": {
    "collapsed": true
   },
   "outputs": [],
   "source": []
  },
  {
   "cell_type": "code",
   "execution_count": null,
   "metadata": {
    "collapsed": true
   },
   "outputs": [],
   "source": []
  },
  {
   "cell_type": "code",
   "execution_count": 91,
   "metadata": {
    "collapsed": false
   },
   "outputs": [],
   "source": [
    "cutoffdate = datetime.datetime(2017,1,6,0,0,0)"
   ]
  },
  {
   "cell_type": "code",
   "execution_count": 142,
   "metadata": {
    "collapsed": false
   },
   "outputs": [],
   "source": [
    "traindata = forecast_data_2[forecast_data_2.update_time15<=cutoffdate]\n",
    "testdata = forecast_data_2[forecast_data_2.update_time15>cutoffdate]"
   ]
  },
  {
   "cell_type": "code",
   "execution_count": 143,
   "metadata": {
    "collapsed": true
   },
   "outputs": [],
   "source": [
    "X_train = np.array(traindata[traindata.columns.values[3:-1]])\n",
    "X_test = np.array(testdata[traindata.columns.values[3:-1]])\n",
    "y_train = np.array(traindata[traindata.columns.values[-1]])\n",
    "y_test = np.array(testdata[traindata.columns.values[-1]])"
   ]
  },
  {
   "cell_type": "code",
   "execution_count": 94,
   "metadata": {
    "collapsed": false
   },
   "outputs": [
    {
     "name": "stdout",
     "output_type": "stream",
     "text": [
      "(2009, 3) (2009,) (576, 3) (576,)\n"
     ]
    }
   ],
   "source": [
    "print(X_train.shape,y_train.shape ,X_test.shape,y_test.shape)"
   ]
  },
  {
   "cell_type": "code",
   "execution_count": 35,
   "metadata": {
    "collapsed": false
   },
   "outputs": [],
   "source": [
    "# y_test.T"
   ]
  },
  {
   "cell_type": "code",
   "execution_count": 25,
   "metadata": {
    "collapsed": true
   },
   "outputs": [],
   "source": [
    "import tpot\n",
    "from tpot import TPOTRegressor"
   ]
  },
  {
   "cell_type": "code",
   "execution_count": 26,
   "metadata": {
    "collapsed": true
   },
   "outputs": [],
   "source": [
    "def MAP_error(y_true, y_pred):\n",
    "    return float(sum(np.abs((y_pred - y_true)/y_true))) / len(y_true)"
   ]
  },
  {
   "cell_type": "code",
   "execution_count": 45,
   "metadata": {
    "collapsed": false
   },
   "outputs": [
    {
     "name": "stdout",
     "output_type": "stream",
     "text": [
      "Version 0.6.7 of tpot is outdated. Version 0.6.8 was released Thursday January 05, 2017.\n"
     ]
    },
    {
     "name": "stderr",
     "output_type": "stream",
     "text": []
    },
    {
     "name": "stdout",
     "output_type": "stream",
     "text": [
      "Generation 1 - Current best internal CV score: 20762.1825152655\n"
     ]
    },
    {
     "name": "stderr",
     "output_type": "stream",
     "text": []
    },
    {
     "name": "stdout",
     "output_type": "stream",
     "text": [
      "Generation 2 - Current best internal CV score: 20708.096496553484\n"
     ]
    },
    {
     "name": "stderr",
     "output_type": "stream",
     "text": []
    },
    {
     "name": "stdout",
     "output_type": "stream",
     "text": [
      "Generation 3 - Current best internal CV score: 20306.806198491715\n"
     ]
    },
    {
     "name": "stderr",
     "output_type": "stream",
     "text": []
    },
    {
     "name": "stdout",
     "output_type": "stream",
     "text": [
      "Generation 4 - Current best internal CV score: 20306.806198491715\n"
     ]
    },
    {
     "name": "stderr",
     "output_type": "stream",
     "text": []
    },
    {
     "name": "stdout",
     "output_type": "stream",
     "text": [
      "Generation 5 - Current best internal CV score: 20306.806198491715\n"
     ]
    },
    {
     "name": "stderr",
     "output_type": "stream",
     "text": [
      "Optimization Progress:  51%|█████▌     | 281/550 [17:56<26:34,  5.93s/pipeline]"
     ]
    },
    {
     "name": "stdout",
     "output_type": "stream",
     "text": [
      "\n",
      "GP closed prematurely - will use current best pipeline\n"
     ]
    },
    {
     "name": "stderr",
     "output_type": "stream",
     "text": []
    },
    {
     "name": "stdout",
     "output_type": "stream",
     "text": [
      "\n",
      "Best pipeline: RandomForestRegressor(FastICA(input_matrix, 0.040000000000000001))\n"
     ]
    }
   ],
   "source": [
    "regr = TPOTRegressor(generations=10,population_size=50,verbosity=2,num_cv_folds=5,scoring='mean_squared_error')\n",
    "regr.fit(X_train2,y_train)"
   ]
  },
  {
   "cell_type": "code",
   "execution_count": 44,
   "metadata": {
    "collapsed": false
   },
   "outputs": [],
   "source": [
    "regr.export('goodtpotmodel.py')\n"
   ]
  },
  {
   "cell_type": "code",
   "execution_count": null,
   "metadata": {
    "collapsed": true
   },
   "outputs": [],
   "source": [
    "Best pipeline: GradientBoostingRegressor(KNeighborsRegressor(GradientBoostingRegressor(ExtraTreesRegressor(input_matrix, 0.70000000000000007), 0.10000000000000001, 0.0001), 28, 35), 23.0, 14.0)\n",
    "Best pipeline: ExtraTreesRegressor(VarianceThreshold(ElasticNet(input_matrix, 42.0, 0.83999999999999997), 26.0), 0.69000000000000006)"
   ]
  },
  {
   "cell_type": "code",
   "execution_count": 139,
   "metadata": {
    "collapsed": false
   },
   "outputs": [
    {
     "data": {
      "text/plain": [
       "Pipeline(steps=[('featureunion', FeatureUnion(n_jobs=1,\n",
       "       transformer_list=[('votingclassifier', VotingClassifier(estimators=[('est', ElasticNet(alpha=1.0, copy_X=True, fit_intercept=True, l1_ratio=0.84,\n",
       "      max_iter=1000, normalize=False, positive=False, precompute=False,\n",
       "      random_state=None, sel...timators=500, n_jobs=1, oob_score=False, random_state=None,\n",
       "          verbose=0, warm_start=False))])"
      ]
     },
     "execution_count": 139,
     "metadata": {},
     "output_type": "execute_result"
    }
   ],
   "source": [
    "import numpy as np\n",
    "\n",
    "from sklearn.ensemble import ExtraTreesRegressor, VotingClassifier\n",
    "from sklearn.feature_selection import VarianceThreshold\n",
    "from sklearn.linear_model import ElasticNet\n",
    "from sklearn.model_selection import train_test_split\n",
    "from sklearn.pipeline import make_pipeline, make_union\n",
    "from sklearn.preprocessing import FunctionTransformer\n",
    "\n",
    "regr =  make_pipeline(\n",
    "    make_union(VotingClassifier([(\"est\", ElasticNet(alpha=1.0, l1_ratio=0.84))]), FunctionTransformer(lambda X: X)),\n",
    "    VarianceThreshold(threshold=26.0),\n",
    "    ExtraTreesRegressor(max_features=0.6900000000000001, n_estimators=500)\n",
    ")\n",
    "regr.fit(X_train,y_train)"
   ]
  },
  {
   "cell_type": "code",
   "execution_count": 48,
   "metadata": {
    "collapsed": false
   },
   "outputs": [
    {
     "name": "stdout",
     "output_type": "stream",
     "text": [
      "[  5.71717671e-01   3.25141861e-01   1.45179738e-01   2.51994569e-01\n",
      "   9.30381355e-01   1.70622590e+01   1.19188332e+00   7.63833023e-01\n",
      "   3.02069201e+00   1.14719529e+00   4.55439864e-01   1.89279991e+00\n",
      "   1.88362207e+00   7.48085634e+00   1.05777714e-01   1.44435637e-01\n",
      "   2.46144084e-01   8.38296466e-02   4.66675120e-01   3.21261934e-01\n",
      "   2.39033011e-01   2.08671519e-01   4.61835697e-01   9.08793101e-01\n",
      "   4.67538640e-01   1.04867664e+00   4.63294557e+00   9.40316609e+00\n",
      "   1.19510463e+01   1.11829942e+01   1.41440084e+01   5.27659017e+01\n",
      "   7.20289443e+01   5.14719948e+01   4.80087231e+01   3.97871081e+01\n",
      "   6.24059836e+01   6.23374484e+01   9.58649418e+01   6.65924758e+01\n",
      "   6.12392931e+01   8.73328538e+01   1.44186797e+02   1.06036700e+02\n",
      "   1.40447838e+02   1.05958679e+02   4.88035094e+02   1.55400422e+02\n",
      "   9.48450884e+01   6.03555814e+01   7.39001846e+01   9.74910929e+01\n",
      "   1.22766689e+02   1.64265645e+02   7.34180222e+01   7.25796525e+01\n",
      "   8.23510917e+01   8.03530774e+01   1.04231788e+02   1.03740193e+02\n",
      "   1.25724280e+02   1.01475864e+02   4.92709329e+02   1.42365038e+02\n",
      "   1.18179339e+02   9.00073946e+01   7.84648675e+01   1.62467232e+02\n",
      "   7.69838205e+01   1.16974958e+01   1.20090091e+01   8.95912741e+00\n",
      "   1.39814200e+02   2.42680790e+00   1.93214458e+00   1.17343015e+00\n",
      "   1.89670503e+00   2.32925097e+00   8.60334254e-01   2.10230454e+00\n",
      "   8.65875980e-01   3.95728458e+00   8.69883580e-01   1.78107447e+00\n",
      "   3.38533304e-01   6.04845428e-01   5.85348118e-01   1.29800280e+00\n",
      "   8.60506415e-01   2.57524560e-01   3.75502761e-01   2.32184612e-01\n",
      "   1.55383185e+00   1.44067296e-01   1.57087691e-01   8.16465990e-01\n",
      "   5.37357365e-01   2.72350766e-01   1.43771218e-01   2.49607796e-01\n",
      "   9.35050203e-01   1.70284108e+01   1.13404252e+00   7.19099627e-01\n",
      "   3.25687429e+00   1.07608846e+00   4.42779592e-01   1.78269465e+00\n",
      "   1.84802068e+00   7.01726046e+00   1.07933056e-01   1.44401067e-01\n",
      "   2.45255471e-01   8.38465149e-02   4.34310246e-01   3.21698641e-01\n",
      "   2.29274334e-01   2.04067952e-01   4.37951975e-01   8.63867699e-01\n",
      "   4.64740447e-01   1.07043323e+00   4.02401479e+00   8.92917026e+00\n",
      "   1.12135442e+01   1.11829942e+01   1.41440084e+01   4.48129502e+01\n",
      "   6.66046928e+01   4.85930471e+01   4.52832293e+01   3.97871081e+01\n",
      "   5.85253197e+01   5.93148111e+01   9.10118966e+01   6.11026484e+01\n",
      "   5.76355252e+01   8.13697217e+01   1.33973947e+02   9.70043721e+01\n",
      "   1.27691457e+02   1.00505775e+02   4.61260852e+02   1.47313014e+02\n",
      "   9.45809079e+01   5.58291054e+01   6.83570854e+01   9.06632765e+01\n",
      "   1.14345060e+02   1.42832642e+02   6.80044674e+01   6.66805743e+01\n",
      "   7.74607834e+01   7.56568461e+01   9.73769943e+01   9.09786625e+01\n",
      "   1.18396614e+02   9.41372896e+01   4.55920944e+02   1.32369103e+02\n",
      "   1.09477967e+02   8.40469206e+01   7.32030596e+01   1.51643226e+02\n",
      "   7.21017589e+01   1.09616977e+01   1.13620035e+01   8.51567046e+00\n",
      "   1.25709328e+02   2.29820242e+00   1.91593968e+00   1.14115869e+00\n",
      "   1.77545439e+00   2.26022081e+00   8.19995214e-01   1.93819036e+00\n",
      "   8.13504121e-01   4.07323530e+00   1.10492237e+00   1.66046154e+00\n",
      "   3.25485415e-01   5.57486407e-01   5.60502305e-01   1.23504503e+00\n",
      "   8.10079114e-01   2.47858978e-01   3.61032741e-01   2.23216299e-01\n",
      "   1.43801663e+00   1.42458799e-01   1.55349419e-01   8.16465990e-01\n",
      "   5.37357365e-01   2.72350766e-01   1.43771218e-01   2.49607796e-01\n",
      "   9.35050203e-01   1.69264464e+01   1.13404252e+00   7.19099627e-01\n",
      "   3.25687429e+00   1.07608846e+00   4.42779592e-01   1.78269465e+00\n",
      "   1.84802068e+00   7.01726046e+00   1.07933056e-01   1.44401067e-01\n",
      "   2.45255471e-01   8.38465149e-02   4.34310246e-01   3.21698641e-01\n",
      "   2.29274334e-01   2.04067952e-01   4.37951975e-01   8.63867699e-01\n",
      "   4.55283287e-01   1.07043323e+00   4.02401479e+00   8.92917026e+00\n",
      "   1.12135442e+01   1.03970223e+01   1.29749360e+01   4.48129502e+01\n",
      "   6.66046928e+01   4.85930471e+01   4.52832293e+01   3.68327949e+01\n",
      "   5.85253197e+01   5.93148111e+01   9.10118966e+01   6.11026484e+01\n",
      "   5.76355252e+01   8.13697217e+01   1.33973947e+02   9.70043721e+01\n",
      "   1.27691457e+02   1.00505775e+02   4.61260852e+02   1.47313014e+02\n",
      "   9.24483519e+01   5.58291054e+01   6.83570854e+01   9.06632765e+01\n",
      "   1.14345060e+02   1.42832642e+02   6.80044674e+01   6.66805743e+01\n",
      "   7.74607834e+01   7.56568461e+01   9.73769943e+01   9.09786625e+01\n",
      "   1.18396614e+02   9.41372896e+01   4.55920944e+02   1.32369103e+02\n",
      "   1.09477967e+02   8.40469206e+01   7.32030596e+01   1.51643226e+02\n",
      "   7.21017589e+01   1.09616977e+01   1.13620035e+01   8.51567046e+00\n",
      "   1.25709328e+02   2.29820242e+00   1.91593968e+00   1.14115869e+00\n",
      "   1.77545439e+00   2.26022081e+00   8.19995214e-01   1.93819036e+00\n",
      "   8.13504121e-01   5.10118160e+00   1.10492237e+00   1.66046154e+00\n",
      "   3.25485415e-01   5.57486407e-01   5.60502305e-01   1.23504503e+00\n",
      "   8.10079114e-01   2.47858978e-01   3.61032741e-01   2.23216299e-01\n",
      "   1.43801663e+00   1.42458799e-01   1.55349419e-01   8.62836081e-01\n",
      "   5.69690353e-01   2.82601309e-01   1.49844678e-01   1.83315972e-01\n",
      "   8.45896853e-01   8.71093316e+00   8.24490747e-01   6.74815944e-01\n",
      "   2.21524559e+00   9.98041817e-01   4.79470387e-01   1.59067031e+00\n",
      "   1.58767098e+00   8.46496394e+00   1.11786381e-01   1.65810615e-01\n",
      "   2.46769323e-01   8.92914188e-02   5.03755691e-01   2.69928191e-01\n",
      "   2.46810852e-01   2.23739754e-01   5.49801221e-01   8.98729162e-01\n",
      "   6.13238774e-01   1.10489940e+00   5.10287084e+00   9.69200870e+00\n",
      "   1.45614930e+01   1.16945562e+01   1.51491690e+01   5.97145120e+01\n",
      "   7.37262173e+01   6.20301116e+01   6.08868987e+01   4.39379664e+01\n",
      "   6.59388267e+01   8.33722771e+01   9.67102687e+01   8.35672540e+01\n",
      "   7.10023251e+01   8.58296748e+01   1.58181313e+02   1.15973474e+02\n",
      "   1.35942888e+02   1.38210350e+02   5.20579108e+02   1.80988924e+02\n",
      "   1.27600719e+02   8.31104284e+01   9.01247956e+01   1.20822999e+02\n",
      "   1.64240733e+02   2.38144735e+02   8.31503453e+01   8.44834999e+01\n",
      "   9.31186845e+01   9.02661437e+01   1.21604080e+02   1.04140082e+02\n",
      "   1.42839269e+02   1.36339774e+02   5.54593586e+02   1.53582801e+02\n",
      "   1.39250807e+02   9.81801197e+01   8.13781182e+01   1.68025402e+02\n",
      "   7.60988146e+01   1.15797436e+01   1.09503556e+01   9.49108507e+00\n",
      "   1.14032444e+02   3.22531207e+00   1.82511268e+00   1.51503177e+00\n",
      "   2.10064931e+00   2.51209517e+00   9.65004791e-01   2.34710847e+00\n",
      "   8.34113681e-01   2.76079041e+00   6.73795303e-01   2.04163099e+00\n",
      "   3.71372287e-01   5.61541384e-01   4.86705260e-01   1.39617450e+00\n",
      "   9.04524985e-01   2.40093884e-01   3.53900135e-01   2.30416311e-01\n",
      "   1.68852251e+00   1.43940451e-01   1.50032861e-01   8.62836081e-01\n",
      "   5.79551485e-01   3.00386176e-01   1.51939959e-01   1.88845767e-01\n",
      "   8.65912227e-01   9.38496877e+00   8.75357551e-01   7.09469703e-01\n",
      "   2.34943605e+00   1.05057948e+00   4.98988609e-01   1.67884947e+00\n",
      "   1.58767098e+00   8.30334460e+00   1.12723652e-01   1.53435302e-01\n",
      "   2.48876541e-01   8.92914188e-02   5.13337786e-01   2.78787676e-01\n",
      "   2.54504543e-01   2.31279787e-01   5.36918772e-01   9.55011008e-01\n",
      "   6.02209525e-01   1.15074010e+00   5.01254535e+00   1.01576384e+01\n",
      "   1.46977432e+01   1.17927513e+01   1.57915449e+01   5.86326978e+01\n",
      "   7.62098164e+01   6.28605209e+01   5.62125192e+01   4.25191754e+01\n",
      "   6.59388267e+01   7.82851693e+01   9.89953949e+01   8.16649877e+01\n",
      "   7.09178257e+01   9.06422031e+01   1.58181313e+02   1.15112140e+02\n",
      "   1.35805574e+02   1.32666099e+02   5.30404150e+02   1.79388993e+02\n",
      "   1.21827812e+02   7.66859875e+01   8.74314798e+01   1.09500663e+02\n",
      "   1.58803421e+02   1.95700603e+02   8.04784822e+01   8.10309624e+01\n",
      "   9.52831686e+01   9.16667781e+01   1.25513116e+02   1.06491576e+02\n",
      "   1.46167118e+02   1.28002765e+02   5.60041380e+02   1.54867581e+02\n",
      "   1.33896237e+02   1.01658818e+02   8.47945456e+01   1.72437901e+02\n",
      "   8.43767546e+01   1.15797436e+01   1.09503556e+01   1.02175054e+01\n",
      "   1.24573552e+02   3.21284918e+00   1.94272444e+00   1.51503177e+00\n",
      "   2.19294189e+00   2.66488690e+00   1.05557621e+00   2.44713471e+00\n",
      "   8.91387943e-01   2.91889886e+00   6.93641291e-01   2.20033687e+00\n",
      "   3.79641450e-01   5.84485847e-01   5.25176202e-01   1.47183741e+00\n",
      "   9.04524985e-01   2.55053962e-01   3.84225890e-01   2.35154309e-01\n",
      "   1.78962277e+00   1.43940451e-01   1.52959015e-01   9.63919462e-01\n",
      "   6.33172208e-01   3.21537371e-01   1.52307812e-01   1.99982827e-01\n",
      "   8.90412938e-01   1.05171226e+01   9.79363061e-01   7.86465048e-01\n",
      "   2.54544547e+00   1.13455776e+00   4.98938783e-01   1.83029612e+00\n",
      "   1.76714458e+00   8.16101808e+00   1.08105278e-01   1.50908834e-01\n",
      "   2.47634725e-01   8.72337929e-02   5.12327320e-01   2.88745076e-01\n",
      "   2.55619206e-01   2.31080546e-01   5.23067321e-01   1.03012267e+00\n",
      "   5.31331863e-01   1.12455129e+00   4.78662842e+00   1.02597264e+01\n",
      "   1.34876753e+01   1.21649511e+01   1.61711862e+01   5.54738505e+01\n",
      "   7.75723614e+01   5.96562360e+01   5.31186446e+01   4.26843630e+01\n",
      "   6.92604243e+01   7.35365105e+01   9.99911404e+01   7.57723603e+01\n",
      "   7.08670447e+01   9.20353208e+01   1.64919853e+02   1.13895086e+02\n",
      "   1.37007706e+02   1.31587533e+02   5.30404150e+02   1.72400065e+02\n",
      "   1.12090328e+02   6.97125899e+01   8.56007558e+01   1.08914422e+02\n",
      "   1.47142779e+02   1.72452417e+02   7.87223584e+01   7.86616889e+01\n",
      "   9.55751984e+01   9.13761402e+01   1.21923985e+02   1.07705457e+02\n",
      "   1.42679980e+02   1.19118191e+02   5.51085471e+02   1.52896490e+02\n",
      "   1.33880628e+02   1.02375322e+02   8.63732437e+01   1.77122544e+02\n",
      "   8.44362999e+01   1.25637422e+01   1.19907204e+01   1.05857654e+01\n",
      "   1.40079006e+02   3.21284918e+00   1.98826130e+00   1.39455026e+00\n",
      "   2.19009974e+00   2.59732465e+00   1.05528337e+00   2.44906996e+00\n",
      "   9.26263108e-01   3.08583503e+00   7.44826085e-01   2.15959782e+00\n",
      "   3.77667231e-01   6.23188553e-01   5.63808280e-01   1.47715742e+00\n",
      "   9.57233687e-01   2.83413090e-01   4.02844014e-01   2.42537461e-01\n",
      "   1.79106003e+00   1.48413896e-01   1.55660408e-01   9.64093397e-01] [  3.92322540e-02   2.68459320e-02   1.81474686e-02   2.47440338e-02\n",
      "   4.18881321e+00   4.49066162e-02   2.22015381e-02   7.00674057e-02\n",
      "   3.40185165e-02   1.62477493e-02   1.84535980e-02   2.60829926e-02\n",
      "   3.76453400e-02   1.69563293e-02   1.68476105e-02   3.32117081e-02\n",
      "   8.69560242e-02   1.64880753e-02   4.04214859e-02   2.94904709e-02\n",
      "   4.64620590e-02   1.67818069e-02   1.39220238e-01   4.24394608e-02\n",
      "   1.73778534e-02   2.29482651e-02   2.31161118e-02   3.12461853e-02\n",
      "   5.26971817e-02   3.20749283e-02   6.14500046e-02   4.96177673e-02\n",
      "   1.65300369e-02   5.38244247e-02   7.18985558e-01   1.01450825e+00\n",
      "   3.53817940e-01   1.63316727e-02   8.82358551e-02   4.61330414e-02\n",
      "   3.70823860e-01   5.99479675e-02   3.16704750e-01   2.19746580e+01\n",
      "   2.11741638e+00   1.89717550e+01   9.52209759e+00   1.61332417e+01\n",
      "   3.36708641e+00   3.03212070e+00   3.36139679e+00   3.45445633e+00\n",
      "   1.01266380e+02   1.04072161e+01   5.72162113e+01   1.94929790e+01\n",
      "   1.38004308e+02   9.26325417e+00   1.08330441e+00   1.38019276e+00\n",
      "   1.59295855e+01   1.40916071e+01   3.43921566e+00   4.33681870e+00\n",
      "   4.44775581e+00   9.83462238e+00   2.30785942e+00   3.26125622e+00\n",
      "   6.70777702e+00   1.05462093e+01   1.80967808e+00   3.53995895e+00\n",
      "   2.37769127e+00   1.20525265e+00   3.58704564e+02   1.03209496e-01\n",
      "   8.51964951e-02   1.62296295e-02   2.92072296e-02   5.34839630e-02\n",
      "   1.68218613e-02   1.64852142e-02   1.81312561e-02   2.82430649e-02\n",
      "   1.62477493e-02   1.65529251e-02   1.14929199e-01   4.22258377e-02\n",
      "   9.30643082e-02   1.61342621e-02   3.26271057e-02   1.65100098e-02\n",
      "   3.74088287e-02   2.25181580e-02   1.86367035e-02   3.24773788e-02\n",
      "   3.00455093e-02   1.71670914e-02   1.84211731e-02   1.79100037e-02\n",
      "   2.82619572e+00   1.72395706e-02   2.63843536e-02   1.61234856e-01\n",
      "   1.13428116e-01   2.71873474e-02   5.63488007e-02   4.49304581e-02\n",
      "   2.76517868e-02   1.61828995e-02   1.81045532e-02   3.30142975e-02\n",
      "   9.08098221e-02   1.70516968e-02   2.52676010e-02   4.02565002e-02\n",
      "   1.64995193e-02   3.33471298e-02   1.84001923e-02   3.24153900e-02\n",
      "   2.73523331e-02   1.60503387e-02   1.97620392e-02   1.67999268e-02\n",
      "   7.78617859e-02   2.83727646e-02   8.40711594e-02   3.36141586e-02\n",
      "   1.06765461e+01   4.34541702e-02   2.39471436e-01   1.05983734e-01\n",
      "   7.34056473e-01   1.06048250e+01   1.47613325e+01   1.27033234e-01\n",
      "   2.77684212e-01   3.79981804e+00   5.90639114e-02   2.33361998e+01\n",
      "   3.78811836e-01   7.73248672e-02   8.59775543e-02   1.11910820e-01\n",
      "   1.26657486e-01   4.20179367e-02   9.10758972e-02   3.59344482e-02\n",
      "   2.64870644e-01   1.23312950e-01   5.41162491e-02   1.74102783e-01\n",
      "   3.17583084e-01   3.12404633e-02   1.05546951e-01   9.82408714e+00\n",
      "   9.40580368e-02   1.55416489e-01   1.37012100e+00   2.02986145e+00\n",
      "   8.66093636e-01   1.65529251e-02   1.89285278e-02   3.93676758e-02\n",
      "   3.13720703e-02   1.58154488e-01   2.25658417e-02   3.92351151e-02\n",
      "   2.60133743e-02   4.41312790e-02   1.81016922e-02   1.78489685e-02\n",
      "   4.49361801e-02   4.22706604e-02   2.72655487e-02   3.33032608e-02\n",
      "   4.62265015e-02   1.31776934e+01   1.87034607e-02   2.57654190e-02\n",
      "   1.61307335e-01   1.71356201e-02   3.26881409e-02   3.37905884e-02\n",
      "   9.81597900e-02   1.70021057e-02   1.07661247e-01   7.75442123e-02\n",
      "   4.13599014e-02   2.86359787e-02   2.00986862e-02   6.35337830e-02\n",
      "   1.76076889e-02   1.58967972e-02   1.83076859e-02   2.50473022e-02\n",
      "   1.69542599e+00   4.70752716e-02   4.03680801e-02   3.32937241e-02\n",
      "   1.61867142e-02   2.70748138e-02   1.88064575e-02   1.80864334e-02\n",
      "   2.40850449e-02   3.84855270e-02   9.12580490e-02   3.21388245e-02\n",
      "   1.14801407e-01   2.00061798e-02   3.35043907e-01   1.87568665e-02\n",
      "   4.93984222e-02   7.79857635e-02   2.94504166e-02   3.21388245e-02\n",
      "   2.49938965e-02   1.61867142e-02   3.71170044e-02   4.05473709e-02\n",
      "   1.37511063e+00   4.49113846e-02   6.47621155e-02   3.74460220e-02\n",
      "   1.58967972e-02   3.64141464e-02   3.61509323e-02   1.79462433e-02\n",
      "   1.60417557e-02   3.64522934e-02   1.64136887e-02   3.90472412e-02\n",
      "   8.82072449e-02   5.00564575e-01   2.90412903e-02   1.42522936e+01\n",
      "   1.32065773e-01   1.22967234e+01   2.91970158e+00   1.26865683e+01\n",
      "   1.90709019e+00   1.46527672e+00   4.79549885e+00   5.67451639e+01\n",
      "   1.40392113e+01   2.72832870e+00   5.90829153e+01   2.86880589e+00\n",
      "   4.26935196e+00   3.74724770e+00   9.09686089e+00   5.61104012e+00\n",
      "   6.02166157e+01   9.21974754e+00   2.19573402e+00   1.60356760e+01\n",
      "   3.31745338e+00   2.75980377e+00   2.10102682e+01   5.81952124e+01\n",
      "   1.40517225e+01   9.22428608e+00   1.31123142e+01   2.49612808e+00\n",
      "   1.35271902e+01   1.12282237e+02   3.08290768e+00   1.75785923e+00\n",
      "   1.54639530e+00   8.21964588e+01   1.75289440e+00   4.11809444e+00\n",
      "   1.86703777e+00   3.10430431e+00   5.09974957e+00   1.35190773e+00\n",
      "   4.91237736e+00   2.03047657e+00   2.11015987e+00   2.55856729e+02\n",
      "   9.60407257e-02   1.68457031e-02   2.29005814e-02   2.65607834e-02\n",
      "   2.75754929e-02   3.89328003e-02   1.48339272e-01   4.06932831e-02\n",
      "   2.73122787e-02   2.96812057e-02   4.46147919e-02   1.77288055e-02\n",
      "   9.66535568e-01   6.18696213e-02   2.63214111e-02   3.81908417e-02\n",
      "   9.23776627e-02   2.29244232e-02   1.70564651e-02   4.20427322e-02\n",
      "   4.86669540e-02   1.60188675e-02   1.84240341e-02   3.30600739e-02\n",
      "   7.30638504e-02   3.72190475e-02   5.62381744e-02   2.75897980e-02\n",
      "   1.58567429e-02   4.97236252e-02   4.39214706e-02   5.05695343e-02\n",
      "   1.64899826e-02   4.48122025e-02   4.67162132e-01   1.26132011e+00\n",
      "   1.08428831e+01   5.37973938e+01   6.35442362e+01   1.03832026e+02\n",
      "   5.11665163e+01   1.08185936e+02   3.99170429e+02   1.13961163e+02\n",
      "   9.75537395e+01   1.14639756e+02   9.66687222e+01   5.86703434e+01\n",
      "   4.36726990e+01   1.87985637e+02   8.46233873e+01   1.69835701e+02\n",
      "   3.68973949e+02   2.69449263e+02   1.67972221e+02   1.88194331e+02\n",
      "   8.44145432e+01   2.10153852e+02   8.21212187e+01   1.80334983e+02\n",
      "   7.78327643e+02   3.63969094e+02   1.37494536e+02   1.89098570e+02\n",
      "   1.99527349e+03   4.74920988e+01   1.73399400e+02   9.45231829e+01\n",
      "   2.46708966e+02   1.01323909e+02   3.58556698e+02   3.45066335e+03\n",
      "   1.78873521e+02   2.07447271e+03   2.41774405e+02   7.18791800e+01\n",
      "   1.19138184e+01   1.42901497e+01   3.90875015e+01   8.43148327e+00\n",
      "   9.30954742e+00   2.42433357e+00   7.23866749e+00   4.01748495e+01\n",
      "   1.32439480e+01   2.13982859e+01   3.13712597e+00   2.30504608e+00\n",
      "   1.40563364e+01   7.65886364e+01   4.31709290e-02   2.31133461e-01\n",
      "   4.19950485e-02   2.42767334e-02   1.68011665e-01   4.69207764e-02\n",
      "   3.75995636e-02   2.87914276e-02   3.09991837e-02   2.60677338e-02\n",
      "   3.27167511e-02   3.39555740e-02   4.67863083e-02   2.86893845e-02\n",
      "   2.37684250e-02   3.38697433e-02   2.84118652e-02   1.09624863e-01\n",
      "   1.05222607e+00   3.39355469e-02   3.67965698e-02   2.55060196e-02\n",
      "   1.44023895e-01   6.41365051e-02   5.97658157e-02   3.77264023e-02\n",
      "   8.64295959e-02   3.46336365e-02   2.42586136e-02   2.57873535e-02\n",
      "   2.52056122e-02   1.13204956e-01   1.71742439e-01   6.84232712e-02\n",
      "   4.48474884e-02   4.17699814e-02   3.65390778e-02   3.03678131e+00\n",
      "   2.23899841e-01   4.54615593e+00   4.14444065e+00   2.04300117e+00\n",
      "   2.58038830e+02   1.04836356e+02   1.49933262e+01   2.22018988e+02\n",
      "   2.79554607e+02   1.24099767e+02   5.72792632e+02   2.73877594e+02\n",
      "   5.06786875e+02   1.29089421e+02   2.14657655e+02   3.51584610e+02\n",
      "   2.67158463e+02   1.21422962e+02   3.00224625e+02   3.09274185e+02\n",
      "   3.07406027e+02   5.77851695e+02   5.11735067e+02   1.00739221e+02\n",
      "   1.16538276e+02   1.06833382e+02   1.39659565e+02   5.45509291e+01\n",
      "   2.73278265e+01   1.35853095e+02   6.46541672e+01   8.75896492e+01\n",
      "   6.57601735e+02   5.51588583e+02   2.88922043e+02   1.71993586e+02\n",
      "   1.10538329e+02   4.21829319e+01   5.65165024e+01   1.64246444e+02\n",
      "   9.70433023e+02   2.77947426e+00   4.90803081e+02   4.55051961e+02\n",
      "   1.21672018e+02   4.79466066e+01   2.84917479e+01   2.54345798e+00\n",
      "   5.79243660e-01   5.41697502e-01   8.09584618e-01   2.77361870e-01\n",
      "   2.76333809e-01   2.63878822e-01   5.23307800e-01   3.45156670e-01\n",
      "   4.04014587e-01   2.15371132e-01   9.67960358e-02   3.96080017e-02\n",
      "   3.78170013e-02   9.62285995e-02   2.24523544e-02   2.34727859e-02\n",
      "   3.61824036e-02   4.75358963e-02   3.01465988e-02   2.60934830e-02\n",
      "   3.26299667e-02   5.66396713e-02   5.42058945e-02   2.86035538e-02\n",
      "   2.43282318e-02   3.40185165e-02   2.42223740e-02   3.12690735e-02\n",
      "   3.11291504e+00   6.60772324e-02   2.53643036e-01   2.60276852e+01\n",
      "   9.67322350e-01   4.56056595e-02   2.42109299e-02   2.44979858e-02\n",
      "   1.82119522e+01   2.48500824e-01   2.32620239e-02   3.10916901e-02\n",
      "   2.12593079e-02   6.35280609e-02   2.44827271e-02   1.20619774e-01\n",
      "   2.54812241e-02   5.73968887e-02   2.25992203e-02   2.09747314e-01\n",
      "   3.42797279e-01   2.67768669e+00   2.83545456e+01   7.80650425e+00\n",
      "   8.17024612e+00   2.41945562e+01   8.88703384e+01   1.12217470e+02\n",
      "   1.43179846e+02   8.88093301e+02   1.16849433e+02   2.60878810e+02\n",
      "   9.73145550e+02   1.13527699e+02   2.68417381e+02   1.31059510e+02\n",
      "   8.50740261e+01   1.75540063e+02   6.45840021e+02   4.80697498e+02\n",
      "   3.00524698e+02   4.90941820e+01   2.37472763e+01   6.15183029e+01\n",
      "   8.79006109e+01   1.86897438e+02   7.36858931e+01   3.70307623e+02\n",
      "   1.59149073e+02   3.48548824e+03   6.92583075e+01   1.35492518e+02\n",
      "   9.59272623e+01   8.31747818e+01   1.20119573e+02   8.88303623e+01\n",
      "   6.57007790e+01   4.20154476e+01   2.44909048e+01   5.65457420e+01\n",
      "   4.71699555e+02   2.38535275e+03   4.51922302e+01   2.80908585e+01\n",
      "   5.68907261e+00   9.72321892e+00   1.16086206e+01   1.61645889e+00\n",
      "   7.28270531e-01   1.66628075e+00   1.48363495e+00   3.11910629e-01\n",
      "   1.04629898e+00   7.53070831e-01   1.25772476e-01   1.90863609e-01\n",
      "   2.39066124e-01   4.31356430e-02   1.98768616e-01   8.40044022e-02\n",
      "   3.50246429e-02   9.38730240e-02   5.99899292e-02   1.77875519e-01\n",
      "   8.45031738e-02   6.80809021e-02   4.00142670e-02   4.13312912e-02\n",
      "   5.56650162e-02   1.20785713e-01   4.13579941e-02   1.56383514e-02]\n"
     ]
    }
   ],
   "source": [
    "print(regr.predict(pcatest.transform(X_test)),y_test)"
   ]
  },
  {
   "cell_type": "code",
   "execution_count": 29,
   "metadata": {
    "collapsed": false
   },
   "outputs": [
    {
     "data": {
      "text/plain": [
       "203.00258277282876"
      ]
     },
     "execution_count": 29,
     "metadata": {},
     "output_type": "execute_result"
    }
   ],
   "source": [
    "sum(np.abs(regr.predict(X_test)-y_test)/y_test)/len(y_test)"
   ]
  },
  {
   "cell_type": "code",
   "execution_count": 95,
   "metadata": {
    "collapsed": false
   },
   "outputs": [],
   "source": [
    "# from sklearn.svm import SVR\n",
    "# from sklearn.model_selection import GridSearchCV\n",
    "# regr = SVR()\n",
    "# param_grid = [\n",
    "#   {'C': [1, 10, 100, 1000], 'kernel': ['linear']},\n",
    "#   {'C': [1, 10, 100, 1000], 'gamma': [0.001, 0.0001], 'kernel': ['rbf']},\n",
    "#  ]\n",
    "# grid = GridSearchCV(regr,param_grid=param_grid)\n",
    "# grid.fit(X_train,y_train)\n",
    "# # regr.fit(X_train,y_train)"
   ]
  },
  {
   "cell_type": "code",
   "execution_count": 42,
   "metadata": {
    "collapsed": false
   },
   "outputs": [
    {
     "name": "stdout",
     "output_type": "stream",
     "text": [
      "[ 0.84483565]\n"
     ]
    }
   ],
   "source": [
    "from sklearn.decomposition import PCA\n",
    "pcatest = PCA(n_components=1)\n",
    "pcatest.fit(X_train)\n",
    "print(pcatest.explained_variance_ratio_)\n",
    "X_train2 = pcatest.transform(X_train)"
   ]
  },
  {
   "cell_type": "code",
   "execution_count": 31,
   "metadata": {
    "collapsed": false
   },
   "outputs": [
    {
     "name": "stdout",
     "output_type": "stream",
     "text": [
      "best error and pdq: 78547.63452350181, (0, 0, 0)\n",
      "0 0 0\n",
      "0 0 1\n",
      "0 0 2\n",
      "0 0 3\n",
      "0 0 4\n",
      "0 0 5\n",
      "0 0 6\n",
      "0 0 0\n",
      "0 0 1\n",
      "0 0 2\n",
      "0 0 0\n",
      "0 0 1\n",
      "best error and pdq: 77205.79593136684, (1, 0, 0)\n",
      "1 0 0\n",
      "1 0 1\n",
      "1 0 2\n",
      "1 0 3\n",
      "1 0 4\n",
      "1 0 5\n",
      "1 0 6\n",
      "1 0 0\n",
      "1 0 1\n",
      "1 0 2\n",
      "1 0 3\n",
      "1 0 4\n",
      "1 0 5\n",
      "1 0 6\n",
      "1 0 0\n",
      "best error and pdq: 72057.74653338364, (2, 0, 0)\n",
      "2 0 0\n",
      "2 0 1\n",
      "2 0 2\n",
      "2 0 3\n",
      "2 0 4\n",
      "2 0 5\n"
     ]
    },
    {
     "name": "stderr",
     "output_type": "stream",
     "text": [
      "C:\\Users\\Leonard\\Anaconda3\\lib\\site-packages\\statsmodels\\base\\model.py:466: ConvergenceWarning: Maximum Likelihood optimization failed to converge. Check mle_retvals\n",
      "  \"Check mle_retvals\", ConvergenceWarning)\n"
     ]
    },
    {
     "name": "stdout",
     "output_type": "stream",
     "text": [
      "2 0 6\n",
      "2 0 0\n",
      "2 0 1\n",
      "2 0 2\n",
      "2 0 3\n",
      "2 0 4\n",
      "2 0 5\n",
      "2 0 6\n",
      "2 0 0\n",
      "3 0 0\n",
      "3 0 1\n",
      "3 0 2\n"
     ]
    },
    {
     "name": "stderr",
     "output_type": "stream",
     "text": [
      "C:\\Users\\Leonard\\Anaconda3\\lib\\site-packages\\statsmodels\\base\\model.py:466: ConvergenceWarning: Maximum Likelihood optimization failed to converge. Check mle_retvals\n",
      "  \"Check mle_retvals\", ConvergenceWarning)\n"
     ]
    },
    {
     "name": "stdout",
     "output_type": "stream",
     "text": [
      "3 0 3\n"
     ]
    },
    {
     "name": "stderr",
     "output_type": "stream",
     "text": [
      "C:\\Users\\Leonard\\Anaconda3\\lib\\site-packages\\statsmodels\\base\\model.py:466: ConvergenceWarning: Maximum Likelihood optimization failed to converge. Check mle_retvals\n",
      "  \"Check mle_retvals\", ConvergenceWarning)\n"
     ]
    },
    {
     "name": "stdout",
     "output_type": "stream",
     "text": [
      "3 0 4\n"
     ]
    },
    {
     "name": "stderr",
     "output_type": "stream",
     "text": [
      "C:\\Users\\Leonard\\Anaconda3\\lib\\site-packages\\statsmodels\\base\\model.py:466: ConvergenceWarning: Maximum Likelihood optimization failed to converge. Check mle_retvals\n",
      "  \"Check mle_retvals\", ConvergenceWarning)\n"
     ]
    },
    {
     "name": "stdout",
     "output_type": "stream",
     "text": [
      "3 0 5\n"
     ]
    },
    {
     "name": "stderr",
     "output_type": "stream",
     "text": [
      "C:\\Users\\Leonard\\Anaconda3\\lib\\site-packages\\statsmodels\\base\\model.py:466: ConvergenceWarning: Maximum Likelihood optimization failed to converge. Check mle_retvals\n",
      "  \"Check mle_retvals\", ConvergenceWarning)\n"
     ]
    },
    {
     "name": "stdout",
     "output_type": "stream",
     "text": [
      "3 0 6\n",
      "3 0 0\n",
      "3 0 1\n",
      "3 0 2\n",
      "3 0 3\n"
     ]
    },
    {
     "name": "stderr",
     "output_type": "stream",
     "text": [
      "C:\\Users\\Leonard\\Anaconda3\\lib\\site-packages\\statsmodels\\base\\model.py:466: ConvergenceWarning: Maximum Likelihood optimization failed to converge. Check mle_retvals\n",
      "  \"Check mle_retvals\", ConvergenceWarning)\n"
     ]
    },
    {
     "name": "stdout",
     "output_type": "stream",
     "text": [
      "3 0 4\n",
      "3 0 5\n"
     ]
    },
    {
     "name": "stderr",
     "output_type": "stream",
     "text": [
      "C:\\Users\\Leonard\\Anaconda3\\lib\\site-packages\\statsmodels\\base\\model.py:466: ConvergenceWarning: Maximum Likelihood optimization failed to converge. Check mle_retvals\n",
      "  \"Check mle_retvals\", ConvergenceWarning)\n"
     ]
    },
    {
     "name": "stdout",
     "output_type": "stream",
     "text": [
      "3 0 6\n",
      "3 0 0\n",
      "4 0 0\n",
      "4 0 1\n",
      "4 0 2\n"
     ]
    },
    {
     "name": "stderr",
     "output_type": "stream",
     "text": [
      "C:\\Users\\Leonard\\Anaconda3\\lib\\site-packages\\statsmodels\\base\\model.py:466: ConvergenceWarning: Maximum Likelihood optimization failed to converge. Check mle_retvals\n",
      "  \"Check mle_retvals\", ConvergenceWarning)\n"
     ]
    },
    {
     "name": "stdout",
     "output_type": "stream",
     "text": [
      "4 0 3\n"
     ]
    },
    {
     "name": "stderr",
     "output_type": "stream",
     "text": [
      "C:\\Users\\Leonard\\Anaconda3\\lib\\site-packages\\statsmodels\\base\\model.py:466: ConvergenceWarning: Maximum Likelihood optimization failed to converge. Check mle_retvals\n",
      "  \"Check mle_retvals\", ConvergenceWarning)\n"
     ]
    },
    {
     "name": "stdout",
     "output_type": "stream",
     "text": [
      "4 0 4\n"
     ]
    },
    {
     "name": "stderr",
     "output_type": "stream",
     "text": [
      "C:\\Users\\Leonard\\Anaconda3\\lib\\site-packages\\statsmodels\\base\\model.py:466: ConvergenceWarning: Maximum Likelihood optimization failed to converge. Check mle_retvals\n",
      "  \"Check mle_retvals\", ConvergenceWarning)\n"
     ]
    },
    {
     "name": "stdout",
     "output_type": "stream",
     "text": [
      "4 0 5\n"
     ]
    },
    {
     "name": "stderr",
     "output_type": "stream",
     "text": [
      "C:\\Users\\Leonard\\Anaconda3\\lib\\site-packages\\statsmodels\\base\\model.py:466: ConvergenceWarning: Maximum Likelihood optimization failed to converge. Check mle_retvals\n",
      "  \"Check mle_retvals\", ConvergenceWarning)\n"
     ]
    },
    {
     "name": "stdout",
     "output_type": "stream",
     "text": [
      "4 0 6\n",
      "4 0 0\n",
      "4 0 1\n",
      "4 0 2\n",
      "4 0 3\n"
     ]
    },
    {
     "name": "stderr",
     "output_type": "stream",
     "text": [
      "C:\\Users\\Leonard\\Anaconda3\\lib\\site-packages\\statsmodels\\base\\model.py:466: ConvergenceWarning: Maximum Likelihood optimization failed to converge. Check mle_retvals\n",
      "  \"Check mle_retvals\", ConvergenceWarning)\n"
     ]
    },
    {
     "name": "stdout",
     "output_type": "stream",
     "text": [
      "4 0 4\n",
      "4 0 5\n"
     ]
    },
    {
     "name": "stderr",
     "output_type": "stream",
     "text": [
      "C:\\Users\\Leonard\\Anaconda3\\lib\\site-packages\\statsmodels\\base\\model.py:466: ConvergenceWarning: Maximum Likelihood optimization failed to converge. Check mle_retvals\n",
      "  \"Check mle_retvals\", ConvergenceWarning)\n"
     ]
    },
    {
     "name": "stdout",
     "output_type": "stream",
     "text": [
      "4 0 6\n",
      "4 0 0\n",
      "4 0 1\n",
      "5 0 0\n",
      "5 0 1\n",
      "5 0 2\n"
     ]
    },
    {
     "name": "stderr",
     "output_type": "stream",
     "text": [
      "C:\\Users\\Leonard\\Anaconda3\\lib\\site-packages\\statsmodels\\base\\model.py:466: ConvergenceWarning: Maximum Likelihood optimization failed to converge. Check mle_retvals\n",
      "  \"Check mle_retvals\", ConvergenceWarning)\n"
     ]
    },
    {
     "name": "stdout",
     "output_type": "stream",
     "text": [
      "5 0 3\n"
     ]
    },
    {
     "name": "stderr",
     "output_type": "stream",
     "text": [
      "C:\\Users\\Leonard\\Anaconda3\\lib\\site-packages\\statsmodels\\base\\model.py:466: ConvergenceWarning: Maximum Likelihood optimization failed to converge. Check mle_retvals\n",
      "  \"Check mle_retvals\", ConvergenceWarning)\n"
     ]
    },
    {
     "name": "stdout",
     "output_type": "stream",
     "text": [
      "5 0 4\n"
     ]
    },
    {
     "name": "stderr",
     "output_type": "stream",
     "text": [
      "C:\\Users\\Leonard\\Anaconda3\\lib\\site-packages\\statsmodels\\base\\model.py:466: ConvergenceWarning: Maximum Likelihood optimization failed to converge. Check mle_retvals\n",
      "  \"Check mle_retvals\", ConvergenceWarning)\n"
     ]
    },
    {
     "name": "stdout",
     "output_type": "stream",
     "text": [
      "5 0 5\n"
     ]
    },
    {
     "name": "stderr",
     "output_type": "stream",
     "text": [
      "C:\\Users\\Leonard\\Anaconda3\\lib\\site-packages\\statsmodels\\base\\model.py:466: ConvergenceWarning: Maximum Likelihood optimization failed to converge. Check mle_retvals\n",
      "  \"Check mle_retvals\", ConvergenceWarning)\n"
     ]
    },
    {
     "name": "stdout",
     "output_type": "stream",
     "text": [
      "5 0 6\n",
      "5 0 0\n",
      "5 0 1\n",
      "5 0 2\n",
      "5 0 3\n"
     ]
    },
    {
     "name": "stderr",
     "output_type": "stream",
     "text": [
      "C:\\Users\\Leonard\\Anaconda3\\lib\\site-packages\\statsmodels\\base\\model.py:466: ConvergenceWarning: Maximum Likelihood optimization failed to converge. Check mle_retvals\n",
      "  \"Check mle_retvals\", ConvergenceWarning)\n"
     ]
    },
    {
     "name": "stdout",
     "output_type": "stream",
     "text": [
      "5 0 4\n"
     ]
    },
    {
     "name": "stderr",
     "output_type": "stream",
     "text": [
      "C:\\Users\\Leonard\\Anaconda3\\lib\\site-packages\\statsmodels\\base\\model.py:466: ConvergenceWarning: Maximum Likelihood optimization failed to converge. Check mle_retvals\n",
      "  \"Check mle_retvals\", ConvergenceWarning)\n"
     ]
    },
    {
     "name": "stdout",
     "output_type": "stream",
     "text": [
      "5 0 5\n"
     ]
    },
    {
     "name": "stderr",
     "output_type": "stream",
     "text": [
      "C:\\Users\\Leonard\\Anaconda3\\lib\\site-packages\\statsmodels\\base\\model.py:466: ConvergenceWarning: Maximum Likelihood optimization failed to converge. Check mle_retvals\n",
      "  \"Check mle_retvals\", ConvergenceWarning)\n"
     ]
    },
    {
     "name": "stdout",
     "output_type": "stream",
     "text": [
      "5 0 6\n",
      "5 0 0\n",
      "5 0 1\n",
      "6 0 0\n",
      "6 0 1\n",
      "6 0 2\n"
     ]
    },
    {
     "name": "stderr",
     "output_type": "stream",
     "text": [
      "C:\\Users\\Leonard\\Anaconda3\\lib\\site-packages\\statsmodels\\base\\model.py:466: ConvergenceWarning: Maximum Likelihood optimization failed to converge. Check mle_retvals\n",
      "  \"Check mle_retvals\", ConvergenceWarning)\n"
     ]
    },
    {
     "name": "stdout",
     "output_type": "stream",
     "text": [
      "6 0 3\n"
     ]
    },
    {
     "name": "stderr",
     "output_type": "stream",
     "text": [
      "C:\\Users\\Leonard\\Anaconda3\\lib\\site-packages\\statsmodels\\base\\model.py:466: ConvergenceWarning: Maximum Likelihood optimization failed to converge. Check mle_retvals\n",
      "  \"Check mle_retvals\", ConvergenceWarning)\n"
     ]
    },
    {
     "name": "stdout",
     "output_type": "stream",
     "text": [
      "6 0 4\n"
     ]
    },
    {
     "name": "stderr",
     "output_type": "stream",
     "text": [
      "C:\\Users\\Leonard\\Anaconda3\\lib\\site-packages\\statsmodels\\base\\model.py:466: ConvergenceWarning: Maximum Likelihood optimization failed to converge. Check mle_retvals\n",
      "  \"Check mle_retvals\", ConvergenceWarning)\n"
     ]
    },
    {
     "name": "stdout",
     "output_type": "stream",
     "text": [
      "6 0 5\n"
     ]
    },
    {
     "name": "stderr",
     "output_type": "stream",
     "text": [
      "C:\\Users\\Leonard\\Anaconda3\\lib\\site-packages\\statsmodels\\base\\model.py:466: ConvergenceWarning: Maximum Likelihood optimization failed to converge. Check mle_retvals\n",
      "  \"Check mle_retvals\", ConvergenceWarning)\n"
     ]
    },
    {
     "name": "stdout",
     "output_type": "stream",
     "text": [
      "6 0 6\n",
      "6 0 0\n",
      "6 0 1\n",
      "6 0 2\n",
      "6 0 3\n"
     ]
    },
    {
     "name": "stderr",
     "output_type": "stream",
     "text": [
      "C:\\Users\\Leonard\\Anaconda3\\lib\\site-packages\\statsmodels\\base\\model.py:466: ConvergenceWarning: Maximum Likelihood optimization failed to converge. Check mle_retvals\n",
      "  \"Check mle_retvals\", ConvergenceWarning)\n"
     ]
    },
    {
     "name": "stdout",
     "output_type": "stream",
     "text": [
      "6 0 4\n"
     ]
    },
    {
     "name": "stderr",
     "output_type": "stream",
     "text": [
      "C:\\Users\\Leonard\\Anaconda3\\lib\\site-packages\\statsmodels\\base\\model.py:466: ConvergenceWarning: Maximum Likelihood optimization failed to converge. Check mle_retvals\n",
      "  \"Check mle_retvals\", ConvergenceWarning)\n"
     ]
    },
    {
     "name": "stdout",
     "output_type": "stream",
     "text": [
      "6 0 5\n"
     ]
    },
    {
     "name": "stderr",
     "output_type": "stream",
     "text": [
      "C:\\Users\\Leonard\\Anaconda3\\lib\\site-packages\\statsmodels\\base\\model.py:466: ConvergenceWarning: Maximum Likelihood optimization failed to converge. Check mle_retvals\n",
      "  \"Check mle_retvals\", ConvergenceWarning)\n"
     ]
    },
    {
     "name": "stdout",
     "output_type": "stream",
     "text": [
      "6 0 6\n",
      "6 0 0\n",
      "6 0 1\n"
     ]
    },
    {
     "data": {
      "image/png": "[encoded data removed]",
      "text/plain": [
       "<matplotlib.figure.Figure at 0x26714fcc550>"
      ]
     },
     "metadata": {},
     "output_type": "display_data"
    }
   ],
   "source": [
    "from pandas import Series\n",
    "from matplotlib import pyplot\n",
    "from statsmodels.tsa.ar_model import AR\n",
    "from statsmodels.tsa.arima_model import ARIMA, ARMA\n",
    "from sklearn.metrics import mean_squared_error\n",
    "#series = Series.from_csv('daily-minimum-temperatures.csv', header=0)\n",
    "# split dataset\n",
    "#X = series.values\n",
    "#train, test = X[1:len(X)-7], X[len(X)-7:]\n",
    "# train autoregression\n",
    "error = np.inf\n",
    "for p in [0,1,2,3,4,5,6]:\n",
    "    for d in [0,1,2,3]:\n",
    "        for q in [0,1,2,3,4,5,6]:\n",
    "            try:\n",
    "                model = ARIMA(y_train,order=(p,d,q))\n",
    "                model_fit = model.fit()\n",
    "                window = model_fit.k_ar\n",
    "                coef = model_fit.params\n",
    "                # walk forward over time steps in test\n",
    "                history = y_train[len(y_train)-window:]\n",
    "                history = [history[i] for i in range(len(history))]\n",
    "                predictions = list()\n",
    "                for t in range(len(y_test)):\n",
    "                    length = len(history)\n",
    "                    lag = [history[i] for i in range(length-window,length)]\n",
    "                    yhat = coef[0]\n",
    "                    for ds in range(window):\n",
    "                        yhat += coef[ds+1] * lag[window-ds-1]\n",
    "                    obs = y_test[t]\n",
    "                    predictions.append(yhat)\n",
    "                    history.append(obs)\n",
    "                #     print('predicted=%f, expected=%f' % (yhat, obs))\n",
    "                if mean_squared_error(y_test, predictions)<error:\n",
    "                    error=mean_squared_error(y_test, predictions)\n",
    "                    print('best error and pdq: {}, {}'.format(error,(p,d,q)))\n",
    "#                 error = mean_squared_error(y_test, predictions)\n",
    "                print(p,i,q)\n",
    "#                 print('Test MSE: %.3f' % error)\n",
    "            except:\n",
    "                pass\n",
    "# plot\n",
    "pyplot.plot(y_test)\n",
    "pyplot.plot(predictions, color='red')\n",
    "pyplot.show()"
   ]
  },
  {
   "cell_type": "code",
   "execution_count": 125,
   "metadata": {
    "collapsed": false
   },
   "outputs": [
    {
     "data": {
      "image/png": "[encoded data removed]",
      "text/plain": [
       "<matplotlib.figure.Figure at 0x2671728bf28>"
      ]
     },
     "metadata": {},
     "output_type": "display_data"
    }
   ],
   "source": [
    "\n",
    "\n",
    "    # walk forward over time steps in test\n",
    "def tspredict(y_train, future_steps = 4*24*7, order=(2,1,0)):\n",
    "    model = ARIMA(y_train,order=order)\n",
    "    model_fit = model.fit()\n",
    "    window = model_fit.k_ar\n",
    "    coef = model_fit.params\n",
    "    history = y_train[len(y_train)-window:]\n",
    "    history = [history[i] for i in range(len(history))]\n",
    "    predictions = list()\n",
    "    for t in range(future_steps):\n",
    "        length = len(history)\n",
    "        lag = [history[i] for i in range(length-window,length)]\n",
    "        yhat = coef[0]\n",
    "        for d in range(window):\n",
    "            yhat += coef[d+1] * lag[window-d-1]\n",
    "#         obs = y_test[t]\n",
    "        predictions.append(yhat)\n",
    "        history.append(yhat)\n",
    "    #     print('predicted=%f, expected=%f' % (yhat, obs))\n",
    "#     error = mean_squared_error(y_test, np.array(predictions)*-1)\n",
    "    #     print(p,i,q)\n",
    "#     print('Test MSE: %.3f' % error)\n",
    "    return np.abs(np.array(predictions))\n",
    "\n",
    "y_all = np.concatenate((y_train,y_test))\n",
    "y_predicted = tspredict(y_train)\n",
    "x_predicted = [max(np.array(traindata.update_time15))+np.timedelta64(15*(x+1),'m') for x in range(len(y_predicted))]\n",
    "fig, ax = plt.subplots(figsize=(12,6),sharey=True)\n",
    "ax.plot(np.array(forecast_data_2.update_time15),y_all,linewidth=1.0)\n",
    "ax.plot(x_predicted,y_predicted, 'r--',linewidth=1.0)\n",
    "# plt.xticks(np.array(forecast_data_2.update_time15))\n",
    "plt.show()"
   ]
  },
  {
   "cell_type": "code",
   "execution_count": 151,
   "metadata": {
    "collapsed": false
   },
   "outputs": [
    {
     "data": {
      "text/plain": [
       "[<matplotlib.lines.Line2D at 0x267173c8a58>]"
      ]
     },
     "execution_count": 151,
     "metadata": {},
     "output_type": "execute_result"
    },
    {
     "data": {
      "image/png": "[encoded data removed]",
      "text/plain": [
       "<matplotlib.figure.Figure at 0x267174e0b00>"
      ]
     },
     "metadata": {},
     "output_type": "display_data"
    }
   ],
   "source": [
    "plt.plot(np.where(y_train>50,y_train,0))"
   ]
  },
  {
   "cell_type": "code",
   "execution_count": 112,
   "metadata": {
    "collapsed": false
   },
   "outputs": [
    {
     "data": {
      "text/plain": [
       "numpy.datetime64('2017-01-12T01:15:00.000000000')"
      ]
     },
     "execution_count": 112,
     "metadata": {},
     "output_type": "execute_result"
    }
   ],
   "source": [
    "max(np.array(forecast_data_2.update_time15))+np.timedelta64(75,'m')"
   ]
  },
  {
   "cell_type": "code",
   "execution_count": 61,
   "metadata": {
    "collapsed": false
   },
   "outputs": [
    {
     "name": "stdout",
     "output_type": "stream",
     "text": [
      "[    0.03923225     0.02684593     0.01814747     0.02474403     4.18881321\n",
      "     0.04490662     0.02220154     0.07006741     0.03401852     0.01624775\n",
      "     0.0184536      0.02608299     0.03764534     0.01695633     0.01684761\n",
      "     0.03321171     0.08695602     0.01648808     0.04042149     0.02949047\n",
      "     0.04646206     0.01678181     0.13922024     0.04243946     0.01737785\n",
      "     0.02294827     0.02311611     0.03124619     0.05269718     0.03207493\n",
      "     0.06145        0.04961777     0.01653004     0.05382442     0.71898556\n",
      "     1.01450825     0.35381794     0.01633167     0.08823586     0.04613304\n",
      "     0.37082386     0.05994797     0.31670475    21.97465801     2.11741638\n",
      "    18.97175503     9.52209759    16.13324165     3.36708641     3.0321207\n",
      "     3.36139679     3.45445633   101.26638031    10.40721607    57.21621132\n",
      "    19.49297905   138.00430775     9.26325417     1.08330441     1.38019276\n",
      "    15.92958546    14.09160709     3.43921566     4.3368187      4.44775581\n",
      "     9.83462238     2.30785942     3.26125622     6.70777702    10.54620934\n",
      "     1.80967808     3.53995895     2.37769127     1.20525265   358.70456409\n",
      "     0.1032095      0.0851965      0.01622963     0.02920723     0.05348396\n",
      "     0.01682186     0.01648521     0.01813126     0.02824306     0.01624775\n",
      "     0.01655293     0.1149292      0.04222584     0.09306431     0.01613426\n",
      "     0.03262711     0.01651001     0.03740883     0.02251816     0.0186367\n",
      "     0.03247738     0.03004551     0.01716709     0.01842117     0.01791\n",
      "     2.82619572     0.01723957     0.02638435     0.16123486     0.11342812\n",
      "     0.02718735     0.0563488      0.04493046     0.02765179     0.0161829\n",
      "     0.01810455     0.0330143      0.09080982     0.0170517      0.0252676\n",
      "     0.0402565      0.01649952     0.03334713     0.01840019     0.03241539\n",
      "     0.02735233     0.01605034     0.01976204     0.01679993     0.07786179\n",
      "     0.02837276     0.08407116     0.03361416    10.6765461      0.04345417\n",
      "     0.23947144     0.10598373     0.73405647    10.60482502    14.76133251\n",
      "     0.12703323     0.27768421     3.79981804     0.05906391    23.33619976\n",
      "     0.37881184     0.07732487     0.08597755     0.11191082     0.12665749\n",
      "     0.04201794     0.0910759      0.03593445     0.26487064     0.12331295\n",
      "     0.05411625     0.17410278     0.31758308     0.03124046     0.10554695\n",
      "     9.82408714     0.09405804     0.15541649     1.370121       2.02986145\n",
      "     0.86609364     0.01655293     0.01892853     0.03936768     0.03137207\n",
      "     0.15815449     0.02256584     0.03923512     0.02601337     0.04413128\n",
      "     0.01810169     0.01784897     0.04493618     0.04227066     0.02726555\n",
      "     0.03330326     0.0462265     13.17769337     0.01870346     0.02576542\n",
      "     0.16130733     0.01713562     0.03268814     0.03379059     0.09815979\n",
      "     0.01700211     0.10766125     0.07754421     0.0413599      0.02863598\n",
      "     0.02009869     0.06353378     0.01760769     0.0158968      0.01830769\n",
      "     0.0250473      1.69542599     0.04707527     0.04036808     0.03329372\n",
      "     0.01618671     0.02707481     0.01880646     0.01808643     0.02408504\n",
      "     0.03848553     0.09125805     0.03213882     0.11480141     0.02000618\n",
      "     0.33504391     0.01875687     0.04939842     0.07798576     0.02945042\n",
      "     0.03213882     0.0249939      0.01618671     0.037117       0.04054737\n",
      "     1.37511063     0.04491138     0.06476212     0.03744602     0.0158968\n",
      "     0.03641415     0.03615093     0.01794624     0.01604176     0.03645229\n",
      "     0.01641369     0.03904724     0.08820724     0.50056458     0.02904129\n",
      "    14.25229359     0.13206577    12.29672337     2.91970158    12.68656826\n",
      "     1.90709019     1.46527672     4.79549885    56.74516392    14.03921127\n",
      "     2.7283287     59.08291531     2.86880589     4.26935196     3.7472477\n",
      "     9.09686089     5.61104012    60.21661568     9.21974754     2.19573402\n",
      "    16.035676       3.31745338     2.75980377    21.01026821    58.19521236\n",
      "    14.05172253     9.22428608    13.11231422     2.49612808    13.52719021\n",
      "   112.28223705     3.08290768     1.75785923     1.5463953     82.19645882\n",
      "     1.7528944      4.11809444     1.86703777     3.10430431     5.09974957\n",
      "     1.35190773     4.91237736     2.03047657     2.11015987   255.85672855\n",
      "     0.09604073     0.0168457      0.02290058     0.02656078     0.02757549\n",
      "     0.0389328      0.14833927     0.04069328     0.02731228     0.02968121\n",
      "     0.04461479     0.01772881     0.96653557     0.06186962     0.02632141\n",
      "     0.03819084     0.09237766     0.02292442     0.01705647     0.04204273\n",
      "     0.04866695     0.01601887     0.01842403     0.03306007     0.07306385\n",
      "     0.03721905     0.05623817     0.0275898      0.01585674     0.04972363\n",
      "     0.04392147     0.05056953     0.01648998     0.0448122      0.46716213\n",
      "     1.26132011    10.84288311    53.7973938     63.54423618   103.83202553\n",
      "    51.1665163    108.18593597   399.17042923   113.96116257    97.55373955\n",
      "   114.6397562     96.66872215    58.6703434     43.67269897   187.98563671\n",
      "    84.62338734   169.83570099   368.97394943   269.44926262   167.97222137\n",
      "   188.19433117    84.41454315   210.15385151    82.12121868   180.33498287\n",
      "   778.32764339   363.96909428   137.4945364    189.09856987  1995.27348995\n",
      "    47.49209881   173.39939976    94.52318287   246.70896626   101.32390881\n",
      "   358.55669785  3450.66335297   178.87352085  2074.47271156   241.77440548\n",
      "    71.87917995    11.91381836    14.29014969    39.08750153     8.43148327\n",
      "     9.30954742     2.42433357     7.23866749    40.17484951    13.24394798\n",
      "    21.39828587     3.13712597     2.30504608    14.0563364     76.5886364\n",
      "     0.04317093     0.23113346     0.04199505     0.02427673     0.16801167\n",
      "     0.04692078     0.03759956     0.02879143     0.03099918     0.02606773\n",
      "     0.03271675     0.03395557     0.04678631     0.02868938     0.02376842\n",
      "     0.03386974     0.02841187     0.10962486     1.05222607     0.03393555\n",
      "     0.03679657     0.02550602     0.1440239      0.06413651     0.05976582\n",
      "     0.0377264      0.0864296      0.03463364     0.02425861     0.02578735\n",
      "     0.02520561     0.11320496     0.17174244     0.06842327     0.04484749\n",
      "     0.04176998     0.03653908     3.03678131     0.22389984     4.54615593\n",
      "     4.14444065     2.04300117   258.0388298    104.83635616    14.99332619\n",
      "   222.01898766   279.55460739   124.09976673   572.7926321    273.87759399\n",
      "   506.78687477   129.08942127   214.65765476   351.58460999   267.15846252\n",
      "   121.42296219   300.22462463   309.27418518   307.40602684   577.85169506\n",
      "   511.73506737   100.73922062   116.53827572   106.83338165   139.65956497\n",
      "    54.55092907    27.3278265    135.85309505    64.65416718    87.5896492\n",
      "   657.60173512   551.58858299   288.92204285   171.99358559   110.53832912\n",
      "    42.1829319     56.51650238   164.24644375   970.43302345     2.77947426\n",
      "   490.80308056   455.05196095   121.67201805    47.94660664    28.49174786\n",
      "     2.54345798     0.57924366     0.5416975      0.80958462     0.27736187\n",
      "     0.27633381     0.26387882     0.5233078      0.34515667     0.40401459\n",
      "     0.21537113     0.09679604     0.039608       0.037817       0.0962286\n",
      "     0.02245235     0.02347279     0.0361824      0.0475359      0.0301466\n",
      "     0.02609348     0.03262997     0.05663967     0.05420589     0.02860355\n",
      "     0.02432823     0.03401852     0.02422237     0.03126907     3.11291504\n",
      "     0.06607723     0.25364304    26.02768517     0.96732235     0.04560566\n",
      "     0.02421093     0.02449799    18.21195221     0.24850082     0.02326202\n",
      "     0.03109169     0.02125931     0.06352806     0.02448273     0.12061977\n",
      "     0.02548122     0.05739689     0.02259922     0.20974731     0.34279728\n",
      "     2.67768669    28.35454559     7.80650425     8.17024612    24.19455624\n",
      "    88.87033844   112.21747017   143.17984581   888.09330082   116.84943295\n",
      "   260.87880993   973.14554977   113.52769852   268.41738129   131.05951023\n",
      "    85.07402611   175.5400629    645.84002113   480.69749832   300.52469826\n",
      "    49.09418201    23.74727631    61.51830292    87.90061092   186.89743805\n",
      "    73.68589306   370.30762291   159.14907265  3485.48823547    69.25830746\n",
      "   135.49251842    95.92726231    83.1747818    120.11957264    88.83036232\n",
      "    65.70077896    42.01544762    24.49090481    56.54574203   471.6995554\n",
      "  2385.35274887    45.19223022    28.09085846     5.68907261     9.72321892\n",
      "    11.60862064     1.61645889     0.72827053     1.66628075     1.48363495\n",
      "     0.31191063     1.04629898     0.75307083     0.12577248     0.19086361\n",
      "     0.23906612     0.04313564     0.19876862     0.0840044      0.03502464\n",
      "     0.09387302     0.05998993     0.17787552     0.08450317     0.0680809\n",
      "     0.04001427     0.04133129     0.05566502     0.12078571     0.04135799\n",
      "     0.01563835] [    0.03809726     0.03912263     0.02747706     0.01866169     0.02030793\n",
      "     2.59067618     1.19437317     0.02619269     0.04939399     0.04048965\n",
      "     0.01948761     0.01589868     0.02121911     0.0304761      0.02093484\n",
      "     0.01510541     0.02516902     0.06287802     0.03438019     0.02951611\n",
      "     0.02943952     0.0368636      0.02328286     0.09054015     0.06494465\n",
      "     0.02253013     0.01898589     0.02064091     0.02570255     0.04119863\n",
      "     0.03445277     0.04682847     0.04771162     0.02400649     0.03779516\n",
      "     0.45847516     0.82602599     0.5008011      0.10861103     0.05896598\n",
      "     0.05302262     0.24157567     0.1402515      0.21204105    13.64287161\n",
      "     7.42653873    12.29212554    11.15760378    12.60361731     6.57040356\n",
      "     2.80811209     2.91792429     3.06703751    63.42647759    34.62455814\n",
      "    38.1914323     27.959941      90.55471047    44.15130108     3.24824104\n",
      "     1.15306324    10.21028403    13.12890765     6.04625204     3.6329812\n",
      "     3.95141428     7.30510433     4.16272518     2.65443062     5.04589819\n",
      "     8.37350287     4.05362467     2.68758817     2.45258816     1.40567171\n",
      "   221.59612113    99.97129505     0.08128871     0.0337307      0.02252681\n",
      "     0.04111604     0.02526333     0.01484442     0.01576598     0.02246173\n",
      "     0.01787901     0.01472628     0.07549291     0.05804725     0.06915645\n",
      "     0.03586325     0.02460974     0.01926184     0.02766391     0.02429968\n",
      "     0.01775808     0.02521437     0.02756927     0.01894812     0.01613473\n",
      "     0.01616872     1.74826673     0.7977863      0.02106686     0.106794\n",
      "     0.11486431     0.04835294     0.04232058     0.04339953     0.02956122\n",
      "     0.01767433     0.01566531     0.02539734     0.06520018     0.03580123\n",
      "     0.02032569     0.03185964     0.02138034     0.02515561     0.02062831\n",
      "     0.02511026     0.02589077     0.01750916     0.01665078     0.01585745\n",
      "     0.05269734     0.03917809     0.05975079     0.04414061     6.59498772\n",
      "     3.00046316     0.15980717     0.1320631      0.48229898     6.74583749\n",
      "    12.05894491     4.18972631     0.20665676     2.42118131     1.09476156\n",
      "    14.41095506     6.73333322     0.15319496     0.07456102     0.09296746\n",
      "     0.1092867      0.06118562     0.06787203     0.04752282     0.17337979\n",
      "     0.14982659     0.06771671     0.12245533     0.24437763     0.10771499\n",
      "     0.07379646     6.08919876     2.79424742     0.12205376     0.88841209\n",
      "     1.63368481     1.09958883     0.25142831     0.01627663     0.02954581\n",
      "     0.03030664     0.10628313     0.0579596      0.03047712     0.02696431\n",
      "     0.03445745     0.02344783     0.01604209     0.03267996     0.0385802\n",
      "     0.02858216     0.02812714     0.03778025     8.14128812     3.68182436\n",
      "     0.02109281     0.10666632     0.0554882      0.02492629     0.02993806\n",
      "     0.06995009     0.03781777     0.07113491     0.07780846     0.04710052\n",
      "     0.02917382     0.02036383     0.04477815     0.02854716     0.01470033\n",
      "     0.01571092     0.02053962     1.05275972     0.501244       0.03800242\n",
      "     0.03177062     0.01924809     0.02119952     0.01913192     0.01638486\n",
      "     0.01988445     0.03043788     0.06700053     0.04523229     0.07975512\n",
      "     0.04430586     0.21222851     0.10487795     0.03568528     0.06185326\n",
      "     0.03987735     0.02801741     0.02435898     0.0169364      0.02739386\n",
      "     0.0353394      0.8594961      0.41069389     0.05244674     0.0411262\n",
      "     0.02022578     0.02687957     0.03243177     0.02112923     0.01488404\n",
      "     0.02694347     0.02026783     0.02864771     0.06527515     0.33332254\n",
      "     0.15732311     8.7993494      4.05105125     7.62178592     5.22588189\n",
      "     8.63867672     4.70985178     1.43498942     3.36612144    36.33788023\n",
      "    24.46468497     5.59316078    37.20412459    18.22554056     3.43249305\n",
      "     3.50052741     6.65492151     5.9947487     38.70633001    22.45876651\n",
      "     3.92230557    10.50287146     6.512614       2.62631434    13.72846559\n",
      "    41.74851036    24.87627484     9.60355958    10.65726523     5.19176942\n",
      "     9.03922405    73.02690294    33.17486533     1.94295644     1.44346163\n",
      "    51.13210074    23.97487514     3.02838503     2.29862507     2.43483849\n",
      "     4.01030067     2.25429039     3.40663992     2.62066578     1.86713997\n",
      "   158.40832703    71.3213366      0.03713109     0.01880826     0.02275242\n",
      "     0.02439777     0.03168594     0.10233463     0.06640741     0.02817165\n",
      "     0.02590595     0.03577727     0.02335249     0.60111844     0.30735653\n",
      "     0.03345856     0.03087899     0.06760907     0.03986039     0.01689649\n",
      "     0.03067445     0.04171975     0.02342637     0.01581669     0.02551456\n",
      "     0.05426665     0.04329842     0.04504641     0.03267245     0.01745588\n",
      "     0.03507812     0.04093189     0.04341659     0.02424688     0.03222497\n",
      "     0.30063231     0.90812871     7.03953463    36.20393988    54.17994335\n",
      "    81.74546384    60.48078962    80.98360941   276.35339171   181.47321281\n",
      "    91.91511392    97.88446259    91.55821116    63.11424186    43.27977496\n",
      "   128.11941121   104.55681317   128.32967879   274.89814465   268.9728139\n",
      "   178.65857002   162.86847551   104.48611771   153.14103461   109.18776379\n",
      "   134.10905871   530.32488264   441.2902802    186.1849518    154.93748812\n",
      "  1283.4168395    585.02514048   120.18594658   106.60071406   178.50489115\n",
      "   131.21405436   249.39030851  2228.34588839  1071.42564239  1329.42153444\n",
      "   726.92351897   111.67721353    27.36885343    12.13288966    28.09055286\n",
      "    16.08758562     8.09078293     4.08832445     5.14026579    26.79726053\n",
      "    19.35891961    16.88788756     7.89499502     2.29557985     9.31239751\n",
      "    51.15732891    21.35835287     0.15458515     0.09027051     0.0266618\n",
      "     0.11038713     0.07572795     0.03625168     0.02822236     0.0271309\n",
      "     0.02470394     0.02743174     0.03004779     0.03830724     0.03071814\n",
      "     0.02264232     0.02750253     0.02694939     0.07552402     0.67957029\n",
      "     0.31399272     0.03213967     0.02597216     0.09593309     0.07966601\n",
      "     0.05471951     0.03990756     0.06381075     0.04542633     0.0246003\n",
      "     0.02265358     0.02272054     0.07683932     0.13745699     0.09003049\n",
      "     0.04671138     0.03824666     0.03416292     1.88335129     0.98391399\n",
      "     2.86656616     3.82262512     2.41450296   159.73561154   136.53627712\n",
      "    38.44773951   141.12439122   234.27570693   154.41121356   387.8814909\n",
      "   328.47263794   388.88367111   220.77851264   168.36212668   276.65581062\n",
      "   262.71643594   149.30745762   219.00727963   274.38979812   275.7579734\n",
      "   442.05717914   476.59979732   204.66939059    99.94276137    98.35688026\n",
      "   115.90207845    72.54721436    32.05038163    91.40996266    77.7190233\n",
      "    72.03578885   430.02553137   523.39497776   331.84670938   186.5627024\n",
      "   116.08781587    56.80729063    46.61011225   117.05361903   644.34058499\n",
      "   272.00283681   303.51716568   417.39076308   201.7938333     63.46350314\n",
      "    30.92886669     9.50449732     1.06569928     0.49545982     0.65024366\n",
      "     0.39656451     0.24769384     0.23972487     0.39627995     0.3586477\n",
      "     0.34533387     0.24536587     0.11968333     0.05138198     0.03434902\n",
      "     0.06988032     0.04064178     0.0207228      0.02884671     0.03938984\n",
      "     0.03182578     0.02448236     0.02738538     0.0440159      0.04920193\n",
      "     0.03273173     0.02296372     0.02775022     0.02440662     0.02602479\n",
      "     1.92884518     0.90776899     0.17484972    16.12534413     7.84598718\n",
      "     0.29754354     0.02762685     0.02184498    11.24052797     5.22572999\n",
      "     0.0835526      0.02564789     0.02176371     0.04509788     0.03278631\n",
      "     0.08121167     0.0493036      0.04249188     0.02991683     0.13566379\n",
      "     0.2698584      1.74715035    18.23577907    12.71269841     7.21395415\n",
      "    17.19957142    61.55680748    93.9717881    119.57309522   587.68327041\n",
      "   319.43128738   193.46368835   672.92814032   341.07138334   197.18853909\n",
      "   155.60222687    88.97951902   131.97382501   447.26678511   476.39117758\n",
      "   319.25876683   113.98603427    28.32195169    44.56061982    71.35418817\n",
      "   139.76668721    97.50712826   248.94081847   201.30759086  2194.28728427\n",
      "  1013.51102272   102.86617073    96.90883882    78.02284866    97.25971123\n",
      "    88.24951781    65.26767199    44.2156707     26.80905181    41.70050334\n",
      "   306.70866853  1602.74120193   692.25273867    29.91442681    11.33315584\n",
      "     7.58212298     9.86870347     4.23034739     0.89943281     1.23064618\n",
      "     1.37924228     0.60561413     0.73225561     0.75592751     0.28731891\n",
      "     0.15275189     0.20061415     0.0931835      0.13461165     0.10716885\n",
      "     0.04499204     0.06764959     0.06314007     0.12641843     0.10165729\n",
      "     0.06552112     0.04363473     0.0366299      0.04583822     0.08999903\n",
      "     0.05914312]\n"
     ]
    }
   ],
   "source": [
    "np.set_printoptions(suppress=True)\n",
    "\n",
    "print(y_test,np.array(predictions)*-1)"
   ]
  },
  {
   "cell_type": "code",
   "execution_count": 30,
   "metadata": {
    "collapsed": false
   },
   "outputs": [
    {
     "data": {
      "text/plain": [
       "array([  9.47355524e-06,  -6.16831960e-01,  -2.78523475e-01])"
      ]
     },
     "execution_count": 30,
     "metadata": {},
     "output_type": "execute_result"
    }
   ],
   "source": [
    "coef"
   ]
  },
  {
   "cell_type": "code",
   "execution_count": 169,
   "metadata": {
    "collapsed": false
   },
   "outputs": [
    {
     "data": {
      "image/png": "[encoded data removed]",
      "text/plain": [
       "<matplotlib.figure.Figure at 0x267151b06d8>"
      ]
     },
     "metadata": {},
     "output_type": "display_data"
    }
   ],
   "source": [
    "X_all = np.concatenate((X_train,X_test))\n",
    "# ytsall = np.concatenate((y_train,tspredict(y_train,y_test)))\n",
    "y_all = np.concatenate((y_train,y_test))\n",
    "\n",
    "fig, ax = plt.subplots(nrows=2,figsize=(12,6),sharey=True)\n",
    "ax[0].plot(np.array(forecast_data_2.update_time15),regr.predict(X_all),'r--',linewidth=1)\n",
    "ax[1].plot(np.array(forecast_data_2.update_time15),y_all,'b',linewidth=1)\n",
    "ax[0].plot((cutoffdate,cutoffdate),(0,3000),'g--',linewidth=1)\n",
    "ax[1].plot((cutoffdate,cutoffdate),(0,3000),'g--',linewidth=1)\n",
    "plt.show()\n",
    "\n"
   ]
  },
  {
   "cell_type": "code",
   "execution_count": 170,
   "metadata": {
    "collapsed": false
   },
   "outputs": [
    {
     "data": {
      "text/html": [
       "<div>\n",
       "<table border=\"1\" class=\"dataframe\">\n",
       "  <thead>\n",
       "    <tr style=\"text-align: right;\">\n",
       "      <th></th>\n",
       "      <th>dow</th>\n",
       "      <th>hour</th>\n",
       "      <th>min</th>\n",
       "      <th>traffic</th>\n",
       "    </tr>\n",
       "  </thead>\n",
       "  <tbody>\n",
       "    <tr>\n",
       "      <th>0</th>\n",
       "      <td>0</td>\n",
       "      <td>0</td>\n",
       "      <td>0</td>\n",
       "      <td>0.246682</td>\n",
       "    </tr>\n",
       "    <tr>\n",
       "      <th>1</th>\n",
       "      <td>0</td>\n",
       "      <td>0</td>\n",
       "      <td>15</td>\n",
       "      <td>1.250861</td>\n",
       "    </tr>\n",
       "    <tr>\n",
       "      <th>2</th>\n",
       "      <td>0</td>\n",
       "      <td>0</td>\n",
       "      <td>30</td>\n",
       "      <td>0.223000</td>\n",
       "    </tr>\n",
       "    <tr>\n",
       "      <th>3</th>\n",
       "      <td>0</td>\n",
       "      <td>0</td>\n",
       "      <td>45</td>\n",
       "      <td>0.299556</td>\n",
       "    </tr>\n",
       "    <tr>\n",
       "      <th>4</th>\n",
       "      <td>0</td>\n",
       "      <td>1</td>\n",
       "      <td>0</td>\n",
       "      <td>0.310424</td>\n",
       "    </tr>\n",
       "    <tr>\n",
       "      <th>5</th>\n",
       "      <td>0</td>\n",
       "      <td>1</td>\n",
       "      <td>15</td>\n",
       "      <td>1.703700</td>\n",
       "    </tr>\n",
       "    <tr>\n",
       "      <th>6</th>\n",
       "      <td>0</td>\n",
       "      <td>1</td>\n",
       "      <td>30</td>\n",
       "      <td>0.470332</td>\n",
       "    </tr>\n",
       "    <tr>\n",
       "      <th>7</th>\n",
       "      <td>0</td>\n",
       "      <td>1</td>\n",
       "      <td>45</td>\n",
       "      <td>0.386660</td>\n",
       "    </tr>\n",
       "    <tr>\n",
       "      <th>8</th>\n",
       "      <td>0</td>\n",
       "      <td>2</td>\n",
       "      <td>0</td>\n",
       "      <td>0.440797</td>\n",
       "    </tr>\n",
       "    <tr>\n",
       "      <th>9</th>\n",
       "      <td>0</td>\n",
       "      <td>2</td>\n",
       "      <td>15</td>\n",
       "      <td>1.069631</td>\n",
       "    </tr>\n",
       "    <tr>\n",
       "      <th>10</th>\n",
       "      <td>0</td>\n",
       "      <td>2</td>\n",
       "      <td>30</td>\n",
       "      <td>1.128016</td>\n",
       "    </tr>\n",
       "    <tr>\n",
       "      <th>11</th>\n",
       "      <td>0</td>\n",
       "      <td>2</td>\n",
       "      <td>45</td>\n",
       "      <td>0.491450</td>\n",
       "    </tr>\n",
       "    <tr>\n",
       "      <th>12</th>\n",
       "      <td>0</td>\n",
       "      <td>3</td>\n",
       "      <td>0</td>\n",
       "      <td>0.751282</td>\n",
       "    </tr>\n",
       "    <tr>\n",
       "      <th>13</th>\n",
       "      <td>0</td>\n",
       "      <td>3</td>\n",
       "      <td>15</td>\n",
       "      <td>2.921643</td>\n",
       "    </tr>\n",
       "    <tr>\n",
       "      <th>14</th>\n",
       "      <td>0</td>\n",
       "      <td>3</td>\n",
       "      <td>30</td>\n",
       "      <td>32.821532</td>\n",
       "    </tr>\n",
       "    <tr>\n",
       "      <th>15</th>\n",
       "      <td>0</td>\n",
       "      <td>3</td>\n",
       "      <td>45</td>\n",
       "      <td>0.258993</td>\n",
       "    </tr>\n",
       "    <tr>\n",
       "      <th>16</th>\n",
       "      <td>0</td>\n",
       "      <td>4</td>\n",
       "      <td>0</td>\n",
       "      <td>0.930540</td>\n",
       "    </tr>\n",
       "    <tr>\n",
       "      <th>17</th>\n",
       "      <td>0</td>\n",
       "      <td>4</td>\n",
       "      <td>15</td>\n",
       "      <td>0.674300</td>\n",
       "    </tr>\n",
       "    <tr>\n",
       "      <th>18</th>\n",
       "      <td>0</td>\n",
       "      <td>4</td>\n",
       "      <td>30</td>\n",
       "      <td>0.339126</td>\n",
       "    </tr>\n",
       "    <tr>\n",
       "      <th>19</th>\n",
       "      <td>0</td>\n",
       "      <td>4</td>\n",
       "      <td>45</td>\n",
       "      <td>0.334132</td>\n",
       "    </tr>\n",
       "    <tr>\n",
       "      <th>20</th>\n",
       "      <td>0</td>\n",
       "      <td>5</td>\n",
       "      <td>0</td>\n",
       "      <td>0.489997</td>\n",
       "    </tr>\n",
       "    <tr>\n",
       "      <th>21</th>\n",
       "      <td>0</td>\n",
       "      <td>5</td>\n",
       "      <td>15</td>\n",
       "      <td>0.317368</td>\n",
       "    </tr>\n",
       "    <tr>\n",
       "      <th>22</th>\n",
       "      <td>0</td>\n",
       "      <td>5</td>\n",
       "      <td>30</td>\n",
       "      <td>0.208083</td>\n",
       "    </tr>\n",
       "    <tr>\n",
       "      <th>23</th>\n",
       "      <td>0</td>\n",
       "      <td>5</td>\n",
       "      <td>45</td>\n",
       "      <td>2.541211</td>\n",
       "    </tr>\n",
       "    <tr>\n",
       "      <th>24</th>\n",
       "      <td>0</td>\n",
       "      <td>6</td>\n",
       "      <td>0</td>\n",
       "      <td>0.458090</td>\n",
       "    </tr>\n",
       "    <tr>\n",
       "      <th>25</th>\n",
       "      <td>0</td>\n",
       "      <td>6</td>\n",
       "      <td>15</td>\n",
       "      <td>1.313641</td>\n",
       "    </tr>\n",
       "    <tr>\n",
       "      <th>26</th>\n",
       "      <td>0</td>\n",
       "      <td>6</td>\n",
       "      <td>30</td>\n",
       "      <td>0.801325</td>\n",
       "    </tr>\n",
       "    <tr>\n",
       "      <th>27</th>\n",
       "      <td>0</td>\n",
       "      <td>6</td>\n",
       "      <td>45</td>\n",
       "      <td>20.497283</td>\n",
       "    </tr>\n",
       "    <tr>\n",
       "      <th>28</th>\n",
       "      <td>0</td>\n",
       "      <td>7</td>\n",
       "      <td>0</td>\n",
       "      <td>6.266611</td>\n",
       "    </tr>\n",
       "    <tr>\n",
       "      <th>29</th>\n",
       "      <td>0</td>\n",
       "      <td>7</td>\n",
       "      <td>15</td>\n",
       "      <td>8.744228</td>\n",
       "    </tr>\n",
       "    <tr>\n",
       "      <th>...</th>\n",
       "      <td>...</td>\n",
       "      <td>...</td>\n",
       "      <td>...</td>\n",
       "      <td>...</td>\n",
       "    </tr>\n",
       "    <tr>\n",
       "      <th>642</th>\n",
       "      <td>6</td>\n",
       "      <td>16</td>\n",
       "      <td>30</td>\n",
       "      <td>17.738853</td>\n",
       "    </tr>\n",
       "    <tr>\n",
       "      <th>643</th>\n",
       "      <td>6</td>\n",
       "      <td>16</td>\n",
       "      <td>45</td>\n",
       "      <td>0.984899</td>\n",
       "    </tr>\n",
       "    <tr>\n",
       "      <th>644</th>\n",
       "      <td>6</td>\n",
       "      <td>17</td>\n",
       "      <td>0</td>\n",
       "      <td>1.026891</td>\n",
       "    </tr>\n",
       "    <tr>\n",
       "      <th>645</th>\n",
       "      <td>6</td>\n",
       "      <td>17</td>\n",
       "      <td>15</td>\n",
       "      <td>1.747340</td>\n",
       "    </tr>\n",
       "    <tr>\n",
       "      <th>646</th>\n",
       "      <td>6</td>\n",
       "      <td>17</td>\n",
       "      <td>30</td>\n",
       "      <td>7.808825</td>\n",
       "    </tr>\n",
       "    <tr>\n",
       "      <th>647</th>\n",
       "      <td>6</td>\n",
       "      <td>17</td>\n",
       "      <td>45</td>\n",
       "      <td>2.412551</td>\n",
       "    </tr>\n",
       "    <tr>\n",
       "      <th>648</th>\n",
       "      <td>6</td>\n",
       "      <td>18</td>\n",
       "      <td>0</td>\n",
       "      <td>0.899562</td>\n",
       "    </tr>\n",
       "    <tr>\n",
       "      <th>649</th>\n",
       "      <td>6</td>\n",
       "      <td>18</td>\n",
       "      <td>15</td>\n",
       "      <td>9.224586</td>\n",
       "    </tr>\n",
       "    <tr>\n",
       "      <th>650</th>\n",
       "      <td>6</td>\n",
       "      <td>18</td>\n",
       "      <td>30</td>\n",
       "      <td>0.493658</td>\n",
       "    </tr>\n",
       "    <tr>\n",
       "      <th>651</th>\n",
       "      <td>6</td>\n",
       "      <td>18</td>\n",
       "      <td>45</td>\n",
       "      <td>3.895764</td>\n",
       "    </tr>\n",
       "    <tr>\n",
       "      <th>652</th>\n",
       "      <td>6</td>\n",
       "      <td>19</td>\n",
       "      <td>0</td>\n",
       "      <td>1.017570</td>\n",
       "    </tr>\n",
       "    <tr>\n",
       "      <th>653</th>\n",
       "      <td>6</td>\n",
       "      <td>19</td>\n",
       "      <td>15</td>\n",
       "      <td>0.600288</td>\n",
       "    </tr>\n",
       "    <tr>\n",
       "      <th>654</th>\n",
       "      <td>6</td>\n",
       "      <td>19</td>\n",
       "      <td>30</td>\n",
       "      <td>9.187683</td>\n",
       "    </tr>\n",
       "    <tr>\n",
       "      <th>655</th>\n",
       "      <td>6</td>\n",
       "      <td>19</td>\n",
       "      <td>45</td>\n",
       "      <td>0.652181</td>\n",
       "    </tr>\n",
       "    <tr>\n",
       "      <th>656</th>\n",
       "      <td>6</td>\n",
       "      <td>20</td>\n",
       "      <td>0</td>\n",
       "      <td>0.285516</td>\n",
       "    </tr>\n",
       "    <tr>\n",
       "      <th>657</th>\n",
       "      <td>6</td>\n",
       "      <td>20</td>\n",
       "      <td>15</td>\n",
       "      <td>0.538092</td>\n",
       "    </tr>\n",
       "    <tr>\n",
       "      <th>658</th>\n",
       "      <td>6</td>\n",
       "      <td>20</td>\n",
       "      <td>30</td>\n",
       "      <td>61.314168</td>\n",
       "    </tr>\n",
       "    <tr>\n",
       "      <th>659</th>\n",
       "      <td>6</td>\n",
       "      <td>20</td>\n",
       "      <td>45</td>\n",
       "      <td>13.128571</td>\n",
       "    </tr>\n",
       "    <tr>\n",
       "      <th>660</th>\n",
       "      <td>6</td>\n",
       "      <td>21</td>\n",
       "      <td>0</td>\n",
       "      <td>0.470063</td>\n",
       "    </tr>\n",
       "    <tr>\n",
       "      <th>661</th>\n",
       "      <td>6</td>\n",
       "      <td>21</td>\n",
       "      <td>15</td>\n",
       "      <td>0.176688</td>\n",
       "    </tr>\n",
       "    <tr>\n",
       "      <th>662</th>\n",
       "      <td>6</td>\n",
       "      <td>21</td>\n",
       "      <td>30</td>\n",
       "      <td>0.332125</td>\n",
       "    </tr>\n",
       "    <tr>\n",
       "      <th>663</th>\n",
       "      <td>6</td>\n",
       "      <td>21</td>\n",
       "      <td>45</td>\n",
       "      <td>0.530233</td>\n",
       "    </tr>\n",
       "    <tr>\n",
       "      <th>664</th>\n",
       "      <td>6</td>\n",
       "      <td>22</td>\n",
       "      <td>0</td>\n",
       "      <td>0.255170</td>\n",
       "    </tr>\n",
       "    <tr>\n",
       "      <th>665</th>\n",
       "      <td>6</td>\n",
       "      <td>22</td>\n",
       "      <td>15</td>\n",
       "      <td>0.199844</td>\n",
       "    </tr>\n",
       "    <tr>\n",
       "      <th>666</th>\n",
       "      <td>6</td>\n",
       "      <td>22</td>\n",
       "      <td>30</td>\n",
       "      <td>0.334131</td>\n",
       "    </tr>\n",
       "    <tr>\n",
       "      <th>667</th>\n",
       "      <td>6</td>\n",
       "      <td>22</td>\n",
       "      <td>45</td>\n",
       "      <td>0.297043</td>\n",
       "    </tr>\n",
       "    <tr>\n",
       "      <th>668</th>\n",
       "      <td>6</td>\n",
       "      <td>23</td>\n",
       "      <td>0</td>\n",
       "      <td>0.412359</td>\n",
       "    </tr>\n",
       "    <tr>\n",
       "      <th>669</th>\n",
       "      <td>6</td>\n",
       "      <td>23</td>\n",
       "      <td>15</td>\n",
       "      <td>0.815858</td>\n",
       "    </tr>\n",
       "    <tr>\n",
       "      <th>670</th>\n",
       "      <td>6</td>\n",
       "      <td>23</td>\n",
       "      <td>30</td>\n",
       "      <td>0.361485</td>\n",
       "    </tr>\n",
       "    <tr>\n",
       "      <th>671</th>\n",
       "      <td>6</td>\n",
       "      <td>23</td>\n",
       "      <td>45</td>\n",
       "      <td>0.443627</td>\n",
       "    </tr>\n",
       "  </tbody>\n",
       "</table>\n",
       "<p>672 rows × 4 columns</p>\n",
       "</div>"
      ],
      "text/plain": [
       "     dow  hour  min    traffic\n",
       "0      0     0    0   0.246682\n",
       "1      0     0   15   1.250861\n",
       "2      0     0   30   0.223000\n",
       "3      0     0   45   0.299556\n",
       "4      0     1    0   0.310424\n",
       "5      0     1   15   1.703700\n",
       "6      0     1   30   0.470332\n",
       "7      0     1   45   0.386660\n",
       "8      0     2    0   0.440797\n",
       "9      0     2   15   1.069631\n",
       "10     0     2   30   1.128016\n",
       "11     0     2   45   0.491450\n",
       "12     0     3    0   0.751282\n",
       "13     0     3   15   2.921643\n",
       "14     0     3   30  32.821532\n",
       "15     0     3   45   0.258993\n",
       "16     0     4    0   0.930540\n",
       "17     0     4   15   0.674300\n",
       "18     0     4   30   0.339126\n",
       "19     0     4   45   0.334132\n",
       "20     0     5    0   0.489997\n",
       "21     0     5   15   0.317368\n",
       "22     0     5   30   0.208083\n",
       "23     0     5   45   2.541211\n",
       "24     0     6    0   0.458090\n",
       "25     0     6   15   1.313641\n",
       "26     0     6   30   0.801325\n",
       "27     0     6   45  20.497283\n",
       "28     0     7    0   6.266611\n",
       "29     0     7   15   8.744228\n",
       "..   ...   ...  ...        ...\n",
       "642    6    16   30  17.738853\n",
       "643    6    16   45   0.984899\n",
       "644    6    17    0   1.026891\n",
       "645    6    17   15   1.747340\n",
       "646    6    17   30   7.808825\n",
       "647    6    17   45   2.412551\n",
       "648    6    18    0   0.899562\n",
       "649    6    18   15   9.224586\n",
       "650    6    18   30   0.493658\n",
       "651    6    18   45   3.895764\n",
       "652    6    19    0   1.017570\n",
       "653    6    19   15   0.600288\n",
       "654    6    19   30   9.187683\n",
       "655    6    19   45   0.652181\n",
       "656    6    20    0   0.285516\n",
       "657    6    20   15   0.538092\n",
       "658    6    20   30  61.314168\n",
       "659    6    20   45  13.128571\n",
       "660    6    21    0   0.470063\n",
       "661    6    21   15   0.176688\n",
       "662    6    21   30   0.332125\n",
       "663    6    21   45   0.530233\n",
       "664    6    22    0   0.255170\n",
       "665    6    22   15   0.199844\n",
       "666    6    22   30   0.334131\n",
       "667    6    22   45   0.297043\n",
       "668    6    23    0   0.412359\n",
       "669    6    23   15   0.815858\n",
       "670    6    23   30   0.361485\n",
       "671    6    23   45   0.443627\n",
       "\n",
       "[672 rows x 4 columns]"
      ]
     },
     "execution_count": 170,
     "metadata": {},
     "output_type": "execute_result"
    }
   ],
   "source": [
    "traindata.groupby(['dow','hour','min'])['traffic'].sum().to_frame().reset_index()\n",
    "# traindata.day.unique()"
   ]
  },
  {
   "cell_type": "code",
   "execution_count": 19,
   "metadata": {
    "collapsed": false
   },
   "outputs": [
    {
     "data": {
      "image/png": "[encoded data removed]",
      "text/plain": [
       "<matplotlib.figure.Figure at 0x1f3d191cbe0>"
      ]
     },
     "metadata": {},
     "output_type": "display_data"
    }
   ],
   "source": [
    "fig, ax = plt.subplots(figsize=(12,6))\n",
    "ax.plot(np.array(testdata.update_time15),np.abs((regr.predict(X_test)-y_test)/y_test),'r--')\n",
    "plt.show()"
   ]
  },
  {
   "cell_type": "code",
   "execution_count": 96,
   "metadata": {
    "collapsed": true
   },
   "outputs": [],
   "source": [
    "from sklearn.pipeline import Pipeline\n",
    "from sklearn.ensemble import RandomForestRegressor\n"
   ]
  },
  {
   "cell_type": "code",
   "execution_count": 93,
   "metadata": {
    "collapsed": false
   },
   "outputs": [
    {
     "data": {
      "text/plain": [
       "RandomForestRegressor(bootstrap=True, criterion='mse', max_depth=None,\n",
       "           max_features='auto', max_leaf_nodes=None,\n",
       "           min_impurity_split=1e-07, min_samples_leaf=1,\n",
       "           min_samples_split=2, min_weight_fraction_leaf=0.0,\n",
       "           n_estimators=10, n_jobs=1, oob_score=False, random_state=None,\n",
       "           verbose=0, warm_start=False)"
      ]
     },
     "execution_count": 93,
     "metadata": {},
     "output_type": "execute_result"
    }
   ],
   "source": [
    "reg = Pipeline()\n",
    "reg = RandomForestRegressor()\n",
    "reg.fit(X_train,y_train)\n"
   ]
  },
  {
   "cell_type": "code",
   "execution_count": 95,
   "metadata": {
    "collapsed": false
   },
   "outputs": [
    {
     "data": {
      "text/plain": [
       "0.05140209343095814"
      ]
     },
     "execution_count": 95,
     "metadata": {},
     "output_type": "execute_result"
    }
   ],
   "source": [
    "reg.score(X_test,y_test)"
   ]
  },
  {
   "cell_type": "code",
   "execution_count": 13,
   "metadata": {
    "collapsed": false
   },
   "outputs": [
    {
     "ename": "KeyboardInterrupt",
     "evalue": "",
     "output_type": "error",
     "traceback": [
      "\u001b[0;31m---------------------------------------------------------------------------\u001b[0m",
      "\u001b[0;31mKeyboardInterrupt\u001b[0m                         Traceback (most recent call last)",
      "\u001b[0;32m<ipython-input-13-35ddcd24bd5e>\u001b[0m in \u001b[0;36m<module>\u001b[0;34m()\u001b[0m\n\u001b[0;32m----> 1\u001b[0;31m \u001b[0mforecast_data\u001b[0m\u001b[1;33m[\u001b[0m\u001b[1;34m'update_time_datetime'\u001b[0m\u001b[1;33m]\u001b[0m \u001b[1;33m=\u001b[0m \u001b[0mforecast_data\u001b[0m\u001b[1;33m.\u001b[0m\u001b[0mapply\u001b[0m\u001b[1;33m(\u001b[0m\u001b[1;32mlambda\u001b[0m \u001b[0mx\u001b[0m\u001b[1;33m:\u001b[0m \u001b[0mdatetime\u001b[0m\u001b[1;33m.\u001b[0m\u001b[0mdatetime\u001b[0m\u001b[1;33m.\u001b[0m\u001b[0mstrptime\u001b[0m\u001b[1;33m(\u001b[0m\u001b[0mx\u001b[0m\u001b[1;33m[\u001b[0m\u001b[1;34m'update_time'\u001b[0m\u001b[1;33m]\u001b[0m\u001b[1;33m,\u001b[0m\u001b[1;34m'%Y-%m-%d %H:%M:%S'\u001b[0m\u001b[1;33m)\u001b[0m\u001b[1;33m,\u001b[0m\u001b[0maxis\u001b[0m\u001b[1;33m=\u001b[0m\u001b[1;36m1\u001b[0m\u001b[1;33m)\u001b[0m\u001b[1;33m\u001b[0m\u001b[0m\n\u001b[0m",
      "\u001b[0;32mC:\\Users\\Leonard\\Anaconda3\\lib\\site-packages\\pandas\\core\\frame.py\u001b[0m in \u001b[0;36mapply\u001b[0;34m(self, func, axis, broadcast, raw, reduce, args, **kwds)\u001b[0m\n\u001b[1;32m   4161\u001b[0m                     \u001b[1;32mif\u001b[0m \u001b[0mreduce\u001b[0m \u001b[1;32mis\u001b[0m \u001b[1;32mNone\u001b[0m\u001b[1;33m:\u001b[0m\u001b[1;33m\u001b[0m\u001b[0m\n\u001b[1;32m   4162\u001b[0m                         \u001b[0mreduce\u001b[0m \u001b[1;33m=\u001b[0m \u001b[1;32mTrue\u001b[0m\u001b[1;33m\u001b[0m\u001b[0m\n\u001b[0;32m-> 4163\u001b[0;31m                     \u001b[1;32mreturn\u001b[0m \u001b[0mself\u001b[0m\u001b[1;33m.\u001b[0m\u001b[0m_apply_standard\u001b[0m\u001b[1;33m(\u001b[0m\u001b[0mf\u001b[0m\u001b[1;33m,\u001b[0m \u001b[0maxis\u001b[0m\u001b[1;33m,\u001b[0m \u001b[0mreduce\u001b[0m\u001b[1;33m=\u001b[0m\u001b[0mreduce\u001b[0m\u001b[1;33m)\u001b[0m\u001b[1;33m\u001b[0m\u001b[0m\n\u001b[0m\u001b[1;32m   4164\u001b[0m             \u001b[1;32melse\u001b[0m\u001b[1;33m:\u001b[0m\u001b[1;33m\u001b[0m\u001b[0m\n\u001b[1;32m   4165\u001b[0m                 \u001b[1;32mreturn\u001b[0m \u001b[0mself\u001b[0m\u001b[1;33m.\u001b[0m\u001b[0m_apply_broadcast\u001b[0m\u001b[1;33m(\u001b[0m\u001b[0mf\u001b[0m\u001b[1;33m,\u001b[0m \u001b[0maxis\u001b[0m\u001b[1;33m)\u001b[0m\u001b[1;33m\u001b[0m\u001b[0m\n",
      "\u001b[0;32mC:\\Users\\Leonard\\Anaconda3\\lib\\site-packages\\pandas\\core\\frame.py\u001b[0m in \u001b[0;36m_apply_standard\u001b[0;34m(self, func, axis, ignore_failures, reduce)\u001b[0m\n\u001b[1;32m   4217\u001b[0m                     \u001b[0mlabels\u001b[0m \u001b[1;33m=\u001b[0m \u001b[0mself\u001b[0m\u001b[1;33m.\u001b[0m\u001b[0m_get_agg_axis\u001b[0m\u001b[1;33m(\u001b[0m\u001b[0maxis\u001b[0m\u001b[1;33m)\u001b[0m\u001b[1;33m\u001b[0m\u001b[0m\n\u001b[1;32m   4218\u001b[0m                     result = lib.reduce(values, func, axis=axis, dummy=dummy,\n\u001b[0;32m-> 4219\u001b[0;31m                                         labels=labels)\n\u001b[0m\u001b[1;32m   4220\u001b[0m                     \u001b[1;32mreturn\u001b[0m \u001b[0mSeries\u001b[0m\u001b[1;33m(\u001b[0m\u001b[0mresult\u001b[0m\u001b[1;33m,\u001b[0m \u001b[0mindex\u001b[0m\u001b[1;33m=\u001b[0m\u001b[0mlabels\u001b[0m\u001b[1;33m)\u001b[0m\u001b[1;33m\u001b[0m\u001b[0m\n\u001b[1;32m   4221\u001b[0m                 \u001b[1;32mexcept\u001b[0m \u001b[0mException\u001b[0m\u001b[1;33m:\u001b[0m\u001b[1;33m\u001b[0m\u001b[0m\n",
      "\u001b[0;32mpandas\\src\\reduce.pyx\u001b[0m in \u001b[0;36mpandas.lib.reduce (pandas\\lib.c:45022)\u001b[0;34m()\u001b[0m\n",
      "\u001b[0;32mpandas\\src\\reduce.pyx\u001b[0m in \u001b[0;36mpandas.lib.Reducer.get_result (pandas\\lib.c:34665)\u001b[0;34m()\u001b[0m\n",
      "\u001b[0;32m<ipython-input-13-35ddcd24bd5e>\u001b[0m in \u001b[0;36m<lambda>\u001b[0;34m(x)\u001b[0m\n\u001b[0;32m----> 1\u001b[0;31m \u001b[0mforecast_data\u001b[0m\u001b[1;33m[\u001b[0m\u001b[1;34m'update_time_datetime'\u001b[0m\u001b[1;33m]\u001b[0m \u001b[1;33m=\u001b[0m \u001b[0mforecast_data\u001b[0m\u001b[1;33m.\u001b[0m\u001b[0mapply\u001b[0m\u001b[1;33m(\u001b[0m\u001b[1;32mlambda\u001b[0m \u001b[0mx\u001b[0m\u001b[1;33m:\u001b[0m \u001b[0mdatetime\u001b[0m\u001b[1;33m.\u001b[0m\u001b[0mdatetime\u001b[0m\u001b[1;33m.\u001b[0m\u001b[0mstrptime\u001b[0m\u001b[1;33m(\u001b[0m\u001b[0mx\u001b[0m\u001b[1;33m[\u001b[0m\u001b[1;34m'update_time'\u001b[0m\u001b[1;33m]\u001b[0m\u001b[1;33m,\u001b[0m\u001b[1;34m'%Y-%m-%d %H:%M:%S'\u001b[0m\u001b[1;33m)\u001b[0m\u001b[1;33m,\u001b[0m\u001b[0maxis\u001b[0m\u001b[1;33m=\u001b[0m\u001b[1;36m1\u001b[0m\u001b[1;33m)\u001b[0m\u001b[1;33m\u001b[0m\u001b[0m\n\u001b[0m",
      "\u001b[0;32mC:\\Users\\Leonard\\Anaconda3\\lib\\_strptime.py\u001b[0m in \u001b[0;36m_strptime_datetime\u001b[0;34m(cls, data_string, format)\u001b[0m\n\u001b[1;32m    508\u001b[0m     \"\"\"Return a class cls instance based on the input string and the\n\u001b[1;32m    509\u001b[0m     format string.\"\"\"\n\u001b[0;32m--> 510\u001b[0;31m     \u001b[0mtt\u001b[0m\u001b[1;33m,\u001b[0m \u001b[0mfraction\u001b[0m \u001b[1;33m=\u001b[0m \u001b[0m_strptime\u001b[0m\u001b[1;33m(\u001b[0m\u001b[0mdata_string\u001b[0m\u001b[1;33m,\u001b[0m \u001b[0mformat\u001b[0m\u001b[1;33m)\u001b[0m\u001b[1;33m\u001b[0m\u001b[0m\n\u001b[0m\u001b[1;32m    511\u001b[0m     \u001b[0mtzname\u001b[0m\u001b[1;33m,\u001b[0m \u001b[0mgmtoff\u001b[0m \u001b[1;33m=\u001b[0m \u001b[0mtt\u001b[0m\u001b[1;33m[\u001b[0m\u001b[1;33m-\u001b[0m\u001b[1;36m2\u001b[0m\u001b[1;33m:\u001b[0m\u001b[1;33m]\u001b[0m\u001b[1;33m\u001b[0m\u001b[0m\n\u001b[1;32m    512\u001b[0m     \u001b[0margs\u001b[0m \u001b[1;33m=\u001b[0m \u001b[0mtt\u001b[0m\u001b[1;33m[\u001b[0m\u001b[1;33m:\u001b[0m\u001b[1;36m6\u001b[0m\u001b[1;33m]\u001b[0m \u001b[1;33m+\u001b[0m \u001b[1;33m(\u001b[0m\u001b[0mfraction\u001b[0m\u001b[1;33m,\u001b[0m\u001b[1;33m)\u001b[0m\u001b[1;33m\u001b[0m\u001b[0m\n",
      "\u001b[0;32mC:\\Users\\Leonard\\Anaconda3\\lib\\_strptime.py\u001b[0m in \u001b[0;36m_strptime\u001b[0;34m(data_string, format)\u001b[0m\n\u001b[1;32m    312\u001b[0m     \u001b[1;32mglobal\u001b[0m \u001b[0m_TimeRE_cache\u001b[0m\u001b[1;33m,\u001b[0m \u001b[0m_regex_cache\u001b[0m\u001b[1;33m\u001b[0m\u001b[0m\n\u001b[1;32m    313\u001b[0m     \u001b[1;32mwith\u001b[0m \u001b[0m_cache_lock\u001b[0m\u001b[1;33m:\u001b[0m\u001b[1;33m\u001b[0m\u001b[0m\n\u001b[0;32m--> 314\u001b[0;31m         \u001b[0mlocale_time\u001b[0m \u001b[1;33m=\u001b[0m \u001b[0m_TimeRE_cache\u001b[0m\u001b[1;33m.\u001b[0m\u001b[0mlocale_time\u001b[0m\u001b[1;33m\u001b[0m\u001b[0m\n\u001b[0m\u001b[1;32m    315\u001b[0m         if (_getlang() != locale_time.lang or\n\u001b[1;32m    316\u001b[0m             \u001b[0mtime\u001b[0m\u001b[1;33m.\u001b[0m\u001b[0mtzname\u001b[0m \u001b[1;33m!=\u001b[0m \u001b[0mlocale_time\u001b[0m\u001b[1;33m.\u001b[0m\u001b[0mtzname\u001b[0m \u001b[1;32mor\u001b[0m\u001b[1;33m\u001b[0m\u001b[0m\n",
      "\u001b[0;31mKeyboardInterrupt\u001b[0m: "
     ]
    }
   ],
   "source": [
    "# forecast_data['update_time_datetime'] = forecast_data.apply(lambda x: datetime.datetime.strptime(x['update_time'],'%Y-%m-%d %H:%M:%S'),axis=1)"
   ]
  },
  {
   "cell_type": "code",
   "execution_count": 47,
   "metadata": {
    "collapsed": false
   },
   "outputs": [
    {
     "name": "stdout",
     "output_type": "stream",
     "text": [
      "0:10:10.808236\n"
     ]
    },
    {
     "data": {
      "text/plain": [
       "datetime.datetime(2017, 1, 28, 15, 45)"
      ]
     },
     "execution_count": 47,
     "metadata": {},
     "output_type": "execute_result"
    }
   ],
   "source": [
    "def ceil_dt(dt, delta):\n",
    "    return dt + (datetime.datetime.min - dt) % delta\n",
    "print((datetime.datetime.min-datetime.datetime.now()) % datetime.timedelta(minutes=15))\n",
    "ceil_dt(datetime.datetime.now(),datetime.timedelta(minutes=15))"
   ]
  },
  {
   "cell_type": "code",
   "execution_count": null,
   "metadata": {
    "collapsed": true
   },
   "outputs": [],
   "source": [
    "forecast_data.groupby(['update_time15'])['rcvd_bytes','sent_bytes'].sum().apply(lambda x: x/1024/1024/1024).plot(kind='line',figsize=(12,6))"
   ]
  }
 ],
 "metadata": {
  "anaconda-cloud": {},
  "kernelspec": {
   "display_name": "Python [conda root]",
   "language": "python",
   "name": "conda-root-py"
  },
  "language_info": {
   "codemirror_mode": {
    "name": "ipython",
    "version": 3
   },
   "file_extension": ".py",
   "mimetype": "text/x-python",
   "name": "python",
   "nbconvert_exporter": "python",
   "pygments_lexer": "ipython3",
   "version": "3.5.2"
  }
 },
 "nbformat": 4,
 "nbformat_minor": 1
}
