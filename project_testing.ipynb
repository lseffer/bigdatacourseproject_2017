{
 "cells": [
  {
   "cell_type": "code",
   "execution_count": 2,
   "metadata": {
    "collapsed": false
   },
   "outputs": [],
   "source": [
    "import csv\n",
    "import pandas as pd\n",
    "import pickle\n",
    "import os\n",
    "import datetime\n",
    "import matplotlib.pyplot as plt\n",
    "import numpy as np\n",
    "plt.style.use('fivethirtyeight')\n",
    "%matplotlib inline"
   ]
  },
  {
   "cell_type": "code",
   "execution_count": null,
   "metadata": {
    "collapsed": false
   },
   "outputs": [],
   "source": [
    "ospath = os.path.abspath('C:/Users/Leonard/Downloads/Dataset/F1_All_Traffic.csv')"
   ]
  },
  {
   "cell_type": "code",
   "execution_count": null,
   "metadata": {
    "collapsed": false
   },
   "outputs": [],
   "source": [
    "data1 = pd.read_csv(ospath)"
   ]
  },
  {
   "cell_type": "code",
   "execution_count": null,
   "metadata": {
    "collapsed": false
   },
   "outputs": [],
   "source": [
    "data1.columns.values"
   ]
  },
  {
   "cell_type": "code",
   "execution_count": null,
   "metadata": {
    "collapsed": false
   },
   "outputs": [],
   "source": [
    "data1[data1.columns.values[14:35]].head(30)"
   ]
  },
  {
   "cell_type": "code",
   "execution_count": 56,
   "metadata": {
    "collapsed": false
   },
   "outputs": [],
   "source": [
    "def roundTime(dt=None, dateDelta=datetime.timedelta(minutes=1)):\n",
    "    \"\"\"Round a datetime object to a multiple of a timedelta\n",
    "    dt : datetime.datetime object, default now.\n",
    "    dateDelta : timedelta object, we round to a multiple of this, default 1 minute.\n",
    "    Author: Thierry Husson 2012 - Use it as you want but don't blame me.\n",
    "            Stijn Nevens 2014 - Changed to use only datetime objects as variables\n",
    "    \"\"\"\n",
    "    roundTo = dateDelta.total_seconds()\n",
    "\n",
    "    if dt == None : dt = datetime.datetime.now()\n",
    "    seconds = (dt - dt.min).seconds\n",
    "    # // is a floor division, not a comment on following line:\n",
    "    rounding = (seconds+roundTo/2) // roundTo * roundTo\n",
    "    return dt + datetime.timedelta(0,rounding-seconds,-dt.microsecond)"
   ]
  },
  {
   "cell_type": "code",
   "execution_count": null,
   "metadata": {
    "collapsed": false
   },
   "outputs": [],
   "source": [
    "roundTime(datetime.datetime(2016,12,31,23,37,32),datetime.timedelta(minutes=15))"
   ]
  },
  {
   "cell_type": "code",
   "execution_count": null,
   "metadata": {
    "collapsed": false
   },
   "outputs": [],
   "source": [
    "datetime.datetime.strptime('2016-12-16 02:00:52','%Y-%m-%d %H:%M:%S')"
   ]
  },
  {
   "cell_type": "code",
   "execution_count": null,
   "metadata": {
    "collapsed": false
   },
   "outputs": [],
   "source": [
    "data1['update_time_datetime'] = data1.apply(lambda x: datetime.datetime.strptime(x['update_time'],'%Y-%m-%d %H:%M:%S'),axis=1)"
   ]
  },
  {
   "cell_type": "code",
   "execution_count": null,
   "metadata": {
    "collapsed": false
   },
   "outputs": [],
   "source": [
    "data1['update_time15'] = data1.apply(lambda x: roundTime(x['update_time_datetime'],datetime.timedelta(minutes=15)),axis=1)"
   ]
  },
  {
   "cell_type": "code",
   "execution_count": null,
   "metadata": {
    "collapsed": false
   },
   "outputs": [],
   "source": [
    "list(data1.info_5.unique())[0] is not np.nan"
   ]
  },
  {
   "cell_type": "code",
   "execution_count": null,
   "metadata": {
    "collapsed": false
   },
   "outputs": [],
   "source": [
    "data1['sent_bytes'] = data1.apply(lambda x: int(x['info_5'].split('; ')[1].split('=')[1]) if x['info_5'] is not np.nan else 0,axis=1)\n",
    "data1['rcvd_bytes'] = data1.apply(lambda x: int(x['info_5'].split('; ')[2].split('=')[1]) if x['info_5'] is not np.nan else 0,axis=1)"
   ]
  },
  {
   "cell_type": "code",
   "execution_count": null,
   "metadata": {
    "collapsed": false
   },
   "outputs": [],
   "source": []
  },
  {
   "cell_type": "code",
   "execution_count": null,
   "metadata": {
    "collapsed": false
   },
   "outputs": [],
   "source": [
    "data1.fillna(0,inplace=True)"
   ]
  },
  {
   "cell_type": "code",
   "execution_count": null,
   "metadata": {
    "collapsed": false
   },
   "outputs": [],
   "source": [
    "min(data1.update_time15.values)"
   ]
  },
  {
   "cell_type": "code",
   "execution_count": null,
   "metadata": {
    "collapsed": false
   },
   "outputs": [],
   "source": [
    "data1[(data1.update_time15>=datetime.datetime(2017,1,2,0,0,0)) & (data1.update_time15<datetime.datetime(2017,1,5,0,0,0))].groupby(['update_time15'])['rcvd_bytes','sent_bytes'].sum().apply(lambda x: x/1024/1024/1024).plot(kind='line',figsize=(12,6))"
   ]
  },
  {
   "cell_type": "code",
   "execution_count": null,
   "metadata": {
    "collapsed": false
   },
   "outputs": [],
   "source": [
    "int('duration=30; sent_bytes=75; rcvd_bytes=234'.split('; ')[2].split('=')[1])"
   ]
  },
  {
   "cell_type": "code",
   "execution_count": 4,
   "metadata": {
    "collapsed": true
   },
   "outputs": [],
   "source": [
    "path = os.path.abspath('F:/bda_project_files/dataset')"
   ]
  },
  {
   "cell_type": "code",
   "execution_count": 14,
   "metadata": {
    "collapsed": false
   },
   "outputs": [
    {
     "name": "stdout",
     "output_type": "stream",
     "text": [
      "F:\\bda_project_files\\dataset F1_All_Traffic.csv\n",
      "F:\\bda_project_files\\dataset F1_Device_Statistic.csv\n",
      "F:\\bda_project_files\\dataset F1_GWC_Statistic.csv\n",
      "F:\\bda_project_files\\dataset F2_All_Traffic_modified.csv\n"
     ]
    },
    {
     "name": "stderr",
     "output_type": "stream",
     "text": [
      "C:\\Users\\Leonard\\Anaconda3\\lib\\site-packages\\IPython\\core\\interactiveshell.py:2717: DtypeWarning: Columns (25,26) have mixed types. Specify dtype option on import or set low_memory=False.\n",
      "  interactivity=interactivity, compiler=compiler, result=result)\n"
     ]
    },
    {
     "name": "stdout",
     "output_type": "stream",
     "text": [
      "F:\\bda_project_files\\dataset F2_Device_Statistic_modified.csv\n",
      "F:\\bda_project_files\\dataset F2_GWC_Statistic_modified.csv\n",
      "F:\\bda_project_files\\dataset F3_All_Traffic_modified.csv\n"
     ]
    },
    {
     "name": "stderr",
     "output_type": "stream",
     "text": [
      "C:\\Users\\Leonard\\Anaconda3\\lib\\site-packages\\IPython\\core\\interactiveshell.py:2717: DtypeWarning: Columns (14,16,25,26,32) have mixed types. Specify dtype option on import or set low_memory=False.\n",
      "  interactivity=interactivity, compiler=compiler, result=result)\n"
     ]
    },
    {
     "name": "stdout",
     "output_type": "stream",
     "text": [
      "F:\\bda_project_files\\dataset F3_Device_Statistic_modified.csv\n"
     ]
    }
   ],
   "source": [
    "datadict = {}\n",
    "for root, _ , files in os.walk(path):\n",
    "    for file in files:\n",
    "        print(root,file)\n",
    "        filep = file[3:]\n",
    "        if filep[-4:]=='.csv':\n",
    "            filep = filep.replace('_modified','')\n",
    "            if filep in datadict: \n",
    "                tempdata = pd.read_csv(os.path.join(root,file),parse_dates=['update_time'],infer_datetime_format=True)\n",
    "                tempdata.dropna(axis=0,how='all',inplace=True)\n",
    "                datadict[filep] = pd.concat([datadict[filep],tempdata])\n",
    "            else:\n",
    "                tempdata = pd.read_csv(os.path.join(root,file),parse_dates=['update_time'],infer_datetime_format=True)\n",
    "                tempdata.dropna(axis=0,how='all',inplace=True)\n",
    "                datadict[filep] = tempdata\n",
    "    "
   ]
  },
  {
   "cell_type": "code",
   "execution_count": 6,
   "metadata": {
    "collapsed": false
   },
   "outputs": [
    {
     "name": "stdout",
     "output_type": "stream",
     "text": [
      "Device_Statistic.csv ['Unnamed: 0' 'sid' 'cluster' 'raw_id' 'device' 'unix_time' 'in_octets'\n",
      " 'out_octets' 'log_type' 'update_time']\n",
      "GWC_Statistic.csv ['Unnamed: 0' 'sid' 'appliance_id' 'cluster' 'ssid' 'radio' 'band'\n",
      " 'rcvd_bytes' 'sent_bytes' 'client_count' 'log_type' 'update_time' 'wap']\n",
      "All_Traffic.csv ['Unnamed: 0' 'sid' 'cluster' 'tag_id' 'raw_id' 'disp' 'direction' 'pri'\n",
      " 'policy' 'protocol' 'src_ip' 'src_port' 'dst_ip' 'dst_port' 'src_ip_nat'\n",
      " 'src_port_nat' 'dst_ip_nat' 'dst_port_nat' 'src_intf' 'dst_intf' 'rc'\n",
      " 'pckt_len' 'ttl' 'pr_info' 'proxy_act' 'alarm_name' 'alarm_type'\n",
      " 'alarm_id' 'info_1' 'info_2' 'info_3' 'info_4' 'info_5' 'info_6'\n",
      " 'log_type' 'msg' 'bucket' 'update_time' 'info_7' 'info_8' 'info_9'\n",
      " 'info_10' 'info_11' 'info_12' 'msg_id']\n"
     ]
    }
   ],
   "source": [
    "for k,v in datadict.items():\n",
    "    print(k,v.columns.values)"
   ]
  },
  {
   "cell_type": "code",
   "execution_count": 8,
   "metadata": {
    "collapsed": false
   },
   "outputs": [],
   "source": [
    "# datadict['All_Traffic.csv'].dropna(axis=0,how='all',inplace=True)"
   ]
  },
  {
   "cell_type": "code",
   "execution_count": 7,
   "metadata": {
    "collapsed": false
   },
   "outputs": [
    {
     "data": {
      "text/html": [
       "<div>\n",
       "<table border=\"1\" class=\"dataframe\">\n",
       "  <thead>\n",
       "    <tr style=\"text-align: right;\">\n",
       "      <th></th>\n",
       "      <th>Unnamed: 0</th>\n",
       "      <th>sid</th>\n",
       "      <th>cluster</th>\n",
       "      <th>tag_id</th>\n",
       "      <th>raw_id</th>\n",
       "      <th>disp</th>\n",
       "      <th>direction</th>\n",
       "      <th>pri</th>\n",
       "      <th>policy</th>\n",
       "      <th>protocol</th>\n",
       "      <th>...</th>\n",
       "      <th>msg</th>\n",
       "      <th>bucket</th>\n",
       "      <th>update_time</th>\n",
       "      <th>info_7</th>\n",
       "      <th>info_8</th>\n",
       "      <th>info_9</th>\n",
       "      <th>info_10</th>\n",
       "      <th>info_11</th>\n",
       "      <th>info_12</th>\n",
       "      <th>msg_id</th>\n",
       "    </tr>\n",
       "  </thead>\n",
       "  <tbody>\n",
       "    <tr>\n",
       "      <th>0</th>\n",
       "      <td>0</td>\n",
       "      <td>1116303749</td>\n",
       "      <td>NaN</td>\n",
       "      <td>1001</td>\n",
       "      <td>331473</td>\n",
       "      <td>2</td>\n",
       "      <td>0</td>\n",
       "      <td>4</td>\n",
       "      <td>Unhandled-External-Packet-00</td>\n",
       "      <td>34295/udp</td>\n",
       "      <td>...</td>\n",
       "      <td>Denied</td>\n",
       "      <td>NaN</td>\n",
       "      <td>2016-12-16 02:00:10</td>\n",
       "      <td>NaN</td>\n",
       "      <td>NaN</td>\n",
       "      <td>NaN</td>\n",
       "      <td>NaN</td>\n",
       "      <td>NaN</td>\n",
       "      <td>NaN</td>\n",
       "      <td>3000-0148</td>\n",
       "    </tr>\n",
       "    <tr>\n",
       "      <th>1</th>\n",
       "      <td>1</td>\n",
       "      <td>1116303750</td>\n",
       "      <td>NaN</td>\n",
       "      <td>1001</td>\n",
       "      <td>331474</td>\n",
       "      <td>2</td>\n",
       "      <td>0</td>\n",
       "      <td>4</td>\n",
       "      <td>Unhandled-External-Packet-00</td>\n",
       "      <td>telnet/tcp</td>\n",
       "      <td>...</td>\n",
       "      <td>Denied</td>\n",
       "      <td>NaN</td>\n",
       "      <td>2016-12-16 02:00:13</td>\n",
       "      <td>NaN</td>\n",
       "      <td>NaN</td>\n",
       "      <td>NaN</td>\n",
       "      <td>NaN</td>\n",
       "      <td>NaN</td>\n",
       "      <td>NaN</td>\n",
       "      <td>3000-0148</td>\n",
       "    </tr>\n",
       "    <tr>\n",
       "      <th>2</th>\n",
       "      <td>2</td>\n",
       "      <td>1116303926</td>\n",
       "      <td>NaN</td>\n",
       "      <td>1001</td>\n",
       "      <td>331477</td>\n",
       "      <td>2</td>\n",
       "      <td>0</td>\n",
       "      <td>4</td>\n",
       "      <td>Unhandled-External-Packet-00</td>\n",
       "      <td>telnet/tcp</td>\n",
       "      <td>...</td>\n",
       "      <td>Denied</td>\n",
       "      <td>NaN</td>\n",
       "      <td>2016-12-16 02:00:51</td>\n",
       "      <td>NaN</td>\n",
       "      <td>NaN</td>\n",
       "      <td>NaN</td>\n",
       "      <td>NaN</td>\n",
       "      <td>NaN</td>\n",
       "      <td>NaN</td>\n",
       "      <td>3000-0148</td>\n",
       "    </tr>\n",
       "    <tr>\n",
       "      <th>3</th>\n",
       "      <td>3</td>\n",
       "      <td>1116303927</td>\n",
       "      <td>NaN</td>\n",
       "      <td>1001</td>\n",
       "      <td>331478</td>\n",
       "      <td>2</td>\n",
       "      <td>0</td>\n",
       "      <td>4</td>\n",
       "      <td>Unhandled-External-Packet-00</td>\n",
       "      <td>telnet/tcp</td>\n",
       "      <td>...</td>\n",
       "      <td>Denied</td>\n",
       "      <td>NaN</td>\n",
       "      <td>2016-12-16 02:00:52</td>\n",
       "      <td>NaN</td>\n",
       "      <td>NaN</td>\n",
       "      <td>NaN</td>\n",
       "      <td>NaN</td>\n",
       "      <td>NaN</td>\n",
       "      <td>NaN</td>\n",
       "      <td>3000-0148</td>\n",
       "    </tr>\n",
       "    <tr>\n",
       "      <th>4</th>\n",
       "      <td>4</td>\n",
       "      <td>1116303928</td>\n",
       "      <td>NaN</td>\n",
       "      <td>1001</td>\n",
       "      <td>331479</td>\n",
       "      <td>2</td>\n",
       "      <td>0</td>\n",
       "      <td>4</td>\n",
       "      <td>Unhandled-External-Packet-00</td>\n",
       "      <td>7547/tcp</td>\n",
       "      <td>...</td>\n",
       "      <td>Denied</td>\n",
       "      <td>NaN</td>\n",
       "      <td>2016-12-16 02:00:52</td>\n",
       "      <td>NaN</td>\n",
       "      <td>NaN</td>\n",
       "      <td>NaN</td>\n",
       "      <td>NaN</td>\n",
       "      <td>NaN</td>\n",
       "      <td>NaN</td>\n",
       "      <td>3000-0148</td>\n",
       "    </tr>\n",
       "  </tbody>\n",
       "</table>\n",
       "<p>5 rows × 45 columns</p>\n",
       "</div>"
      ],
      "text/plain": [
       "   Unnamed: 0         sid  cluster  tag_id  raw_id  disp  direction  pri  \\\n",
       "0           0  1116303749      NaN    1001  331473     2          0    4   \n",
       "1           1  1116303750      NaN    1001  331474     2          0    4   \n",
       "2           2  1116303926      NaN    1001  331477     2          0    4   \n",
       "3           3  1116303927      NaN    1001  331478     2          0    4   \n",
       "4           4  1116303928      NaN    1001  331479     2          0    4   \n",
       "\n",
       "                         policy    protocol    ...         msg  bucket  \\\n",
       "0  Unhandled-External-Packet-00   34295/udp    ...      Denied     NaN   \n",
       "1  Unhandled-External-Packet-00  telnet/tcp    ...      Denied     NaN   \n",
       "2  Unhandled-External-Packet-00  telnet/tcp    ...      Denied     NaN   \n",
       "3  Unhandled-External-Packet-00  telnet/tcp    ...      Denied     NaN   \n",
       "4  Unhandled-External-Packet-00    7547/tcp    ...      Denied     NaN   \n",
       "\n",
       "           update_time  info_7 info_8  info_9 info_10  info_11 info_12  \\\n",
       "0  2016-12-16 02:00:10     NaN    NaN     NaN     NaN      NaN     NaN   \n",
       "1  2016-12-16 02:00:13     NaN    NaN     NaN     NaN      NaN     NaN   \n",
       "2  2016-12-16 02:00:51     NaN    NaN     NaN     NaN      NaN     NaN   \n",
       "3  2016-12-16 02:00:52     NaN    NaN     NaN     NaN      NaN     NaN   \n",
       "4  2016-12-16 02:00:52     NaN    NaN     NaN     NaN      NaN     NaN   \n",
       "\n",
       "      msg_id  \n",
       "0  3000-0148  \n",
       "1  3000-0148  \n",
       "2  3000-0148  \n",
       "3  3000-0148  \n",
       "4  3000-0148  \n",
       "\n",
       "[5 rows x 45 columns]"
      ]
     },
     "execution_count": 7,
     "metadata": {},
     "output_type": "execute_result"
    }
   ],
   "source": [
    "datadict['All_Traffic.csv'].head()"
   ]
  },
  {
   "cell_type": "code",
   "execution_count": 10,
   "metadata": {
    "collapsed": true
   },
   "outputs": [],
   "source": [
    "import sys"
   ]
  },
  {
   "cell_type": "code",
   "execution_count": 11,
   "metadata": {
    "collapsed": false
   },
   "outputs": [
    {
     "name": "stdout",
     "output_type": "stream",
     "text": [
      "Unnamed: 0: 89MB\n",
      "sid: 89MB\n",
      "cluster: 89MB\n",
      "tag_id: 89MB\n",
      "raw_id: 89MB\n",
      "disp: 89MB\n",
      "direction: 89MB\n",
      "pri: 89MB\n",
      "policy: 462MB\n",
      "protocol: 407MB\n",
      "src_ip: 426MB\n",
      "src_port: 89MB\n",
      "dst_ip: 432MB\n",
      "dst_port: 89MB\n",
      "src_ip_nat: 405MB\n",
      "src_port_nat: 89MB\n",
      "dst_ip_nat: 222MB\n",
      "dst_port_nat: 89MB\n",
      "src_intf: 434MB\n",
      "dst_intf: 434MB\n",
      "rc: 89MB\n",
      "pckt_len: 89MB\n",
      "ttl: 89MB\n",
      "pr_info: 341MB\n",
      "proxy_act: 89MB\n",
      "alarm_name: 222MB\n",
      "alarm_type: 222MB\n",
      "alarm_id: 89MB\n",
      "info_1: 89MB\n",
      "info_2: 89MB\n",
      "info_3: 89MB\n",
      "info_4: 89MB\n",
      "info_5: 364MB\n",
      "info_6: 89MB\n",
      "log_type: 372MB\n",
      "msg: 336MB\n",
      "bucket: 89MB\n",
      "update_time: 466MB\n",
      "info_7: 89MB\n",
      "info_8: 89MB\n",
      "info_9: 89MB\n",
      "info_10: 89MB\n",
      "info_11: 89MB\n",
      "info_12: 89MB\n",
      "msg_id: 411MB\n"
     ]
    }
   ],
   "source": [
    "for col in datadict['All_Traffic.csv'].columns.values:\n",
    "    print(\"{}: {:.0f}MB\".format(col,sys.getsizeof( datadict['All_Traffic.csv'][col])/1024/1024))"
   ]
  },
  {
   "cell_type": "code",
   "execution_count": null,
   "metadata": {
    "collapsed": true
   },
   "outputs": [],
   "source": []
  },
  {
   "cell_type": "code",
   "execution_count": null,
   "metadata": {
    "collapsed": true
   },
   "outputs": [],
   "source": []
  },
  {
   "cell_type": "code",
   "execution_count": 15,
   "metadata": {
    "collapsed": false
   },
   "outputs": [
    {
     "name": "stdout",
     "output_type": "stream",
     "text": [
      "408MB\n"
     ]
    }
   ],
   "source": [
    "forecast_data = datadict['All_Traffic.csv'][['update_time','info_5']].fillna(0)\n",
    "print(\"{:.0f}MB\".format(sys.getsizeof( forecast_data)/1024/1024))"
   ]
  },
  {
   "cell_type": "code",
   "execution_count": 28,
   "metadata": {
    "collapsed": false
   },
   "outputs": [],
   "source": [
    "forecast_data['sent_bytes'] = [int(x.split('; ')[1].split('=')[1]) if x!=0 else 0 for x in forecast_data['info_5'].tolist()]\n",
    "forecast_data['rcvd_bytes'] = [int(x.split('; ')[2].split('=')[1]) if x!=0 else 0 for x in forecast_data['info_5'].tolist()]"
   ]
  },
  {
   "cell_type": "code",
   "execution_count": 61,
   "metadata": {
    "collapsed": false
   },
   "outputs": [
    {
     "name": "stdout",
     "output_type": "stream",
     "text": [
      "5821274 rows left\n",
      "4821274 rows left\n",
      "3821274 rows left\n",
      "2821274 rows left\n",
      "1821274 rows left\n",
      "821274 rows left\n"
     ]
    }
   ],
   "source": [
    "# Truncating the dates is very slow for some reason, made this loop to know how long it took\n",
    "\n",
    "outlist = []\n",
    "inlist = forecast_data['update_time'].tolist()\n",
    "length = len(inlist)\n",
    "for index, x in enumerate(inlist):\n",
    "    outlist.append(roundTime(x.to_pydatetime(),datetime.timedelta(minutes=15)))\n",
    "    if index % 1000000 == 0:\n",
    "        print(\"{:.0f} rows left\".format(length-index))\n",
    "# [roundTime(x,datetime.timedelta(minutes=15)) for x in forecast_data['update_time'].tolist()]\n"
   ]
  },
  {
   "cell_type": "code",
   "execution_count": 62,
   "metadata": {
    "collapsed": true
   },
   "outputs": [],
   "source": [
    "forecast_data['update_time15'] = outlist"
   ]
  },
  {
   "cell_type": "code",
   "execution_count": 59,
   "metadata": {
    "collapsed": false
   },
   "outputs": [
    {
     "name": "stdout",
     "output_type": "stream",
     "text": [
      "[Timestamp('2016-12-16 02:00:10'), Timestamp('2016-12-16 02:00:13'), Timestamp('2016-12-16 02:00:51'), Timestamp('2016-12-16 02:00:52'), Timestamp('2016-12-16 02:00:52')] \n",
      " [Timestamp('2016-12-16 01:57:44'), Timestamp('2016-12-16 01:57:44'), Timestamp('2016-12-16 01:57:44'), Timestamp('2016-12-16 01:57:44'), Timestamp('2016-12-16 01:57:44')] 2016-12-16 02:00:00\n"
     ]
    }
   ],
   "source": [
    "# print(inlist[:5],'\\n',outlist[:5],roundTime(inlist[0].to_pydatetime(),datetime.timedelta(minutes=15)))"
   ]
  },
  {
   "cell_type": "code",
   "execution_count": null,
   "metadata": {
    "collapsed": true
   },
   "outputs": [],
   "source": [
    "# updatetime = map(roundTime(),inlist,datetime.timedelta(minutes=15))"
   ]
  },
  {
   "cell_type": "code",
   "execution_count": 63,
   "metadata": {
    "collapsed": false
   },
   "outputs": [
    {
     "data": {
      "text/html": [
       "<div>\n",
       "<table border=\"1\" class=\"dataframe\">\n",
       "  <thead>\n",
       "    <tr style=\"text-align: right;\">\n",
       "      <th></th>\n",
       "      <th>update_time</th>\n",
       "      <th>info_5</th>\n",
       "      <th>sent_bytes</th>\n",
       "      <th>rcvd_bytes</th>\n",
       "      <th>update_time15</th>\n",
       "    </tr>\n",
       "  </thead>\n",
       "  <tbody>\n",
       "    <tr>\n",
       "      <th>0</th>\n",
       "      <td>2016-12-16 02:00:10</td>\n",
       "      <td>0</td>\n",
       "      <td>0</td>\n",
       "      <td>0</td>\n",
       "      <td>2016-12-16 02:00:00</td>\n",
       "    </tr>\n",
       "    <tr>\n",
       "      <th>1</th>\n",
       "      <td>2016-12-16 02:00:13</td>\n",
       "      <td>0</td>\n",
       "      <td>0</td>\n",
       "      <td>0</td>\n",
       "      <td>2016-12-16 02:00:00</td>\n",
       "    </tr>\n",
       "    <tr>\n",
       "      <th>2</th>\n",
       "      <td>2016-12-16 02:00:51</td>\n",
       "      <td>0</td>\n",
       "      <td>0</td>\n",
       "      <td>0</td>\n",
       "      <td>2016-12-16 02:00:00</td>\n",
       "    </tr>\n",
       "    <tr>\n",
       "      <th>3</th>\n",
       "      <td>2016-12-16 02:00:52</td>\n",
       "      <td>0</td>\n",
       "      <td>0</td>\n",
       "      <td>0</td>\n",
       "      <td>2016-12-16 02:00:00</td>\n",
       "    </tr>\n",
       "    <tr>\n",
       "      <th>4</th>\n",
       "      <td>2016-12-16 02:00:52</td>\n",
       "      <td>0</td>\n",
       "      <td>0</td>\n",
       "      <td>0</td>\n",
       "      <td>2016-12-16 02:00:00</td>\n",
       "    </tr>\n",
       "  </tbody>\n",
       "</table>\n",
       "</div>"
      ],
      "text/plain": [
       "          update_time info_5  sent_bytes  rcvd_bytes       update_time15\n",
       "0 2016-12-16 02:00:10      0           0           0 2016-12-16 02:00:00\n",
       "1 2016-12-16 02:00:13      0           0           0 2016-12-16 02:00:00\n",
       "2 2016-12-16 02:00:51      0           0           0 2016-12-16 02:00:00\n",
       "3 2016-12-16 02:00:52      0           0           0 2016-12-16 02:00:00\n",
       "4 2016-12-16 02:00:52      0           0           0 2016-12-16 02:00:00"
      ]
     },
     "execution_count": 63,
     "metadata": {},
     "output_type": "execute_result"
    }
   ],
   "source": [
    "forecast_data.head()"
   ]
  },
  {
   "cell_type": "code",
   "execution_count": 110,
   "metadata": {
    "collapsed": true
   },
   "outputs": [],
   "source": [
    "forecast_data_2 = forecast_data.groupby('update_time15')[['sent_bytes','rcvd_bytes']].sum().reset_index()\n",
    "forecast_data_2['hour'] = [x.hour for x in forecast_data_2.update_time15]\n",
    "forecast_data_2['min'] = [x.minute for x in forecast_data_2.update_time15]\n",
    "forecast_data_2['dow'] = [x.weekday() for x in forecast_data_2.update_time15]\n",
    "forecast_data_2['day'] = [x.day for x in forecast_data_2.update_time15]\n",
    "forecast_data_2['month'] = [x.month for x in forecast_data_2.update_time15]\n",
    "forecast_data_2['traffic'] = (forecast_data_2.sent_bytes+forecast_data_2.rcvd_bytes)/1024/1024"
   ]
  },
  {
   "cell_type": "code",
   "execution_count": 111,
   "metadata": {
    "collapsed": false
   },
   "outputs": [
    {
     "data": {
      "text/html": [
       "<div>\n",
       "<table border=\"1\" class=\"dataframe\">\n",
       "  <thead>\n",
       "    <tr style=\"text-align: right;\">\n",
       "      <th></th>\n",
       "      <th>update_time15</th>\n",
       "      <th>sent_bytes</th>\n",
       "      <th>rcvd_bytes</th>\n",
       "      <th>hour</th>\n",
       "      <th>min</th>\n",
       "      <th>dow</th>\n",
       "      <th>day</th>\n",
       "      <th>month</th>\n",
       "      <th>traffic</th>\n",
       "    </tr>\n",
       "  </thead>\n",
       "  <tbody>\n",
       "    <tr>\n",
       "      <th>0</th>\n",
       "      <td>2016-12-16 02:00:00</td>\n",
       "      <td>10312</td>\n",
       "      <td>26532</td>\n",
       "      <td>2</td>\n",
       "      <td>0</td>\n",
       "      <td>4</td>\n",
       "      <td>16</td>\n",
       "      <td>12</td>\n",
       "      <td>0.035137</td>\n",
       "    </tr>\n",
       "    <tr>\n",
       "      <th>1</th>\n",
       "      <td>2016-12-16 02:15:00</td>\n",
       "      <td>9776</td>\n",
       "      <td>26516</td>\n",
       "      <td>2</td>\n",
       "      <td>15</td>\n",
       "      <td>4</td>\n",
       "      <td>16</td>\n",
       "      <td>12</td>\n",
       "      <td>0.034611</td>\n",
       "    </tr>\n",
       "    <tr>\n",
       "      <th>2</th>\n",
       "      <td>2016-12-16 02:30:00</td>\n",
       "      <td>144026</td>\n",
       "      <td>146568</td>\n",
       "      <td>2</td>\n",
       "      <td>30</td>\n",
       "      <td>4</td>\n",
       "      <td>16</td>\n",
       "      <td>12</td>\n",
       "      <td>0.277132</td>\n",
       "    </tr>\n",
       "    <tr>\n",
       "      <th>3</th>\n",
       "      <td>2016-12-16 02:45:00</td>\n",
       "      <td>12338</td>\n",
       "      <td>56552</td>\n",
       "      <td>2</td>\n",
       "      <td>45</td>\n",
       "      <td>4</td>\n",
       "      <td>16</td>\n",
       "      <td>12</td>\n",
       "      <td>0.065699</td>\n",
       "    </tr>\n",
       "    <tr>\n",
       "      <th>4</th>\n",
       "      <td>2016-12-16 03:00:00</td>\n",
       "      <td>332556</td>\n",
       "      <td>18511495</td>\n",
       "      <td>3</td>\n",
       "      <td>0</td>\n",
       "      <td>4</td>\n",
       "      <td>16</td>\n",
       "      <td>12</td>\n",
       "      <td>17.971087</td>\n",
       "    </tr>\n",
       "    <tr>\n",
       "      <th>5</th>\n",
       "      <td>2016-12-16 03:15:00</td>\n",
       "      <td>268161</td>\n",
       "      <td>12195421</td>\n",
       "      <td>3</td>\n",
       "      <td>15</td>\n",
       "      <td>4</td>\n",
       "      <td>16</td>\n",
       "      <td>12</td>\n",
       "      <td>11.886198</td>\n",
       "    </tr>\n",
       "    <tr>\n",
       "      <th>6</th>\n",
       "      <td>2016-12-16 03:30:00</td>\n",
       "      <td>2609</td>\n",
       "      <td>8440</td>\n",
       "      <td>3</td>\n",
       "      <td>30</td>\n",
       "      <td>4</td>\n",
       "      <td>16</td>\n",
       "      <td>12</td>\n",
       "      <td>0.010537</td>\n",
       "    </tr>\n",
       "    <tr>\n",
       "      <th>7</th>\n",
       "      <td>2016-12-16 03:45:00</td>\n",
       "      <td>1725</td>\n",
       "      <td>4205</td>\n",
       "      <td>3</td>\n",
       "      <td>45</td>\n",
       "      <td>4</td>\n",
       "      <td>16</td>\n",
       "      <td>12</td>\n",
       "      <td>0.005655</td>\n",
       "    </tr>\n",
       "    <tr>\n",
       "      <th>8</th>\n",
       "      <td>2016-12-16 04:00:00</td>\n",
       "      <td>14523</td>\n",
       "      <td>18267</td>\n",
       "      <td>4</td>\n",
       "      <td>0</td>\n",
       "      <td>4</td>\n",
       "      <td>16</td>\n",
       "      <td>12</td>\n",
       "      <td>0.031271</td>\n",
       "    </tr>\n",
       "    <tr>\n",
       "      <th>9</th>\n",
       "      <td>2016-12-16 04:15:00</td>\n",
       "      <td>113790</td>\n",
       "      <td>55959</td>\n",
       "      <td>4</td>\n",
       "      <td>15</td>\n",
       "      <td>4</td>\n",
       "      <td>16</td>\n",
       "      <td>12</td>\n",
       "      <td>0.161885</td>\n",
       "    </tr>\n",
       "    <tr>\n",
       "      <th>10</th>\n",
       "      <td>2016-12-16 04:30:00</td>\n",
       "      <td>5923</td>\n",
       "      <td>11121</td>\n",
       "      <td>4</td>\n",
       "      <td>30</td>\n",
       "      <td>4</td>\n",
       "      <td>16</td>\n",
       "      <td>12</td>\n",
       "      <td>0.016254</td>\n",
       "    </tr>\n",
       "    <tr>\n",
       "      <th>11</th>\n",
       "      <td>2016-12-16 04:45:00</td>\n",
       "      <td>1661</td>\n",
       "      <td>4205</td>\n",
       "      <td>4</td>\n",
       "      <td>45</td>\n",
       "      <td>4</td>\n",
       "      <td>16</td>\n",
       "      <td>12</td>\n",
       "      <td>0.005594</td>\n",
       "    </tr>\n",
       "    <tr>\n",
       "      <th>12</th>\n",
       "      <td>2016-12-16 05:00:00</td>\n",
       "      <td>14857</td>\n",
       "      <td>14834</td>\n",
       "      <td>5</td>\n",
       "      <td>0</td>\n",
       "      <td>4</td>\n",
       "      <td>16</td>\n",
       "      <td>12</td>\n",
       "      <td>0.028316</td>\n",
       "    </tr>\n",
       "    <tr>\n",
       "      <th>13</th>\n",
       "      <td>2016-12-16 05:15:00</td>\n",
       "      <td>1661</td>\n",
       "      <td>4205</td>\n",
       "      <td>5</td>\n",
       "      <td>15</td>\n",
       "      <td>4</td>\n",
       "      <td>16</td>\n",
       "      <td>12</td>\n",
       "      <td>0.005594</td>\n",
       "    </tr>\n",
       "    <tr>\n",
       "      <th>14</th>\n",
       "      <td>2016-12-16 05:30:00</td>\n",
       "      <td>16822</td>\n",
       "      <td>36883</td>\n",
       "      <td>5</td>\n",
       "      <td>30</td>\n",
       "      <td>4</td>\n",
       "      <td>16</td>\n",
       "      <td>12</td>\n",
       "      <td>0.051217</td>\n",
       "    </tr>\n",
       "    <tr>\n",
       "      <th>15</th>\n",
       "      <td>2016-12-16 05:45:00</td>\n",
       "      <td>131291</td>\n",
       "      <td>929749</td>\n",
       "      <td>5</td>\n",
       "      <td>45</td>\n",
       "      <td>4</td>\n",
       "      <td>16</td>\n",
       "      <td>12</td>\n",
       "      <td>1.011887</td>\n",
       "    </tr>\n",
       "    <tr>\n",
       "      <th>16</th>\n",
       "      <td>2016-12-16 06:00:00</td>\n",
       "      <td>33193</td>\n",
       "      <td>244484</td>\n",
       "      <td>6</td>\n",
       "      <td>0</td>\n",
       "      <td>4</td>\n",
       "      <td>16</td>\n",
       "      <td>12</td>\n",
       "      <td>0.264813</td>\n",
       "    </tr>\n",
       "    <tr>\n",
       "      <th>17</th>\n",
       "      <td>2016-12-16 06:15:00</td>\n",
       "      <td>4361</td>\n",
       "      <td>6524</td>\n",
       "      <td>6</td>\n",
       "      <td>15</td>\n",
       "      <td>4</td>\n",
       "      <td>16</td>\n",
       "      <td>12</td>\n",
       "      <td>0.010381</td>\n",
       "    </tr>\n",
       "    <tr>\n",
       "      <th>18</th>\n",
       "      <td>2016-12-16 06:30:00</td>\n",
       "      <td>12798</td>\n",
       "      <td>39314</td>\n",
       "      <td>6</td>\n",
       "      <td>30</td>\n",
       "      <td>4</td>\n",
       "      <td>16</td>\n",
       "      <td>12</td>\n",
       "      <td>0.049698</td>\n",
       "    </tr>\n",
       "    <tr>\n",
       "      <th>19</th>\n",
       "      <td>2016-12-16 06:45:00</td>\n",
       "      <td>1860435</td>\n",
       "      <td>15853226</td>\n",
       "      <td>6</td>\n",
       "      <td>45</td>\n",
       "      <td>4</td>\n",
       "      <td>16</td>\n",
       "      <td>12</td>\n",
       "      <td>16.893064</td>\n",
       "    </tr>\n",
       "    <tr>\n",
       "      <th>20</th>\n",
       "      <td>2016-12-16 07:00:00</td>\n",
       "      <td>2455534</td>\n",
       "      <td>8938747</td>\n",
       "      <td>7</td>\n",
       "      <td>0</td>\n",
       "      <td>4</td>\n",
       "      <td>16</td>\n",
       "      <td>12</td>\n",
       "      <td>10.866433</td>\n",
       "    </tr>\n",
       "    <tr>\n",
       "      <th>21</th>\n",
       "      <td>2016-12-16 07:15:00</td>\n",
       "      <td>487072</td>\n",
       "      <td>11563304</td>\n",
       "      <td>7</td>\n",
       "      <td>15</td>\n",
       "      <td>4</td>\n",
       "      <td>16</td>\n",
       "      <td>12</td>\n",
       "      <td>11.492134</td>\n",
       "    </tr>\n",
       "    <tr>\n",
       "      <th>22</th>\n",
       "      <td>2016-12-16 07:30:00</td>\n",
       "      <td>461693</td>\n",
       "      <td>1130407</td>\n",
       "      <td>7</td>\n",
       "      <td>30</td>\n",
       "      <td>4</td>\n",
       "      <td>16</td>\n",
       "      <td>12</td>\n",
       "      <td>1.518345</td>\n",
       "    </tr>\n",
       "    <tr>\n",
       "      <th>23</th>\n",
       "      <td>2016-12-16 07:45:00</td>\n",
       "      <td>966694</td>\n",
       "      <td>8332089</td>\n",
       "      <td>7</td>\n",
       "      <td>45</td>\n",
       "      <td>4</td>\n",
       "      <td>16</td>\n",
       "      <td>12</td>\n",
       "      <td>8.868011</td>\n",
       "    </tr>\n",
       "    <tr>\n",
       "      <th>24</th>\n",
       "      <td>2016-12-16 08:00:00</td>\n",
       "      <td>4254280</td>\n",
       "      <td>19584461</td>\n",
       "      <td>8</td>\n",
       "      <td>0</td>\n",
       "      <td>4</td>\n",
       "      <td>16</td>\n",
       "      <td>12</td>\n",
       "      <td>22.734395</td>\n",
       "    </tr>\n",
       "    <tr>\n",
       "      <th>25</th>\n",
       "      <td>2016-12-16 08:15:00</td>\n",
       "      <td>15126970</td>\n",
       "      <td>220959703</td>\n",
       "      <td>8</td>\n",
       "      <td>15</td>\n",
       "      <td>4</td>\n",
       "      <td>16</td>\n",
       "      <td>12</td>\n",
       "      <td>225.149796</td>\n",
       "    </tr>\n",
       "    <tr>\n",
       "      <th>26</th>\n",
       "      <td>2016-12-16 08:30:00</td>\n",
       "      <td>7231572</td>\n",
       "      <td>50407880</td>\n",
       "      <td>8</td>\n",
       "      <td>30</td>\n",
       "      <td>4</td>\n",
       "      <td>16</td>\n",
       "      <td>12</td>\n",
       "      <td>54.969265</td>\n",
       "    </tr>\n",
       "    <tr>\n",
       "      <th>27</th>\n",
       "      <td>2016-12-16 08:45:00</td>\n",
       "      <td>6429913</td>\n",
       "      <td>55643137</td>\n",
       "      <td>8</td>\n",
       "      <td>45</td>\n",
       "      <td>4</td>\n",
       "      <td>16</td>\n",
       "      <td>12</td>\n",
       "      <td>59.197474</td>\n",
       "    </tr>\n",
       "    <tr>\n",
       "      <th>28</th>\n",
       "      <td>2016-12-16 09:00:00</td>\n",
       "      <td>13734450</td>\n",
       "      <td>178195874</td>\n",
       "      <td>9</td>\n",
       "      <td>0</td>\n",
       "      <td>4</td>\n",
       "      <td>16</td>\n",
       "      <td>12</td>\n",
       "      <td>183.039021</td>\n",
       "    </tr>\n",
       "    <tr>\n",
       "      <th>29</th>\n",
       "      <td>2016-12-16 09:15:00</td>\n",
       "      <td>20046353</td>\n",
       "      <td>155641559</td>\n",
       "      <td>9</td>\n",
       "      <td>15</td>\n",
       "      <td>4</td>\n",
       "      <td>16</td>\n",
       "      <td>12</td>\n",
       "      <td>167.549049</td>\n",
       "    </tr>\n",
       "    <tr>\n",
       "      <th>...</th>\n",
       "      <td>...</td>\n",
       "      <td>...</td>\n",
       "      <td>...</td>\n",
       "      <td>...</td>\n",
       "      <td>...</td>\n",
       "      <td>...</td>\n",
       "      <td>...</td>\n",
       "      <td>...</td>\n",
       "      <td>...</td>\n",
       "    </tr>\n",
       "    <tr>\n",
       "      <th>2555</th>\n",
       "      <td>2017-01-11 16:45:00</td>\n",
       "      <td>11832418</td>\n",
       "      <td>35555070</td>\n",
       "      <td>16</td>\n",
       "      <td>45</td>\n",
       "      <td>2</td>\n",
       "      <td>11</td>\n",
       "      <td>1</td>\n",
       "      <td>45.192230</td>\n",
       "    </tr>\n",
       "    <tr>\n",
       "      <th>2556</th>\n",
       "      <td>2017-01-11 17:00:00</td>\n",
       "      <td>10905288</td>\n",
       "      <td>18550112</td>\n",
       "      <td>17</td>\n",
       "      <td>0</td>\n",
       "      <td>2</td>\n",
       "      <td>11</td>\n",
       "      <td>1</td>\n",
       "      <td>28.090858</td>\n",
       "    </tr>\n",
       "    <tr>\n",
       "      <th>2557</th>\n",
       "      <td>2017-01-11 17:15:00</td>\n",
       "      <td>1692203</td>\n",
       "      <td>4273222</td>\n",
       "      <td>17</td>\n",
       "      <td>15</td>\n",
       "      <td>2</td>\n",
       "      <td>11</td>\n",
       "      <td>1</td>\n",
       "      <td>5.689073</td>\n",
       "    </tr>\n",
       "    <tr>\n",
       "      <th>2558</th>\n",
       "      <td>2017-01-11 17:30:00</td>\n",
       "      <td>1042201</td>\n",
       "      <td>9153333</td>\n",
       "      <td>17</td>\n",
       "      <td>30</td>\n",
       "      <td>2</td>\n",
       "      <td>11</td>\n",
       "      <td>1</td>\n",
       "      <td>9.723219</td>\n",
       "    </tr>\n",
       "    <tr>\n",
       "      <th>2559</th>\n",
       "      <td>2017-01-11 17:45:00</td>\n",
       "      <td>740077</td>\n",
       "      <td>11432444</td>\n",
       "      <td>17</td>\n",
       "      <td>45</td>\n",
       "      <td>2</td>\n",
       "      <td>11</td>\n",
       "      <td>1</td>\n",
       "      <td>11.608621</td>\n",
       "    </tr>\n",
       "    <tr>\n",
       "      <th>2560</th>\n",
       "      <td>2017-01-11 18:00:00</td>\n",
       "      <td>373321</td>\n",
       "      <td>1321659</td>\n",
       "      <td>18</td>\n",
       "      <td>0</td>\n",
       "      <td>2</td>\n",
       "      <td>11</td>\n",
       "      <td>1</td>\n",
       "      <td>1.616459</td>\n",
       "    </tr>\n",
       "    <tr>\n",
       "      <th>2561</th>\n",
       "      <td>2017-01-11 18:15:00</td>\n",
       "      <td>261174</td>\n",
       "      <td>502473</td>\n",
       "      <td>18</td>\n",
       "      <td>15</td>\n",
       "      <td>2</td>\n",
       "      <td>11</td>\n",
       "      <td>1</td>\n",
       "      <td>0.728271</td>\n",
       "    </tr>\n",
       "    <tr>\n",
       "      <th>2562</th>\n",
       "      <td>2017-01-11 18:30:00</td>\n",
       "      <td>593792</td>\n",
       "      <td>1153430</td>\n",
       "      <td>18</td>\n",
       "      <td>30</td>\n",
       "      <td>2</td>\n",
       "      <td>11</td>\n",
       "      <td>1</td>\n",
       "      <td>1.666281</td>\n",
       "    </tr>\n",
       "    <tr>\n",
       "      <th>2563</th>\n",
       "      <td>2017-01-11 18:45:00</td>\n",
       "      <td>174000</td>\n",
       "      <td>1381704</td>\n",
       "      <td>18</td>\n",
       "      <td>45</td>\n",
       "      <td>2</td>\n",
       "      <td>11</td>\n",
       "      <td>1</td>\n",
       "      <td>1.483635</td>\n",
       "    </tr>\n",
       "    <tr>\n",
       "      <th>2564</th>\n",
       "      <td>2017-01-11 19:00:00</td>\n",
       "      <td>158071</td>\n",
       "      <td>168991</td>\n",
       "      <td>19</td>\n",
       "      <td>0</td>\n",
       "      <td>2</td>\n",
       "      <td>11</td>\n",
       "      <td>1</td>\n",
       "      <td>0.311911</td>\n",
       "    </tr>\n",
       "    <tr>\n",
       "      <th>2565</th>\n",
       "      <td>2017-01-11 19:15:00</td>\n",
       "      <td>353883</td>\n",
       "      <td>743241</td>\n",
       "      <td>19</td>\n",
       "      <td>15</td>\n",
       "      <td>2</td>\n",
       "      <td>11</td>\n",
       "      <td>1</td>\n",
       "      <td>1.046299</td>\n",
       "    </tr>\n",
       "    <tr>\n",
       "      <th>2566</th>\n",
       "      <td>2017-01-11 19:30:00</td>\n",
       "      <td>329653</td>\n",
       "      <td>459999</td>\n",
       "      <td>19</td>\n",
       "      <td>30</td>\n",
       "      <td>2</td>\n",
       "      <td>11</td>\n",
       "      <td>1</td>\n",
       "      <td>0.753071</td>\n",
       "    </tr>\n",
       "    <tr>\n",
       "      <th>2567</th>\n",
       "      <td>2017-01-11 19:45:00</td>\n",
       "      <td>60219</td>\n",
       "      <td>71663</td>\n",
       "      <td>19</td>\n",
       "      <td>45</td>\n",
       "      <td>2</td>\n",
       "      <td>11</td>\n",
       "      <td>1</td>\n",
       "      <td>0.125772</td>\n",
       "    </tr>\n",
       "    <tr>\n",
       "      <th>2568</th>\n",
       "      <td>2017-01-11 20:00:00</td>\n",
       "      <td>96527</td>\n",
       "      <td>103608</td>\n",
       "      <td>20</td>\n",
       "      <td>0</td>\n",
       "      <td>2</td>\n",
       "      <td>11</td>\n",
       "      <td>1</td>\n",
       "      <td>0.190864</td>\n",
       "    </tr>\n",
       "    <tr>\n",
       "      <th>2569</th>\n",
       "      <td>2017-01-11 20:15:00</td>\n",
       "      <td>74980</td>\n",
       "      <td>175699</td>\n",
       "      <td>20</td>\n",
       "      <td>15</td>\n",
       "      <td>2</td>\n",
       "      <td>11</td>\n",
       "      <td>1</td>\n",
       "      <td>0.239066</td>\n",
       "    </tr>\n",
       "    <tr>\n",
       "      <th>2570</th>\n",
       "      <td>2017-01-11 20:30:00</td>\n",
       "      <td>34373</td>\n",
       "      <td>10858</td>\n",
       "      <td>20</td>\n",
       "      <td>30</td>\n",
       "      <td>2</td>\n",
       "      <td>11</td>\n",
       "      <td>1</td>\n",
       "      <td>0.043136</td>\n",
       "    </tr>\n",
       "    <tr>\n",
       "      <th>2571</th>\n",
       "      <td>2017-01-11 20:45:00</td>\n",
       "      <td>91974</td>\n",
       "      <td>116450</td>\n",
       "      <td>20</td>\n",
       "      <td>45</td>\n",
       "      <td>2</td>\n",
       "      <td>11</td>\n",
       "      <td>1</td>\n",
       "      <td>0.198769</td>\n",
       "    </tr>\n",
       "    <tr>\n",
       "      <th>2572</th>\n",
       "      <td>2017-01-11 21:00:00</td>\n",
       "      <td>43600</td>\n",
       "      <td>44485</td>\n",
       "      <td>21</td>\n",
       "      <td>0</td>\n",
       "      <td>2</td>\n",
       "      <td>11</td>\n",
       "      <td>1</td>\n",
       "      <td>0.084004</td>\n",
       "    </tr>\n",
       "    <tr>\n",
       "      <th>2573</th>\n",
       "      <td>2017-01-11 21:15:00</td>\n",
       "      <td>30845</td>\n",
       "      <td>5881</td>\n",
       "      <td>21</td>\n",
       "      <td>15</td>\n",
       "      <td>2</td>\n",
       "      <td>11</td>\n",
       "      <td>1</td>\n",
       "      <td>0.035025</td>\n",
       "    </tr>\n",
       "    <tr>\n",
       "      <th>2574</th>\n",
       "      <td>2017-01-11 21:30:00</td>\n",
       "      <td>41352</td>\n",
       "      <td>57081</td>\n",
       "      <td>21</td>\n",
       "      <td>30</td>\n",
       "      <td>2</td>\n",
       "      <td>11</td>\n",
       "      <td>1</td>\n",
       "      <td>0.093873</td>\n",
       "    </tr>\n",
       "    <tr>\n",
       "      <th>2575</th>\n",
       "      <td>2017-01-11 21:45:00</td>\n",
       "      <td>43112</td>\n",
       "      <td>19792</td>\n",
       "      <td>21</td>\n",
       "      <td>45</td>\n",
       "      <td>2</td>\n",
       "      <td>11</td>\n",
       "      <td>1</td>\n",
       "      <td>0.059990</td>\n",
       "    </tr>\n",
       "    <tr>\n",
       "      <th>2576</th>\n",
       "      <td>2017-01-11 22:00:00</td>\n",
       "      <td>70155</td>\n",
       "      <td>116361</td>\n",
       "      <td>22</td>\n",
       "      <td>0</td>\n",
       "      <td>2</td>\n",
       "      <td>11</td>\n",
       "      <td>1</td>\n",
       "      <td>0.177876</td>\n",
       "    </tr>\n",
       "    <tr>\n",
       "      <th>2577</th>\n",
       "      <td>2017-01-11 22:15:00</td>\n",
       "      <td>42703</td>\n",
       "      <td>45905</td>\n",
       "      <td>22</td>\n",
       "      <td>15</td>\n",
       "      <td>2</td>\n",
       "      <td>11</td>\n",
       "      <td>1</td>\n",
       "      <td>0.084503</td>\n",
       "    </tr>\n",
       "    <tr>\n",
       "      <th>2578</th>\n",
       "      <td>2017-01-11 22:30:00</td>\n",
       "      <td>39356</td>\n",
       "      <td>32032</td>\n",
       "      <td>22</td>\n",
       "      <td>30</td>\n",
       "      <td>2</td>\n",
       "      <td>11</td>\n",
       "      <td>1</td>\n",
       "      <td>0.068081</td>\n",
       "    </tr>\n",
       "    <tr>\n",
       "      <th>2579</th>\n",
       "      <td>2017-01-11 22:45:00</td>\n",
       "      <td>32044</td>\n",
       "      <td>9914</td>\n",
       "      <td>22</td>\n",
       "      <td>45</td>\n",
       "      <td>2</td>\n",
       "      <td>11</td>\n",
       "      <td>1</td>\n",
       "      <td>0.040014</td>\n",
       "    </tr>\n",
       "    <tr>\n",
       "      <th>2580</th>\n",
       "      <td>2017-01-11 23:00:00</td>\n",
       "      <td>32421</td>\n",
       "      <td>10918</td>\n",
       "      <td>23</td>\n",
       "      <td>0</td>\n",
       "      <td>2</td>\n",
       "      <td>11</td>\n",
       "      <td>1</td>\n",
       "      <td>0.041331</td>\n",
       "    </tr>\n",
       "    <tr>\n",
       "      <th>2581</th>\n",
       "      <td>2017-01-11 23:15:00</td>\n",
       "      <td>43273</td>\n",
       "      <td>15096</td>\n",
       "      <td>23</td>\n",
       "      <td>15</td>\n",
       "      <td>2</td>\n",
       "      <td>11</td>\n",
       "      <td>1</td>\n",
       "      <td>0.055665</td>\n",
       "    </tr>\n",
       "    <tr>\n",
       "      <th>2582</th>\n",
       "      <td>2017-01-11 23:30:00</td>\n",
       "      <td>46403</td>\n",
       "      <td>80250</td>\n",
       "      <td>23</td>\n",
       "      <td>30</td>\n",
       "      <td>2</td>\n",
       "      <td>11</td>\n",
       "      <td>1</td>\n",
       "      <td>0.120786</td>\n",
       "    </tr>\n",
       "    <tr>\n",
       "      <th>2583</th>\n",
       "      <td>2017-01-11 23:45:00</td>\n",
       "      <td>32607</td>\n",
       "      <td>10760</td>\n",
       "      <td>23</td>\n",
       "      <td>45</td>\n",
       "      <td>2</td>\n",
       "      <td>11</td>\n",
       "      <td>1</td>\n",
       "      <td>0.041358</td>\n",
       "    </tr>\n",
       "    <tr>\n",
       "      <th>2584</th>\n",
       "      <td>2017-01-12 00:00:00</td>\n",
       "      <td>14348</td>\n",
       "      <td>2050</td>\n",
       "      <td>0</td>\n",
       "      <td>0</td>\n",
       "      <td>3</td>\n",
       "      <td>12</td>\n",
       "      <td>1</td>\n",
       "      <td>0.015638</td>\n",
       "    </tr>\n",
       "  </tbody>\n",
       "</table>\n",
       "<p>2585 rows × 9 columns</p>\n",
       "</div>"
      ],
      "text/plain": [
       "           update_time15  sent_bytes  rcvd_bytes  hour  min  dow  day  month  \\\n",
       "0    2016-12-16 02:00:00       10312       26532     2    0    4   16     12   \n",
       "1    2016-12-16 02:15:00        9776       26516     2   15    4   16     12   \n",
       "2    2016-12-16 02:30:00      144026      146568     2   30    4   16     12   \n",
       "3    2016-12-16 02:45:00       12338       56552     2   45    4   16     12   \n",
       "4    2016-12-16 03:00:00      332556    18511495     3    0    4   16     12   \n",
       "5    2016-12-16 03:15:00      268161    12195421     3   15    4   16     12   \n",
       "6    2016-12-16 03:30:00        2609        8440     3   30    4   16     12   \n",
       "7    2016-12-16 03:45:00        1725        4205     3   45    4   16     12   \n",
       "8    2016-12-16 04:00:00       14523       18267     4    0    4   16     12   \n",
       "9    2016-12-16 04:15:00      113790       55959     4   15    4   16     12   \n",
       "10   2016-12-16 04:30:00        5923       11121     4   30    4   16     12   \n",
       "11   2016-12-16 04:45:00        1661        4205     4   45    4   16     12   \n",
       "12   2016-12-16 05:00:00       14857       14834     5    0    4   16     12   \n",
       "13   2016-12-16 05:15:00        1661        4205     5   15    4   16     12   \n",
       "14   2016-12-16 05:30:00       16822       36883     5   30    4   16     12   \n",
       "15   2016-12-16 05:45:00      131291      929749     5   45    4   16     12   \n",
       "16   2016-12-16 06:00:00       33193      244484     6    0    4   16     12   \n",
       "17   2016-12-16 06:15:00        4361        6524     6   15    4   16     12   \n",
       "18   2016-12-16 06:30:00       12798       39314     6   30    4   16     12   \n",
       "19   2016-12-16 06:45:00     1860435    15853226     6   45    4   16     12   \n",
       "20   2016-12-16 07:00:00     2455534     8938747     7    0    4   16     12   \n",
       "21   2016-12-16 07:15:00      487072    11563304     7   15    4   16     12   \n",
       "22   2016-12-16 07:30:00      461693     1130407     7   30    4   16     12   \n",
       "23   2016-12-16 07:45:00      966694     8332089     7   45    4   16     12   \n",
       "24   2016-12-16 08:00:00     4254280    19584461     8    0    4   16     12   \n",
       "25   2016-12-16 08:15:00    15126970   220959703     8   15    4   16     12   \n",
       "26   2016-12-16 08:30:00     7231572    50407880     8   30    4   16     12   \n",
       "27   2016-12-16 08:45:00     6429913    55643137     8   45    4   16     12   \n",
       "28   2016-12-16 09:00:00    13734450   178195874     9    0    4   16     12   \n",
       "29   2016-12-16 09:15:00    20046353   155641559     9   15    4   16     12   \n",
       "...                  ...         ...         ...   ...  ...  ...  ...    ...   \n",
       "2555 2017-01-11 16:45:00    11832418    35555070    16   45    2   11      1   \n",
       "2556 2017-01-11 17:00:00    10905288    18550112    17    0    2   11      1   \n",
       "2557 2017-01-11 17:15:00     1692203     4273222    17   15    2   11      1   \n",
       "2558 2017-01-11 17:30:00     1042201     9153333    17   30    2   11      1   \n",
       "2559 2017-01-11 17:45:00      740077    11432444    17   45    2   11      1   \n",
       "2560 2017-01-11 18:00:00      373321     1321659    18    0    2   11      1   \n",
       "2561 2017-01-11 18:15:00      261174      502473    18   15    2   11      1   \n",
       "2562 2017-01-11 18:30:00      593792     1153430    18   30    2   11      1   \n",
       "2563 2017-01-11 18:45:00      174000     1381704    18   45    2   11      1   \n",
       "2564 2017-01-11 19:00:00      158071      168991    19    0    2   11      1   \n",
       "2565 2017-01-11 19:15:00      353883      743241    19   15    2   11      1   \n",
       "2566 2017-01-11 19:30:00      329653      459999    19   30    2   11      1   \n",
       "2567 2017-01-11 19:45:00       60219       71663    19   45    2   11      1   \n",
       "2568 2017-01-11 20:00:00       96527      103608    20    0    2   11      1   \n",
       "2569 2017-01-11 20:15:00       74980      175699    20   15    2   11      1   \n",
       "2570 2017-01-11 20:30:00       34373       10858    20   30    2   11      1   \n",
       "2571 2017-01-11 20:45:00       91974      116450    20   45    2   11      1   \n",
       "2572 2017-01-11 21:00:00       43600       44485    21    0    2   11      1   \n",
       "2573 2017-01-11 21:15:00       30845        5881    21   15    2   11      1   \n",
       "2574 2017-01-11 21:30:00       41352       57081    21   30    2   11      1   \n",
       "2575 2017-01-11 21:45:00       43112       19792    21   45    2   11      1   \n",
       "2576 2017-01-11 22:00:00       70155      116361    22    0    2   11      1   \n",
       "2577 2017-01-11 22:15:00       42703       45905    22   15    2   11      1   \n",
       "2578 2017-01-11 22:30:00       39356       32032    22   30    2   11      1   \n",
       "2579 2017-01-11 22:45:00       32044        9914    22   45    2   11      1   \n",
       "2580 2017-01-11 23:00:00       32421       10918    23    0    2   11      1   \n",
       "2581 2017-01-11 23:15:00       43273       15096    23   15    2   11      1   \n",
       "2582 2017-01-11 23:30:00       46403       80250    23   30    2   11      1   \n",
       "2583 2017-01-11 23:45:00       32607       10760    23   45    2   11      1   \n",
       "2584 2017-01-12 00:00:00       14348        2050     0    0    3   12      1   \n",
       "\n",
       "         traffic  \n",
       "0       0.035137  \n",
       "1       0.034611  \n",
       "2       0.277132  \n",
       "3       0.065699  \n",
       "4      17.971087  \n",
       "5      11.886198  \n",
       "6       0.010537  \n",
       "7       0.005655  \n",
       "8       0.031271  \n",
       "9       0.161885  \n",
       "10      0.016254  \n",
       "11      0.005594  \n",
       "12      0.028316  \n",
       "13      0.005594  \n",
       "14      0.051217  \n",
       "15      1.011887  \n",
       "16      0.264813  \n",
       "17      0.010381  \n",
       "18      0.049698  \n",
       "19     16.893064  \n",
       "20     10.866433  \n",
       "21     11.492134  \n",
       "22      1.518345  \n",
       "23      8.868011  \n",
       "24     22.734395  \n",
       "25    225.149796  \n",
       "26     54.969265  \n",
       "27     59.197474  \n",
       "28    183.039021  \n",
       "29    167.549049  \n",
       "...          ...  \n",
       "2555   45.192230  \n",
       "2556   28.090858  \n",
       "2557    5.689073  \n",
       "2558    9.723219  \n",
       "2559   11.608621  \n",
       "2560    1.616459  \n",
       "2561    0.728271  \n",
       "2562    1.666281  \n",
       "2563    1.483635  \n",
       "2564    0.311911  \n",
       "2565    1.046299  \n",
       "2566    0.753071  \n",
       "2567    0.125772  \n",
       "2568    0.190864  \n",
       "2569    0.239066  \n",
       "2570    0.043136  \n",
       "2571    0.198769  \n",
       "2572    0.084004  \n",
       "2573    0.035025  \n",
       "2574    0.093873  \n",
       "2575    0.059990  \n",
       "2576    0.177876  \n",
       "2577    0.084503  \n",
       "2578    0.068081  \n",
       "2579    0.040014  \n",
       "2580    0.041331  \n",
       "2581    0.055665  \n",
       "2582    0.120786  \n",
       "2583    0.041358  \n",
       "2584    0.015638  \n",
       "\n",
       "[2585 rows x 9 columns]"
      ]
     },
     "execution_count": 111,
     "metadata": {},
     "output_type": "execute_result"
    }
   ],
   "source": [
    "forecast_data_2"
   ]
  },
  {
   "cell_type": "code",
   "execution_count": 132,
   "metadata": {
    "collapsed": true
   },
   "outputs": [],
   "source": [
    "f = open('forecastdata.p','wb')\n",
    "pickle.dump(forecast_data_2,f)\n",
    "f.close()"
   ]
  },
  {
   "cell_type": "code",
   "execution_count": 116,
   "metadata": {
    "collapsed": false
   },
   "outputs": [
    {
     "data": {
      "text/plain": [
       "<matplotlib.axes._subplots.AxesSubplot at 0x20bd283ef28>"
      ]
     },
     "execution_count": 116,
     "metadata": {},
     "output_type": "execute_result"
    },
    {
     "data": {
      "image/png": "[encoded data removed]",
      "text/plain": [
       "<matplotlib.figure.Figure at 0x20bd27fd710>"
      ]
     },
     "metadata": {},
     "output_type": "display_data"
    }
   ],
   "source": [
    "forecast_data_2.set_index('update_time15')['traffic'].plot(kind='line',figsize=(12,6))"
   ]
  },
  {
   "cell_type": "code",
   "execution_count": 84,
   "metadata": {
    "collapsed": false
   },
   "outputs": [],
   "source": [
    "traindata = forecast_data_2[forecast_data_2.update_time15<=datetime.datetime(2017,1,7,0,0,0)]\n",
    "testdata = forecast_data_2[forecast_data_2.update_time15>datetime.datetime(2017,1,7,0,0,0)]"
   ]
  },
  {
   "cell_type": "code",
   "execution_count": 88,
   "metadata": {
    "collapsed": true
   },
   "outputs": [],
   "source": [
    "X_train = np.array(traindata[traindata.columns.values[3:-1]])\n",
    "X_test = np.array(testdata[traindata.columns.values[3:-1]])\n",
    "y_train = np.array(traindata[traindata.columns.values[-1]])\n",
    "y_test = np.array(testdata[traindata.columns.values[-1]])"
   ]
  },
  {
   "cell_type": "code",
   "execution_count": 97,
   "metadata": {
    "collapsed": false
   },
   "outputs": [
    {
     "name": "stdout",
     "output_type": "stream",
     "text": [
      "(2105, 5) (2105,) (480, 5) (480,)\n"
     ]
    }
   ],
   "source": [
    "print(X_train.shape,y_train.shape ,X_test.shape,y_test.shape)"
   ]
  },
  {
   "cell_type": "code",
   "execution_count": 100,
   "metadata": {
    "collapsed": false
   },
   "outputs": [],
   "source": [
    "# y_test.T"
   ]
  },
  {
   "cell_type": "code",
   "execution_count": 102,
   "metadata": {
    "collapsed": true
   },
   "outputs": [],
   "source": [
    "import tpot\n",
    "from tpot import TPOTRegressor"
   ]
  },
  {
   "cell_type": "code",
   "execution_count": 129,
   "metadata": {
    "collapsed": false
   },
   "outputs": [
    {
     "name": "stderr",
     "output_type": "stream",
     "text": []
    },
    {
     "name": "stdout",
     "output_type": "stream",
     "text": [
      "Generation 1 - Current best internal CV score: 2.6800482639068896e+16\n"
     ]
    },
    {
     "name": "stderr",
     "output_type": "stream",
     "text": []
    },
    {
     "name": "stdout",
     "output_type": "stream",
     "text": [
      "Generation 2 - Current best internal CV score: 2.5440694513988236e+16\n"
     ]
    },
    {
     "name": "stderr",
     "output_type": "stream",
     "text": []
    },
    {
     "name": "stdout",
     "output_type": "stream",
     "text": [
      "Generation 3 - Current best internal CV score: 2.498516148791349e+16\n"
     ]
    },
    {
     "name": "stderr",
     "output_type": "stream",
     "text": []
    },
    {
     "name": "stdout",
     "output_type": "stream",
     "text": [
      "Generation 4 - Current best internal CV score: 2.498516148791349e+16\n"
     ]
    },
    {
     "name": "stderr",
     "output_type": "stream",
     "text": []
    },
    {
     "name": "stdout",
     "output_type": "stream",
     "text": [
      "Generation 5 - Current best internal CV score: 2.498516148791349e+16\n"
     ]
    },
    {
     "name": "stderr",
     "output_type": "stream",
     "text": []
    },
    {
     "name": "stdout",
     "output_type": "stream",
     "text": [
      "Generation 6 - Current best internal CV score: 2.498516148791349e+16\n"
     ]
    },
    {
     "name": "stderr",
     "output_type": "stream",
     "text": []
    },
    {
     "name": "stdout",
     "output_type": "stream",
     "text": [
      "Generation 7 - Current best internal CV score: 2.498516148791349e+16\n"
     ]
    },
    {
     "name": "stderr",
     "output_type": "stream",
     "text": []
    },
    {
     "name": "stdout",
     "output_type": "stream",
     "text": [
      "\n",
      "Best pipeline: LassoLarsCV(ExtraTreesRegressor(input_matrix, 0.95999999999999996), True)\n"
     ]
    }
   ],
   "source": [
    "regr = TPOTRegressor(generations=7,population_size=30,verbosity=2)\n",
    "regr.fit(X_train,y_train)"
   ]
  },
  {
   "cell_type": "code",
   "execution_count": 107,
   "metadata": {
    "collapsed": false
   },
   "outputs": [
    {
     "name": "stdout",
     "output_type": "stream",
     "text": [
      "[  1.85461990e+05   7.52549540e+04   6.55232620e+04   3.58151980e+04\n",
      "   2.64667700e+05   8.03665960e+04   7.01172940e+04   3.59596920e+04\n",
      "   6.72809094e+05   8.03463260e+04   7.03510140e+04   3.55027380e+04\n",
      "   2.62458882e+05   1.97685190e+05   5.44602740e+04   3.52881440e+04\n",
      "   2.57001948e+05   1.22264336e+05   5.30064240e+04   3.46489880e+04\n",
      "   6.64041500e+04   8.25025520e+04   5.53830680e+04   3.32152100e+04\n",
      "   6.61912520e+04   6.94068120e+04   1.14760702e+05   3.25720700e+04\n",
      "   6.17741720e+04   2.97765070e+05   8.59777520e+04   3.70184900e+04\n",
      "   5.78883000e+04   1.81626214e+05   3.89530674e+05   4.58656540e+04\n",
      "   5.53271360e+04   3.25475276e+05   1.78505768e+05   3.79346560e+04\n",
      "   5.17887640e+04   5.22892020e+05   2.96488000e+05   3.65022370e+05\n",
      "   1.14703230e+05   3.95318472e+05   2.32227170e+05   3.15162260e+05\n",
      "   2.34594340e+05   3.88009240e+05   1.79322538e+05   3.40312010e+05\n",
      "   5.39552942e+05   6.07594830e+05   1.08173455e+06   1.41492779e+06\n",
      "   7.55839502e+05   8.51693000e+05   8.03521882e+05   4.78019044e+05\n",
      "   4.38507856e+05   8.14469660e+05   1.18372312e+06   3.13164146e+05\n",
      "   2.04824960e+05   6.98532362e+05   9.60664962e+05   1.25274040e+05\n",
      "   1.15128744e+05   3.32314070e+05   5.20433778e+05   8.01421620e+04\n",
      "   7.91227920e+04   1.43509038e+05   5.09901067e+06   3.68175920e+04\n",
      "   3.96487820e+04   4.76163800e+04   8.66006860e+04   3.52898480e+04\n",
      "   4.09888280e+04   2.60508940e+04   1.14761468e+05   3.73179140e+04\n",
      "   4.09547820e+04   2.66414780e+04   8.32245560e+04   3.82633580e+04\n",
      "   4.56831520e+04   2.75520580e+04   7.59164760e+04   3.82597960e+04\n",
      "   4.54456600e+04   2.88849960e+04   7.20425840e+04   3.42761928e+05\n",
      "   1.89300543e+06   3.71514036e+05   2.21567106e+05   3.80719832e+05\n",
      "   2.31450552e+06   4.04612188e+05   2.35965870e+05   3.47913262e+05\n",
      "   3.12734486e+06   3.75756446e+05   2.12104354e+05   2.86598284e+05\n",
      "   1.39952221e+06   3.68216980e+05   1.90286544e+05   3.09254818e+05\n",
      "   8.47125604e+05   2.65586052e+05   1.83065534e+05   2.97574370e+05\n",
      "   5.29411330e+05   1.71182054e+05   1.67974906e+05   3.14577352e+05\n",
      "   4.68041500e+05   1.43600470e+05   1.71653440e+05   2.80577468e+05\n",
      "   5.41243928e+05   4.09906956e+05   1.50958614e+05   2.28419594e+05\n",
      "   1.06933294e+06   2.31286374e+05   1.77522088e+05   3.25545992e+05\n",
      "   4.78513154e+05   2.55027340e+05   2.19624104e+05   3.95008244e+05\n",
      "   3.63332158e+05   3.82683550e+05   2.84453394e+05   7.01730850e+05\n",
      "   2.91882078e+05   5.24813580e+05   4.60185704e+05   5.11156678e+05\n",
      "   6.41865146e+05   3.90840710e+05   4.73612452e+05   5.28187782e+05\n",
      "   4.64455808e+05   3.38344290e+05   8.17186558e+05   7.27537394e+05\n",
      "   3.03944442e+05   4.72380572e+05   2.94175382e+05   1.40138073e+06\n",
      "   5.18486114e+05   4.25328562e+05   2.63505514e+05   5.59823560e+05\n",
      "   3.78251480e+05   5.34190072e+05   2.50251662e+05   4.46976248e+05\n",
      "   4.20333190e+05   4.33114174e+05   2.29081832e+05   3.11661982e+05\n",
      "   4.11345134e+05   1.21442342e+06   1.86608730e+06   2.58162976e+05\n",
      "   1.97870468e+05   7.85572402e+05   4.75156794e+05   2.20991900e+05\n",
      "   1.51537470e+05   1.92548515e+06   1.46082605e+06   2.49369950e+05\n",
      "   3.05085198e+05   1.14793696e+06   2.82196500e+05   2.34002290e+05\n",
      "   1.79356200e+05   8.79823048e+05   2.45669652e+05   2.49823662e+05\n",
      "   1.87289028e+05   7.38804960e+05   2.37152006e+05   2.73991044e+05\n",
      "   8.66009790e+05   6.11598002e+05   2.15775246e+05   2.91501868e+05\n",
      "   1.04323578e+06   6.57149062e+05   2.39995526e+05   2.61909206e+05\n",
      "   8.17328092e+05   7.62125144e+05   2.29534554e+05   3.61733500e+05\n",
      "   7.00033534e+05   1.82635478e+06   2.88140088e+05   3.28478048e+05\n",
      "   3.92440316e+05   6.97064312e+05   3.00368016e+05   3.98737674e+05\n",
      "   4.28754270e+05   1.43400050e+06   3.91036572e+05   8.74610338e+05\n",
      "   6.97814420e+05   2.20256070e+06   3.37550661e+06   6.42371658e+06\n",
      "   2.36744902e+06   9.68773741e+06   1.42980023e+07   3.26644322e+07\n",
      "   1.75976353e+07   2.75526568e+07   4.53447167e+07   7.57460575e+07\n",
      "   7.19303963e+07   1.05485396e+08   9.52765329e+07   1.56178367e+08\n",
      "   1.11325787e+08   1.36359919e+08   1.21027176e+08   2.31400423e+08\n",
      "   1.90355782e+08   2.32329582e+08   1.54746266e+08   2.83310421e+08\n",
      "   1.75136386e+08   1.93129175e+08   1.49623023e+08   2.32764523e+08\n",
      "   1.81710371e+08   3.76221914e+08   1.99615884e+08   1.98301577e+08\n",
      "   1.42359089e+08   1.45473909e+08   1.72828065e+08   1.55633200e+08\n",
      "   8.96971874e+07   1.22184905e+08   1.19038269e+08   9.27947531e+07\n",
      "   7.43358550e+07   3.00024491e+07   3.39669100e+07   6.36013855e+07\n",
      "   2.28863097e+07   2.74649971e+06   7.15550160e+06   1.17591778e+07\n",
      "   6.02130036e+06   5.90438732e+05   2.24239304e+06   9.43728750e+05\n",
      "   6.89078168e+05   2.05928610e+05   2.23889662e+05   2.07803196e+05\n",
      "   5.48261402e+05   1.50010386e+05   1.63314916e+05   1.86192422e+05\n",
      "   2.70441140e+05   1.04651676e+05   1.55460196e+05   1.56912386e+05\n",
      "   3.39001072e+05   1.02645312e+05   1.48750102e+05   1.29721132e+05\n",
      "   2.32202604e+05   1.00149392e+05   1.40654696e+05   2.36026884e+05\n",
      "   4.29124362e+05   3.11207390e+05   2.06929474e+05   2.47988584e+05\n",
      "   5.74041774e+05   3.44485994e+05   2.39070884e+05   2.18452402e+05\n",
      "   4.11343254e+05   4.48897292e+05   2.35003926e+05   2.65185362e+05\n",
      "   4.00828800e+05   1.08269687e+06   1.93441982e+05   2.41706398e+05\n",
      "   1.60342050e+05   4.41456988e+05   2.76329880e+05   2.32076592e+05\n",
      "   2.00868510e+05   8.89257352e+05   3.48977856e+05   6.77397716e+05\n",
      "   2.82271594e+05   9.26483734e+05   7.11372650e+05   7.89677299e+06\n",
      "   6.54988956e+05   5.27304177e+06   8.13132231e+06   2.98068982e+07\n",
      "   1.24618289e+07   2.32917470e+07   3.19552750e+07   3.93767385e+07\n",
      "   3.55559985e+07   9.31089551e+07   7.48000617e+07   1.31042553e+08\n",
      "   7.33806881e+07   1.13368232e+08   9.06047611e+07   1.17530847e+08\n",
      "   1.00725439e+08   2.25351635e+08   1.48312621e+08   1.58214442e+08\n",
      "   1.09510725e+08   1.37904823e+08   9.84205532e+07   1.33558147e+08\n",
      "   1.56106113e+08   1.74925659e+08   1.22144640e+08   1.46695724e+08\n",
      "   1.05311473e+08   1.33328649e+08   1.67530092e+08   1.26195545e+08\n",
      "   1.09684653e+08   1.14455795e+08   1.47360361e+08   9.66177272e+07\n",
      "   5.41068368e+07   2.63536234e+07   5.76440987e+07   5.26029496e+07\n",
      "   2.84262150e+07   1.28423568e+07   1.86966711e+07   6.16452264e+06\n",
      "   4.99851879e+06   1.43517398e+06   4.21608040e+06   1.72492812e+06\n",
      "   1.05165340e+06   6.68290306e+05   1.15901091e+06   6.15883214e+05\n",
      "   4.36896184e+05   3.03452754e+05   2.93292992e+05   7.89859664e+05\n",
      "   4.59327558e+05   2.98453692e+05   1.75119952e+05   4.89351268e+05\n",
      "   3.70401744e+05   2.22843204e+05   1.45332062e+05   3.51873138e+05\n",
      "   3.44305200e+05   2.25380954e+05   1.40100738e+05   2.12394450e+05\n",
      "   7.73710134e+05   2.34917208e+05   1.54898910e+05   2.18403400e+05\n",
      "   1.04001799e+06   3.56953606e+05   1.82685762e+05   1.73537996e+05\n",
      "   6.64197488e+05   3.34161988e+05   1.44467452e+05   2.91217216e+05\n",
      "   9.97656624e+05   8.13060820e+05   1.75785588e+05   3.51407502e+05\n",
      "   6.39681498e+05   6.27236286e+05   2.02275452e+05   4.56392274e+05\n",
      "   6.39918306e+05   1.01064452e+06   4.39414046e+05   1.44221632e+06\n",
      "   1.41857688e+06   1.43408490e+06   1.06356879e+06   1.07161694e+07\n",
      "   8.18721466e+06   1.00830672e+07   1.81613856e+07   3.60248628e+07\n",
      "   4.29751449e+07   4.02159456e+07   4.41975694e+07   4.32253684e+07\n",
      "   6.18745175e+07   7.73883533e+07   9.76607160e+07   9.76536261e+07\n",
      "   1.03495925e+08   8.68786198e+07   1.12948155e+08   1.00213814e+08\n",
      "   9.61426703e+07   8.34737431e+07   1.97378114e+08   1.06977686e+08\n",
      "   1.10913093e+08   9.15651784e+07   1.87360841e+08   1.07557484e+08\n",
      "   1.26710879e+08   9.23583448e+07   1.47715814e+08   1.39377494e+08\n",
      "   1.04906586e+08   1.62236902e+08   9.96908461e+07   2.46137502e+08\n",
      "   8.62269422e+07   9.42724419e+07   5.93274265e+07   8.43989521e+07\n",
      "   2.21234808e+07   6.98358310e+07   2.89651286e+07   1.04468877e+08\n",
      "   4.96628580e+06   2.60290157e+06   7.94846538e+06   1.53924310e+07\n",
      "   4.60245120e+05   6.92532212e+05   4.68741124e+06   4.50401359e+06\n",
      "   3.77395750e+05   4.36492372e+05   3.38525892e+05   2.10066305e+06\n",
      "   1.81465446e+05   1.52167374e+05   1.58064058e+05   1.95353714e+06\n",
      "   1.31804894e+05   1.15835514e+05   9.70215060e+04   1.90407963e+06\n",
      "   9.48196140e+04   1.04703686e+05   8.75261100e+04   1.65657654e+06\n",
      "   4.46978686e+05   1.17374486e+05   9.37291560e+04   4.72459752e+05] [     31505      18001      19316      18780    2963481      18077\n",
      "      27666     169067     118938      28508      59086      47113\n",
      "      28995      16969      18984      34618      95221      17880\n",
      "      26495      42212      17301      34967      19294      33990\n",
      "      28681      16830      20722      17616      81644      29751\n",
      "      88155      35247   11195170      45565     251104     111132\n",
      "     769714   11119965   15478379     133204     291173    3984398\n",
      "      61933   24469779     397213      81081      90154     117347\n",
      "     132810      44059      95500      37680     277737     129303\n",
      "      56745     182560     333010      32758     110674   10301302\n",
      "      98627     162966    1436676    2128464     908165      17357\n",
      "      19848      41280      32896     165837      23662      41141\n",
      "      27277      46275      18981      18716      47119      44324\n",
      "      28590      34921      48472   13817813      19612      27017\n",
      "     169143      17968      34276      35432     102928      17828\n",
      "     112891      81311      43369      30027      21075      66620\n",
      "      18463      16669      19197      26264    1777783      49362\n",
      "      42329      34911      16973      28390      19720      18965\n",
      "      25255      40355      95691      33700     120378      20978\n",
      "     351319      19668      51798      81774      30881      33700\n",
      "      26208      16973      38920      42517    1441908      47093\n",
      "      67908      39265      16669      38183      37907      18818\n",
      "      16821      38223      17211      40944      92492     524880\n",
      "      30452   14944613     138481   12894049    3061529   13302831\n",
      "    1999729    1536454    5028445   59501617   14721180    2860860\n",
      "   61952927    3008161    4476740    3929274    9538750    5883602\n",
      "   63141698    9667606    2302394   16814625    3478602    2893864\n",
      "   22030863   61022103   14734299    9672365   13749258    2617380\n",
      "   14184287  117736459    3232663    1843249    1621513   86189234\n",
      "    1838043    4318135    1957731    3255099    5347475    1417578\n",
      "    5151001    2129109    2212663  268285225     100706      17664\n",
      "      24013      27851      28915      40824     155545      42670\n",
      "      28639      31123      46782      18590    1013486      64875\n",
      "      27600      40046      96865      24038      17885      44085\n",
      "      51031      16797      19319      34666      76613      39027\n",
      "      58970      28930      16627      52139      46055      53026\n",
      "      17291      46989     489855    1322590   11369587   56410656\n",
      "   66630961  108875770   53651981  113441176  418560532  119496940\n",
      "  102292510  120208497  101364502   61520314   45794144  197117227\n",
      "   88734053  178085640  386897228  282538030  176131640  197336059\n",
      "   88515064  220362285   86110339  189094935  816135687  381649257\n",
      "  144173471  198284222 2092195895   49799075  181822449   99114741\n",
      "  258693101  106245819  375973948 3618282776  187562481 2175242298\n",
      "  253518839   75370783   12492544   14984308   40986216    8841051\n",
      "    9761768    2542098    7590293   42126383   13887286   22437729\n",
      "    3289515    2417016   14739137   80309006      45268     242361\n",
      "      44035      25456     176173      49200      39426      30190\n",
      "      32505      27334      34306      35605      49059      30083\n",
      "      24923      35515      29792     114950    1103339      35584\n",
      "      38584      26745     151020      67252      62669      39559\n",
      "      90628      36316      25437      27040      26430     118704\n",
      "     180085      71747      47026      43799      38314    3184296\n",
      "     234776    4766990    4345761    2142242  270573324  109928887\n",
      "   15721642  232803782  293134252  130128037  600616607  287181472\n",
      "  531404554  135360069  225084865  368663184  280135952  127321204\n",
      "  314808336  324297488  322338582  605921419  536593110  105632729\n",
      "  122199239  112022920  146443668   57200795   28655303  142452295\n",
      "   67794808   91844404  689545397  578382550  302956720  180348346\n",
      "  115907839   44232010   59261848  172224879 1017572778    2914490\n",
      "  514644331  477156565  127582358   50275661   29875763    2667009\n",
      "     607381     568011     848911     290835     289757     276697\n",
      "     548728     361923     423640     225833     101498      41532\n",
      "      39654     100903      23543      24613      37940      49845\n",
      "      31611      27361      34215      59391      56839      29993\n",
      "      25510      35671      25399      32788    3264128      69287\n",
      "     265964   27292006    1014311      47821      25387      25688\n",
      "   19096616     260572      24392      32602      22292      66614\n",
      "      25672     126479      26719      60185      23697     219936\n",
      "     359449    2807758   29731896    8185713    8567124   25369831\n",
      "   93187304  117668546  150134950  931233321  122525511  273551259\n",
      " 1020417068  119042420  281456024  137425857   89206582  184067097\n",
      "  677212346  504047860  315122986   51478981   24900824   64506616\n",
      "   92170471  195976168   77265259  388295686  166879898 3654799312\n",
      "   72622599  142074203  100587025   87215080  125954501   93145386\n",
      "   68892260   44056390   25680575   59292508  494612833 2501223644\n",
      "   47387488   29455400    5965425   10195534   12172521    1694980\n",
      "     763647    1747222    1555704     327062    1097124     789652\n",
      "     131882     200135     250679      45231     208424      88085\n",
      "      36726      98433      62904     186516      88608      71388\n",
      "      41958      43339      58369     126653      43367      16398]\n"
     ]
    }
   ],
   "source": [
    "print(regr.predict(X_test),y_test)"
   ]
  },
  {
   "cell_type": "code",
   "execution_count": 130,
   "metadata": {
    "collapsed": false
   },
   "outputs": [
    {
     "data": {
      "image/png": "[encoded data removed]",
      "text/plain": [
       "<matplotlib.figure.Figure at 0x20bd367af98>"
      ]
     },
     "metadata": {},
     "output_type": "display_data"
    }
   ],
   "source": [
    "fig, ax = plt.subplots(figsize=(12,6))\n",
    "ax.plot(np.array(testdata.update_time15),regr.predict(X_test),'r--')\n",
    "ax.plot(np.array(testdata.update_time15),y_test,'b')\n",
    "plt.show()\n"
   ]
  },
  {
   "cell_type": "code",
   "execution_count": 131,
   "metadata": {
    "collapsed": false
   },
   "outputs": [
    {
     "data": {
      "image/png": "[encoded data removed]",
      "text/plain": [
       "<matplotlib.figure.Figure at 0x20bd3934470>"
      ]
     },
     "metadata": {},
     "output_type": "display_data"
    }
   ],
   "source": [
    "fig, ax = plt.subplots(figsize=(12,6))\n",
    "ax.plot(np.array(testdata.update_time15),np.abs((regr.predict(X_test)-y_test)/y_test),'r--')\n",
    "plt.show()"
   ]
  },
  {
   "cell_type": "code",
   "execution_count": 96,
   "metadata": {
    "collapsed": true
   },
   "outputs": [],
   "source": [
    "from sklearn.pipeline import Pipeline\n",
    "from sklearn.ensemble import RandomForestRegressor\n"
   ]
  },
  {
   "cell_type": "code",
   "execution_count": 93,
   "metadata": {
    "collapsed": false
   },
   "outputs": [
    {
     "data": {
      "text/plain": [
       "RandomForestRegressor(bootstrap=True, criterion='mse', max_depth=None,\n",
       "           max_features='auto', max_leaf_nodes=None,\n",
       "           min_impurity_split=1e-07, min_samples_leaf=1,\n",
       "           min_samples_split=2, min_weight_fraction_leaf=0.0,\n",
       "           n_estimators=10, n_jobs=1, oob_score=False, random_state=None,\n",
       "           verbose=0, warm_start=False)"
      ]
     },
     "execution_count": 93,
     "metadata": {},
     "output_type": "execute_result"
    }
   ],
   "source": [
    "reg = Pipeline()\n",
    "reg = RandomForestRegressor()\n",
    "reg.fit(X_train,y_train)\n"
   ]
  },
  {
   "cell_type": "code",
   "execution_count": 95,
   "metadata": {
    "collapsed": false
   },
   "outputs": [
    {
     "data": {
      "text/plain": [
       "0.05140209343095814"
      ]
     },
     "execution_count": 95,
     "metadata": {},
     "output_type": "execute_result"
    }
   ],
   "source": [
    "reg.score(X_test,y_test)"
   ]
  },
  {
   "cell_type": "code",
   "execution_count": 13,
   "metadata": {
    "collapsed": false
   },
   "outputs": [
    {
     "ename": "KeyboardInterrupt",
     "evalue": "",
     "output_type": "error",
     "traceback": [
      "\u001b[0;31m---------------------------------------------------------------------------\u001b[0m",
      "\u001b[0;31mKeyboardInterrupt\u001b[0m                         Traceback (most recent call last)",
      "\u001b[0;32m<ipython-input-13-35ddcd24bd5e>\u001b[0m in \u001b[0;36m<module>\u001b[0;34m()\u001b[0m\n\u001b[0;32m----> 1\u001b[0;31m \u001b[0mforecast_data\u001b[0m\u001b[1;33m[\u001b[0m\u001b[1;34m'update_time_datetime'\u001b[0m\u001b[1;33m]\u001b[0m \u001b[1;33m=\u001b[0m \u001b[0mforecast_data\u001b[0m\u001b[1;33m.\u001b[0m\u001b[0mapply\u001b[0m\u001b[1;33m(\u001b[0m\u001b[1;32mlambda\u001b[0m \u001b[0mx\u001b[0m\u001b[1;33m:\u001b[0m \u001b[0mdatetime\u001b[0m\u001b[1;33m.\u001b[0m\u001b[0mdatetime\u001b[0m\u001b[1;33m.\u001b[0m\u001b[0mstrptime\u001b[0m\u001b[1;33m(\u001b[0m\u001b[0mx\u001b[0m\u001b[1;33m[\u001b[0m\u001b[1;34m'update_time'\u001b[0m\u001b[1;33m]\u001b[0m\u001b[1;33m,\u001b[0m\u001b[1;34m'%Y-%m-%d %H:%M:%S'\u001b[0m\u001b[1;33m)\u001b[0m\u001b[1;33m,\u001b[0m\u001b[0maxis\u001b[0m\u001b[1;33m=\u001b[0m\u001b[1;36m1\u001b[0m\u001b[1;33m)\u001b[0m\u001b[1;33m\u001b[0m\u001b[0m\n\u001b[0m",
      "\u001b[0;32mC:\\Users\\Leonard\\Anaconda3\\lib\\site-packages\\pandas\\core\\frame.py\u001b[0m in \u001b[0;36mapply\u001b[0;34m(self, func, axis, broadcast, raw, reduce, args, **kwds)\u001b[0m\n\u001b[1;32m   4161\u001b[0m                     \u001b[1;32mif\u001b[0m \u001b[0mreduce\u001b[0m \u001b[1;32mis\u001b[0m \u001b[1;32mNone\u001b[0m\u001b[1;33m:\u001b[0m\u001b[1;33m\u001b[0m\u001b[0m\n\u001b[1;32m   4162\u001b[0m                         \u001b[0mreduce\u001b[0m \u001b[1;33m=\u001b[0m \u001b[1;32mTrue\u001b[0m\u001b[1;33m\u001b[0m\u001b[0m\n\u001b[0;32m-> 4163\u001b[0;31m                     \u001b[1;32mreturn\u001b[0m \u001b[0mself\u001b[0m\u001b[1;33m.\u001b[0m\u001b[0m_apply_standard\u001b[0m\u001b[1;33m(\u001b[0m\u001b[0mf\u001b[0m\u001b[1;33m,\u001b[0m \u001b[0maxis\u001b[0m\u001b[1;33m,\u001b[0m \u001b[0mreduce\u001b[0m\u001b[1;33m=\u001b[0m\u001b[0mreduce\u001b[0m\u001b[1;33m)\u001b[0m\u001b[1;33m\u001b[0m\u001b[0m\n\u001b[0m\u001b[1;32m   4164\u001b[0m             \u001b[1;32melse\u001b[0m\u001b[1;33m:\u001b[0m\u001b[1;33m\u001b[0m\u001b[0m\n\u001b[1;32m   4165\u001b[0m                 \u001b[1;32mreturn\u001b[0m \u001b[0mself\u001b[0m\u001b[1;33m.\u001b[0m\u001b[0m_apply_broadcast\u001b[0m\u001b[1;33m(\u001b[0m\u001b[0mf\u001b[0m\u001b[1;33m,\u001b[0m \u001b[0maxis\u001b[0m\u001b[1;33m)\u001b[0m\u001b[1;33m\u001b[0m\u001b[0m\n",
      "\u001b[0;32mC:\\Users\\Leonard\\Anaconda3\\lib\\site-packages\\pandas\\core\\frame.py\u001b[0m in \u001b[0;36m_apply_standard\u001b[0;34m(self, func, axis, ignore_failures, reduce)\u001b[0m\n\u001b[1;32m   4217\u001b[0m                     \u001b[0mlabels\u001b[0m \u001b[1;33m=\u001b[0m \u001b[0mself\u001b[0m\u001b[1;33m.\u001b[0m\u001b[0m_get_agg_axis\u001b[0m\u001b[1;33m(\u001b[0m\u001b[0maxis\u001b[0m\u001b[1;33m)\u001b[0m\u001b[1;33m\u001b[0m\u001b[0m\n\u001b[1;32m   4218\u001b[0m                     result = lib.reduce(values, func, axis=axis, dummy=dummy,\n\u001b[0;32m-> 4219\u001b[0;31m                                         labels=labels)\n\u001b[0m\u001b[1;32m   4220\u001b[0m                     \u001b[1;32mreturn\u001b[0m \u001b[0mSeries\u001b[0m\u001b[1;33m(\u001b[0m\u001b[0mresult\u001b[0m\u001b[1;33m,\u001b[0m \u001b[0mindex\u001b[0m\u001b[1;33m=\u001b[0m\u001b[0mlabels\u001b[0m\u001b[1;33m)\u001b[0m\u001b[1;33m\u001b[0m\u001b[0m\n\u001b[1;32m   4221\u001b[0m                 \u001b[1;32mexcept\u001b[0m \u001b[0mException\u001b[0m\u001b[1;33m:\u001b[0m\u001b[1;33m\u001b[0m\u001b[0m\n",
      "\u001b[0;32mpandas\\src\\reduce.pyx\u001b[0m in \u001b[0;36mpandas.lib.reduce (pandas\\lib.c:45022)\u001b[0;34m()\u001b[0m\n",
      "\u001b[0;32mpandas\\src\\reduce.pyx\u001b[0m in \u001b[0;36mpandas.lib.Reducer.get_result (pandas\\lib.c:34665)\u001b[0;34m()\u001b[0m\n",
      "\u001b[0;32m<ipython-input-13-35ddcd24bd5e>\u001b[0m in \u001b[0;36m<lambda>\u001b[0;34m(x)\u001b[0m\n\u001b[0;32m----> 1\u001b[0;31m \u001b[0mforecast_data\u001b[0m\u001b[1;33m[\u001b[0m\u001b[1;34m'update_time_datetime'\u001b[0m\u001b[1;33m]\u001b[0m \u001b[1;33m=\u001b[0m \u001b[0mforecast_data\u001b[0m\u001b[1;33m.\u001b[0m\u001b[0mapply\u001b[0m\u001b[1;33m(\u001b[0m\u001b[1;32mlambda\u001b[0m \u001b[0mx\u001b[0m\u001b[1;33m:\u001b[0m \u001b[0mdatetime\u001b[0m\u001b[1;33m.\u001b[0m\u001b[0mdatetime\u001b[0m\u001b[1;33m.\u001b[0m\u001b[0mstrptime\u001b[0m\u001b[1;33m(\u001b[0m\u001b[0mx\u001b[0m\u001b[1;33m[\u001b[0m\u001b[1;34m'update_time'\u001b[0m\u001b[1;33m]\u001b[0m\u001b[1;33m,\u001b[0m\u001b[1;34m'%Y-%m-%d %H:%M:%S'\u001b[0m\u001b[1;33m)\u001b[0m\u001b[1;33m,\u001b[0m\u001b[0maxis\u001b[0m\u001b[1;33m=\u001b[0m\u001b[1;36m1\u001b[0m\u001b[1;33m)\u001b[0m\u001b[1;33m\u001b[0m\u001b[0m\n\u001b[0m",
      "\u001b[0;32mC:\\Users\\Leonard\\Anaconda3\\lib\\_strptime.py\u001b[0m in \u001b[0;36m_strptime_datetime\u001b[0;34m(cls, data_string, format)\u001b[0m\n\u001b[1;32m    508\u001b[0m     \"\"\"Return a class cls instance based on the input string and the\n\u001b[1;32m    509\u001b[0m     format string.\"\"\"\n\u001b[0;32m--> 510\u001b[0;31m     \u001b[0mtt\u001b[0m\u001b[1;33m,\u001b[0m \u001b[0mfraction\u001b[0m \u001b[1;33m=\u001b[0m \u001b[0m_strptime\u001b[0m\u001b[1;33m(\u001b[0m\u001b[0mdata_string\u001b[0m\u001b[1;33m,\u001b[0m \u001b[0mformat\u001b[0m\u001b[1;33m)\u001b[0m\u001b[1;33m\u001b[0m\u001b[0m\n\u001b[0m\u001b[1;32m    511\u001b[0m     \u001b[0mtzname\u001b[0m\u001b[1;33m,\u001b[0m \u001b[0mgmtoff\u001b[0m \u001b[1;33m=\u001b[0m \u001b[0mtt\u001b[0m\u001b[1;33m[\u001b[0m\u001b[1;33m-\u001b[0m\u001b[1;36m2\u001b[0m\u001b[1;33m:\u001b[0m\u001b[1;33m]\u001b[0m\u001b[1;33m\u001b[0m\u001b[0m\n\u001b[1;32m    512\u001b[0m     \u001b[0margs\u001b[0m \u001b[1;33m=\u001b[0m \u001b[0mtt\u001b[0m\u001b[1;33m[\u001b[0m\u001b[1;33m:\u001b[0m\u001b[1;36m6\u001b[0m\u001b[1;33m]\u001b[0m \u001b[1;33m+\u001b[0m \u001b[1;33m(\u001b[0m\u001b[0mfraction\u001b[0m\u001b[1;33m,\u001b[0m\u001b[1;33m)\u001b[0m\u001b[1;33m\u001b[0m\u001b[0m\n",
      "\u001b[0;32mC:\\Users\\Leonard\\Anaconda3\\lib\\_strptime.py\u001b[0m in \u001b[0;36m_strptime\u001b[0;34m(data_string, format)\u001b[0m\n\u001b[1;32m    312\u001b[0m     \u001b[1;32mglobal\u001b[0m \u001b[0m_TimeRE_cache\u001b[0m\u001b[1;33m,\u001b[0m \u001b[0m_regex_cache\u001b[0m\u001b[1;33m\u001b[0m\u001b[0m\n\u001b[1;32m    313\u001b[0m     \u001b[1;32mwith\u001b[0m \u001b[0m_cache_lock\u001b[0m\u001b[1;33m:\u001b[0m\u001b[1;33m\u001b[0m\u001b[0m\n\u001b[0;32m--> 314\u001b[0;31m         \u001b[0mlocale_time\u001b[0m \u001b[1;33m=\u001b[0m \u001b[0m_TimeRE_cache\u001b[0m\u001b[1;33m.\u001b[0m\u001b[0mlocale_time\u001b[0m\u001b[1;33m\u001b[0m\u001b[0m\n\u001b[0m\u001b[1;32m    315\u001b[0m         if (_getlang() != locale_time.lang or\n\u001b[1;32m    316\u001b[0m             \u001b[0mtime\u001b[0m\u001b[1;33m.\u001b[0m\u001b[0mtzname\u001b[0m \u001b[1;33m!=\u001b[0m \u001b[0mlocale_time\u001b[0m\u001b[1;33m.\u001b[0m\u001b[0mtzname\u001b[0m \u001b[1;32mor\u001b[0m\u001b[1;33m\u001b[0m\u001b[0m\n",
      "\u001b[0;31mKeyboardInterrupt\u001b[0m: "
     ]
    }
   ],
   "source": [
    "# forecast_data['update_time_datetime'] = forecast_data.apply(lambda x: datetime.datetime.strptime(x['update_time'],'%Y-%m-%d %H:%M:%S'),axis=1)"
   ]
  },
  {
   "cell_type": "code",
   "execution_count": 47,
   "metadata": {
    "collapsed": false
   },
   "outputs": [
    {
     "name": "stdout",
     "output_type": "stream",
     "text": [
      "0:10:10.808236\n"
     ]
    },
    {
     "data": {
      "text/plain": [
       "datetime.datetime(2017, 1, 28, 15, 45)"
      ]
     },
     "execution_count": 47,
     "metadata": {},
     "output_type": "execute_result"
    }
   ],
   "source": [
    "def ceil_dt(dt, delta):\n",
    "    return dt + (datetime.datetime.min - dt) % delta\n",
    "print((datetime.datetime.min-datetime.datetime.now()) % datetime.timedelta(minutes=15))\n",
    "ceil_dt(datetime.datetime.now(),datetime.timedelta(minutes=15))"
   ]
  },
  {
   "cell_type": "code",
   "execution_count": null,
   "metadata": {
    "collapsed": true
   },
   "outputs": [],
   "source": [
    "forecast_data.groupby(['update_time15'])['rcvd_bytes','sent_bytes'].sum().apply(lambda x: x/1024/1024/1024).plot(kind='line',figsize=(12,6))"
   ]
  }
 ],
 "metadata": {
  "anaconda-cloud": {},
  "kernelspec": {
   "display_name": "Python [conda root]",
   "language": "python",
   "name": "conda-root-py"
  },
  "language_info": {
   "codemirror_mode": {
    "name": "ipython",
    "version": 3
   },
   "file_extension": ".py",
   "mimetype": "text/x-python",
   "name": "python",
   "nbconvert_exporter": "python",
   "pygments_lexer": "ipython3",
   "version": "3.5.2"
  }
 },
 "nbformat": 4,
 "nbformat_minor": 1
}
